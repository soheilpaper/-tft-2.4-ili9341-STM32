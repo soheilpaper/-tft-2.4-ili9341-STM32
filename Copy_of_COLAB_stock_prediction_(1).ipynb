{
  "nbformat": 4,
  "nbformat_minor": 0,
  "metadata": {
    "colab": {
      "name": "Copy of COLAB_stock_prediction (1).ipynb",
      "provenance": [],
      "collapsed_sections": [],
      "include_colab_link": true
    },
    "kernelspec": {
      "display_name": "Python 3",
      "name": "python3"
    },
    "language_info": {
      "codemirror_mode": {
        "name": "ipython",
        "version": 3
      },
      "file_extension": ".py",
      "mimetype": "text/x-python",
      "name": "python",
      "nbconvert_exporter": "python",
      "pygments_lexer": "ipython3",
      "version": "3.6.1"
    }
  },
  "cells": [
    {
      "cell_type": "markdown",
      "metadata": {
        "id": "view-in-github",
        "colab_type": "text"
      },
      "source": [
        "<a href=\"https://colab.research.google.com/github/soheilpaper/-tft-2.4-ili9341-STM32/blob/master/Copy_of_COLAB_stock_prediction_(1).ipynb\" target=\"_parent\"><img src=\"https://colab.research.google.com/assets/colab-badge.svg\" alt=\"Open In Colab\"/></a>"
      ]
    },
    {
      "cell_type": "markdown",
      "metadata": {
        "id": "_C1o_GkUBYfJ"
      },
      "source": [
        "Adapted by Carlos Toxtli http://www.carlostoxtli.com/#colab-stock-1\n",
        "\n",
        "Credits: https://github.com/Kulbear/stock-prediction"
      ]
    },
    {
      "cell_type": "code",
      "metadata": {
        "colab": {
          "base_uri": "https://localhost:8080/"
        },
        "id": "Ps7rLFaH5TRI",
        "outputId": "9d9d22ea-4b10-4350-96f6-a93e453eaa62"
      },
      "source": [
        "%cd /content/\n",
        "!git clone https://github.com/Kulbear/stock-prediction\n",
        "%cd stock-prediction"
      ],
      "execution_count": 11,
      "outputs": [
        {
          "output_type": "stream",
          "text": [
            "/content\n",
            "fatal: destination path 'stock-prediction' already exists and is not an empty directory.\n",
            "/content/stock-prediction\n"
          ],
          "name": "stdout"
        }
      ]
    },
    {
      "cell_type": "markdown",
      "metadata": {
        "id": "fuIY308aBUdK"
      },
      "source": [
        "# Stock Prediction with Recurrent Neural Network\n",
        "\n",
        "Deep learning is involved a lot in the modern quantitive financial field. There are many different neural networks can be applied to stock price prediction problems. The recurrent neural network, to be specific, the Long Short Term Memory(LSTM) network outperforms others architecture since it can take advantage of predicting time series (or sequentially) involved result with a specific configuration.\n",
        "\n",
        "We will make a really simple LSTM with Keras to predict the stock price in the Chinese stock."
      ]
    },
    {
      "cell_type": "code",
      "metadata": {
        "id": "OpV1YvtYBUdL"
      },
      "source": [
        "import time\n",
        "import math\n",
        "from keras.models import Sequential\n",
        "from keras.layers.core import Dense, Dropout, Activation\n",
        "from keras.layers.recurrent import LSTM\n",
        "import numpy as np\n",
        "import pandas as pd\n",
        "import sklearn.preprocessing as prep"
      ],
      "execution_count": 12,
      "outputs": []
    },
    {
      "cell_type": "markdown",
      "metadata": {
        "id": "nR4Dzh4fBUdP"
      },
      "source": [
        "## Import Data\n",
        "\n",
        "I have introduced how we get this dataset both in README.md and in another notebook."
      ]
    },
    {
      "cell_type": "code",
      "metadata": {
        "colab": {
          "base_uri": "https://localhost:8080/"
        },
        "id": "SqEBpZhsC5aR",
        "outputId": "ed3e6796-5159-49e1-b514-50336e880676"
      },
      "source": [
        "#from google.colab import drive\n",
        "#drive.mount('/content/gdrive')\n",
        "#!cp '/content/gdrive/MyDrive/Amir Farzin Project/so-so.csv' /content/stock-prediction\n",
        "!wget https://transfer.sh/o5273/so-so.csv"
      ],
      "execution_count": 13,
      "outputs": [
        {
          "output_type": "stream",
          "text": [
            "--2021-03-10 08:53:17--  https://transfer.sh/o5273/so-so.csv\n",
            "Resolving transfer.sh (transfer.sh)... 144.76.136.153\n",
            "Connecting to transfer.sh (transfer.sh)|144.76.136.153|:443... connected.\n",
            "HTTP request sent, awaiting response... 200 OK\n",
            "Length: 32767757 (31M) [text/csv]\n",
            "Saving to: ‘so-so.csv.1’\n",
            "\n",
            "so-so.csv.1         100%[===================>]  31.25M  12.1MB/s    in 2.6s    \n",
            "\n",
            "2021-03-10 08:53:22 (12.1 MB/s) - ‘so-so.csv.1’ saved [32767757/32767757]\n",
            "\n"
          ],
          "name": "stdout"
        }
      ]
    },
    {
      "cell_type": "code",
      "metadata": {
        "id": "XNbR3QQDFbh7",
        "colab": {
          "base_uri": "https://localhost:8080/"
        },
        "outputId": "27346dc1-a433-4bd6-9035-1de21eea11a6"
      },
      "source": [
        "#!curl  --upload-file /content/stock-prediction/so-so.csv  https://transfer.sh/so-so.csv"
      ],
      "execution_count": 14,
      "outputs": [
        {
          "output_type": "stream",
          "text": [
            "https://transfer.sh/XoueU/so-so.csv"
          ],
          "name": "stdout"
        }
      ]
    },
    {
      "cell_type": "code",
      "metadata": {
        "id": "MGA9paHDJ4Zp"
      },
      "source": [
        "# column_values_df = df[\"time\"].unique()[0:20]\n",
        "# print (column_values_df[0:20])"
      ],
      "execution_count": 15,
      "outputs": []
    },
    {
      "cell_type": "code",
      "metadata": {
        "colab": {
          "base_uri": "https://localhost:8080/",
          "height": 224
        },
        "id": "VZHc3wx6BUdQ",
        "outputId": "801c8a45-d2f8-4a72-ea73-001f02194098"
      },
      "source": [
        "df = pd.read_csv('so-so.csv')\n",
        "df.head()"
      ],
      "execution_count": 16,
      "outputs": [
        {
          "output_type": "execute_result",
          "data": {
            "text/html": [
              "<div>\n",
              "<style scoped>\n",
              "    .dataframe tbody tr th:only-of-type {\n",
              "        vertical-align: middle;\n",
              "    }\n",
              "\n",
              "    .dataframe tbody tr th {\n",
              "        vertical-align: top;\n",
              "    }\n",
              "\n",
              "    .dataframe thead th {\n",
              "        text-align: right;\n",
              "    }\n",
              "</style>\n",
              "<table border=\"1\" class=\"dataframe\">\n",
              "  <thead>\n",
              "    <tr style=\"text-align: right;\">\n",
              "      <th></th>\n",
              "      <th>time</th>\n",
              "      <th>-1-</th>\n",
              "      <th>-2-</th>\n",
              "      <th>-3-</th>\n",
              "      <th>-4-</th>\n",
              "      <th>-5-</th>\n",
              "      <th>out</th>\n",
              "    </tr>\n",
              "  </thead>\n",
              "  <tbody>\n",
              "    <tr>\n",
              "      <th>0</th>\n",
              "      <td>25:32.2</td>\n",
              "      <td>-8.0</td>\n",
              "      <td>0.018727</td>\n",
              "      <td>1.334451</td>\n",
              "      <td>60.080002</td>\n",
              "      <td>37.026861</td>\n",
              "      <td>15147.67255</td>\n",
              "    </tr>\n",
              "    <tr>\n",
              "      <th>1</th>\n",
              "      <td>25:32.3</td>\n",
              "      <td>-8.0</td>\n",
              "      <td>0.018305</td>\n",
              "      <td>1.344409</td>\n",
              "      <td>60.080002</td>\n",
              "      <td>37.011600</td>\n",
              "      <td>15027.05899</td>\n",
              "    </tr>\n",
              "    <tr>\n",
              "      <th>2</th>\n",
              "      <td>25:32.4</td>\n",
              "      <td>-8.0</td>\n",
              "      <td>0.013568</td>\n",
              "      <td>1.322260</td>\n",
              "      <td>59.820000</td>\n",
              "      <td>37.011600</td>\n",
              "      <td>15270.12537</td>\n",
              "    </tr>\n",
              "    <tr>\n",
              "      <th>3</th>\n",
              "      <td>25:32.5</td>\n",
              "      <td>-8.0</td>\n",
              "      <td>0.015240</td>\n",
              "      <td>1.330974</td>\n",
              "      <td>59.820000</td>\n",
              "      <td>37.011600</td>\n",
              "      <td>15162.10324</td>\n",
              "    </tr>\n",
              "    <tr>\n",
              "      <th>4</th>\n",
              "      <td>25:32.6</td>\n",
              "      <td>-8.0</td>\n",
              "      <td>0.014344</td>\n",
              "      <td>1.329409</td>\n",
              "      <td>59.820000</td>\n",
              "      <td>37.011600</td>\n",
              "      <td>15173.13050</td>\n",
              "    </tr>\n",
              "  </tbody>\n",
              "</table>\n",
              "</div>"
            ],
            "text/plain": [
              "      time  -1-       -2-       -3-        -4-        -5-          out\n",
              "0  25:32.2 -8.0  0.018727  1.334451  60.080002  37.026861  15147.67255\n",
              "1  25:32.3 -8.0  0.018305  1.344409  60.080002  37.011600  15027.05899\n",
              "2  25:32.4 -8.0  0.013568  1.322260  59.820000  37.011600  15270.12537\n",
              "3  25:32.5 -8.0  0.015240  1.330974  59.820000  37.011600  15162.10324\n",
              "4  25:32.6 -8.0  0.014344  1.329409  59.820000  37.011600  15173.13050"
            ]
          },
          "metadata": {
            "tags": []
          },
          "execution_count": 16
        }
      ]
    },
    {
      "cell_type": "code",
      "metadata": {
        "colab": {
          "base_uri": "https://localhost:8080/",
          "height": 224
        },
        "id": "4RnQkhL-Ls7q",
        "outputId": "f94c8bc1-327f-4c1d-ca33-bfba7be4e649"
      },
      "source": [
        "df.head()"
      ],
      "execution_count": 17,
      "outputs": [
        {
          "output_type": "execute_result",
          "data": {
            "text/html": [
              "<div>\n",
              "<style scoped>\n",
              "    .dataframe tbody tr th:only-of-type {\n",
              "        vertical-align: middle;\n",
              "    }\n",
              "\n",
              "    .dataframe tbody tr th {\n",
              "        vertical-align: top;\n",
              "    }\n",
              "\n",
              "    .dataframe thead th {\n",
              "        text-align: right;\n",
              "    }\n",
              "</style>\n",
              "<table border=\"1\" class=\"dataframe\">\n",
              "  <thead>\n",
              "    <tr style=\"text-align: right;\">\n",
              "      <th></th>\n",
              "      <th>time</th>\n",
              "      <th>-1-</th>\n",
              "      <th>-2-</th>\n",
              "      <th>-3-</th>\n",
              "      <th>-4-</th>\n",
              "      <th>-5-</th>\n",
              "      <th>out</th>\n",
              "    </tr>\n",
              "  </thead>\n",
              "  <tbody>\n",
              "    <tr>\n",
              "      <th>0</th>\n",
              "      <td>25:32.2</td>\n",
              "      <td>-8.0</td>\n",
              "      <td>0.018727</td>\n",
              "      <td>1.334451</td>\n",
              "      <td>60.080002</td>\n",
              "      <td>37.026861</td>\n",
              "      <td>15147.67255</td>\n",
              "    </tr>\n",
              "    <tr>\n",
              "      <th>1</th>\n",
              "      <td>25:32.3</td>\n",
              "      <td>-8.0</td>\n",
              "      <td>0.018305</td>\n",
              "      <td>1.344409</td>\n",
              "      <td>60.080002</td>\n",
              "      <td>37.011600</td>\n",
              "      <td>15027.05899</td>\n",
              "    </tr>\n",
              "    <tr>\n",
              "      <th>2</th>\n",
              "      <td>25:32.4</td>\n",
              "      <td>-8.0</td>\n",
              "      <td>0.013568</td>\n",
              "      <td>1.322260</td>\n",
              "      <td>59.820000</td>\n",
              "      <td>37.011600</td>\n",
              "      <td>15270.12537</td>\n",
              "    </tr>\n",
              "    <tr>\n",
              "      <th>3</th>\n",
              "      <td>25:32.5</td>\n",
              "      <td>-8.0</td>\n",
              "      <td>0.015240</td>\n",
              "      <td>1.330974</td>\n",
              "      <td>59.820000</td>\n",
              "      <td>37.011600</td>\n",
              "      <td>15162.10324</td>\n",
              "    </tr>\n",
              "    <tr>\n",
              "      <th>4</th>\n",
              "      <td>25:32.6</td>\n",
              "      <td>-8.0</td>\n",
              "      <td>0.014344</td>\n",
              "      <td>1.329409</td>\n",
              "      <td>59.820000</td>\n",
              "      <td>37.011600</td>\n",
              "      <td>15173.13050</td>\n",
              "    </tr>\n",
              "  </tbody>\n",
              "</table>\n",
              "</div>"
            ],
            "text/plain": [
              "      time  -1-       -2-       -3-        -4-        -5-          out\n",
              "0  25:32.2 -8.0  0.018727  1.334451  60.080002  37.026861  15147.67255\n",
              "1  25:32.3 -8.0  0.018305  1.344409  60.080002  37.011600  15027.05899\n",
              "2  25:32.4 -8.0  0.013568  1.322260  59.820000  37.011600  15270.12537\n",
              "3  25:32.5 -8.0  0.015240  1.330974  59.820000  37.011600  15162.10324\n",
              "4  25:32.6 -8.0  0.014344  1.329409  59.820000  37.011600  15173.13050"
            ]
          },
          "metadata": {
            "tags": []
          },
          "execution_count": 17
        }
      ]
    },
    {
      "cell_type": "code",
      "metadata": {
        "colab": {
          "base_uri": "https://localhost:8080/",
          "height": 224
        },
        "id": "R63QOckzRLUc",
        "outputId": "74b157fc-c4fb-4a85-c79a-c440123447dc"
      },
      "source": [
        "import re, regex\n",
        "ddd=df['time'].str\n",
        "df['day_of_week']= ddd.split('.').str[-1]\n",
        "df['time']= ddd.split('.').str[0]\n",
        "df['day_of_week']=pd.to_datetime(df['day_of_week'], format='%H:%M', errors='ignore') #\n",
        "# df=df[['time','day_of_week','-1-','-2-','-3-','-4-','-5-','out']]\n",
        "df=df[['-1-','-2-','-3-','-4-','-5-','out']]\n",
        "df.head()\n",
        "\n"
      ],
      "execution_count": 18,
      "outputs": [
        {
          "output_type": "execute_result",
          "data": {
            "text/html": [
              "<div>\n",
              "<style scoped>\n",
              "    .dataframe tbody tr th:only-of-type {\n",
              "        vertical-align: middle;\n",
              "    }\n",
              "\n",
              "    .dataframe tbody tr th {\n",
              "        vertical-align: top;\n",
              "    }\n",
              "\n",
              "    .dataframe thead th {\n",
              "        text-align: right;\n",
              "    }\n",
              "</style>\n",
              "<table border=\"1\" class=\"dataframe\">\n",
              "  <thead>\n",
              "    <tr style=\"text-align: right;\">\n",
              "      <th></th>\n",
              "      <th>-1-</th>\n",
              "      <th>-2-</th>\n",
              "      <th>-3-</th>\n",
              "      <th>-4-</th>\n",
              "      <th>-5-</th>\n",
              "      <th>out</th>\n",
              "    </tr>\n",
              "  </thead>\n",
              "  <tbody>\n",
              "    <tr>\n",
              "      <th>0</th>\n",
              "      <td>-8.0</td>\n",
              "      <td>0.018727</td>\n",
              "      <td>1.334451</td>\n",
              "      <td>60.080002</td>\n",
              "      <td>37.026861</td>\n",
              "      <td>15147.67255</td>\n",
              "    </tr>\n",
              "    <tr>\n",
              "      <th>1</th>\n",
              "      <td>-8.0</td>\n",
              "      <td>0.018305</td>\n",
              "      <td>1.344409</td>\n",
              "      <td>60.080002</td>\n",
              "      <td>37.011600</td>\n",
              "      <td>15027.05899</td>\n",
              "    </tr>\n",
              "    <tr>\n",
              "      <th>2</th>\n",
              "      <td>-8.0</td>\n",
              "      <td>0.013568</td>\n",
              "      <td>1.322260</td>\n",
              "      <td>59.820000</td>\n",
              "      <td>37.011600</td>\n",
              "      <td>15270.12537</td>\n",
              "    </tr>\n",
              "    <tr>\n",
              "      <th>3</th>\n",
              "      <td>-8.0</td>\n",
              "      <td>0.015240</td>\n",
              "      <td>1.330974</td>\n",
              "      <td>59.820000</td>\n",
              "      <td>37.011600</td>\n",
              "      <td>15162.10324</td>\n",
              "    </tr>\n",
              "    <tr>\n",
              "      <th>4</th>\n",
              "      <td>-8.0</td>\n",
              "      <td>0.014344</td>\n",
              "      <td>1.329409</td>\n",
              "      <td>59.820000</td>\n",
              "      <td>37.011600</td>\n",
              "      <td>15173.13050</td>\n",
              "    </tr>\n",
              "  </tbody>\n",
              "</table>\n",
              "</div>"
            ],
            "text/plain": [
              "   -1-       -2-       -3-        -4-        -5-          out\n",
              "0 -8.0  0.018727  1.334451  60.080002  37.026861  15147.67255\n",
              "1 -8.0  0.018305  1.344409  60.080002  37.011600  15027.05899\n",
              "2 -8.0  0.013568  1.322260  59.820000  37.011600  15270.12537\n",
              "3 -8.0  0.015240  1.330974  59.820000  37.011600  15162.10324\n",
              "4 -8.0  0.014344  1.329409  59.820000  37.011600  15173.13050"
            ]
          },
          "metadata": {
            "tags": []
          },
          "execution_count": 18
        }
      ]
    },
    {
      "cell_type": "code",
      "metadata": {
        "colab": {
          "base_uri": "https://localhost:8080/"
        },
        "id": "konfcn6MWCwU",
        "outputId": "a40b9099-44fc-4cab-a5c5-aafd8ec336f5"
      },
      "source": [
        "df.columns \n",
        "df.dtypes"
      ],
      "execution_count": 19,
      "outputs": [
        {
          "output_type": "execute_result",
          "data": {
            "text/plain": [
              "-1-    float64\n",
              "-2-    float64\n",
              "-3-    float64\n",
              "-4-    float64\n",
              "-5-    float64\n",
              "out    float64\n",
              "dtype: object"
            ]
          },
          "metadata": {
            "tags": []
          },
          "execution_count": 19
        }
      ]
    },
    {
      "cell_type": "code",
      "metadata": {
        "id": "EyaJO8kAMRHZ"
      },
      "source": [
        "# # head, sep, tail = df['time'].partition('.')\n",
        "# df['day_of_week']= df['time'].str.split('.')\n",
        "# dd=df['day_of_week']\n",
        "\n",
        "# for index, row in dd:\n",
        "#   print (index)\n",
        "\n",
        "# print(df['day_of_week'])\n",
        "# # column_values_df = df[\"day_of_week\"].unique()[0:20]\n",
        "# # print (column_values_df[0:20])\n",
        "\n",
        "# # df['time']=df['time'].str.split('.', 1))\n",
        "# # df['time']=pd.to_datetime(df['time'].str.replace('.',':'), format='%H:%M', errors='ignore')\n",
        "\n",
        "# # # df['time']=pd.to_datetime(df['time'], format='%H:%M', errors='ignore').df.dayofweek #\n",
        "# # # pd.to_datetime(df['time']).dt.date\n",
        "# # # pd.to_timedelta(df['time'])\n",
        "\n",
        "# # df.head()\n",
        "# # df.columns \n",
        "# # df.dtypes\n",
        "# # # pd.to_datetime(df['time'])"
      ],
      "execution_count": 20,
      "outputs": []
    },
    {
      "cell_type": "code",
      "metadata": {
        "id": "L2Nq2dTrbx0n"
      },
      "source": [
        ""
      ],
      "execution_count": 20,
      "outputs": []
    },
    {
      "cell_type": "code",
      "metadata": {
        "colab": {
          "base_uri": "https://localhost:8080/"
        },
        "id": "Z2o3zPB3HcSi",
        "outputId": "843a1f26-2244-457c-8712-e3edeaedb017"
      },
      "source": [
        "# df['time']=pd.to_datetime(df['time'], format='%M:%S') #, errors='ignore'\n",
        "# df['day_of_week']=pd.to_numeric(df['day_of_week'], errors='coerce')\n",
        "# pd.to_datetime(df['time']).dt.date\n",
        "# pd.to_timedelta(df['time'])\n",
        "df.head()\n",
        "df.columns \n",
        "df.dtypes\n",
        "# pd.to_datetime(df['time'])"
      ],
      "execution_count": 21,
      "outputs": [
        {
          "output_type": "execute_result",
          "data": {
            "text/plain": [
              "-1-    float64\n",
              "-2-    float64\n",
              "-3-    float64\n",
              "-4-    float64\n",
              "-5-    float64\n",
              "out    float64\n",
              "dtype: object"
            ]
          },
          "metadata": {
            "tags": []
          },
          "execution_count": 21
        }
      ]
    },
    {
      "cell_type": "code",
      "metadata": {
        "id": "4zVjfEP_b2y9"
      },
      "source": [
        "# df['time']=df['time'].values.astype('float32')\n",
        "# df['day_of_week']=df['day_of_week'].values.astype('float32')\n",
        "# df=df[['time','day_of_week','-1-','-2-','-3-','-4-','-5-','out']]\n",
        "df=df[['-1-','-2-','-3-','-4-','-5-','out']]\n",
        "\n",
        "\n"
      ],
      "execution_count": 22,
      "outputs": []
    },
    {
      "cell_type": "code",
      "metadata": {
        "colab": {
          "base_uri": "https://localhost:8080/",
          "height": 224
        },
        "id": "cMomN8BAkwmn",
        "outputId": "91d46049-63f1-42e5-ef4a-907c0927715e"
      },
      "source": [
        "df.head()"
      ],
      "execution_count": 23,
      "outputs": [
        {
          "output_type": "execute_result",
          "data": {
            "text/html": [
              "<div>\n",
              "<style scoped>\n",
              "    .dataframe tbody tr th:only-of-type {\n",
              "        vertical-align: middle;\n",
              "    }\n",
              "\n",
              "    .dataframe tbody tr th {\n",
              "        vertical-align: top;\n",
              "    }\n",
              "\n",
              "    .dataframe thead th {\n",
              "        text-align: right;\n",
              "    }\n",
              "</style>\n",
              "<table border=\"1\" class=\"dataframe\">\n",
              "  <thead>\n",
              "    <tr style=\"text-align: right;\">\n",
              "      <th></th>\n",
              "      <th>-1-</th>\n",
              "      <th>-2-</th>\n",
              "      <th>-3-</th>\n",
              "      <th>-4-</th>\n",
              "      <th>-5-</th>\n",
              "      <th>out</th>\n",
              "    </tr>\n",
              "  </thead>\n",
              "  <tbody>\n",
              "    <tr>\n",
              "      <th>0</th>\n",
              "      <td>-8.0</td>\n",
              "      <td>0.018727</td>\n",
              "      <td>1.334451</td>\n",
              "      <td>60.080002</td>\n",
              "      <td>37.026861</td>\n",
              "      <td>15147.67255</td>\n",
              "    </tr>\n",
              "    <tr>\n",
              "      <th>1</th>\n",
              "      <td>-8.0</td>\n",
              "      <td>0.018305</td>\n",
              "      <td>1.344409</td>\n",
              "      <td>60.080002</td>\n",
              "      <td>37.011600</td>\n",
              "      <td>15027.05899</td>\n",
              "    </tr>\n",
              "    <tr>\n",
              "      <th>2</th>\n",
              "      <td>-8.0</td>\n",
              "      <td>0.013568</td>\n",
              "      <td>1.322260</td>\n",
              "      <td>59.820000</td>\n",
              "      <td>37.011600</td>\n",
              "      <td>15270.12537</td>\n",
              "    </tr>\n",
              "    <tr>\n",
              "      <th>3</th>\n",
              "      <td>-8.0</td>\n",
              "      <td>0.015240</td>\n",
              "      <td>1.330974</td>\n",
              "      <td>59.820000</td>\n",
              "      <td>37.011600</td>\n",
              "      <td>15162.10324</td>\n",
              "    </tr>\n",
              "    <tr>\n",
              "      <th>4</th>\n",
              "      <td>-8.0</td>\n",
              "      <td>0.014344</td>\n",
              "      <td>1.329409</td>\n",
              "      <td>59.820000</td>\n",
              "      <td>37.011600</td>\n",
              "      <td>15173.13050</td>\n",
              "    </tr>\n",
              "  </tbody>\n",
              "</table>\n",
              "</div>"
            ],
            "text/plain": [
              "   -1-       -2-       -3-        -4-        -5-          out\n",
              "0 -8.0  0.018727  1.334451  60.080002  37.026861  15147.67255\n",
              "1 -8.0  0.018305  1.344409  60.080002  37.011600  15027.05899\n",
              "2 -8.0  0.013568  1.322260  59.820000  37.011600  15270.12537\n",
              "3 -8.0  0.015240  1.330974  59.820000  37.011600  15162.10324\n",
              "4 -8.0  0.014344  1.329409  59.820000  37.011600  15173.13050"
            ]
          },
          "metadata": {
            "tags": []
          },
          "execution_count": 23
        }
      ]
    },
    {
      "cell_type": "code",
      "metadata": {
        "colab": {
          "base_uri": "https://localhost:8080/"
        },
        "id": "KI-QEZvaacTT",
        "outputId": "570b12d3-76c6-440a-c0b6-b2015f0a5724"
      },
      "source": [
        "print(df[:: -1])"
      ],
      "execution_count": 24,
      "outputs": [
        {
          "output_type": "stream",
          "text": [
            "              -1-       -2-       -3-        -4-        -5-           out\n",
            "407252 -12.480979  0.490826  6.650262  47.619999  23.107448   9657.000000\n",
            "407251 -12.473625  0.487278  6.642516  47.619999  23.107448   9667.520491\n",
            "407250 -12.471359  0.482807  6.648013  47.619999  23.107448   9657.875004\n",
            "407249 -12.470004  0.482281  6.656000  47.619999  23.107448   9644.081021\n",
            "407248 -12.466690  0.484988  6.653695  47.619999  23.107448   9645.691192\n",
            "...           ...       ...       ...        ...        ...           ...\n",
            "4       -8.000000  0.014344  1.329409  59.820000  37.011600  15173.130500\n",
            "3       -8.000000  0.015240  1.330974  59.820000  37.011600  15162.103240\n",
            "2       -8.000000  0.013568  1.322260  59.820000  37.011600  15270.125370\n",
            "1       -8.000000  0.018305  1.344409  60.080002  37.011600  15027.058990\n",
            "0       -8.000000  0.018727  1.334451  60.080002  37.026861  15147.672550\n",
            "\n",
            "[407253 rows x 6 columns]\n"
          ],
          "name": "stdout"
        }
      ]
    },
    {
      "cell_type": "markdown",
      "metadata": {
        "id": "rzVasIq0BUdU"
      },
      "source": [
        "## Preprocess Data\n",
        "\n",
        "We can see from the table above that the scales of our features vary a lot. It will be beneficial to normalize your training data before you feed data into your model. \"Having different features with widely different scales fed to your model will cause the network to weight the features not equally. This can cause a falsely prioritisation of some features over the others in the representation.\" Read [here](http://stackoverflow.com/a/43526354/6670143) for more detailed explanation."
      ]
    },
    {
      "cell_type": "code",
      "metadata": {
        "id": "XaxyI3UaBUdb"
      },
      "source": [
        "def standard_scaler(X_train, X_test):\n",
        "    train_samples, train_nx, train_ny = X_train.shape\n",
        "    test_samples, test_nx, test_ny = X_test.shape\n",
        "    \n",
        "    X_train = X_train.reshape((train_samples, train_nx * train_ny))\n",
        "    X_test = X_test.reshape((test_samples, test_nx * test_ny))\n",
        "    \n",
        "    preprocessor = prep.StandardScaler().fit(X_train)\n",
        "    X_train = preprocessor.transform(X_train)\n",
        "    X_test = preprocessor.transform(X_test)\n",
        "    \n",
        "    X_train = X_train.reshape((train_samples, train_nx, train_ny))\n",
        "    X_test = X_test.reshape((test_samples, test_nx, test_ny))\n",
        "    \n",
        "    return X_train, X_test"
      ],
      "execution_count": 25,
      "outputs": []
    },
    {
      "cell_type": "markdown",
      "metadata": {
        "id": "J49KcuxkBUdg"
      },
      "source": [
        "Split the data to X_train, y_train, X_test, y_test"
      ]
    },
    {
      "cell_type": "code",
      "metadata": {
        "id": "WLM8-3-aBUdg"
      },
      "source": [
        "def preprocess_data(stock, seq_len):\n",
        "    amount_of_features = len(stock.columns)\n",
        "    data = stock.values\n",
        "    \n",
        "    sequence_length = seq_len + 1\n",
        "    result = []\n",
        "    for index in range(len(data) - sequence_length):\n",
        "        result.append(data[index : index + sequence_length])\n",
        "        \n",
        "    result = np.array(result)\n",
        "    row = round(0.9 * result.shape[0])\n",
        "    train = result[: int(row), :]\n",
        "    \n",
        "    train, result = standard_scaler(train, result)\n",
        "    \n",
        "    X_train = train[:, : -1]\n",
        "    y_train = train[:, -1][: ,-1]\n",
        "    X_test = result[int(row) :, : -1]\n",
        "    y_test = result[int(row) :, -1][ : ,-1]\n",
        " \n",
        "    X_train = np.reshape(X_train, (X_train.shape[0], X_train.shape[1], amount_of_features))\n",
        "    X_test = np.reshape(X_test, (X_test.shape[0], X_test.shape[1], amount_of_features))  \n",
        " \n",
        "    return [X_train, y_train, X_test, y_test]"
      ],
      "execution_count": 26,
      "outputs": []
    },
    {
      "cell_type": "markdown",
      "metadata": {
        "id": "-Ig_EdoKBUdj"
      },
      "source": [
        "## Build the LSTM Network\n",
        "\n",
        "Here we will build a simple RNN with 2 LSTM layers.\n",
        "The architecture is:\n",
        "    \n",
        "    LSTM --> Dropout --> LSTM --> Dropout --> Fully-Conneted(Dense)"
      ]
    },
    {
      "cell_type": "code",
      "metadata": {
        "id": "r3iZMtQ1BUdk"
      },
      "source": [
        "def build_model(layers):\n",
        "    model = Sequential()\n",
        " \n",
        "    # By setting return_sequences to True we are able to stack another LSTM layer\n",
        "    model.add(LSTM(\n",
        "        input_dim=layers[0],\n",
        "        units=layers[1],\n",
        "        return_sequences=True))\n",
        "    model.add(Dropout(0.4))\n",
        " \n",
        "    model.add(LSTM(\n",
        "        layers[2],\n",
        "        return_sequences=False))\n",
        "    model.add(Dropout(0.3))\n",
        " \n",
        "    model.add(Dense(\n",
        "        units=layers[3]))\n",
        "    model.add(Activation(\"linear\"))\n",
        " \n",
        "    start = time.time()\n",
        "    model.compile(loss=\"mse\", optimizer=\"rmsprop\", metrics=['accuracy'])\n",
        "    print(\"Compilation Time : \", time.time() - start)\n",
        "    model.summary()\n",
        "    return model"
      ],
      "execution_count": 27,
      "outputs": []
    },
    {
      "cell_type": "code",
      "metadata": {
        "colab": {
          "base_uri": "https://localhost:8080/"
        },
        "id": "LBMidPNzBUdm",
        "outputId": "d8650df0-26f2-426d-ddf9-a00f245178a9"
      },
      "source": [
        "window = 20\n",
        "X_train, y_train, X_test, y_test = preprocess_data(df[:: -1], window)\n",
        "print(\"X_train\", X_train.shape)\n",
        "print(\"y_train\", y_train.shape)\n",
        "print(\"X_test\", X_test.shape)\n",
        "print(\"y_test\", y_test.shape)"
      ],
      "execution_count": 28,
      "outputs": [
        {
          "output_type": "stream",
          "text": [
            "X_train (366509, 20, 6)\n",
            "y_train (366509,)\n",
            "X_test (40723, 20, 6)\n",
            "y_test (40723,)\n"
          ],
          "name": "stdout"
        }
      ]
    },
    {
      "cell_type": "code",
      "metadata": {
        "colab": {
          "base_uri": "https://localhost:8080/"
        },
        "id": "FIIi_bzbBUdp",
        "outputId": "2e344a89-7cdf-479b-cba9-fae4366bd1be"
      },
      "source": [
        "model = build_model([X_train.shape[2], window, 100, 1])"
      ],
      "execution_count": 29,
      "outputs": [
        {
          "output_type": "stream",
          "text": [
            "Compilation Time :  0.010120153427124023\n",
            "Model: \"sequential\"\n",
            "_________________________________________________________________\n",
            "Layer (type)                 Output Shape              Param #   \n",
            "=================================================================\n",
            "lstm (LSTM)                  (None, None, 20)          2160      \n",
            "_________________________________________________________________\n",
            "dropout (Dropout)            (None, None, 20)          0         \n",
            "_________________________________________________________________\n",
            "lstm_1 (LSTM)                (None, 100)               48400     \n",
            "_________________________________________________________________\n",
            "dropout_1 (Dropout)          (None, 100)               0         \n",
            "_________________________________________________________________\n",
            "dense (Dense)                (None, 1)                 101       \n",
            "_________________________________________________________________\n",
            "activation (Activation)      (None, 1)                 0         \n",
            "=================================================================\n",
            "Total params: 50,661\n",
            "Trainable params: 50,661\n",
            "Non-trainable params: 0\n",
            "_________________________________________________________________\n"
          ],
          "name": "stdout"
        }
      ]
    },
    {
      "cell_type": "markdown",
      "metadata": {
        "id": "CDvJll2VBUdr"
      },
      "source": [
        "## Training the Network\n",
        "\n",
        "You can play with the hyperparameters here. The training process can take a significant time if you are using a average GPU or CPU(worse!)."
      ]
    },
    {
      "cell_type": "code",
      "metadata": {
        "id": "PfB-fgI_BUds"
      },
      "source": [
        "model.fit(\n",
        "    X_train,\n",
        "    y_train,\n",
        "    batch_size=768,\n",
        "    epochs=5,\n",
        "    validation_split=0.1,\n",
        "    verbose=0)"
      ],
      "execution_count": null,
      "outputs": []
    },
    {
      "cell_type": "code",
      "metadata": {
        "id": "1j73jgmmBUdv"
      },
      "source": [
        "trainScore = model.evaluate(X_train, y_train, verbose=0)\n",
        "print('Train Score: %.2f MSE (%.2f RMSE)' % (trainScore[0], math.sqrt(trainScore[0])))\n",
        "\n",
        "testScore = model.evaluate(X_test, y_test, verbose=0)\n",
        "print('Test Score: %.2f MSE (%.2f RMSE)' % (testScore[0], math.sqrt(testScore[0])))"
      ],
      "execution_count": null,
      "outputs": []
    },
    {
      "cell_type": "markdown",
      "metadata": {
        "id": "j-awbWzPBUdx"
      },
      "source": [
        "## Visualize the Prediction"
      ]
    },
    {
      "cell_type": "code",
      "metadata": {
        "id": "dZfWoXLJBUdy"
      },
      "source": [
        "diff = []\n",
        "ratio = []\n",
        "pred = model.predict(X_test)\n",
        "for u in range(len(y_test)):\n",
        "    pr = pred[u][0]\n",
        "    ratio.append((y_test[u] / pr) - 1)\n",
        "    diff.append(abs(y_test[u] - pr))"
      ],
      "execution_count": null,
      "outputs": []
    },
    {
      "cell_type": "code",
      "metadata": {
        "id": "mZhqCOJrBUd0"
      },
      "source": [
        "# TODO: Scale it back"
      ],
      "execution_count": null,
      "outputs": []
    },
    {
      "cell_type": "code",
      "metadata": {
        "id": "5FPS2nypBUd3"
      },
      "source": [
        "# if using within a jupyter notebook\n",
        "%matplotlib inline \n",
        "\n",
        "import matplotlib\n",
        "import matplotlib.pyplot as plt2\n",
        "\n",
        "plt2.plot(pred, color='red', label='Prediction')\n",
        "plt2.plot(y_test, color='blue', label='Ground Truth')\n",
        "plt2.legend(loc='upper left')\n",
        "plt2.show()"
      ],
      "execution_count": null,
      "outputs": []
    }
  ]
}