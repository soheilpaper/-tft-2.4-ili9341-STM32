{
  "nbformat": 4,
  "nbformat_minor": 0,
  "metadata": {
    "colab": {
      "name": "Demo MeshRCNN.ipynb",
      "provenance": [],
      "collapsed_sections": [],
      "toc_visible": true,
      "include_colab_link": true
    },
    "kernelspec": {
      "name": "python3",
      "display_name": "Python 3"
    },
    "accelerator": "GPU"
  },
  "cells": [
    {
      "cell_type": "markdown",
      "metadata": {
        "id": "view-in-github",
        "colab_type": "text"
      },
      "source": [
        "<a href=\"https://colab.research.google.com/github/soheilpaper/-tft-2.4-ili9341-STM32/blob/master/3D_pose_Estimation/Demo_MeshRCNN.ipynb\" target=\"_parent\"><img src=\"https://colab.research.google.com/assets/colab-badge.svg\" alt=\"Open In Colab\"/></a>"
      ]
    },
    {
      "cell_type": "markdown",
      "metadata": {
        "id": "fMWt0qkQnSpV"
      },
      "source": [
        "# Trying to use the :\n",
        "https://github.com/akanazawa/hmr\n",
        "\n",
        "Project for 3D CAd generation form the 2D photo:\n",
        "\n",
        "[![enter image description here][1]][1]\n",
        "\n",
        "\n",
        "  [1]: https://i.stack.imgur.com/0cJx6.png\n"
      ]
    },
    {
      "cell_type": "markdown",
      "metadata": {
        "id": "5paMMyPFz-yR"
      },
      "source": [
        "# Requirements and Setup\n",
        "It will take a while to install all the dependencies and expect around 20min to run this demo on this Google Colab"
      ]
    },
    {
      "cell_type": "code",
      "metadata": {
        "id": "8TH4Ws1vihMf",
        "outputId": "06aec25f-ef2d-4cef-99ef-fc326742de29",
        "colab": {
          "base_uri": "https://localhost:8080/"
        }
      },
      "source": [
        "%cd /content\n",
        "!git clone https://github.com/akanazawa/hmr\n",
        "%cd hmr\n"
      ],
      "execution_count": 1,
      "outputs": [
        {
          "output_type": "stream",
          "text": [
            "/content\n",
            "Cloning into 'hmr'...\n",
            "remote: Enumerating objects: 254, done.\u001b[K\n",
            "remote: Total 254 (delta 0), reused 0 (delta 0), pack-reused 254\u001b[K\n",
            "Receiving objects: 100% (254/254), 3.88 MiB | 31.03 MiB/s, done.\n",
            "Resolving deltas: 100% (110/110), done.\n",
            "/content/hmr\n"
          ],
          "name": "stdout"
        }
      ]
    },
    {
      "cell_type": "code",
      "metadata": {
        "id": "N3gsPdufoLqA"
      },
      "source": [
        "# https://github.com/RasaHQ/rasa/issues/3048\n",
        "# !pip2 install https://storage.googleapis.com/tensorflow/mac/cpu/tensorflow-1.12.0-py3-none-any.whl\n",
        "# !pip2 install -U rasa_core"
      ],
      "execution_count": 2,
      "outputs": []
    },
    {
      "cell_type": "code",
      "metadata": {
        "colab": {
          "base_uri": "https://localhost:8080/"
        },
        "id": "HVWO9Ok1mh4m",
        "outputId": "2645fa44-6017-40b6-ccf0-164ffe3dce91"
      },
      "source": [
        "!pip2 uninstall tensorflow  -y\n",
        "!pip2 install tensorflow==1.13.0rc1 --ignore-installed\n",
        "%tensorflow_version 1.x\n",
        "!pip2 install -r requirements.txt"
      ],
      "execution_count": null,
      "outputs": [
        {
          "output_type": "stream",
          "text": [
            "Uninstalling tensorflow-2.1.0:\n"
          ],
          "name": "stdout"
        }
      ]
    },
    {
      "cell_type": "code",
      "metadata": {
        "id": "UtozJ2swov6r"
      },
      "source": [
        "%tensorflow_version 1.x\n",
        "import tensorflow\n",
        "print(tensorflow.__version__)"
      ],
      "execution_count": null,
      "outputs": []
    },
    {
      "cell_type": "code",
      "metadata": {
        "id": "ghcTMIn_jkWy"
      },
      "source": [
        "# !pip install opendr\n",
        "# !pip2 install opendr==0.77 --no-cache-dir"
      ],
      "execution_count": null,
      "outputs": []
    },
    {
      "cell_type": "markdown",
      "metadata": {
        "id": "wLiG5IXz0Itk"
      },
      "source": [
        "## Imports and checking installation parameters ( Rune Demo)"
      ]
    },
    {
      "cell_type": "code",
      "metadata": {
        "id": "ANyUB4bAicCY"
      },
      "source": [
        "\n",
        "!wget https://people.eecs.berkeley.edu/~kanazawa/cachedir/hmr/models.tar.gz && tar -xf models.tar.gz"
      ],
      "execution_count": null,
      "outputs": []
    },
    {
      "cell_type": "code",
      "metadata": {
        "id": "YfzNDuFLk6yE"
      },
      "source": [
        "%cd /content/hmr\n",
        "!python2 -m demo --img_path /content/hmr/data/coco1.png\n",
        "!python2 -m demo --img_path /content/hmr/data/im1954.jpg"
      ],
      "execution_count": null,
      "outputs": []
    }
  ]
}