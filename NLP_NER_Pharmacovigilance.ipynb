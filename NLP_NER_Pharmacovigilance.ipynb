{
  "nbformat": 4,
  "nbformat_minor": 0,
  "metadata": {
    "colab": {
      "name": "NLP_NER_Pharmacovigilance.ipynb",
      "provenance": [],
      "include_colab_link": true
    },
    "kernelspec": {
      "name": "python3",
      "display_name": "Python 3"
    },
    "accelerator": "GPU"
  },
  "cells": [
    {
      "cell_type": "markdown",
      "metadata": {
        "id": "view-in-github",
        "colab_type": "text"
      },
      "source": [
        "<a href=\"https://colab.research.google.com/github/soheilpaper/-tft-2.4-ili9341-STM32/blob/master/NLP_NER_Pharmacovigilance.ipynb\" target=\"_parent\"><img src=\"https://colab.research.google.com/assets/colab-badge.svg\" alt=\"Open In Colab\"/></a>"
      ]
    },
    {
      "cell_type": "code",
      "metadata": {
        "id": "KJ2VkLq2Eb5g",
        "colab": {
          "base_uri": "https://localhost:8080/"
        },
        "outputId": "3c843d47-112d-4449-b58a-5be48b2796f7"
      },
      "source": [
        "!git clone https://github.com/ai-eks/OpenClubhouse-Worker\n",
        "%cd OpenClubhouse-Worker\n",
        "!python -m pip install --upgrade pip\n",
        "!pip install -r requirements.txt  --use-feature=2020-resolver\n",
        "# !pip install -r requirements.txt\n"
      ],
      "execution_count": null,
      "outputs": [
        {
          "output_type": "stream",
          "name": "stdout",
          "text": [
            "Cloning into 'OpenClubhouse-Worker'...\n",
            "remote: Enumerating objects: 61, done.\u001b[K\n",
            "remote: Counting objects: 100% (61/61), done.\u001b[K\n",
            "remote: Compressing objects: 100% (47/47), done.\u001b[K\n",
            "remote: Total 61 (delta 31), reused 38 (delta 14), pack-reused 0\u001b[K\n",
            "Unpacking objects: 100% (61/61), done.\n",
            "/content/OpenClubhouse-Worker/OpenClubhouse-Worker/OpenClubhouse-Worker/OpenClubhouse-Worker\n",
            "Requirement already satisfied: pip in /usr/local/lib/python3.7/dist-packages (21.2.4)\n",
            "\u001b[33mWARNING: Running pip as the 'root' user can result in broken permissions and conflicting behaviour with the system package manager. It is recommended to use a virtual environment instead: https://pip.pypa.io/warnings/venv\u001b[0m\n",
            "\u001b[33mWARNING: --use-feature=2020-resolver no longer has any effect, since it is now the default dependency resolver in pip. This will become an error in pip 21.0.\u001b[0m\n",
            "Requirement already satisfied: pymongo==3.11.3 in /usr/local/lib/python3.7/dist-packages (from -r requirements.txt (line 1)) (3.11.3)\n",
            "Requirement already satisfied: requests==2.25.1 in /usr/local/lib/python3.7/dist-packages (from -r requirements.txt (line 2)) (2.25.1)\n",
            "Requirement already satisfied: requests-openapi==0.9.7 in /usr/local/lib/python3.7/dist-packages (from -r requirements.txt (line 3)) (0.9.7)\n",
            "Requirement already satisfied: urllib3<1.27,>=1.21.1 in /usr/local/lib/python3.7/dist-packages (from requests==2.25.1->-r requirements.txt (line 2)) (1.24.3)\n",
            "Requirement already satisfied: idna<3,>=2.5 in /usr/local/lib/python3.7/dist-packages (from requests==2.25.1->-r requirements.txt (line 2)) (2.10)\n",
            "Requirement already satisfied: chardet<5,>=3.0.2 in /usr/local/lib/python3.7/dist-packages (from requests==2.25.1->-r requirements.txt (line 2)) (3.0.4)\n",
            "Requirement already satisfied: certifi>=2017.4.17 in /usr/local/lib/python3.7/dist-packages (from requests==2.25.1->-r requirements.txt (line 2)) (2021.5.30)\n",
            "Requirement already satisfied: pyyaml in /usr/local/lib/python3.7/dist-packages (from requests-openapi==0.9.7->-r requirements.txt (line 3)) (3.13)\n",
            "\u001b[33mWARNING: Running pip as the 'root' user can result in broken permissions and conflicting behaviour with the system package manager. It is recommended to use a virtual environment instead: https://pip.pypa.io/warnings/venv\u001b[0m\n"
          ]
        }
      ]
    },
    {
      "cell_type": "code",
      "metadata": {
        "id": "pugLRTJkErs8",
        "colab": {
          "base_uri": "https://localhost:8080/"
        },
        "outputId": "25fd0b5f-101d-4b33-f61d-e6d07a9ffc5a"
      },
      "source": [
        "!mv 'config.template.py' 'config.py'\n",
        "!python main.py\n"
      ],
      "execution_count": 6,
      "outputs": [
        {
          "output_type": "stream",
          "name": "stdout",
          "text": [
            "Traceback (most recent call last):\n",
            "  File \"main.py\", line 38, in <module>\n",
            "    main()\n",
            "  File \"main.py\", line 26, in main\n",
            "    chh = ClubHouseHelper(phone=phone, url=api_uri, device_id=device_id)\n",
            "  File \"/content/OpenClubhouse-Worker/OpenClubhouse-Worker/OpenClubhouse-Worker/ch_helper.py\", line 9, in __init__\n",
            "    self.client.load_spec_from_file(url)\n",
            "  File \"/usr/local/lib/python3.7/dist-packages/requests_openapi/core.py\", line 252, in load_spec_from_file\n",
            "    spec = load_spec_from_file(file_path)\n",
            "  File \"/usr/local/lib/python3.7/dist-packages/requests_openapi/core.py\", line 159, in load_spec_from_file\n",
            "    return yaml.load(spec_str, Loader=yaml.Loader)\n",
            "  File \"/usr/local/lib/python3.7/dist-packages/yaml/__init__.py\", line 70, in load\n",
            "    loader = Loader(stream)\n",
            "  File \"/usr/local/lib/python3.7/dist-packages/yaml/loader.py\", line 34, in __init__\n",
            "    Reader.__init__(self, stream)\n",
            "  File \"/usr/local/lib/python3.7/dist-packages/yaml/reader.py\", line 74, in __init__\n",
            "    self.check_printable(stream)\n",
            "  File \"/usr/local/lib/python3.7/dist-packages/yaml/reader.py\", line 144, in check_printable\n",
            "    'unicode', \"special characters are not allowed\")\n",
            "yaml.reader.ReaderError: unacceptable character #x1f579: special characters are not allowed\n",
            "  in \"<unicode string>\", position 6373\n"
          ]
        }
      ]
    }
  ]
}