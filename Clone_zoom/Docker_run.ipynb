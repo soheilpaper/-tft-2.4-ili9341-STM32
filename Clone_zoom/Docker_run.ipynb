{
  "nbformat": 4,
  "nbformat_minor": 0,
  "metadata": {
    "colab": {
      "provenance": [],
      "include_colab_link": true
    },
    "kernelspec": {
      "name": "python3",
      "display_name": "Python 3"
    }
  },
  "cells": [
    {
      "cell_type": "markdown",
      "metadata": {
        "id": "view-in-github",
        "colab_type": "text"
      },
      "source": [
        "<a href=\"https://colab.research.google.com/github/soheilpaper/-tft-2.4-ili9341-STM32/blob/master/Clone_zoom/Docker_run.ipynb\" target=\"_parent\"><img src=\"https://colab.research.google.com/assets/colab-badge.svg\" alt=\"Open In Colab\"/></a>"
      ]
    },
    {
      "cell_type": "code",
      "source": [
        "# Copyright 2024 Drengskapur\n",
        "#\n",
        "# Licensed under the Apache License, Version 2.0 (the \"License\");\n",
        "# you may not use this file except in compliance with the License.\n",
        "# You may obtain a copy of the License at\n",
        "#\n",
        "#     http://www.apache.org/licenses/LICENSE-2.0\n",
        "#\n",
        "# Unless required by applicable law or agreed to in writing, software\n",
        "# distributed under the License is distributed on an \"AS IS\" BASIS,\n",
        "# WITHOUT WARRANTIES OR CONDITIONS OF ANY KIND, either express or implied.\n",
        "# See the License for the specific language governing permissions and\n",
        "# limitations under the License.\n",
        "#\n",
        "# @title {display-mode:\"form\"}\n",
        "# @markdown <br/><br/><center><img src=\"https://cdn.jsdelivr.net/gh/drengskapur/docker-in-colab/assets/docker.svg\" height=\"150\"><img src=\"https://cdn.jsdelivr.net/gh/drengskapur/docker-in-colab/assets/colab.svg\" height=\"150\"></center><br/>\n",
        "# @markdown <center><h1>Docker in Colab</h1></center><center>github.com/drengskapur/docker-in-colab<br/><br/><br/><b>udocker(\"run hello-world\")</b></center><br/>\n",
        "def udocker_init():\n",
        "    import os\n",
        "    if not os.path.exists(\"/home/user\"):\n",
        "        !pip install udocker > /dev/null\n",
        "        !udocker --allow-root install > /dev/null\n",
        "        !useradd -m user > /dev/null\n",
        "    print(f'Docker-in-Colab 1.1.0\\n')\n",
        "    print(f'Usage:     udocker(\"--help\")')\n",
        "    print(f'Examples:  https://github.com/indigo-dc/udocker?tab=readme-ov-file#examples')\n",
        "\n",
        "    def execute(command: str):\n",
        "        user_prompt = \"\\033[1;32muser@pc\\033[0m\"\n",
        "        print(f\"{user_prompt}$ udocker {command}\")\n",
        "        !su - user -c \"udocker $command\"\n",
        "\n",
        "    return execute\n",
        "\n",
        "udocker = udocker_init()"
      ],
      "metadata": {
        "colab": {
          "base_uri": "https://localhost:8080/"
        },
        "id": "yvvN-p2hjrsI",
        "outputId": "bbbceb8d-6931-4ff1-ddb7-77c7d672653e"
      },
      "execution_count": 1,
      "outputs": [
        {
          "output_type": "stream",
          "name": "stdout",
          "text": [
            "Docker-in-Colab 1.1.0\n",
            "\n",
            "Usage:     udocker(\"--help\")\n",
            "Examples:  https://github.com/indigo-dc/udocker?tab=readme-ov-file#examples\n"
          ]
        }
      ]
    },
    {
      "cell_type": "code",
      "source": [
        "import json\n",
        "\n",
        "# Define the configuration data\n",
        "configuration_data = {\n",
        "    \"app_title\": \"Zoom Meeting Plus\",\n",
        "    \"default_meeting\": {\n",
        "        \"default_username\": \"YourUsername\",\n",
        "        \"default_meeting_number\": \"123456789\",\n",
        "        \"default_meeting_password\": \"YourMeetingPassword\",\n",
        "        \"default_secret\": \"YourSecret\"\n",
        "    },\n",
        "    \"vrm_path\": \"./assets/vrm/AliciaSolid.vrm\",\n",
        "    \"vrm_motions\": [\n",
        "        {\"name\": \"default\", \"file\": \"default.json\"},\n",
        "        {\"name\": \"nod\", \"file\": \"nod.json\"},\n",
        "        {\"name\": \"refuse\", \"file\": \"refuse.json\"},\n",
        "        {\"name\": \"raise\", \"file\": \"raise.json\"},\n",
        "        {\"name\": \"first\", \"file\": \"first.json\"}\n",
        "    ],\n",
        "    \"sign_server\": {\n",
        "        \"use_local_sign_server\": False,\n",
        "        \"sign_server_url\": \"https://zoom-meeting-sdk-demo.herokuapp.com/api/generateSignature\"\n",
        "    },\n",
        "    \"voice_setting\": {\n",
        "        \"default_voice_vox_enabled\": True,\n",
        "        \"voice_vox_url\": \"http://localhost:50021\",\n",
        "        \"default_open_tts_enabled\": True,\n",
        "        \"open_tts_url\": \"http://localhost:5500\",\n",
        "        \"default_voice_lang\": \"ja\",\n",
        "        \"default_voice_speaker\": \"四国めたん_ノーマル\"\n",
        "    }\n",
        "}\n",
        "\n",
        "# Save the configuration to a file\n",
        "with open('/content/config.json', 'w') as f:\n",
        "    json.dump(configuration_data, f, indent=4)\n",
        "\n",
        "print(\"Configuration saved to /content/config.json\")"
      ],
      "metadata": {
        "colab": {
          "base_uri": "https://localhost:8080/"
        },
        "id": "YYB3NtfEljB0",
        "outputId": "9003feb8-f013-4eeb-fd3b-14a9f377b659"
      },
      "execution_count": 2,
      "outputs": [
        {
          "output_type": "stream",
          "name": "stdout",
          "text": [
            "Configuration saved to /content/config.json\n"
          ]
        }
      ]
    },
    {
      "cell_type": "code",
      "source": [
        "#%%shell\n",
        "# Clone the repository\n",
        "!git clone https://github.com/w-okada/zoom-meeting-plus -b v02\n",
        "\n",
        "# Navigate to the cloned directory\n",
        "%cd '/content/zoom-meeting-plus'\n",
        "\n",
        "# Install udocker\n",
        "!pip install udocker\n",
        "!udocker --allow-root install\n",
        "\n",
        "# Define a function to run udocker commands\n",
        "def run_udocker(cmd):\n",
        "  !su - user -c \"udocker $cmd\"\n",
        "\n",
        "# Copy the configuration file into the container\n",
        "!cp '/content/config.json' /content/zoom-meeting-plus/\n",
        "\n",
        "# Run the Docker containers using udocker\n",
        "run_udocker(\"run -p 8888:8888 dannadori/zoom-meeting-plus:v08\")\n",
        "run_udocker(\"run --rm -it -p '127.0.0.1:50021:50021' voicevox/voicevox_engine:cpu-ubuntu20.04-latest\")\n",
        "run_udocker(\"run -it -p 5500:5500 synesthesiam/opentts:en\")"
      ],
      "metadata": {
        "colab": {
          "base_uri": "https://localhost:8080/"
        },
        "id": "uHMTC_3XlmcO",
        "outputId": "12798cad-19bf-47b8-e00b-6573eacd264c"
      },
      "execution_count": null,
      "outputs": [
        {
          "metadata": {
            "tags": null
          },
          "name": "stdout",
          "output_type": "stream",
          "text": [
            "fatal: destination path 'zoom-meeting-plus' already exists and is not an empty directory.\n",
            "/content/zoom-meeting-plus\n",
            "Requirement already satisfied: udocker in /usr/local/lib/python3.10/dist-packages (1.3.16)\n",
            "Warning: this container exposes TCP/IP ports\n",
            " \n",
            " ****************************************************************************** \n",
            " *                                                                            * \n",
            " *               STARTING d032026c-8a0f-3cf3-82af-4fd2aad385b8                * \n",
            " *                                                                            * \n",
            " ****************************************************************************** \n",
            " executing: tini\n",
            "[WARN  tini (10341)] Tini is not running as PID 1 and isn't registered as a child subreaper.\n",
            "Zombie processes will not be re-parented to Tini, so zombie reaping won't work.\n",
            "To fix the problem, use the -s option or set the environment variable TINI_SUBREAPER to register Tini as a child subreaper, or run Tini as PID 1.\n",
            "{\n",
            "  app_title: \u001b[32m'Zoom Meeting Plus'\u001b[39m,\n",
            "  default_meeting: {\n",
            "    default_username: \u001b[32m''\u001b[39m,\n",
            "    default_meeting_number: \u001b[32m''\u001b[39m,\n",
            "    default_meeting_password: \u001b[32m''\u001b[39m,\n",
            "    default_secret: \u001b[32m''\u001b[39m\n",
            "  },\n",
            "  vrm_path: \u001b[32m'./assets/vrm/AliciaSolid.vrm'\u001b[39m,\n",
            "  vrm_motions: [\n",
            "    { name: \u001b[32m'default'\u001b[39m, file: \u001b[32m'default.json'\u001b[39m },\n",
            "    { name: \u001b[32m'nod'\u001b[39m, file: \u001b[32m'nod.json'\u001b[39m },\n",
            "    { name: \u001b[32m'refuse'\u001b[39m, file: \u001b[32m'refuse.json'\u001b[39m },\n",
            "    { name: \u001b[32m'raise'\u001b[39m, file: \u001b[32m'raise.json'\u001b[39m },\n",
            "    { name: \u001b[32m'first'\u001b[39m, file: \u001b[32m'first.json'\u001b[39m }\n",
            "  ],\n",
            "  sign_server: {\n",
            "    use_local_sign_server: \u001b[33mfalse\u001b[39m,\n",
            "    sign_server_url: \u001b[32m'https://zoom-meeting-sdk-demo.herokuapp.com/api/generateSignature'\u001b[39m\n",
            "  },\n",
            "  voice_setting: {\n",
            "    default_voice_vox_enabled: \u001b[33mtrue\u001b[39m,\n",
            "    voice_vox_url: \u001b[32m'http://localhost:50021'\u001b[39m,\n",
            "    default_open_tts_enabled: \u001b[33mtrue\u001b[39m,\n",
            "    open_tts_url: \u001b[32m'http://localhost:5500'\u001b[39m,\n",
            "    default_voice_lang: \u001b[32m'ja'\u001b[39m,\n",
            "    default_voice_speaker: \u001b[32m'四国めたん_ノーマル'\u001b[39m\n",
            "  }\n",
            "}\n",
            "Zoom Meeting SDK for Web. running on port: 8888!\n"
          ]
        }
      ]
    },
    {
      "cell_type": "code",
      "source": [
        "!sudo lsof -i :8888"
      ],
      "metadata": {
        "colab": {
          "base_uri": "https://localhost:8080/"
        },
        "id": "oIHGeC07oPYl",
        "outputId": "4d450d84-942e-4a99-8730-4cb7ece537e9"
      },
      "execution_count": 6,
      "outputs": [
        {
          "output_type": "stream",
          "name": "stdout",
          "text": [
            "COMMAND  PID USER   FD   TYPE DEVICE SIZE/OFF NODE NAME\n",
            "node    3985 user   18u  IPv6 110230      0t0  TCP *:8888 (LISTEN)\n"
          ]
        }
      ]
    },
    {
      "cell_type": "code",
      "source": [
        "!sudo kill 3985"
      ],
      "metadata": {
        "id": "rUCLl-hsoVhB"
      },
      "execution_count": 8,
      "outputs": []
    }
  ]
}