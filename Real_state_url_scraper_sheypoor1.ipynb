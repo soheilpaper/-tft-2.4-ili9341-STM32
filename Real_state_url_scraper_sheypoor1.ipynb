{
  "nbformat": 4,
  "nbformat_minor": 0,
  "metadata": {
    "kernelspec": {
      "display_name": "Python 3",
      "language": "python",
      "name": "python3"
    },
    "language_info": {
      "codemirror_mode": {
        "name": "ipython",
        "version": 3
      },
      "file_extension": ".py",
      "mimetype": "text/x-python",
      "name": "python",
      "nbconvert_exporter": "python",
      "pygments_lexer": "ipython3",
      "version": "3.7.0"
    },
    "colab": {
      "name": "DGI Data Enrichment.ipynb",
      "provenance": [],
      "include_colab_link": true
    }
  },
  "cells": [
    {
      "cell_type": "markdown",
      "metadata": {
        "id": "view-in-github",
        "colab_type": "text"
      },
      "source": [
        "<a href=\"https://colab.research.google.com/github/soheilpaper/-tft-2.4-ili9341-STM32/blob/master/Real_state_url_scraper_sheypoor1.ipynb\" target=\"_parent\"><img src=\"https://colab.research.google.com/assets/colab-badge.svg\" alt=\"Open In Colab\"/></a>"
      ]
    },
    {
      "cell_type": "code",
      "metadata": {
        "id": "pYD7lvQJiGkv"
      },
      "source": [
        "import matplotlib.pyplot as plt\n",
        "import seaborn as sns\n",
        "%matplotlib inline\n",
        "import re,os\n",
        "import time\n",
        "from datetime import datetime\n",
        "import matplotlib.dates as mdates\n",
        "import seaborn as sns\n",
        "import matplotlib.ticker as ticker\n",
        "from urllib.request import urlopen\n",
        "from bs4 import BeautifulSoup\n",
        "import requests\n",
        "from datetime import datetime\n",
        "import warnings\n",
        "warnings.filterwarnings('ignore')\n",
        "for dirname, _, filenames in os.walk('/content/input'):\n",
        "    for filename in filenames:\n",
        "        print(os.path.join(dirname, filename))"
      ],
      "execution_count": null,
      "outputs": []
    },
    {
      "cell_type": "code",
      "metadata": {
        "id": "NGGBNp-RiJ79"
      },
      "source": [
        "def get_data(url):  \n",
        "    page = requests.get(url)\n",
        "    soup = BeautifulSoup(page.content, 'html.parser')\n",
        "    real_estate_data = soup.find_all(\"dl\", class_='dl-horizontal-border')\n",
        "    is_property_found = \"Yes\"\n",
        "    data_dict = {}\n",
        "    data_dict[\"URL\"] = url\n",
        "    if real_estate_data:\n",
        "        for d in real_estate_data:\n",
        "            dt = d.find_all('dt')\n",
        "            dd = d.find_all('dd')\n",
        "            \n",
        "            for i,j in zip(dt, dd):\n",
        "                i = i.contents[0].strip()\n",
        "                j = j.contents[0].strip()\n",
        "                if i == \"Unit Number\":\n",
        "                    if j == \"-\":\n",
        "                        data_dict[\"Unit Number\"] = np.nan\n",
        "                    else:\n",
        "                        data_dict[\"Unit Number\"] = j\n",
        "                elif i == \"Price\":\n",
        "                    data_dict[\"Price(¥)\"] = float(j.replace(\",\",\"\").replace(\"¥\",\"\").strip())\n",
        "                elif i == \"Building Name\":\n",
        "                    data_dict[\"Building Name\"] = j\n",
        "                elif i == \"Available From\":\n",
        "                    if \"Please Inquire\" in j:\n",
        "                        data_dict[\"Available From\"] = np.nan\n",
        "                    else:\n",
        "                        data_dict[\"Available From\"] = datetime.strptime(j, '%b %d, %Y')\n",
        "                elif i == \"Type\":\n",
        "                    data_dict[\"Type\"] = j.replace(\" \", \"\")\n",
        "                elif i == \"Size\":\n",
        "                    data_dict[\"Size(m²)\"] = float(j.replace(\"m²\", \"\").replace(\",\", \"\").strip())\n",
        "                elif i == \"Gross Yield\":\n",
        "                    data_dict[\"Gross Yield(%)\"] = float(j.replace(\"%\", \"\").strip())\n",
        "                elif i == \"Land Rights\":\n",
        "                    data_dict[\"Land Rights\"] = j\n",
        "                elif i == \"Maintenance Fee\":\n",
        "                    data_dict[\"Maintenance Fee(¥/mnt)\"] = float(j.replace(\"¥\", \"\").replace(\" / mth\", \"\").strip().replace(\",\",\"\"))\n",
        "                elif i == \"Location\":\n",
        "                    data_dict[\"Location\"] = j.replace(\",\", \"\")\n",
        "                elif i == \"Occupancy\":\n",
        "                    data_dict[\"Occupancy\"] = j\n",
        "                elif i == \"Floor\":\n",
        "                    data_dict[\"Floor\"] = j.replace(\" \", \"\")\n",
        "                elif i == \"Nearest Station\":\n",
        "                    data_dict[\"Nearest Station\"] = j.split(\"(\")[0].strip()\n",
        "                    if len(j.split(\"(\")) > 1:\n",
        "                        if \"walk\" in j:\n",
        "                            data_dict[\"Way to Nearest Station\"] = \"Walk\"\n",
        "                            data_dict[\"Distance From Station(min)\"] = j.split(\"(\")[1].split(\"min\")[0].strip()\n",
        "                        elif \"bus\" in j:\n",
        "                            data_dict[\"Way to Nearest Station\"] = \"Bus\"\n",
        "                            data_dict[\"Distance From Station(min)\"] = j.split(\"(\")[1].split(\"min\")[0].strip()\n",
        "                elif i == \"Layout\":\n",
        "                    data_dict[\"Layout\"] = j\n",
        "                elif i == \"Year Built\":\n",
        "                    data_dict[\"Year Built\"] = j\n",
        "                elif i == \"Direction Facing\":\n",
        "                    data_dict[\"Direction Facing\"] = j.replace(\",\", \"\")\n",
        "                elif i == \"Transaction Type\":\n",
        "                    data_dict[\"Transaction Type\"] = j\n",
        "                elif i == \"Balcony Size\":\n",
        "                    data_dict[\"Balcony Size(m²)\"] = float(j.replace(\"m²\", \"\").replace(\",\", \"\").strip())\n",
        "                elif i == \"Building Description\":\n",
        "                    data_dict[\"Building Description\"] = j.replace(\",\", \"\")\n",
        "                elif i == \"Other Expenses\":\n",
        "                    j = j.replace(\",\", \"\").replace(\" \", \"\").replace(\"，\", \"\")\n",
        "                    lst = re.findall(r'\\d+', j)\n",
        "                    if len(lst) > 0:\n",
        "                        lst = [int(i) for i in lst] \n",
        "                        data_dict[\"Other Expenses\"] = sum(lst)\n",
        "                elif i == \"Parking\":\n",
        "                    data_dict[\"Parking Available\"] = j.split()[0].replace(\",\", \"\")\n",
        "                    if len(j.split()) > 1:\n",
        "                        if j.split()[0].replace(\",\", \"\") == \"Available\":\n",
        "                            data_dict[\"Parking Fee(¥/mnt)\"] = float(j.split()[1].replace(\",\", \"\").replace(\"¥\", \"\").strip())\n",
        "                elif i == \"Date Updated\":\n",
        "                    if \"Please Inquire\" in j:\n",
        "                        data_dict[\"Date Updated\"] = np.nan\n",
        "                    else:\n",
        "                        data_dict[\"Date Updated\"] = datetime.strptime(j, '%b %d, %Y')\n",
        "                elif i == \"Next Update Schedule\":\n",
        "                    if \"Please Inquire\" in j:\n",
        "                        data_dict[\"Next Update Schedule\"] = np.nan\n",
        "                    else:\n",
        "                        data_dict[\"Next Update Schedule\"] = datetime.strptime(j, '%b %d, %Y')\n",
        "                    \n",
        "    else:\n",
        "        is_property_found = \"No\"\n",
        "    data_dict[\"Is_Prop_Avl\"] = is_property_found\n",
        "    return data_dict"
      ],
      "execution_count": null,
      "outputs": []
    },
    {
      "cell_type": "code",
      "metadata": {
        "id": "vCsFcRAmiFWk"
      },
      "source": [
        "# real_estate_df = pd.DataFrame(columns=[\"URL\", \"مناسب برای\", \"شماره واحد\", \"قیمت\", \"نام ساختمان\", \"طبقه\", \"در دسترس از\", \"نوع\", \"اندازه\", \"بازده ناخالص\",\n",
        "#                                       \"حقوق زمین\", \"هزینه نگهداری\", \"موقعیت مکانی\", \"شغل\", \"نزدیکترین ایستگاه\", \"راه تا نزدیکترین ایستگاه\", \"فاصله از ایستگاه (دقیقه\",\n",
        "#                                       \"نما\", \"سال ساخت\", \"رو به جهت\", \"نوع معامله\", \"اندازه بالکن (متر مربع)\", \"شرح ساختمان\", \"سایر هزینه ها\",\n",
        "#                                       \"پارکینگ موجود\", \"هزینه پارکینگ\", \"برنامه به‌روزرسانی بعدی\", \"برنامه به‌روزرسانی بعدی\"])\n",
        "\n",
        "import pandas as pd\n",
        "real_estate_df = pd.DataFrame(columns=[\"URL\", \"نوع ملک\",\"اجاره\"])\n",
        "\n",
        "urls=['https://www.sheypoor.com/%D8%A7%DB%8C%D8%B1%D8%A7%D9%86/%D8%A7%D9%85%D9%84%D8%A7%DA%A9/%D8%B1%D9%87%D9%86-%D8%A7%D8%AC%D8%A7%D8%B1%D9%87-%D8%AE%D8%A7%D9%86%D9%87-%D8%A2%D9%BE%D8%A7%D8%B1%D8%AA%D9%85%D8%A7%D9%86']\n",
        "import re\n",
        "for url in urls:\n",
        "    print(url)\n",
        "    res = get_data(url)\n",
        "    print (res)\n",
        "    if  (re.findall('sheypoor', url)):\n",
        "        \n",
        "       real_estate_df = real_estate_df.append(res, ignore_index=True)"
      ],
      "execution_count": null,
      "outputs": []
    }
  ]
}