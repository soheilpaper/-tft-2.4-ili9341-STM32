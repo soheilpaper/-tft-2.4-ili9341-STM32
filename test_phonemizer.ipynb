{
  "nbformat": 4,
  "nbformat_minor": 0,
  "metadata": {
    "kernelspec": {
      "display_name": "Python 3",
      "language": "python",
      "name": "python3"
    },
    "language_info": {
      "codemirror_mode": {
        "name": "ipython",
        "version": 3
      },
      "file_extension": ".py",
      "mimetype": "text/x-python",
      "name": "python",
      "nbconvert_exporter": "python",
      "pygments_lexer": "ipython3",
      "version": "3.7.8"
    },
    "colab": {
      "name": "test_phonemizer.ipynb",
      "provenance": [],
      "include_colab_link": true
    }
  },
  "cells": [
    {
      "cell_type": "markdown",
      "metadata": {
        "id": "view-in-github",
        "colab_type": "text"
      },
      "source": [
        "<a href=\"https://colab.research.google.com/github/soheilpaper/-tft-2.4-ili9341-STM32/blob/master/test_phonemizer.ipynb\" target=\"_parent\"><img src=\"https://colab.research.google.com/assets/colab-badge.svg\" alt=\"Open In Colab\"/></a>"
      ]
    },
    {
      "cell_type": "markdown",
      "metadata": {
        "id": "ErZVJOon-9iV"
      },
      "source": [
        "import sys\n",
        "sys.path.append(\"../\")"
      ]
    },
    {
      "cell_type": "code",
      "metadata": {
        "colab": {
          "base_uri": "https://localhost:8080/"
        },
        "id": "kttBaQKv_dQA",
        "outputId": "33b35dd4-dc48-4d27-df39-6645b549794d"
      },
      "source": [
        "!pip install youtube-dl gdrive gdown\n",
        "%cd /content\n",
        "!git clone https://github.com/hamedhemati/Tacotron-2-Persian\n",
        "%cd Tacotron-2-Persian\n",
        "!pip search espeak\n",
        "!pip install py-espeak-ng\n",
        "!sudo apt-get install python-espeak\n",
        "!sudo apt-get update && sudo apt-get install espeak\n",
        "\n",
        "# !pip install espeak"
      ],
      "execution_count": 3,
      "outputs": [
        {
          "output_type": "stream",
          "name": "stdout",
          "text": [
            "/content\n",
            "fatal: destination path 'Tacotron-2-Persian' already exists and is not an empty directory.\n",
            "/content/Tacotron-2-Persian\n",
            "\u001b[31mERROR: XMLRPC request failed [code: -32500]\n",
            "RuntimeError: PyPI's XMLRPC API is currently disabled due to unmanageable load and will be deprecated in the near future. See https://status.python.org/ for more information.\u001b[0m\n",
            "Requirement already satisfied: py-espeak-ng in /usr/local/lib/python3.7/dist-packages (0.1.8)\n",
            "Reading package lists... Done\n",
            "Building dependency tree       \n",
            "Reading state information... Done\n",
            "python-espeak is already the newest version (0.5-1build5).\n",
            "0 upgraded, 0 newly installed, 0 to remove and 59 not upgraded.\n",
            "Get:1 http://security.ubuntu.com/ubuntu bionic-security InRelease [88.7 kB]\n",
            "Hit:2 https://cloud.r-project.org/bin/linux/ubuntu bionic-cran40/ InRelease\n",
            "Ign:3 https://developer.download.nvidia.com/compute/cuda/repos/ubuntu1804/x86_64  InRelease\n",
            "Hit:4 http://archive.ubuntu.com/ubuntu bionic InRelease\n",
            "Hit:5 http://ppa.launchpad.net/c2d4u.team/c2d4u4.0+/ubuntu bionic InRelease\n",
            "Ign:6 https://developer.download.nvidia.com/compute/machine-learning/repos/ubuntu1804/x86_64  InRelease\n",
            "Hit:7 https://developer.download.nvidia.com/compute/cuda/repos/ubuntu1804/x86_64  Release\n",
            "Hit:8 https://developer.download.nvidia.com/compute/machine-learning/repos/ubuntu1804/x86_64  Release\n",
            "Get:9 http://archive.ubuntu.com/ubuntu bionic-updates InRelease [88.7 kB]\n",
            "Hit:10 http://ppa.launchpad.net/cran/libgit2/ubuntu bionic InRelease\n",
            "Hit:12 http://ppa.launchpad.net/deadsnakes/ppa/ubuntu bionic InRelease\n",
            "Get:13 http://archive.ubuntu.com/ubuntu bionic-backports InRelease [74.6 kB]\n",
            "Hit:15 http://ppa.launchpad.net/graphics-drivers/ppa/ubuntu bionic InRelease\n",
            "Get:16 http://archive.ubuntu.com/ubuntu bionic-updates/main amd64 Packages [2,868 kB]\n",
            "Get:17 http://archive.ubuntu.com/ubuntu bionic-updates/universe amd64 Packages [2,220 kB]\n",
            "Fetched 5,339 kB in 2s (2,736 kB/s)\n",
            "Reading package lists... Done\n",
            "Reading package lists... Done\n",
            "Building dependency tree       \n",
            "Reading state information... Done\n",
            "espeak is already the newest version (1.48.04+dfsg-5).\n",
            "0 upgraded, 0 newly installed, 0 to remove and 61 not upgraded.\n"
          ]
        }
      ]
    },
    {
      "cell_type": "code",
      "metadata": {
        "id": "e5Bvfr_pCMJk"
      },
      "source": [
        "# %cd /content/\n",
        "# !youtube-dl  https://drive.google.com/open?id=ABCDEFG1234567890\n",
        "# !gdrive download 1wzlBGgROS76W4xOY1UpCZaW5zropyLVL\n",
        "!gdown --id 1wzlBGgROS76W4xOY1UpCZaW5zropyLVL\n",
        "!find -name 'preprocess_commonvoice_fa.sh'\n",
        "# !gdown https://drive.google.com/file/d/1wzlBGgROS76W4xOY1UpCZaW5zropyLVL\n",
        "# !curl -o demo.zip https://drive.google.com/file/d/1wzlBGgROS76W4xOY1UpCZaW5zropyLVL/view?usp=sharing\n",
        "!echo $PWD\n",
        "!find -name 'demo.zip'\n",
        "!sudo apt-get install p7zip-full\n",
        "# !7z x '/content/Tacotron-2-Persian/demo.zip'\n",
        "\n",
        "!unzip '/content/Tacotron-2-Persian/demo.zip' -d '/content/Tacotron-2-Persian/scripts'"
      ],
      "execution_count": null,
      "outputs": []
    },
    {
      "cell_type": "code",
      "metadata": {
        "id": "sJboy0OTAYHn"
      },
      "source": [
        "import os\n",
        "path = '/content/Tacotron-2-Persian/tac2persian/utils/g2p/phonemizer_api/backend/'#segments.py'\n",
        "os.environ['PATH'] += ':'+path\n",
        "\n",
        "# cwd = os.getcwd()\n",
        "# os.chdir(path)\n",
        "# # import <module>\n",
        "# os.chdir(cwd)\n",
        "\n",
        "import sys\n",
        "sys.path.append(path)"
      ],
      "execution_count": 5,
      "outputs": []
    },
    {
      "cell_type": "code",
      "metadata": {
        "colab": {
          "base_uri": "https://localhost:8080/"
        },
        "id": "3vdW1MsrDdEt",
        "outputId": "e17b25a7-c8e1-470b-a0d9-ee9419dabbba"
      },
      "source": [
        "!pip install segments \n",
        "!sh /content/Tacotron-2-Persian/scripts/preprocess_commonvoice_fa/preprocess_commonvoice_fa.sh\n"
      ],
      "execution_count": 6,
      "outputs": [
        {
          "output_type": "stream",
          "name": "stdout",
          "text": [
            "Collecting segments\n",
            "  Downloading segments-2.2.0-py2.py3-none-any.whl (15 kB)\n",
            "Collecting csvw>=1.5.6\n",
            "  Downloading csvw-1.11.0-py2.py3-none-any.whl (35 kB)\n",
            "Requirement already satisfied: regex in /usr/local/lib/python3.7/dist-packages (from segments) (2019.12.20)\n",
            "Collecting clldutils>=1.7.3\n",
            "  Downloading clldutils-3.10.0-py2.py3-none-any.whl (195 kB)\n",
            "\u001b[K     |████████████████████████████████| 195 kB 9.0 MB/s \n",
            "\u001b[?25hRequirement already satisfied: python-dateutil in /usr/local/lib/python3.7/dist-packages (from clldutils>=1.7.3->segments) (2.8.2)\n",
            "Requirement already satisfied: attrs>=18.1.0 in /usr/local/lib/python3.7/dist-packages (from clldutils>=1.7.3->segments) (21.2.0)\n",
            "Collecting colorlog\n",
            "  Downloading colorlog-6.6.0-py2.py3-none-any.whl (11 kB)\n",
            "Requirement already satisfied: tabulate>=0.7.7 in /usr/local/lib/python3.7/dist-packages (from clldutils>=1.7.3->segments) (0.8.9)\n",
            "Requirement already satisfied: uritemplate>=3.0.0 in /usr/local/lib/python3.7/dist-packages (from csvw>=1.5.6->segments) (3.0.1)\n",
            "Collecting isodate\n",
            "  Downloading isodate-0.6.0-py2.py3-none-any.whl (45 kB)\n",
            "\u001b[K     |████████████████████████████████| 45 kB 3.2 MB/s \n",
            "\u001b[?25hCollecting rfc3986\n",
            "  Downloading rfc3986-1.5.0-py2.py3-none-any.whl (31 kB)\n",
            "Requirement already satisfied: six in /usr/local/lib/python3.7/dist-packages (from isodate->csvw>=1.5.6->segments) (1.15.0)\n",
            "Installing collected packages: rfc3986, isodate, csvw, colorlog, clldutils, segments\n",
            "Successfully installed clldutils-3.10.0 colorlog-6.6.0 csvw-1.11.0 isodate-0.6.0 rfc3986-1.5.0 segments-2.2.0\n",
            "/content/Tacotron-2-Persian/scripts/preprocess_commonvoice_fa\n",
            "Traceback (most recent call last):\n",
            "  File \"/usr/lib/python3.7/runpy.py\", line 193, in _run_module_as_main\n",
            "    \"__main__\", mod_spec)\n",
            "  File \"/usr/lib/python3.7/runpy.py\", line 85, in _run_code\n",
            "    exec(code, run_globals)\n",
            "  File \"/content/Tacotron-2-Persian/tac2persian/data_preprocessing/preprocess_commonvoice_fa.py\", line 111, in <module>\n",
            "    preprocess(args.dataset_path, args.output_path, target_speakers, config, args.num_workers)\n",
            "  File \"/content/Tacotron-2-Persian/tac2persian/data_preprocessing/preprocess_commonvoice_fa.py\", line 49, in preprocess\n",
            "    with open(os.path.join(dataset_path, \"validated.tsv\"), \"r\") as f:\n",
            "FileNotFoundError: [Errno 2] No such file or directory: 'PATH TO DATASET/validated.tsv'\n"
          ]
        }
      ]
    },
    {
      "cell_type": "code",
      "metadata": {
        "id": "9Z7J5TIr-9ic"
      },
      "source": [
        "from tac2persian.utils.g2p.g2p import Grapheme2Phoneme"
      ],
      "execution_count": 28,
      "outputs": []
    },
    {
      "cell_type": "code",
      "metadata": {
        "id": "lYL6Y7Et-9ie"
      },
      "source": [
        "g2p = Grapheme2Phoneme()"
      ],
      "execution_count": 29,
      "outputs": []
    },
    {
      "cell_type": "markdown",
      "metadata": {
        "id": "Sksyom6Z-9if"
      },
      "source": [
        "### Test phonemizer with a Persian sentence"
      ]
    },
    {
      "cell_type": "code",
      "metadata": {
        "colab": {
          "base_uri": "https://localhost:8080/"
        },
        "id": "LfHGCFH8-9ig",
        "outputId": "06bc50f9-fb4d-4c4a-9e13-e90913c383b0"
      },
      "source": [
        "english_text = \"دلا نزد کسی بنشین که او از دل خبر دارد.\"\n",
        "print(\"Phonemizer's output:\")\n",
        "print(g2p.text_to_phone(english_text, language=\"fa\"))\n"
      ],
      "execution_count": 30,
      "outputs": [
        {
          "output_type": "stream",
          "name": "stdout",
          "text": [
            "Phonemizer's output:\n",
            "dˈelɑ nˈazd kˈasi bˈenʃin kˈeː ˈuː az dˈel xˈabar dˈɑrad .\n"
          ]
        }
      ]
    },
    {
      "cell_type": "markdown",
      "metadata": {
        "id": "dL-vsgQf-9ii"
      },
      "source": [
        "### Add diacritics for fixing pronounciations"
      ]
    },
    {
      "cell_type": "code",
      "metadata": {
        "colab": {
          "base_uri": "https://localhost:8080/"
        },
        "id": "ozQBiMJV-9ii",
        "outputId": "2b2a01a9-2235-47e7-cc74-9bfff559a83c"
      },
      "source": [
        "persian_text = \"دلا نزد کسی بنشین که او از دل خبر دارد.\"\n",
        "print(\"Phonemization wiht diacritics: \")\n",
        "print(g2p.text_to_phone(persian_text, language=\"fa\"))"
      ],
      "execution_count": 31,
      "outputs": [
        {
          "output_type": "stream",
          "name": "stdout",
          "text": [
            "Phonemization wiht diacritics: \n",
            "dˈelɑ nˈazd kˈasi bˈenʃin kˈeː ˈuː az dˈel xˈabar dˈɑrad .\n"
          ]
        }
      ]
    },
    {
      "cell_type": "markdown",
      "metadata": {
        "id": "_ho0q1wj-9ik"
      },
      "source": [
        "### Get sequence of indices after phonemization"
      ]
    },
    {
      "cell_type": "code",
      "metadata": {
        "colab": {
          "base_uri": "https://localhost:8080/"
        },
        "id": "rnlkUlZr-9il",
        "outputId": "80e80b2d-65bb-429f-9b87-02fe3dffa6bd"
      },
      "source": [
        "print(g2p.text_to_sequence(persian_text, language=\"fa\"))"
      ],
      "execution_count": 32,
      "outputs": [
        {
          "output_type": "stream",
          "name": "stdout",
          "text": [
            "[4, 106, 5, 11, 38, 116, 13, 106, 1, 25, 4, 116, 10, 106, 1, 18, 8, 116, 2, 106, 5, 13, 83, 8, 13, 116, 10, 106, 5, 108, 116, 106, 20, 108, 116, 1, 25, 116, 4, 106, 5, 11, 116, 23, 106, 1, 2, 1, 17, 116, 4, 106, 38, 17, 1, 4, 116, 117]\n"
          ]
        }
      ]
    },
    {
      "cell_type": "markdown",
      "metadata": {
        "id": "xHlNnFKe-9il"
      },
      "source": [
        "### Test bilingual mode"
      ]
    },
    {
      "cell_type": "code",
      "metadata": {
        "colab": {
          "base_uri": "https://localhost:8080/"
        },
        "id": "kMMF8ne2-9im",
        "outputId": "a701c564-388f-4037-9d8d-2f687811486e"
      },
      "source": [
        "g2p.set_bilingual_languages(first_lang=\"fa\", second_lang=\"en-us\")\n",
        "# You need to put the English between two asterisks\n",
        "bilingual_text = \"با استفاده از *Tacotron* میتوان متن را به صوت تبدیل کرد.\"\n",
        "print(g2p.text_to_phone(bilingual_text, language=\"bilingual\"))\n"
      ],
      "execution_count": 33,
      "outputs": [
        {
          "output_type": "stream",
          "name": "stdout",
          "text": [
            "bɑ ˌestefˈɑdeː ˈaz tˈækətɹˌɑːn mitˈavɑn mˈatn rɑ beː sˈoːt tˈabdil kˈard .\n"
          ]
        }
      ]
    },
    {
      "cell_type": "code",
      "metadata": {
        "id": "A94leyCz-9in"
      },
      "source": [
        ""
      ],
      "execution_count": 33,
      "outputs": []
    }
  ]
}