{
  "cells": [
    {
      "cell_type": "markdown",
      "metadata": {
        "id": "view-in-github",
        "colab_type": "text"
      },
      "source": [
        "<a href=\"https://colab.research.google.com/github/soheilpaper/-tft-2.4-ili9341-STM32/blob/master/colabs/huggingface/Huggingface_wandb.ipynb\" target=\"_parent\"><img src=\"https://colab.research.google.com/assets/colab-badge.svg\" alt=\"Open In Colab\"/></a>"
      ]
    },
    {
      "cell_type": "markdown",
      "metadata": {
        "id": "6Z7pPGLbA7ei"
      },
      "source": [
        "<a href=\"https://colab.research.google.com/github/wandb/examples/blob/master/colabs/huggingface/Huggingface_wandb.ipynb\" target=\"_parent\"><img src=\"https://colab.research.google.com/assets/colab-badge.svg\" alt=\"Open In Colab\"/></a>\n",
        "<!--- @wandbcode{huggingface_wandb} -->"
      ]
    },
    {
      "cell_type": "markdown",
      "metadata": {
        "id": "A0-a9f6hA7e8"
      },
      "source": [
        "# Hugging Face + W&B\n",
        "Visualize your [Hugging Face](https://github.com/huggingface/transformers) model's performance quickly with a seamless [W&B](https://wandb.ai/site) integration.\n",
        "\n",
        "Compare hyperparameters, output metrics, and system stats like GPU utilization across your models.\n"
      ]
    },
    {
      "cell_type": "markdown",
      "metadata": {
        "id": "AqD6WwRtA7fB"
      },
      "source": [
        "<img src=\"https://i.imgur.com/vnejHGh.png\" width=\"800\">\n",
        "\n",
        "<!--- @wandbcode{huggingface_wandb} -->"
      ]
    },
    {
      "cell_type": "markdown",
      "metadata": {
        "id": "Qry3qZx6A7fG"
      },
      "source": [
        "\n",
        "## 🤔 Why should I use W&B?\n",
        "\n",
        "<img src=\"https://wandb.me/mini-diagram\" width=\"650\">\n",
        "\n",
        "- **Unified dashboard**: Central repository for all your model metrics and predictions\n",
        "- **Lightweight**: No code changes required to integrate with Hugging Face\n",
        "- **Accessible**: Free for individuals and academic teams\n",
        "- **Secure**: All projects are private by default\n",
        "- **Trusted**: Used by machine learning teams at OpenAI, Toyota, Lyft and more\n",
        "\n",
        "Think of W&B like GitHub for machine learning models— save machine learning experiments to your private, hosted dashboard. Experiment quickly with the confidence that all the versions of your models are saved for you, no matter where you're running your scripts.\n",
        "\n",
        "W&B lightweight integrations works with any Python script, and all you need to do is sign up for a free W&B account to start tracking and visualizing your models."
      ]
    },
    {
      "cell_type": "markdown",
      "metadata": {
        "id": "qItLEO2AA7fN"
      },
      "source": [
        "\n",
        "In the Hugging Face Transformers repo, we've instrumented the Trainer to automatically log training and evaluation metrics to W&B at each logging step.\n",
        "\n",
        "Here's an in depth look at how the integration works: [Hugging Face + W&B Report](https://app.wandb.ai/jxmorris12/huggingface-demo/reports/Train-a-model-with-Hugging-Face-and-Weights-%26-Biases--VmlldzoxMDE2MTU)."
      ]
    },
    {
      "cell_type": "markdown",
      "metadata": {
        "id": "wyMgkh8CA7fS"
      },
      "source": [
        "# 🚀 Install, Import, and Log in\n"
      ]
    },
    {
      "cell_type": "markdown",
      "metadata": {
        "id": "hV-pOVmbA7fX"
      },
      "source": [
        "\n",
        "Install the Hugging Face and Weights & Biases libraries, and the GLUE dataset and training script for this tutorial.\n",
        "- [Hugging Face Transformers](https://github.com/huggingface/transformers): Natural language models and datasets\n",
        "- [Weights & Biases](https://docs.wandb.com/): Experiment tracking and visualization\n",
        "- [GLUE dataset](https://gluebenchmark.com/): A language understanding benchmark dataset\n",
        "- [GLUE script](https://github.com/huggingface/transformers/blob/master/examples/run_glue.py): Model training script for sequence classification"
      ]
    },
    {
      "cell_type": "code",
      "execution_count": 1,
      "metadata": {
        "colab": {
          "base_uri": "https://localhost:8080/"
        },
        "id": "1B0-d4MiA7fe",
        "outputId": "986b8a98-9933-4933-8883-525694bf7c6e"
      },
      "outputs": [
        {
          "output_type": "stream",
          "name": "stdout",
          "text": [
            "\u001b[2K     \u001b[90m━━━━━━━━━━━━━━━━━━━━━━━━━━━━━━━━━━━━━━━━\u001b[0m \u001b[32m507.1/507.1 kB\u001b[0m \u001b[31m3.5 MB/s\u001b[0m eta \u001b[36m0:00:00\u001b[0m\n",
            "\u001b[2K     \u001b[90m━━━━━━━━━━━━━━━━━━━━━━━━━━━━━━━━━━━━━━━━\u001b[0m \u001b[32m2.1/2.1 MB\u001b[0m \u001b[31m23.8 MB/s\u001b[0m eta \u001b[36m0:00:00\u001b[0m\n",
            "\u001b[2K     \u001b[90m━━━━━━━━━━━━━━━━━━━━━━━━━━━━━━━━━━━━━━━━\u001b[0m \u001b[32m84.1/84.1 kB\u001b[0m \u001b[31m9.1 MB/s\u001b[0m eta \u001b[36m0:00:00\u001b[0m\n",
            "\u001b[2K     \u001b[90m━━━━━━━━━━━━━━━━━━━━━━━━━━━━━━━━━━━━━━━━\u001b[0m \u001b[32m265.7/265.7 kB\u001b[0m \u001b[31m24.5 MB/s\u001b[0m eta \u001b[36m0:00:00\u001b[0m\n",
            "\u001b[2K     \u001b[90m━━━━━━━━━━━━━━━━━━━━━━━━━━━━━━━━━━━━━━━━\u001b[0m \u001b[32m115.3/115.3 kB\u001b[0m \u001b[31m5.6 MB/s\u001b[0m eta \u001b[36m0:00:00\u001b[0m\n",
            "\u001b[2K     \u001b[90m━━━━━━━━━━━━━━━━━━━━━━━━━━━━━━━━━━━━━━━━\u001b[0m \u001b[32m134.8/134.8 kB\u001b[0m \u001b[31m3.2 MB/s\u001b[0m eta \u001b[36m0:00:00\u001b[0m\n",
            "\u001b[2K     \u001b[90m━━━━━━━━━━━━━━━━━━━━━━━━━━━━━━━━━━━━━━━━\u001b[0m \u001b[32m190.6/190.6 kB\u001b[0m \u001b[31m16.3 MB/s\u001b[0m eta \u001b[36m0:00:00\u001b[0m\n",
            "\u001b[2K     \u001b[90m━━━━━━━━━━━━━━━━━━━━━━━━━━━━━━━━━━━━━━━━\u001b[0m \u001b[32m254.1/254.1 kB\u001b[0m \u001b[31m19.4 MB/s\u001b[0m eta \u001b[36m0:00:00\u001b[0m\n",
            "\u001b[2K     \u001b[90m━━━━━━━━━━━━━━━━━━━━━━━━━━━━━━━━━━━━━━━━\u001b[0m \u001b[32m62.7/62.7 kB\u001b[0m \u001b[31m7.5 MB/s\u001b[0m eta \u001b[36m0:00:00\u001b[0m\n",
            "\u001b[?25h--2023-12-30 13:58:06--  https://raw.githubusercontent.com/huggingface/transformers/master/examples/pytorch/text-classification/run_glue.py\n",
            "Resolving raw.githubusercontent.com (raw.githubusercontent.com)... 185.199.111.133, 185.199.108.133, 185.199.110.133, ...\n",
            "Connecting to raw.githubusercontent.com (raw.githubusercontent.com)|185.199.111.133|:443... connected.\n",
            "HTTP request sent, awaiting response... 200 OK\n",
            "Length: 28335 (28K) [text/plain]\n",
            "Saving to: ‘run_glue.py’\n",
            "\n",
            "run_glue.py         100%[===================>]  27.67K  --.-KB/s    in 0.002s  \n",
            "\n",
            "2023-12-30 13:58:07 (17.2 MB/s) - ‘run_glue.py’ saved [28335/28335]\n",
            "\n"
          ]
        }
      ],
      "source": [
        "!pip install datasets wandb evaluate accelerate -qU\n",
        "!wget https://raw.githubusercontent.com/huggingface/transformers/master/examples/pytorch/text-classification/run_glue.py"
      ]
    },
    {
      "cell_type": "code",
      "execution_count": 2,
      "metadata": {
        "colab": {
          "base_uri": "https://localhost:8080/"
        },
        "id": "daB6vKNQA7fr",
        "outputId": "730c17fc-9937-4e60-b3a3-2a92b6579128"
      },
      "outputs": [
        {
          "output_type": "stream",
          "name": "stdout",
          "text": [
            "  Installing build dependencies ... \u001b[?25l\u001b[?25hdone\n",
            "  Getting requirements to build wheel ... \u001b[?25l\u001b[?25hdone\n",
            "  Preparing metadata (pyproject.toml) ... \u001b[?25l\u001b[?25hdone\n",
            "  Building wheel for transformers (pyproject.toml) ... \u001b[?25l\u001b[?25hdone\n"
          ]
        }
      ],
      "source": [
        "# the run_glue.py script requires transformers dev\n",
        "!pip install -q git+https://github.com/huggingface/transformers"
      ]
    },
    {
      "cell_type": "markdown",
      "metadata": {
        "id": "a826qD9EA7fw"
      },
      "source": [
        "## 🖊️ [Sign up for a free account →](https://app.wandb.ai/login?signup=true)"
      ]
    },
    {
      "cell_type": "markdown",
      "metadata": {
        "id": "c_xhHArUA7f0"
      },
      "source": [
        "## 🔑 Put in your API key\n",
        "Once you've signed up, run the next cell and click on the link to get your API key and authenticate this notebook."
      ]
    },
    {
      "cell_type": "code",
      "execution_count": 3,
      "metadata": {
        "id": "jp90QAmvA7f2"
      },
      "outputs": [],
      "source": [
        "import wandb"
      ]
    },
    {
      "cell_type": "code",
      "execution_count": null,
      "metadata": {
        "id": "GdphVU7YA7f6"
      },
      "outputs": [],
      "source": [
        "wandb.login()"
      ]
    },
    {
      "cell_type": "markdown",
      "metadata": {
        "id": "s338BXv9A7f-"
      },
      "source": [
        "Optionally, we can set environment variables to customize W&B logging. See [documentation](https://docs.wandb.com/library/integrations/huggingface)."
      ]
    },
    {
      "cell_type": "code",
      "execution_count": null,
      "metadata": {
        "id": "lr2fRLpsA7gA"
      },
      "outputs": [],
      "source": [
        "# Optional: log both gradients and parameters\n",
        "%env WANDB_WATCH=all"
      ]
    },
    {
      "cell_type": "markdown",
      "metadata": {
        "id": "2PdUsYdUA7gE"
      },
      "source": [
        "# 👟 Train the model\n",
        "Next, call the downloaded training script [run_glue.py](https://huggingface.co/transformers/examples.html#glue) and see training automatically get tracked to the Weights & Biases dashboard. This script fine-tunes BERT on the Microsoft Research Paraphrase Corpus— pairs of sentences with human annotations indicating whether they are semantically equivalent."
      ]
    },
    {
      "cell_type": "code",
      "execution_count": null,
      "metadata": {
        "id": "aQjLeWT_A7gH"
      },
      "outputs": [],
      "source": [
        "%env WANDB_PROJECT=huggingface-demo\n",
        "%env TASK_NAME=MRPC\n",
        "\n",
        "!python run_glue.py \\\n",
        "  --model_name_or_path bert-base-uncased \\\n",
        "  --task_name $TASK_NAME \\\n",
        "  --do_train \\\n",
        "  --do_eval \\\n",
        "  --max_seq_length 256 \\\n",
        "  --per_device_train_batch_size 32 \\\n",
        "  --learning_rate 2e-4 \\\n",
        "  --num_train_epochs 3 \\\n",
        "  --output_dir /tmp/$TASK_NAME/ \\\n",
        "  --overwrite_output_dir \\\n",
        "  --logging_steps 50"
      ]
    },
    {
      "cell_type": "markdown",
      "metadata": {
        "id": "7pMFRWmXA7gK"
      },
      "source": [
        "# 👀 Visualize results in dashboard\n",
        "Click the link printed out above, or go to [wandb.ai](https://app.wandb.ai) to see your results stream in live. The link to see your run in the browser will appear after all the dependencies are loaded — look for the following output: \"**wandb**: 🚀 View run at [URL to your unique run]\"\n",
        "\n",
        "**Visualize Model Performance**\n",
        "It's easy to look across dozens of experiments, zoom in on interesting findings, and visualize highly dimensional data.\n",
        "\n",
        "![](https://gblobscdn.gitbook.com/assets%2F-Lqya5RvLedGEWPhtkjU%2F-M79Y5aLAFsMEcybMZcC%2F-M79YL90K1jiq-3jeQK-%2Fhf%20gif%2015.gif?alt=media&token=523d73f4-3f6c-499c-b7e8-ef5be0c10c2a)\n",
        "\n",
        "**Compare Architectures**\n",
        "Here's an example comparing [BERT vs DistilBERT](https://app.wandb.ai/jack-morris/david-vs-goliath/reports/Does-model-size-matter%3F-Comparing-BERT-and-DistilBERT-using-Sweeps--VmlldzoxMDUxNzU) — it's easy to see how different architectures effect the evaluation accuracy throughout training with automatic line plot visualizations.\n",
        "![](https://gblobscdn.gitbook.com/assets%2F-Lqya5RvLedGEWPhtkjU%2F-M79Y5aLAFsMEcybMZcC%2F-M79Ytpj6q6Jlv9RKZGT%2Fgif%20for%20comparing%20bert.gif?alt=media&token=e3dee5de-d120-4330-b4bd-2e2ddbb8315e)\n"
      ]
    },
    {
      "cell_type": "markdown",
      "metadata": {
        "id": "Xo0RgRUqA7gO"
      },
      "source": [
        "\n",
        "### 📈 Track key information effortlessly by default\n",
        "Weights & Biases saves a new run for each experiment. Here's the information that gets saved by default:\n",
        "- **Hyperparameters**: Settings for your model are saved in Config\n",
        "- **Model Metrics**: Time series data of metrics streaming in are saved in Log\n",
        "- **Terminal Logs**: Command line outputs are saved and available in a tab\n",
        "- **System Metrics**: GPU and CPU utilization, memory, temperature etc.\n"
      ]
    },
    {
      "cell_type": "markdown",
      "metadata": {
        "id": "INJGKlTGA7gS"
      },
      "source": [
        "## 🤓 Learn more!\n",
        "- [Documentation](https://docs.wandb.com/huggingface): docs on the Weights & Biases and Hugging Face integration\n",
        "- [Videos](http://wandb.me/youtube): tutorials, interviews with practitioners, and more on our YouTube channel\n",
        "- Contact: Message us at contact@wandb.com with questions"
      ]
    }
  ],
  "metadata": {
    "accelerator": "GPU",
    "colab": {
      "provenance": [],
      "include_colab_link": true
    },
    "kernelspec": {
      "display_name": "Python 3",
      "name": "python3"
    }
  },
  "nbformat": 4,
  "nbformat_minor": 0
}