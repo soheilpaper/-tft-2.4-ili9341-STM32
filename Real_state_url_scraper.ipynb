{
  "nbformat": 4,
  "nbformat_minor": 0,
  "metadata": {
    "colab": {
      "name": "SEMRush Weekly Wisdom - Competitor SERP Features.ipynb",
      "provenance": [],
      "include_colab_link": true
    },
    "kernelspec": {
      "name": "python3",
      "display_name": "Python 3"
    }
  },
  "cells": [
    {
      "cell_type": "markdown",
      "metadata": {
        "id": "view-in-github",
        "colab_type": "text"
      },
      "source": [
        "<a href=\"https://colab.research.google.com/github/soheilpaper/-tft-2.4-ili9341-STM32/blob/master/Real_state_url_scraper.ipynb\" target=\"_parent\"><img src=\"https://colab.research.google.com/assets/colab-badge.svg\" alt=\"Open In Colab\"/></a>"
      ]
    },
    {
      "cell_type": "code",
      "metadata": {
        "id": "idydeoc1R2RR",
        "colab": {
          "base_uri": "https://localhost:8080/"
        },
        "outputId": "c70e401a-daeb-465b-c940-009be0950e9a"
      },
      "source": [
        "import requests\n",
        "from bs4 import BeautifulSoup\n",
        "import re\n",
        "\n",
        "url = \"https://www.google.com/search?q=املاک+تهران+اجاره\"\n",
        "r = requests.get(url)\n",
        "page = r.text \n",
        "soup = BeautifulSoup(page, 'lxml') \n",
        "\n",
        "i = 0\n",
        "\n",
        "link_list = []\n",
        "for tag in soup.find_all('a'):\n",
        "    i+=1\n",
        "    href = tag['href']\n",
        "    if re.search('http',href):\n",
        "        try:\n",
        "            link = re.search('https://.+\\.com',href).group(0)\n",
        "            link_list.append(link)\n",
        "        except:\n",
        "            pass\n",
        "\n",
        "link_list = list(set(link_list))\n",
        "\n",
        "link_list2 = [] \n",
        "\n",
        "for link in link_list:\n",
        "    if not re.search('google.com',link):\n",
        "        link_list2.append(link)\n",
        "        \n",
        "print(link_list2)\n",
        "\n",
        "import pandas as pd\n",
        "\n",
        "df = pd.DataFrame(link_list2)\n",
        "df.to_csv('/content/sample_data/bs4_final.csv', index=False)"
      ],
      "execution_count": 9,
      "outputs": [
        {
          "output_type": "stream",
          "name": "stdout",
          "text": [
            "['https://kilid.com', 'https://www.2nabsh.com', 'https://shabesh.com', 'https://www.zoomila.com', 'https://www.sheypoor.com']\n"
          ]
        }
      ]
    },
    {
      "cell_type": "code",
      "metadata": {
        "id": "MyZZ55qMMNly",
        "outputId": "6248ea6f-15a7-44a6-cfbb-f7a9d19ad69e",
        "colab": {
          "base_uri": "https://localhost:8080/"
        }
      },
      "source": [
        "df = pd.read_csv(\"/content/sample_data/bs4_final.csv\" , delim_whitespace=True)#\"/kaggle/input/japanese-property-urls/tokyo_property_urls.csv\")\n",
        "print(df)"
      ],
      "execution_count": 10,
      "outputs": [
        {
          "output_type": "stream",
          "name": "stdout",
          "text": [
            "                          0\n",
            "0         https://kilid.com\n",
            "1    https://www.2nabsh.com\n",
            "2       https://shabesh.com\n",
            "3   https://www.zoomila.com\n",
            "4  https://www.sheypoor.com\n"
          ]
        }
      ]
    }
  ]
}