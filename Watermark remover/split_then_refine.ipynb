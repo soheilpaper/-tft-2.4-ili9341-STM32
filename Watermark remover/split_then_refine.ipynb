{
  "nbformat": 4,
  "nbformat_minor": 0,
  "metadata": {
    "colab": {
      "provenance": [],
      "include_colab_link": true
    },
    "kernelspec": {
      "name": "python3",
      "display_name": "Python 3"
    },
    "accelerator": "GPU"
  },
  "cells": [
    {
      "cell_type": "markdown",
      "metadata": {
        "id": "view-in-github",
        "colab_type": "text"
      },
      "source": [
        "<a href=\"https://colab.research.google.com/github/soheilpaper/-tft-2.4-ili9341-STM32/blob/master/Watermark%20remover/split_then_refine.ipynb\" target=\"_parent\"><img src=\"https://colab.research.google.com/assets/colab-badge.svg\" alt=\"Open In Colab\"/></a>"
      ]
    },
    {
      "cell_type": "markdown",
      "metadata": {
        "id": "2s3VjY_bpXR8"
      },
      "source": [
        "This Colab contains the Official demo of our AAAI21 paper:\n",
        "\n",
        "[**Split then Refine: Stacked Attention-guided ResUNets for Blind Single Image Visible Watermark Removal**](https://arxiv.org/abs/2012.07007)\n",
        "\n",
        "Xiaodong Cun, Chi-Man Pun*\n",
        "\n",
        "University of Macau"
      ]
    },
    {
      "cell_type": "code",
      "metadata": {
        "colab": {
          "base_uri": "https://localhost:8080/"
        },
        "id": "r73ZJv4bpTVD",
        "outputId": "f423562a-2c4d-462d-d661-58a5c87adc62"
      },
      "source": [
        "# download the necessary componments\n",
        "! rm -rf *\n",
        "! git clone https://github.com/vinthony/deep-blind-watermark-removal.git # get code from github\n",
        "! gdown https://drive.google.com/uc?id=1KpSJ6385CHN6WlAINqB3CYrJdleQTJBc # get pretrained model\n",
        "! gdown https://drive.google.com/uc?id=18HaWfYYZCD34VttSjd2at8b9BKdhgVgU && unzip -q val.zip # get validation dataset (2.31G) of 27kpng\n",
        "! gdown https://drive.google.com/uc?id=1it5oQDRqRzBVieX6jKNmOxj1992f63yM && unzip -q natural.zip # get natural images (0.4G) of 27kpng\n",
        "\n",
        "# rename natural images\n",
        "from os import listdir\n",
        "from os.path import isfile, join\n",
        "import shutil\n",
        "filenames = [ shutil.copy(join('./natural', f), join('./natural', f).split('-')[0]+'.jpg') for f in listdir('./natural') if isfile(join('./natural', f)) ]"
      ],
      "execution_count": 1,
      "outputs": [
        {
          "output_type": "stream",
          "name": "stdout",
          "text": [
            "Cloning into 'deep-blind-watermark-removal'...\n",
            "remote: Enumerating objects: 92, done.\u001b[K\n",
            "remote: Counting objects: 100% (25/25), done.\u001b[K\n",
            "remote: Compressing objects: 100% (19/19), done.\u001b[K\n",
            "remote: Total 92 (delta 13), reused 6 (delta 6), pack-reused 67 (from 1)\u001b[K\n",
            "Receiving objects: 100% (92/92), 53.16 KiB | 756.00 KiB/s, done.\n",
            "Resolving deltas: 100% (26/26), done.\n",
            "Downloading...\n",
            "From (original): https://drive.google.com/uc?id=1KpSJ6385CHN6WlAINqB3CYrJdleQTJBc\n",
            "From (redirected): https://drive.google.com/uc?id=1KpSJ6385CHN6WlAINqB3CYrJdleQTJBc&confirm=t&uuid=d05d5b16-1103-4419-bb98-2ec0f74940ee\n",
            "To: /content/27kpng_model_best.pth.tar\n",
            "100% 131M/131M [00:03<00:00, 36.2MB/s]\n",
            "Failed to retrieve file url:\n",
            "\n",
            "\tCannot retrieve the public link of the file. You may need to change\n",
            "\tthe permission to 'Anyone with the link', or have had many accesses.\n",
            "\tCheck FAQ in https://github.com/wkentaro/gdown?tab=readme-ov-file#faq.\n",
            "\n",
            "You may still be able to access the file from the browser:\n",
            "\n",
            "\thttps://drive.google.com/uc?id=18HaWfYYZCD34VttSjd2at8b9BKdhgVgU\n",
            "\n",
            "but Gdown can't. Please check connections and permissions.\n",
            "Downloading...\n",
            "From (original): https://drive.google.com/uc?id=1it5oQDRqRzBVieX6jKNmOxj1992f63yM\n",
            "From (redirected): https://drive.google.com/uc?id=1it5oQDRqRzBVieX6jKNmOxj1992f63yM&confirm=t&uuid=950be83d-e6de-4fba-bda1-30f76e38d15d\n",
            "To: /content/natural.zip\n",
            "100% 443M/443M [00:05<00:00, 86.7MB/s]\n"
          ]
        }
      ]
    },
    {
      "cell_type": "code",
      "metadata": {
        "colab": {
          "base_uri": "https://localhost:8080/",
          "height": 699
        },
        "id": "-iYvIp3kpJpq",
        "outputId": "05909f8c-12c6-42ac-a8be-7caed99b6335"
      },
      "source": [
        "import os, sys, torch,random\n",
        "import numpy as np\n",
        "from matplotlib import pyplot as plt\n",
        "from matplotlib import cm\n",
        "\n",
        "sys.path.append('deep-blind-watermark-removal')\n",
        "sys.path.insert(0,'deep-blind-watermark-removal')\n",
        "\n",
        "from scripts.utils.imutils import im_to_numpy\n",
        "import scripts.models as models\n",
        "import scripts.datasets as datasets\n",
        "%matplotlib inline\n",
        "from PIL import Image, ImageChops\n",
        "\n",
        "def get_jet():\n",
        "    colormap_int = np.zeros((256, 3), np.uint8)\n",
        "\n",
        "    for i in range(0, 256, 1):\n",
        "        colormap_int[i, 0] = np.int_(np.round(cm.jet(i)[0] * 255.0))\n",
        "        colormap_int[i, 1] = np.int_(np.round(cm.jet(i)[1] * 255.0))\n",
        "        colormap_int[i, 2] = np.int_(np.round(cm.jet(i)[2] * 255.0))\n",
        "\n",
        "    return colormap_int\n",
        "\n",
        "def clamp(num, min_value, max_value):\n",
        "    return max(min(num, max_value), min_value)\n",
        "\n",
        "def gray2color(gray_array, color_map):\n",
        "\n",
        "    rows, cols = gray_array.shape\n",
        "    color_array = np.zeros((rows, cols, 3), np.uint8)\n",
        "\n",
        "    for i in range(0, rows):\n",
        "        for j in range(0, cols):\n",
        "#             log(256,2) = 8 , log(1,2) = 0 * 8\n",
        "            color_array[i, j] = color_map[clamp(int(abs(gray_array[i, j])*10),0,255)]\n",
        "\n",
        "    return color_array\n",
        "\n",
        "class objectview(object):\n",
        "    def __init__(self, *args, **kwargs):\n",
        "        d = dict(*args, **kwargs)\n",
        "        self.__dict__ = d\n",
        "\n",
        "jet_map = get_jet()\n",
        "\n",
        "resume_path = '27kpng_model_best.pth.tar' # path of pretrained model\n",
        "samples = [320,1364,1868] #random.sample(range(4000), 1) # show random sample\n",
        "\n",
        "data_config  = objectview({'input_size':256,\n",
        "                            'limited_dataset':0,\n",
        "                            'normalized_input':False,\n",
        "                            'data_augumentation':False,\n",
        "                            'base_dir':'/content/deep-blind-watermark-removal',\n",
        "                            'data':'_images'})\n",
        "\n",
        "val_loader = torch.utils.data.DataLoader(datasets.COCO('val',config=data_config,sample=samples))\n",
        "\n",
        "print('input          | target              | coarser            | final')\n",
        "print('----------------------------------------------------------------------------')\n",
        "print('predicted mask | predicted watermark | coarser difference | final difference')\n",
        "\n",
        "with torch.no_grad():\n",
        "\n",
        "      model = models.__dict__['vvv4n']().cuda()\n",
        "      model.load_state_dict(torch.load(resume_path)['state_dict'])\n",
        "      model.eval()\n",
        "\n",
        "      for i, batches in enumerate(val_loader):\n",
        "\n",
        "          plt.figure(figsize=(48,12))\n",
        "\n",
        "          im,mask,target = batches['image'].cuda(),batches['mask'].cuda(),batches['target'].cuda()\n",
        "\n",
        "          imoutput,immask,imwatermark = model(im)\n",
        "\n",
        "          imcoarser,imrefine,imwatermark = imoutput[1]*immask + im*(1-immask),imoutput[0]*immask + im*(1-immask),imwatermark*immask\n",
        "\n",
        "          ims1 = im_to_numpy(torch.clamp(torch.cat([im,target,imcoarser,imrefine],dim=3)[0]*255,min=0.0,max=255.0)).astype(np.uint8)\n",
        "\n",
        "          imcoarser, imrefine, target  = im_to_numpy((imcoarser[0]*255)).astype(np.uint8), im_to_numpy((imrefine[0]*255)).astype(np.uint8), im_to_numpy((target[0]*255)).astype(np.uint8)\n",
        "          immask, imwatermark = im_to_numpy((immask.repeat(1,3,1,1)[0]*255)).astype(np.uint8),im_to_numpy((imwatermark[0]*255)).astype(np.uint8)\n",
        "\n",
        "          coarsenp = gray2color(np.array(ImageChops.difference(Image.fromarray(imcoarser),Image.fromarray(target)).convert('L')),jet_map)\n",
        "          finenp = gray2color(np.array(ImageChops.difference(Image.fromarray(imrefine),Image.fromarray(target)).convert('L')),jet_map)\n",
        "\n",
        "          imfinal = np.concatenate([ims1,np.concatenate([immask,imwatermark,coarsenp,finenp],axis=1)],axis=0)\n",
        "\n",
        "          plt.imshow(imfinal,vmin=0.0,vmax=255.0)"
      ],
      "execution_count": 3,
      "outputs": [
        {
          "output_type": "error",
          "ename": "FileNotFoundError",
          "evalue": "[Errno 2] No such file or directory: '/content/deep-blind-watermark-removal/val_images/image'",
          "traceback": [
            "\u001b[0;31m---------------------------------------------------------------------------\u001b[0m",
            "\u001b[0;31mFileNotFoundError\u001b[0m                         Traceback (most recent call last)",
            "\u001b[0;32m<ipython-input-3-a333d05767a3>\u001b[0m in \u001b[0;36m<cell line: 0>\u001b[0;34m()\u001b[0m\n\u001b[1;32m     55\u001b[0m                             'data':'_images'})\n\u001b[1;32m     56\u001b[0m \u001b[0;34m\u001b[0m\u001b[0m\n\u001b[0;32m---> 57\u001b[0;31m \u001b[0mval_loader\u001b[0m \u001b[0;34m=\u001b[0m \u001b[0mtorch\u001b[0m\u001b[0;34m.\u001b[0m\u001b[0mutils\u001b[0m\u001b[0;34m.\u001b[0m\u001b[0mdata\u001b[0m\u001b[0;34m.\u001b[0m\u001b[0mDataLoader\u001b[0m\u001b[0;34m(\u001b[0m\u001b[0mdatasets\u001b[0m\u001b[0;34m.\u001b[0m\u001b[0mCOCO\u001b[0m\u001b[0;34m(\u001b[0m\u001b[0;34m'val'\u001b[0m\u001b[0;34m,\u001b[0m\u001b[0mconfig\u001b[0m\u001b[0;34m=\u001b[0m\u001b[0mdata_config\u001b[0m\u001b[0;34m,\u001b[0m\u001b[0msample\u001b[0m\u001b[0;34m=\u001b[0m\u001b[0msamples\u001b[0m\u001b[0;34m)\u001b[0m\u001b[0;34m)\u001b[0m\u001b[0;34m\u001b[0m\u001b[0;34m\u001b[0m\u001b[0m\n\u001b[0m\u001b[1;32m     58\u001b[0m \u001b[0;34m\u001b[0m\u001b[0m\n\u001b[1;32m     59\u001b[0m \u001b[0mprint\u001b[0m\u001b[0;34m(\u001b[0m\u001b[0;34m'input          | target              | coarser            | final'\u001b[0m\u001b[0;34m)\u001b[0m\u001b[0;34m\u001b[0m\u001b[0;34m\u001b[0m\u001b[0m\n",
            "\u001b[0;32m/content/deep-blind-watermark-removal/scripts/datasets/COCO.py\u001b[0m in \u001b[0;36m__init__\u001b[0;34m(self, train, config, sample, gan_norm)\u001b[0m\n\u001b[1;32m     46\u001b[0m         \u001b[0mself\u001b[0m\u001b[0;34m.\u001b[0m\u001b[0mgan_norm\u001b[0m \u001b[0;34m=\u001b[0m \u001b[0mgan_norm\u001b[0m\u001b[0;34m\u001b[0m\u001b[0;34m\u001b[0m\u001b[0m\n\u001b[1;32m     47\u001b[0m         \u001b[0mmypath\u001b[0m \u001b[0;34m=\u001b[0m \u001b[0mjoin\u001b[0m\u001b[0;34m(\u001b[0m\u001b[0mself\u001b[0m\u001b[0;34m.\u001b[0m\u001b[0mbase_folder\u001b[0m\u001b[0;34m,\u001b[0m\u001b[0mself\u001b[0m\u001b[0;34m.\u001b[0m\u001b[0mdataset\u001b[0m\u001b[0;34m)\u001b[0m\u001b[0;34m\u001b[0m\u001b[0;34m\u001b[0m\u001b[0m\n\u001b[0;32m---> 48\u001b[0;31m         \u001b[0mfile_names\u001b[0m \u001b[0;34m=\u001b[0m \u001b[0msorted\u001b[0m\u001b[0;34m(\u001b[0m\u001b[0;34m[\u001b[0m\u001b[0mf\u001b[0m \u001b[0;32mfor\u001b[0m \u001b[0mf\u001b[0m \u001b[0;32min\u001b[0m \u001b[0mlistdir\u001b[0m\u001b[0;34m(\u001b[0m\u001b[0mjoin\u001b[0m\u001b[0;34m(\u001b[0m\u001b[0mmypath\u001b[0m\u001b[0;34m,\u001b[0m\u001b[0;34m'image'\u001b[0m\u001b[0;34m)\u001b[0m\u001b[0;34m)\u001b[0m \u001b[0;32mif\u001b[0m \u001b[0misfile\u001b[0m\u001b[0;34m(\u001b[0m\u001b[0mjoin\u001b[0m\u001b[0;34m(\u001b[0m\u001b[0mmypath\u001b[0m\u001b[0;34m,\u001b[0m\u001b[0;34m'image'\u001b[0m\u001b[0;34m,\u001b[0m \u001b[0mf\u001b[0m\u001b[0;34m)\u001b[0m\u001b[0;34m)\u001b[0m \u001b[0;34m]\u001b[0m\u001b[0;34m)\u001b[0m\u001b[0;34m\u001b[0m\u001b[0;34m\u001b[0m\u001b[0m\n\u001b[0m\u001b[1;32m     49\u001b[0m \u001b[0;34m\u001b[0m\u001b[0m\n\u001b[1;32m     50\u001b[0m         \u001b[0;32mif\u001b[0m \u001b[0mconfig\u001b[0m\u001b[0;34m.\u001b[0m\u001b[0mlimited_dataset\u001b[0m \u001b[0;34m>\u001b[0m \u001b[0;36m0\u001b[0m\u001b[0;34m:\u001b[0m\u001b[0;34m\u001b[0m\u001b[0;34m\u001b[0m\u001b[0m\n",
            "\u001b[0;31mFileNotFoundError\u001b[0m: [Errno 2] No such file or directory: '/content/deep-blind-watermark-removal/val_images/image'"
          ]
        }
      ]
    },
    {
      "cell_type": "code",
      "source": [
        "! gdown https://drive.google.com/uc?id=1KpSJ6385CHN6WlAINqB3CYrJdleQTJBc # get pretrained model\n",
        "! gdown https://drive.google.com/uc?id=18HaWfYYZCD34VttSjd2at8b9BKdhgVgU && unzip -q val.zip # get validation dataset (2.31G) of 27kpng\n",
        "! gdown https://drive.google.com/uc?id=1it5oQDRqRzBVieX6jKNmOxj1992f63yM && unzip -q natural.zip # get natural images (0.4G) of 27kpng"
      ],
      "metadata": {
        "id": "g0OPMVyHLfXT",
        "outputId": "4084de9f-54f4-48c2-9779-04e1c172034a",
        "colab": {
          "base_uri": "https://localhost:8080/"
        }
      },
      "execution_count": 5,
      "outputs": [
        {
          "output_type": "stream",
          "name": "stdout",
          "text": [
            "Downloading...\n",
            "From (original): https://drive.google.com/uc?id=1KpSJ6385CHN6WlAINqB3CYrJdleQTJBc\n",
            "From (redirected): https://drive.google.com/uc?id=1KpSJ6385CHN6WlAINqB3CYrJdleQTJBc&confirm=t&uuid=2f4ccefd-4f2e-4758-a1c9-c92ba222b4c7\n",
            "To: /content/27kpng_model_best.pth.tar\n",
            "100% 131M/131M [00:01<00:00, 74.3MB/s]\n",
            "Failed to retrieve file url:\n",
            "\n",
            "\tCannot retrieve the public link of the file. You may need to change\n",
            "\tthe permission to 'Anyone with the link', or have had many accesses.\n",
            "\tCheck FAQ in https://github.com/wkentaro/gdown?tab=readme-ov-file#faq.\n",
            "\n",
            "You may still be able to access the file from the browser:\n",
            "\n",
            "\thttps://drive.google.com/uc?id=18HaWfYYZCD34VttSjd2at8b9BKdhgVgU\n",
            "\n",
            "but Gdown can't. Please check connections and permissions.\n",
            "Downloading...\n",
            "From (original): https://drive.google.com/uc?id=1it5oQDRqRzBVieX6jKNmOxj1992f63yM\n",
            "From (redirected): https://drive.google.com/uc?id=1it5oQDRqRzBVieX6jKNmOxj1992f63yM&confirm=t&uuid=d5858d81-9794-4f3c-bd87-24e29378c347\n",
            "To: /content/natural.zip\n",
            "100% 443M/443M [00:03<00:00, 145MB/s]\n",
            "replace natural/COCO_val2014_000000067660-Burger_King_Logo-158.png? [y]es, [n]o, [A]ll, [N]one, [r]ename: Y\n",
            "replace __MACOSX/natural/._COCO_val2014_000000067660-Burger_King_Logo-158.png? [y]es, [n]o, [A]ll, [N]one, [r]ename: Y\n",
            "replace natural/COCO_val2014_000000266124-Japan_Airlines_Logo-144.png? [y]es, [n]o, [A]ll, [N]one, [r]ename: A\n",
            "A\n"
          ]
        }
      ]
    },
    {
      "cell_type": "code",
      "source": [
        "# watermark synthesis\n",
        "import os\n",
        "import random\n",
        "import shutil\n",
        "from PIL import Image\n",
        "import numpy as np\n",
        "\n",
        "def trans_paste(bg_img,fg_img,mask,box=(0,0)):\n",
        "    fg_img_trans = Image.new(\"RGBA\",bg_img.size)\n",
        "    fg_img_trans.paste(fg_img,box,mask=mask)\n",
        "    new_img = Image.alpha_composite(bg_img,fg_img_trans)\n",
        "    return new_img,fg_img_trans\n",
        "\n",
        "if os.path.isdir('dataset'):\n",
        "    shutil.rmtree('dataset')\n",
        "\n",
        "os.mkdir('dataset')\n",
        "BASE_IMG_DIR = '/Users/oishii/Downloads/val2014/'\n",
        "WATERMARK_DIR = 'logos' #1080\n",
        "images = sorted([os.path.join(BASE_IMG_DIR,x) for x in os.listdir(BASE_IMG_DIR) if '.jpg' in x])\n",
        "watermarks = sorted([os.path.join(WATERMARK_DIR,x).replace(' ','_') for x in os.listdir(WATERMARK_DIR) if '.png' in x])\n",
        "# rename all the watermark from replace ' ' to '_'\n",
        "\n",
        "random.shuffle(images)\n",
        "random.shuffle(watermarks)\n",
        "\n",
        "train_images = images[:int(len(images)*0.7)]\n",
        "val_images = images[int(len(images)*0.7):int(len(images)*0.8)]\n",
        "test_images = images[int(len(images)*0.8):]\n",
        "\n",
        "train_wms = watermarks[:int(len(watermarks)*0.7)]\n",
        "val_wms = watermarks[int(len(watermarks)*0.7):int(len(watermarks)*0.8)]\n",
        "test_wms = watermarks[int(len(watermarks)*0.8):]\n",
        "\n",
        "# save all the settings to file\n",
        "names = ['train_images','val_images','test_images','train_wms','val_wms','test_wms']\n",
        "lists = [train_images,val_images,test_images,train_wms,val_wms,test_wms]\n",
        "dataset = dict(zip(names, lists))\n",
        "\n",
        "for name,content in dataset.items():\n",
        "    with open('dataset/%s.txt'%name,'w') as f:\n",
        "        f.write(\"\\n\".join(content))\n",
        "\n",
        "print('SAVE ALL THE SETTING')\n",
        "\n",
        "for name, images in dataset.items():\n",
        "    if 'images' not in name:\n",
        "        continue\n",
        "    # for each setting, synthesis the watermark\n",
        "    # for each image, add X(X=6) watermark in differnet position, alpha,\n",
        "    # save the synthesized image, watermark mask, reshaped mask,\n",
        "    save_path = 'dataset/%s/'%name\n",
        "    os.makedirs('%s/image'%(save_path))\n",
        "    os.makedirs('%s/mask'%(save_path))\n",
        "    os.makedirs('%s/wm'%(save_path))\n",
        "\n",
        "    for img in images:\n",
        "        im = Image.open(img).convert('RGBA')\n",
        "        imw,imh = im.size\n",
        "\n",
        "        for wmg in random.choices(dataset[name.replace('images','wms')],k=6):\n",
        "            wm = Image.open(wmg.replace('_',' ')).convert(\"RGBA\") # RGBA\n",
        "            # get the mask of wm\n",
        "            # data agumentation of wm\n",
        "            wm = wm.rotate(angle=random.randint(0,360),expand=True) # rotate\n",
        "\n",
        "            # make sure the\n",
        "            imrw = random.randrange(int(0.4*imw),int(0.8*imw))\n",
        "            imrh = random.randrange(int(0.4*imh),int(0.8*imh))\n",
        "            wmsize = imrh if imrw > imrh else imrw\n",
        "            wm = wm.resize((wmsize,wmsize),Image.BILINEAR)\n",
        "            w,h = wm.size # new size\n",
        "\n",
        "            box_left = random.randint(0,imw-w)\n",
        "            box_upper = random.randint(0,imh-h)\n",
        "            wmm = wm.copy()\n",
        "            wm.putalpha(random.randint(int(255*0.4),int(255*0.8))) # alpha\n",
        "\n",
        "            ims,wmc = trans_paste(im,wm,wmm,(box_left,box_upper))\n",
        "\n",
        "            wmnp = np.array(wmc) # h,w,3\n",
        "            mask = np.sum(wmnp,axis=2)>0\n",
        "            mm = Image.fromarray(np.uint8(mask*255),mode='L')\n",
        "\n",
        "            identifier = os.path.basename(img).split('.')[0] +'-'+os.path.basename(wmg).split('.')[0] + '.png'\n",
        "            # save\n",
        "            wmc.save('%s/wm/%s'%(save_path,identifier))\n",
        "            ims.save('%s/image/%s'%(save_path,identifier))\n",
        "            mm.save('%s/mask/%s'%(save_path,identifier))"
      ],
      "metadata": {
        "id": "Uh5ZbWUVL1zR",
        "outputId": "a8202272-ee7c-4d3d-ac34-b2016a7b2cc5",
        "colab": {
          "base_uri": "https://localhost:8080/",
          "height": 508
        }
      },
      "execution_count": 7,
      "outputs": [
        {
          "output_type": "error",
          "ename": "FileNotFoundError",
          "evalue": "[Errno 2] No such file or directory: '/Users/oishii/Downloads/val2014/'",
          "traceback": [
            "\u001b[0;31m---------------------------------------------------------------------------\u001b[0m",
            "\u001b[0;31mFileNotFoundError\u001b[0m                         Traceback (most recent call last)",
            "\u001b[0;32m<ipython-input-7-c2784df6c612>\u001b[0m in \u001b[0;36m<cell line: 0>\u001b[0;34m()\u001b[0m\n\u001b[1;32m     18\u001b[0m \u001b[0mBASE_IMG_DIR\u001b[0m \u001b[0;34m=\u001b[0m \u001b[0;34m'/Users/oishii/Downloads/val2014/'\u001b[0m\u001b[0;34m\u001b[0m\u001b[0;34m\u001b[0m\u001b[0m\n\u001b[1;32m     19\u001b[0m \u001b[0mWATERMARK_DIR\u001b[0m \u001b[0;34m=\u001b[0m \u001b[0;34m'logos'\u001b[0m \u001b[0;31m#1080\u001b[0m\u001b[0;34m\u001b[0m\u001b[0;34m\u001b[0m\u001b[0m\n\u001b[0;32m---> 20\u001b[0;31m \u001b[0mimages\u001b[0m \u001b[0;34m=\u001b[0m \u001b[0msorted\u001b[0m\u001b[0;34m(\u001b[0m\u001b[0;34m[\u001b[0m\u001b[0mos\u001b[0m\u001b[0;34m.\u001b[0m\u001b[0mpath\u001b[0m\u001b[0;34m.\u001b[0m\u001b[0mjoin\u001b[0m\u001b[0;34m(\u001b[0m\u001b[0mBASE_IMG_DIR\u001b[0m\u001b[0;34m,\u001b[0m\u001b[0mx\u001b[0m\u001b[0;34m)\u001b[0m \u001b[0;32mfor\u001b[0m \u001b[0mx\u001b[0m \u001b[0;32min\u001b[0m \u001b[0mos\u001b[0m\u001b[0;34m.\u001b[0m\u001b[0mlistdir\u001b[0m\u001b[0;34m(\u001b[0m\u001b[0mBASE_IMG_DIR\u001b[0m\u001b[0;34m)\u001b[0m \u001b[0;32mif\u001b[0m \u001b[0;34m'.jpg'\u001b[0m \u001b[0;32min\u001b[0m \u001b[0mx\u001b[0m\u001b[0;34m]\u001b[0m\u001b[0;34m)\u001b[0m\u001b[0;34m\u001b[0m\u001b[0;34m\u001b[0m\u001b[0m\n\u001b[0m\u001b[1;32m     21\u001b[0m \u001b[0mwatermarks\u001b[0m \u001b[0;34m=\u001b[0m \u001b[0msorted\u001b[0m\u001b[0;34m(\u001b[0m\u001b[0;34m[\u001b[0m\u001b[0mos\u001b[0m\u001b[0;34m.\u001b[0m\u001b[0mpath\u001b[0m\u001b[0;34m.\u001b[0m\u001b[0mjoin\u001b[0m\u001b[0;34m(\u001b[0m\u001b[0mWATERMARK_DIR\u001b[0m\u001b[0;34m,\u001b[0m\u001b[0mx\u001b[0m\u001b[0;34m)\u001b[0m\u001b[0;34m.\u001b[0m\u001b[0mreplace\u001b[0m\u001b[0;34m(\u001b[0m\u001b[0;34m' '\u001b[0m\u001b[0;34m,\u001b[0m\u001b[0;34m'_'\u001b[0m\u001b[0;34m)\u001b[0m \u001b[0;32mfor\u001b[0m \u001b[0mx\u001b[0m \u001b[0;32min\u001b[0m \u001b[0mos\u001b[0m\u001b[0;34m.\u001b[0m\u001b[0mlistdir\u001b[0m\u001b[0;34m(\u001b[0m\u001b[0mWATERMARK_DIR\u001b[0m\u001b[0;34m)\u001b[0m \u001b[0;32mif\u001b[0m \u001b[0;34m'.png'\u001b[0m \u001b[0;32min\u001b[0m \u001b[0mx\u001b[0m\u001b[0;34m]\u001b[0m\u001b[0;34m)\u001b[0m\u001b[0;34m\u001b[0m\u001b[0;34m\u001b[0m\u001b[0m\n\u001b[1;32m     22\u001b[0m \u001b[0;31m# rename all the watermark from replace ' ' to '_'\u001b[0m\u001b[0;34m\u001b[0m\u001b[0;34m\u001b[0m\u001b[0m\n",
            "\u001b[0;31mFileNotFoundError\u001b[0m: [Errno 2] No such file or directory: '/Users/oishii/Downloads/val2014/'"
          ]
        }
      ]
    }
  ]
}