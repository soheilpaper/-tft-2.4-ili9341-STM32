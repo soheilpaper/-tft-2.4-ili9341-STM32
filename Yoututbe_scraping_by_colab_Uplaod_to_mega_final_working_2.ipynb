{
  "nbformat": 4,
  "nbformat_minor": 0,
  "metadata": {
    "colab": {
      "name": "Yoututbe scraping by colab",
      "provenance": [],
      "collapsed_sections": [],
      "history_visible": true,
      "authorship_tag": "ABX9TyOMABKE4sHaxed2C21LCrdS",
      "include_colab_link": true
    },
    "kernelspec": {
      "name": "python3",
      "display_name": "Python 3"
    }
  },
  "cells": [
    {
      "cell_type": "markdown",
      "metadata": {
        "id": "view-in-github",
        "colab_type": "text"
      },
      "source": [
        "<a href=\"https://colab.research.google.com/github/soheilpaper/-tft-2.4-ili9341-STM32/blob/master/Yoututbe_scraping_by_colab_Uplaod_to_mega_final_working_2.ipynb\" target=\"_parent\"><img src=\"https://colab.research.google.com/assets/colab-badge.svg\" alt=\"Open In Colab\"/></a>"
      ]
    },
    {
      "cell_type": "markdown",
      "metadata": {
        "id": "aZmvGLz222nf"
      },
      "source": [
        "# The main function for scrapin the car type video from the **countries_label.txt** file and download data by youtube-dl comand for each line of that txt file"
      ]
    },
    {
      "cell_type": "code",
      "metadata": {
        "id": "e3P8X9J-NyY3",
        "colab": {
          "base_uri": "https://localhost:8080/"
        },
        "outputId": "6bdf2ab3-ed81-4740-bcb0-ec1dfff72069"
      },
      "source": [
        "!pip install youtube-dl \n",
        "!apt install python3-distutils   \n",
        "!pip install mega.py\n",
        "!apt install python3-distutils  -y\n",
        "\n",
        "# %cd '/content/'\n",
        "# !git clone https://github.com/jeroenmeulenaar/python3-mega.git\n",
        "# !(cd python3-mega; pip install urlobject pycrypto)\n",
        "\n",
        "# import os\n",
        "# os.chdir('python3-mega')\n",
        "# from mega import Mega\n",
        "# os.chdir('../')\n",
        "# m = Mega.from_ephemeral()\n",
        "\n",
        "# !git clone https://github.com/odwyersoftware/mega.py\n",
        "# %cd mega.py\n",
        "# !python setup.py install\n",
        "%cd '/content/'\n",
        "\n",
        "!rm -rf '/content/yoloOnGoogleColab'\n",
        "!git clone https://github.com/CAR-Driving/yoloOnGoogleColab\n",
        "\n"
      ],
      "execution_count": 1,
      "outputs": [
        {
          "output_type": "stream",
          "name": "stdout",
          "text": [
            "Collecting youtube-dl\n",
            "  Downloading youtube_dl-2021.6.6-py2.py3-none-any.whl (1.9 MB)\n",
            "\u001b[K     |████████████████████████████████| 1.9 MB 4.3 MB/s \n",
            "\u001b[?25hInstalling collected packages: youtube-dl\n",
            "Successfully installed youtube-dl-2021.6.6\n",
            "Reading package lists... Done\n",
            "Building dependency tree       \n",
            "Reading state information... Done\n",
            "python3-distutils is already the newest version (3.6.9-1~18.04).\n",
            "python3-distutils set to manually installed.\n",
            "0 upgraded, 0 newly installed, 0 to remove and 37 not upgraded.\n",
            "Collecting mega.py\n",
            "  Downloading mega.py-1.0.8-py2.py3-none-any.whl (19 kB)\n",
            "Collecting tenacity<6.0.0,>=5.1.5\n",
            "  Downloading tenacity-5.1.5-py2.py3-none-any.whl (34 kB)\n",
            "Requirement already satisfied: requests>=0.10 in /usr/local/lib/python3.7/dist-packages (from mega.py) (2.23.0)\n",
            "Requirement already satisfied: pathlib==1.0.1 in /usr/local/lib/python3.7/dist-packages (from mega.py) (1.0.1)\n",
            "Collecting pycryptodome<4.0.0,>=3.9.6\n",
            "  Downloading pycryptodome-3.11.0-cp35-abi3-manylinux2010_x86_64.whl (1.9 MB)\n",
            "\u001b[K     |████████████████████████████████| 1.9 MB 7.5 MB/s \n",
            "\u001b[?25hRequirement already satisfied: urllib3!=1.25.0,!=1.25.1,<1.26,>=1.21.1 in /usr/local/lib/python3.7/dist-packages (from requests>=0.10->mega.py) (1.24.3)\n",
            "Requirement already satisfied: chardet<4,>=3.0.2 in /usr/local/lib/python3.7/dist-packages (from requests>=0.10->mega.py) (3.0.4)\n",
            "Requirement already satisfied: certifi>=2017.4.17 in /usr/local/lib/python3.7/dist-packages (from requests>=0.10->mega.py) (2021.5.30)\n",
            "Requirement already satisfied: idna<3,>=2.5 in /usr/local/lib/python3.7/dist-packages (from requests>=0.10->mega.py) (2.10)\n",
            "Requirement already satisfied: six>=1.9.0 in /usr/local/lib/python3.7/dist-packages (from tenacity<6.0.0,>=5.1.5->mega.py) (1.15.0)\n",
            "Installing collected packages: tenacity, pycryptodome, mega.py\n",
            "Successfully installed mega.py-1.0.8 pycryptodome-3.11.0 tenacity-5.1.5\n",
            "Reading package lists... Done\n",
            "Building dependency tree       \n",
            "Reading state information... Done\n",
            "python3-distutils is already the newest version (3.6.9-1~18.04).\n",
            "0 upgraded, 0 newly installed, 0 to remove and 37 not upgraded.\n",
            "/content\n",
            "Cloning into 'yoloOnGoogleColab'...\n",
            "remote: Enumerating objects: 304, done.\u001b[K\n",
            "remote: Counting objects: 100% (44/44), done.\u001b[K\n",
            "remote: Compressing objects: 100% (44/44), done.\u001b[K\n",
            "remote: Total 304 (delta 28), reused 0 (delta 0), pack-reused 260\u001b[K\n",
            "Receiving objects: 100% (304/304), 43.44 MiB | 23.50 MiB/s, done.\n",
            "Resolving deltas: 100% (176/176), done.\n"
          ]
        }
      ]
    },
    {
      "cell_type": "code",
      "metadata": {
        "colab": {
          "base_uri": "https://localhost:8080/"
        },
        "id": "_8emtxVsMunS",
        "outputId": "83793ad2-c67a-44d0-ba19-610a659bd4e7"
      },
      "source": [
        "# !youtube-dl ytsearch100:'(enviromental|cop26|earth)' --match-title 'usa' --write-info-json --write-annotation --write-thumbnail --write-sub -f 'best[ext=mp4,height<=1080]+best[filesize<100M]' \n",
        "\n"
      ],
      "execution_count": null,
      "outputs": [
        {
          "output_type": "stream",
          "name": "stdout",
          "text": [
            "[download] Downloading playlist: (enviromental|cop26|earth)\n",
            "[youtube:search] query \"(enviromental|cop26|earth)\": Downloading page 1\n",
            "[youtube:search] query \"(enviromental|cop26|earth)\": Downloading page 2\n",
            "[youtube:search] query \"(enviromental|cop26|earth)\": Downloading page 3\n",
            "[youtube:search] query \"(enviromental|cop26|earth)\": Downloading page 4\n",
            "[youtube:search] query \"(enviromental|cop26|earth)\": Downloading page 5\n",
            "[youtube:search] query \"(enviromental|cop26|earth)\": Downloading page 6\n",
            "[youtube:search] playlist (enviromental|cop26|earth): Downloading 100 videos\n",
            "[download] Downloading video 1 of 100\n",
            "[download] \"When The World Gets 1℃ Hotter | Climate Change: The Facts | BBC Earth\" title did not match pattern \"usa\"\n",
            "[download] Downloading video 2 of 100\n",
            "[download] \"CALLING ALL BLINKS: CLIMATE ACTION IN YOUR AREA! #COP26\" title did not match pattern \"usa\"\n",
            "[download] Downloading video 3 of 100\n",
            "[download] \"World leaders open Cop26 with climate crisis warning: 'Digging our own graves'\" title did not match pattern \"usa\"\n",
            "[download] Downloading video 4 of 100\n",
            "[download] \"Biden attacks China and Russia for missing COP26 - BBC News\" title did not match pattern \"usa\"\n",
            "[download] Downloading video 5 of 100\n",
            "[download] \"COP26: Opening Ceremony - World Leaders Summit\" title did not match pattern \"usa\"\n",
            "[download] Downloading video 6 of 100\n",
            "[download] \"COP26 LIVE - World Leader’s Summit, Opening Ceremony  | Climate Action | United Nations\" title did not match pattern \"usa\"\n",
            "[download] Downloading video 7 of 100\n",
            "[download] \"#COP26: Forests and Land-Use Narrated by David Attenborough\" title did not match pattern \"usa\"\n",
            "[download] Downloading video 8 of 100\n",
            "[download] \"PM Modi announces 2070 target for India at COP26 climate meet in Glasgow: 'Net zero emissions…'\" title did not match pattern \"usa\"\n",
            "[download] Downloading video 9 of 100\n",
            "[download] \"The Queen’s speech at the COP26 Evening Reception\" title did not match pattern \"usa\"\n",
            "[download] Downloading video 10 of 100\n",
            "[download] \"LIVE: President Biden addresses delegates at COP26 climate summit— 11/1/2021\" title did not match pattern \"usa\"\n",
            "[download] Downloading video 11 of 100\n",
            "[download] \"World leaders arrive in Glasgow for 'last chance' COP26 climate summit\" title did not match pattern \"usa\"\n",
            "[download] Downloading video 12 of 100\n",
            "[download] \"COP26: Opening of the Conference\" title did not match pattern \"usa\"\n",
            "[download] Downloading video 13 of 100\n",
            "[download] \"Watch Sir David Attenborough's full COP26 speech\" title did not match pattern \"usa\"\n",
            "[download] Downloading video 14 of 100\n",
            "[download] \"WATCH: Biden speaks at COP26 climate summit in Glasgow\" title did not match pattern \"usa\"\n",
            "[download] Downloading video 15 of 100\n",
            "[download] \"Activists doubt promises outlined at COP26 climate summit\" title did not match pattern \"usa\"\n",
            "[download] Downloading video 16 of 100\n",
            "[download] \"COP26: \"By 2070 India will achieve the target of net-zero emissions,\" Modi says | DW News\" title did not match pattern \"usa\"\n",
            "[download] Downloading video 17 of 100\n",
            "[download] \"WATCH: Britain's Prince Charles gives statement at COP26 climate summit in Glasgow\" title did not match pattern \"usa\"\n",
            "[download] Downloading video 18 of 100\n",
            "[download] \"Speech: Mia Mottley, Prime Minister of Barbados at the Opening of the #COP26 World Leaders Summit\" title did not match pattern \"usa\"\n",
            "[download] Downloading video 19 of 100\n",
            "[download] \"WATCH: Sir David Attenborough gives statement at COP26 climate summit in Glasgow\" title did not match pattern \"usa\"\n",
            "[download] Downloading video 20 of 100\n",
            "[download] \"Greta Thunberg to world leaders at COP26: \"You can shove your climate crisis up your arse!\"\" title did not match pattern \"usa\"\n",
            "[download] Downloading video 21 of 100\n",
            "[download] \"COP26 explained: Can a climate change conference save the planet?\" title did not match pattern \"usa\"\n",
            "[download] Downloading video 22 of 100\n",
            "[download] \"Attenborough tells COP26 conference delegates: 'The world is looking to you' - BBC News\" title did not match pattern \"usa\"\n",
            "[download] Downloading video 23 of 100\n",
            "[download] \"PM Modi at COP26 Summit Glasgow key highlights - What is Panchamrit? UPSC GS Paper 3 Climate Change\" title did not match pattern \"usa\"\n",
            "[download] Downloading video 24 of 100\n",
            "[download] \"COP26 opens in Glasgow with G20 leaders fuzzy on climate goals | DW News\" title did not match pattern \"usa\"\n",
            "[download] Downloading video 25 of 100\n",
            "[download] \"Are the voices of young people being heard at COP26? | DW News\" title did not match pattern \"usa\"\n",
            "[download] Downloading video 26 of 100\n",
            "[download] \"National Statement by PM Modi at COP26 Summit in Glasgow\" title did not match pattern \"usa\"\n",
            "[download] Downloading video 27 of 100\n",
            "[download] \"LIVE: Biden Holds Press Conference Before Departing COP26 | NBC News\" title did not match pattern \"usa\"\n",
            "[download] Downloading video 28 of 100\n",
            "[download] \"Watch Sir David Attenborough's powerful speech to leaders at COP26\" title did not match pattern \"usa\"\n",
            "[download] Downloading video 29 of 100\n",
            "[download] \"PM Modi's remarks at COP26 Summit in Glasgow\" title did not match pattern \"usa\"\n",
            "[download] Downloading video 30 of 100\n",
            "[download] \"Watch live: Full coverage of the COP26 summit\" title did not match pattern \"usa\"\n",
            "[download] Downloading video 31 of 100\n",
            "[download] \"Watch UK PM Johnson's full COP26 opening address\" title did not match pattern \"usa\"\n",
            "[download] Downloading video 32 of 100\n",
            "[download] \"COP26: Pikachu protesters call on Japan to stop using coal\" title did not match pattern \"usa\"\n",
            "[download] Downloading video 33 of 100\n",
            "[download] \"COP26: Jeff Bezos on the world's 'fragility'\" title did not match pattern \"usa\"\n",
            "[download] Downloading video 34 of 100\n",
            "[download] \"Cop26: 'You might as well bomb us,' says president of Palau\" title did not match pattern \"usa\"\n",
            "[download] Downloading video 35 of 100\n",
            "[download] \"PM Narendra Modi speaks at #COP26 World Leaders' Summit in Glasgow, Scotland.\" title did not match pattern \"usa\"\n",
            "[download] Downloading video 36 of 100\n",
            "[download] \"Gravitas | COP26: Climate action or climate hypocrisy?\" title did not match pattern \"usa\"\n",
            "[download] Downloading video 37 of 100\n",
            "[download] \"COP26: The Queen urges world leaders to act on climate change - watch in full\" title did not match pattern \"usa\"\n",
            "[download] Downloading video 38 of 100\n",
            "[download] \"Earth To COP | #COP26 | UN Climate Change\" title did not match pattern \"usa\"\n",
            "[download] Downloading video 39 of 100\n",
            "[download] \"Biden blasts China, Russia for not 'showing up' at COP26\" title did not match pattern \"usa\"\n",
            "[download] Downloading video 40 of 100\n",
            "[download] \"Gravitas | COP26: India sets 2070 Net Zero Target\" title did not match pattern \"usa\"\n",
            "[download] Downloading video 41 of 100\n",
            "[download] \"World leaders make statements at Cop26 in Glasgow – watch live\" title did not match pattern \"usa\"\n",
            "[download] Downloading video 42 of 100\n",
            "[download] \"Prince William's Powerful Climate Speech at COP26\" title did not match pattern \"usa\"\n",
            "[download] Downloading video 43 of 100\n",
            "[download] \"Are There Aliens on Venus? | Planet Explorers | BBC Earth\" title did not match pattern \"usa\"\n",
            "[download] Downloading video 44 of 100\n",
            "[download] \"Act now for our children, Queen urges climate summit 🌍 COP26 @BBC News live 🔴 BBC\" title did not match pattern \"usa\"\n",
            "[download] Downloading video 45 of 100\n",
            "[download] \"COP26: Climate activists out in force as Glasgow summit begins\" title did not match pattern \"usa\"\n",
            "[download] Downloading video 46 of 100\n",
            "[download] \"Greta Thunberg mobbed by fans in Glasgow ahead of the Cop26 summit | ITV News\" title did not match pattern \"usa\"\n",
            "[download] Downloading video 47 of 100\n",
            "[download] \"Live: COP26 climate conference opening ceremony | ITV News\" title did not match pattern \"usa\"\n",
            "[download] Downloading video 48 of 100\n",
            "[download] \"Narendra Modi leaves Rome for Glasgow to attend COP26 summit\" title did not match pattern \"usa\"\n",
            "[download] Downloading video 49 of 100\n",
            "[download] \"Innovating finance for weather & climate observations | #COP26 High-Level Event | Climate Action\" title did not match pattern \"usa\"\n",
            "[download] Downloading video 50 of 100\n",
            "[download] \"UK Prime Minister Boris Johnson speaks with Amanpour at COP26 summit\" title did not match pattern \"usa\"\n",
            "[download] Downloading video 51 of 100\n",
            "[download] \"Opening day of COP26 in Scotland - 11/1 (FULL LIVE STREAM)\" title did not match pattern \"usa\"\n",
            "[download] Downloading video 52 of 100\n",
            "[download] \"Climate at one minute to midnight, Boris Johnson 🌍 COP26 @BBC News live 🔴 BBC\" title did not match pattern \"usa\"\n",
            "[download] Downloading video 53 of 100\n",
            "[download] \"Gravitas: China's explanation for skipping COP26\" title did not match pattern \"usa\"\n",
            "[download] Downloading video 54 of 100\n",
            "[download] \"PM Modi with leaders of Fiji, Jamaica and Mauritius at COP26 summit in Glasgow\" title did not match pattern \"usa\"\n",
            "[download] Downloading video 55 of 100\n",
            "[download] \"Perspective : COP26 - Need for Climate Equity\" title did not match pattern \"usa\"\n",
            "[download] Downloading video 56 of 100\n",
            "[download] \"COP26 Climate Summit: Special Report, Day 2\" title did not match pattern \"usa\"\n",
            "[download] Downloading video 57 of 100\n",
            "[download] \"PM’s diplomatic rift with France a distraction from COP26 agenda | 9 News Australia\" title did not match pattern \"usa\"\n",
            "[download] Downloading video 58 of 100\n",
            "[download] \"Alok Sharma: Why COP26 is our best chance for a greener future | TED\" title did not match pattern \"usa\"\n",
            "[download] Downloading video 59 of 100\n",
            "[download] \"BLACKPINK Talks Climate Change  | Dear Earth\" title did not match pattern \"usa\"\n",
            "[download] Downloading video 60 of 100\n",
            "[download] \"PM Narendra Modi with world leaders at COP26 summit in Glasgow, UK\" title did not match pattern \"usa\"\n",
            "[download] Downloading video 61 of 100\n",
            "[download] \"LIVE: Heads of state address U.N. Climate Change Conference #COP26\" title did not match pattern \"usa\"\n",
            "[download] Downloading video 62 of 100\n",
            "[download] \"Cop26 live: world leaders make statements in Glasgow – watch live\" title did not match pattern \"usa\"\n",
            "[download] Downloading video 63 of 100\n",
            "[download] \"Watch PM Trudeau's speech at the COP26 climate summit\" title did not match pattern \"usa\"\n",
            "[download] Downloading video 64 of 100\n",
            "[download] \"Lil Dicky - Earth (Official Music Video)\" title did not match pattern \"usa\"\n",
            "[download] Downloading video 65 of 100\n",
            "[download] \"Second day of COP26 in Scotland, including Biden's news conference - 11/2 (FULL LIVE STREAM)\" title did not match pattern \"usa\"\n",
            "[download] Downloading video 66 of 100\n",
            "[download] \"Joe Biden accused of falling asleep during Cop26 climate summit speeches\" title did not match pattern \"usa\"\n",
            "[download] Downloading video 67 of 100\n",
            "[download] \"Joe Biden appears to fall asleep during COP26 speeches\" title did not match pattern \"usa\"\n",
            "[download] Downloading video 68 of 100\n",
            "[download] \"CALLING ALL BLINKS: CLIMATE ACTION IN YOUR AREA! #COP26\" title did not match pattern \"usa\"\n",
            "[download] Downloading video 69 of 100\n",
            "[download] \"President Joe Biden speaks at the Cop26 conference – watch live\" title did not match pattern \"usa\"\n",
            "[download] Downloading video 70 of 100\n",
            "[download] \"Lil Dicky - Earth (CLEAN CENSORED VERSION)\" title did not match pattern \"usa\"\n",
            "[download] Downloading video 71 of 100\n",
            "[youtube] PnRcnWRH0eA: Downloading webpage\n",
            "\u001b[0;33mWARNING:\u001b[0m There are no annotations to write.\n",
            "[info] Writing video description metadata as JSON to: Biden faces accusations of hypocrisy after travelling to Cop26 in huge motorcade and private plane-PnRcnWRH0eA.info.json\n",
            "[youtube] PnRcnWRH0eA: Downloading thumbnail ...\n",
            "[youtube] PnRcnWRH0eA: Writing thumbnail to: Biden faces accusations of hypocrisy after travelling to Cop26 in huge motorcade and private plane-PnRcnWRH0eA.webp\n",
            "[download] Destination: Biden faces accusations of hypocrisy after travelling to Cop26 in huge motorcade and private plane-PnRcnWRH0eA.f22.mp4\n",
            "\u001b[K[download]  14.7% of 11.63MiB at 48.73KiB/s ETA 03:28"
          ]
        }
      ]
    },
    {
      "cell_type": "code",
      "metadata": {
        "id": "h74AgWq7rFkJ",
        "colab": {
          "base_uri": "https://localhost:8080/"
        },
        "outputId": "de7e1eab-711a-4451-8958-ac03ad6d37be"
      },
      "source": [
        "#@title\n",
        "# @markdown <center><h3>Input Your Mega ID</h3></center><br>\n",
        "from functools import wraps\n",
        "import errno\n",
        "import os\n",
        "import signal\n",
        "import subprocess\n",
        "import shlex\n",
        "\n",
        "\n",
        "class TimeoutError(Exception):\n",
        "    pass\n",
        "\n",
        "\n",
        "def timeout(seconds=10, error_message=os.strerror(errno.ETIME)):\n",
        "    def decorator(func):\n",
        "        def _handle_timeout(signum, frame):\n",
        "            raise TimeoutError(error_message)\n",
        "\n",
        "        def wrapper(*args, **kwargs):\n",
        "            signal.signal(signal.SIGALRM, _handle_timeout)\n",
        "            signal.alarm(seconds)\n",
        "            try:\n",
        "                result = func(*args, **kwargs)\n",
        "            finally:\n",
        "                signal.alarm(0)\n",
        "            return result\n",
        "\n",
        "        return wraps(func)(wrapper)\n",
        "\n",
        "    return decorator\n",
        "\n",
        "\n",
        "if not os.path.exists(\"/root/.ipython/ocr.py\"):\n",
        "    from subprocess import run\n",
        "    from shlex import split\n",
        "\n",
        "    shellCmd = \"wget -qq https://raw.githubusercontent.com/biplobsd/OneClickRun/master/res/ocr.py \\\n",
        "                    -O /root/.ipython/ocr.py\"\n",
        "    run(split(shellCmd))\n",
        "from ocr import runSh\n",
        "\n",
        "@timeout(10)\n",
        "def runShT(args):\n",
        "    return runSh(args, output=True)\n",
        "\n",
        "\n",
        "# MEGAcmd installing\n",
        "if not os.path.exists(\"/usr/bin/mega-cmd\"):\n",
        "    print(\"Installing MEGA ...\")\n",
        "    runSh('sudo apt-get -y update')\n",
        "    runSh('sudo apt-get -y install libmms0 libc-ares2 libc6 libcrypto++6 libgcc1 libmediainfo0v5 libpcre3 libpcrecpp0v5 libssl1.1 libstdc++6 libzen0v5 zlib1g apt-transport-https')\n",
        "    runSh('sudo curl -sL -o /var/cache/apt/archives/MEGAcmd.deb https://mega.nz/linux/MEGAsync/Debian_9.0/amd64/megacmd-Debian_9.0_amd64.deb', output=True)\n",
        "    runSh('sudo dpkg -i /var/cache/apt/archives/MEGAcmd.deb', output=True)\n",
        "    print(\"MEGA is installed.\")\n",
        "else:\n",
        "    !pkill mega-cmd\n",
        "\n",
        "# INPUT YOUR MEGA ID\n",
        "\n",
        "USERNAME = 'zigotijy@musiccode.me'  # @param {type:\"string\"}\n",
        "PASSWORD = \"https://mega.nz/register\"  # @param {type:\"string\"}\n",
        "if not (USERNAME == \"\" or PASSWORD == \"\"):\n",
        "    try:\n",
        "        runShT(f\"mega-login {USERNAME} {PASSWORD}\")\n",
        "    except TimeoutError:\n",
        "        runSh('mega-whoami', output=True)\n",
        "else:\n",
        "    print(\"Please Input your Mega IDs.\")\n",
        "# @markdown *After signing in, use the above cell(Main Cell) to transfer files from Mega to GDrive using the transfer quota of your Mega Pro Account*"
      ],
      "execution_count": 1,
      "outputs": [
        {
          "metadata": {
            "tags": null
          },
          "name": "stdout",
          "output_type": "stream",
          "text": [
            "Installing MEGA ...\n",
            "Selecting previously unselected package megacmd.\n",
            "(Reading database ... 155255 files and directories currently installed.)\n",
            "Preparing to unpack .../cache/apt/archives/MEGAcmd.deb ...\n",
            "Unpacking megacmd (1.4.0-3.1) ...\n",
            "Setting up megacmd (1.4.0-3.1) ...\n",
            "MEGA is installed.\n",
            "[Initiating server in background. Log: /root/.megaCmd/megacmdserver.log]\n",
            "Account e-mail: zigotijy@musiccode.me\n"
          ]
        }
      ]
    },
    {
      "cell_type": "code",
      "metadata": {
        "colab": {
          "base_uri": "https://localhost:8080/"
        },
        "id": "EqtWDs9J9sUF",
        "outputId": "37763113-9a63-49e0-a81c-84f26feb4370"
      },
      "source": [
        "import requests\n",
        "\n",
        "example_txt = 'https://gist.github.com/soheilpaper/d1f7bcb20ad056b3173336a20e3a6263/archive/b291d58154c85dad840859fef4e63efb163005b0.zip'\n",
        "\n",
        "r = requests.get(example_txt)\n",
        "with open('/content/yoloOnGoogleColab/contries_label.zip', 'wb') as f:\n",
        "    f.write(r.content)\n",
        "!unzip /content/yoloOnGoogleColab/contries_label.zip\n",
        "!cp '/content/d1f7bcb20ad056b3173336a20e3a6263-b291d58154c85dad840859fef4e63efb163005b0/list-of-countries.txt' '/content/yoloOnGoogleColab/contries_label.txt'"
      ],
      "execution_count": 3,
      "outputs": [
        {
          "output_type": "stream",
          "name": "stdout",
          "text": [
            "Archive:  /content/yoloOnGoogleColab/contries_label.zip\n",
            "b291d58154c85dad840859fef4e63efb163005b0\n",
            "   creating: d1f7bcb20ad056b3173336a20e3a6263-b291d58154c85dad840859fef4e63efb163005b0/\n",
            "  inflating: d1f7bcb20ad056b3173336a20e3a6263-b291d58154c85dad840859fef4e63efb163005b0/list-of-countries.txt  \n"
          ]
        }
      ]
    },
    {
      "cell_type": "code",
      "metadata": {
        "id": "Gu60EjWBB6s_"
      },
      "source": [
        "# !youtube-dl ytsearch20:recipe --match-title '(enviromental|cop26|save the earth)'\n",
        "# !youtube-dl \"ytsearch1:(enviromental|cop26|save the earth)\"\n"
      ],
      "execution_count": 4,
      "outputs": []
    },
    {
      "cell_type": "code",
      "metadata": {
        "id": "D_cTa8uxZWbP"
      },
      "source": [
        "!rm -rf '/content/yolo_car_database'\n",
        "!mkdir '/content/yolo_car_database'\n",
        "%cd '/content/yolo_car_database'\n",
        "!echo 't' >> t.txt\n",
        "\n",
        "from subprocess import Popen, PIPE\n",
        "import shlex\n",
        "import errno, os\n",
        "\n",
        "from subprocess import Popen, PIPE\n",
        "import shlex\n",
        "from ocr import runSh\n",
        "import re\n",
        "from distutils.dir_util import copy_tree\n",
        "\n",
        "# copy subdirectory example\n",
        "fromDirectory = '/content/yolo_car_database/'\n",
        "toDirectory = '/content/gdrive/My Drive/yolo_car_database/'\n",
        "\n",
        "runSh('mega-cd /' )\n",
        "runSh(' mega-mkdir Yolo_car_database ')\n",
        "runSh(' mega-ls ')\n",
        "runSh('mega-cd Yolo_car_database ')\n",
        "\n",
        "# copy_tree(fromDirectory, toDirectory)\n",
        "def uplaod_mega_nz(root,cloude='google_drive',title1=''):\n",
        " if (cloude=='mega'):\n",
        "  #  from mega import Mega\n",
        "  #  mega = Mega()\n",
        "  #  email = 'woraqofa@ivyandmarj.com'\n",
        "  #  password = 'feripas800@wgraj.com'\n",
        "  #  m = mega.login(email, password)\n",
        "  #  # login using a temporary anonymous account\n",
        "  #  m = mega.login()\n",
        "  #  quota = m.get_quota()\n",
        "  #  # specify unit output kilo, mega, gig, else bytes will output\n",
        "  #  space = m.get_storage_space(kilo=True)\n",
        "  #  m.create_folder('yolo_car_database/'+title1+'/')\n",
        "  #  folder = m.find('yolo_car_database/'+title1+'/')\n",
        "   # m.upload('myfile.doc', folder[0])\n",
        "  #  run_command('mega-cd ~ && mega-mkdir Yolo_car_database && mega-cd Yolo_car_database && mega-put '+ root+'/* . ')\n",
        "  \n",
        "   runSh('mega-cd Yolo_car_database' + title1 + '/')\n",
        "   runSh('mega-put '+ root+' . ')\n",
        "   runSh(' mega-ls')\n",
        "\n",
        "   for path, subdirs, files in os.walk( root):\n",
        "      for name in files:\n",
        "        print (files)\n",
        "          # m.upload(os.path.join(path, name), folder[0])\n",
        "   # public_exported_web_link = m.export('myfile.doc')\n",
        "   # public_exported_web_link = m.export('my_mega_folder/my_sub_folder_to_share')\n",
        " if (cloude=='google_drive'):\n",
        "     run_command('mkdir '+root+'/')\n",
        "     for path, subdirs, files in os.walk( root):\n",
        "      for name in files:\n",
        "        # print ('cp -r \"'+os.path.join(path, name)+'\" '+'\"/content/gdrive/My Drive/yolo_car_database/' + title1 + '/\"')\n",
        "        # print (os.path.join(path, change_name(name)))       \n",
        "        # os.rename(os.path.join(path, name), os.path.join(path, change_name(name)))\n",
        "        run_command('cp -r  \"'+os.path.join(path, name)+'\" '+'\"/content/gdrive/My Drive/yolo_car_database/' + title1 + '/\"')\n",
        "     try:\n",
        "        copy_tree(root,'/content/gdrive/My Drive/yolo_car_database/' + title1 + '/')\n",
        "     except OSError as e: # this would be \"except OSError, e:\" before Python 2.6\n",
        "        if e.errno != errno.ENOENT: # errno.ENOENT = no such file or directory\n",
        "            # raise #\n",
        "            i=0   \n",
        "def change_file_name(root):\n",
        "  for path, subdirs, files in os.walk( root):\n",
        "      for name in files:\n",
        "        print ('filename is: \"'+os.path.join(path, name))\n",
        "        print (os.path.join(path, change_name(name)))       \n",
        "        os.rename(os.path.join(path, name), os.path.join(path, change_name(name)))\n",
        "\n",
        "def run_command(cmd):\n",
        "    with Popen(shlex.split(cmd), stdout=PIPE, bufsize=1, universal_newlines=False) as p:\n",
        "        while True:\n",
        "            line = p.stdout.readline()\n",
        "            if not line:\n",
        "                break\n",
        "            print(line)    \n",
        "        exit_code = p.poll()\n",
        "    return exit_code\n",
        "def change_name(name):\n",
        "    name_file = ''.join(name)\n",
        "    name_file = name_file.replace(\" \", \"_\")\n",
        "    name_file = name_file.replace(\"'\", \"_\")\n",
        "    name_file = name_file.replace(\"\\n\", \"\")\n",
        "    name_file = name_file.replace(\"\\t\", \"\")\n",
        "    name_file = name_file.replace(\"!\", \"\")\n",
        "    name_file = name_file.replace(\"-\", \"\")\n",
        "    name_file = name_file.replace(\"$\", \"\")\n",
        "    name_file = re.sub(r'[\\\\/*?:\"<>|]',\"\",name_file)\n",
        "    return name_file\n",
        "def Youtube_download_video(command):\n",
        "    # command_title=re.split('([^a-zA-Z0-9])',command)\n",
        "    command_title_1 = re.split('([^a-zA-Z0-9])', command)\n",
        "    command_title = ''.join(command_title_1)\n",
        "    command_title=change_name(command_title)\n",
        "\n",
        "\n",
        "    # call_args = ' youtube-dl --match-title ' + ' \"'+command_title_1[0]+ '\" ' + '\"ytsearch100\":'+'\"'+command+ '\" '+\"--playlist-end 3  --external-downloader-args   '-ss 00:00:03 -t 00:03:08' --write-info-json --write-annotation --write-thumbnail --write-sub -f 'best[ext=mp4,height<=1080]+best[filesize<100M]' \"\n",
        "    call_args =  'youtube-dl '  + 'ytsearch40:'+'(enviromental|cop26|save the earth)' +' --match-title '  +command_title + \"--write-info-json --write-annotation --write-thumbnail --write-sub -f 'best[ext=mp4,height<=1080]+best[filesize<100M]' \"\n",
        "    print(call_args)\n",
        "\n",
        "    # call_args = call_args.split() # because call takes a list of strings\n",
        "    # print (call_args)\n",
        "    # call(call_args)\n",
        "    # os.chdir(\"/content/yolo_car_database\")\n",
        "    # run_command('cd \"/content/yolo_car_database\"') \n",
        "    # run_command(call_args)\n",
        "    # os.system(\"cp --recursive '/content/yolo_car_database' '/content/gdrive/My Drive/yolo_car_databe\")\n",
        "    # os.system('pwd && ls ')\n",
        "    # copy_tree(fromDirectory, toDirectory)\n",
        "    # p = Popen(shlex.split(call_args), bufsize=1, universal_newlines=True)\n",
        "    run_command('mkdir /content/yolo_car_database/'+command_title)\n",
        "    \n",
        "    os.chdir( '/content/yolo_car_database/'+command_title+'/')\n",
        "    run_command(call_args) \n",
        "    # copy_tree('/content/yolo_car_database/'+command_title+'/', '/content/gdrive/My Drive/yolo_car_database/'+command_title+'/')\n",
        "    change_file_name('/content/yolo_car_database/'+command_title+'/')\n",
        "    uplaod_mega_nz('/content/yolo_car_database/'+command_title+'/','mega',command_title)\n",
        "    try:\n",
        "        # call(call_args)\n",
        "        # run_command('mkdir /content/yolo_car_database/'+command_title)\n",
        "        # os.chdir( '/content/yolo_car_database/'+command_title+'/')\n",
        "        # run_command(call_args) \n",
        "        # copy_tree('/content/yolo_car_database/'+command_title+'/', toDirectory)\n",
        "\n",
        "        # print (call_args)\n",
        "        pp=0\n",
        "        \n",
        "    except OSError as e: # this would be \"except OSError, e:\" before Python 2.6\n",
        "        if e.errno != errno.ENOENT: # errno.ENOENT = no such file or directory\n",
        "            raise # re-raise exception if a different error occurred\n",
        " \n",
        "    # return p.poll()\n",
        "\n",
        "# !wget https://github.com/spectrico/car-make-model-classifier-yolo3-python/blob/master/labels.txt\n",
        "\n",
        "i=0\n",
        "\n",
        "\n",
        "for line in open('/content/yoloOnGoogleColab/contries_label.txt','r').readlines():\n",
        "    print (line)\n",
        "    Youtube_download_video(line)\n",
        "    try:\n",
        "      Youtube_download_video(line)\n",
        "\n",
        "    except OSError as e: # this would be \"except OSError, e:\" before Python 2.6\n",
        "        if e.errno != errno.ENOENT: # errno.ENOENT = no such file or directory\n",
        "            i=1 # re-raise exception if a different error occurred\n",
        "    i=i+1\n",
        "# !cp '/content/yolo_car_database' \"gdrive/My Drive/yolo_car_databe\"\n",
        "\n",
        "\n",
        "\n"
      ],
      "execution_count": null,
      "outputs": []
    },
    {
      "cell_type": "markdown",
      "metadata": {
        "id": "yf1BlEEItSVK"
      },
      "source": [
        "# End of Scraping Almost 200 car type video to Mega.nz Drive page"
      ]
    },
    {
      "cell_type": "markdown",
      "metadata": {
        "id": "zotkLpTXIqVi"
      },
      "source": [
        "\n",
        "# The Below parts are for backup and don't need to be use, also maybe  some of the blow codes don not working!"
      ]
    },
    {
      "cell_type": "code",
      "metadata": {
        "id": "5EUxgSD3IWTU"
      },
      "source": [
        "!ls /content/gdrive/My Drive/yolo_car_database"
      ],
      "execution_count": null,
      "outputs": []
    },
    {
      "cell_type": "code",
      "metadata": {
        "id": "zH1ijJbnUdmm"
      },
      "source": [
        "import urllib.request\n",
        "from bs4 import BeautifulSoup\n",
        " \n",
        "textToSearch = 'python tutorials'\n",
        "query = urllib.parse.quote(textToSearch)\n",
        "url = \"https://www.youtube.com/results?search_query=\" + query\n",
        "response = urllib.request.urlopen(url)\n",
        "html = response.read()\n",
        "soup = BeautifulSoup(html, 'html.parser')\n",
        "for vid in soup.findAll(attrs={'class':'yt-uix-tile-link'}):\n",
        "    if not vid['href'].startswith(\"https://googleads.g.doubleclick.net/\"):\n",
        "        print('https://www.youtube.com' + vid['href'])"
      ],
      "execution_count": null,
      "outputs": []
    },
    {
      "cell_type": "code",
      "metadata": {
        "id": "YGMop8AvU2zF"
      },
      "source": [
        "!pip install youtube-dl\n",
        "!echo '' > ford_video_list.txt\n",
        "!chmod 755 ford_video_list.txt\n",
        " \n",
        "!youtube-dl --match-title 'ford' --add-metadata --write-thumbnail --list-thumbnails    --mark-watched --write-info-json 'ford_video_description_json.txt' --write-description 'ford_video_description.txt'  --cookies='Search-youtube-url-file.txt' --ignore-errors  --skip-download --get-url -f bestvideo+bestaudio/best --default-search \"ytsearch2000:\" \"Ford Festiva\" >> ford_video_list.txt \n",
        " \n",
        "!echo '*****End of test 1 ******'"
      ],
      "execution_count": null,
      "outputs": []
    },
    {
      "cell_type": "markdown",
      "metadata": {
        "id": "aEZ5FAZa-tFU"
      },
      "source": [
        "# I understand **HTTP Error 429 error** made because:\n",
        "\n",
        " **The google don't like  too many request form one IP Address.**\n",
        "\n",
        "So tried to add these tags(` --rm-cache-dir --force-ipv4 --verbose `) to `youtube-dl` command as you can see below ( based of these reffrences [1][2] [2][3] [3][4]):\n",
        "\n",
        " [1]: https://github.com/spectrico/vehicle-recognition-api-yolov4-python/blob/master/labels-makes.txt\n",
        "  [2]: https://askubuntu.com/questions/1220266/youtube-dl-do-not-working-http-error-429-too-many-requests-how-can-i-solve-this\n",
        "  [3]: https://forum.manjaro.org/t/youtube-dl-error-429-too-many-request/27150\n",
        "  [4]: https://stackoverflow.com/questions/59625386/how-could-we-solve-the-http-request-error-error-429-too-many-requests\n",
        "\n",
        "> Indented block\n",
        "\n"
      ]
    },
    {
      "cell_type": "code",
      "metadata": {
        "id": "woKL5Q5m9fv1"
      },
      "source": [
        "!pip install youtube-dl\n",
        "!echo '' > ford_video_list.txt\n",
        "!chmod 755 ford_video_list.txt\n",
        " \n",
        "!youtube-dl --match-title 'ford' --add-metadata --write-thumbnail --list-thumbnails    --mark-watched --write-info-json 'ford_video_description_json.txt' --write-description 'ford_video_description.txt' --rm-cache-dir --force-ipv4 --verbose  --cookies='Search-youtube-url-file.txt' --ignore-errors  --skip-download --get-url -f bestvideo+bestaudio/best --default-search \"ytsearch10:Ford Festiva\"# >> ford_video_list.txt \n",
        " \n",
        "!echo '*****End of test 1 ******'"
      ],
      "execution_count": null,
      "outputs": []
    },
    {
      "cell_type": "code",
      "metadata": {
        "id": "DkfA-21JU4fl"
      },
      "source": [
        " \n",
        "!pip install youtube-search-python\n",
        "from youtubesearchpython import SearchVideos\n",
        " \n",
        "search = SearchVideos(\"NoCopyrightSounds\", offset = 1, mode = \"json\", max_results = 20)\n",
        " \n",
        "print(search.result())"
      ],
      "execution_count": null,
      "outputs": []
    },
    {
      "cell_type": "code",
      "metadata": {
        "id": "tlRCwtJAZueW"
      },
      "source": [
        "!youtube-dl \"ytsearch1:how to create android app in app studio\"\n"
      ],
      "execution_count": null,
      "outputs": []
    },
    {
      "cell_type": "code",
      "metadata": {
        "id": "lXGyHj44YFjk"
      },
      "source": [
        "!pip install youtube-dl \n",
        "%cd '/content/'\n",
        "\n",
        "import os\n",
        "try:\n",
        "    os.remove('/content/yolo_car_database')\n",
        "except OSError:\n",
        "    pass\n",
        "\n",
        "# !rm -rf '/content/yolo_car_database'\n",
        "!mkdir '/content/yolo_car_database'\n",
        "%cd '/content/yolo_car_database'\n",
        "!echo 't' >> t.txt\n",
        "!pwd \n",
        "!ls\n",
        "# !youtube-dl --default-search gvsearch5:how to develop for android --no-playlist --write-info-json --write-annotation --write-thumbnail --write-sub --skip-download \n",
        "!youtube-dl --match-title 'ford ' \"ytsearch50\":\"Ford Festiva\"+\"peugeot 405\"  --write-info-json --write-annotation --write-thumbnail --write-sub -f 'bestvideo[ext=mp4]+bestaudio[ext=m4a]/mp4'\n",
        "\n",
        "# !rm -rf \"/content/gdrive/My Drive/yolo_car_databe\" && mkdir \"/content/gdrive/My Drive/yolo_car_databe\"\n",
        "\n",
        "!cp -r '/content/yolo_car_database' \"/content/gdrive/My Drive/\""
      ],
      "execution_count": null,
      "outputs": []
    },
    {
      "cell_type": "code",
      "metadata": {
        "id": "1NZ2E1nmxu6h"
      },
      "source": [
        "!ls '/content/yolo_car_database2'"
      ],
      "execution_count": null,
      "outputs": []
    },
    {
      "cell_type": "code",
      "metadata": {
        "id": "Bj1psrErHor8"
      },
      "source": [
        "!youtube-dl --match-title 'ford' --add-metadata --write-thumbnail --list-thumbnails  --rm-cache-dir --ignore-errors  --skip-download --get-url -f bestvideo+bestaudio/best  --default-search \"ytsearch10:Ford Festiva\"# >> ford_video_list.txt \n"
      ],
      "execution_count": null,
      "outputs": []
    },
    {
      "cell_type": "code",
      "metadata": {
        "id": "Uc6B0RMJJDJF"
      },
      "source": [
        "\n",
        "!pip install youtube-dl\n",
        "!echo '' > ford_video_list.txt\n",
        "!chmod 755 ford_video_list.txt\n",
        "\n",
        "!youtube-dl --match-title 'ford' --add-metadata --write-thumbnail --list-thumbnails    --mark-watched --write-info-json 'ford_video_description_json.txt' --write-description 'ford_video_description.txt'  --cookies='Search-youtube-url-file.txt' --ignore-errors  --skip-download --get-url -f bestvideo+bestaudio/best --default-search \"ytsearch50:\" \"Ford Festiva\" >> ford_video_list.txt \n",
        "\n",
        "!echo '*****End of test 1 ******'"
      ],
      "execution_count": null,
      "outputs": []
    }
  ]
}