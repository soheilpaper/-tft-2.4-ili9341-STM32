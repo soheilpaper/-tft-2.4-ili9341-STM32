{
  "nbformat": 4,
  "nbformat_minor": 0,
  "metadata": {
    "colab": {
      "provenance": [],
      "include_colab_link": true
    },
    "kernelspec": {
      "name": "python3",
      "display_name": "Python 3"
    },
    "language_info": {
      "name": "python"
    }
  },
  "cells": [
    {
      "cell_type": "markdown",
      "metadata": {
        "id": "view-in-github",
        "colab_type": "text"
      },
      "source": [
        "<a href=\"https://colab.research.google.com/github/soheilpaper/-tft-2.4-ili9341-STM32/blob/master/Mistral_7B.ipynb\" target=\"_parent\"><img src=\"https://colab.research.google.com/assets/colab-badge.svg\" alt=\"Open In Colab\"/></a>"
      ]
    },
    {
      "cell_type": "markdown",
      "source": [
        "# Mistral 7B\n",
        "\n",
        "Mistral 7B is a new state-of-the-art open-source model. Here are some interesting facts about it\n",
        "\n",
        "* One of the strongest open-source models, of all sizes\n",
        "* Strongest model in the 1-20B parameter range models\n",
        "* Does decently in code-related tasks\n",
        "* Uses Windowed attention, allowing to push to 200k tokens of context if using Rope (needs 4 A10G GPUs for this)\n",
        "* Apache 2.0 license\n",
        "\n",
        "As for the integrations status:\n",
        "* Integrated into `transformers`\n",
        "* You can use it with a server or locally (it's a small model after all!)\n",
        "* Integrated into popular tools tuch as TGI and VLLM\n",
        "\n",
        "\n",
        "Two models are released: a [base model](https://huggingface.co/mistralai/Mistral-7B-v0.1) and a [instruct fine-tuned version](https://huggingface.co/mistralai/Mistral-7B-Instruct-v0.1). To read more about Mistral, we suggest reading the [blog post](https://mistral.ai/news/announcing-mistral-7b/).\n",
        "\n",
        "In this Colab, we'll experiment with the Mistral model using an API. There are three ways we can use it:\n",
        "\n",
        "* **Free API:** Hugging Face provides a free Inference API for all its users to try out models. This API is rate limited but is great for quick experiments.\n",
        "* **PRO and Enterprise API:** Hugging Face provides an open API for all its PRO users.  Subscribing to the Pro Inference API costs $9/month and allows you to experiment with many large models, such as Llama 2 and SDXL. Read more about it [here](https://huggingface.co/blog/inference-pro).\n",
        "* **Inference Endpoints:** For enterprise and production-ready cases. You can deploy it with 1 click [here](https://ui.endpoints.huggingface.co/catalog).\n",
        "\n",
        "This demo does not require GPU Colab, just CPU. You can grab your token at https://huggingface.co/settings/tokens.\n",
        "\n",
        "**This colab shows how to use HTTP requests as well as building your own chat demo for Mistral.**"
      ],
      "metadata": {
        "id": "GLXvYa4m8JYM"
      }
    },
    {
      "cell_type": "markdown",
      "source": [
        "## Doing curl requests\n",
        "\n",
        "\n",
        "In this notebook, we'll experiment with the instruct model, as it is trained for instructions. As per [the model card](https://huggingface.co/mistralai/Mistral-7B-Instruct-v0.1), the expected format for a prompt is as follows\n",
        "\n",
        "From the model card\n",
        "\n",
        "> In order to leverage instruction fine-tuning, your prompt should be surrounded by [INST] and [\\INST] tokens. The very first instruction should begin with a begin of sentence id. The next instructions should not. The assistant generation will be ended by the end-of-sentence token id.\n",
        "\n",
        "```\n",
        "<s>[INST] {{ user_msg_1 }} [/INST] {{ model_answer_1 }}</s> [INST] {{ user_msg_2 }} [/INST] {{ model_answer_2 }}</s>\n",
        "```\n",
        "\n",
        "Note that models can be quite reactive to different prompt structure than the one used for training, so watch out for spaces and other things!\n",
        "\n",
        "We'll start an initial query without prompt formatting, which works ok for simple queries."
      ],
      "metadata": {
        "id": "pKrKTalPAXUO"
      }
    },
    {
      "cell_type": "code",
      "execution_count": 1,
      "metadata": {
        "colab": {
          "base_uri": "https://localhost:8080/"
        },
        "id": "DQf0Hss18E86",
        "outputId": "2a2f0885-e1f4-4b08-8892-332c381ede1b"
      },
      "outputs": [
        {
          "output_type": "stream",
          "name": "stdout",
          "text": [
            "{\"error\":\"Authorization header is correct, but the token seems invalid\"}"
          ]
        }
      ],
      "source": [
        "!curl https://api-inference.huggingface.co/models/mistralai/Mistral-7B-Instruct-v0.1 \\\n",
        "  --header \"Content-Type: application/json\" \\\n",
        "\t-X POST \\\n",
        "\t-d '{\"inputs\": \"Explain ML as a pirate\", \"parameters\": {\"max_new_tokens\": 50}}' \\\n",
        "\t-H \"Authorization: Bearer API_TOKEN\""
      ]
    },
    {
      "cell_type": "markdown",
      "source": [
        "## Programmatic usage with Python\n",
        "\n",
        "You can do simple `requests`, but the `huggingface_hub` library provides nice utilities to easily use the model. Among the things we can use are:\n",
        "\n",
        "* `InferenceClient` and `AsyncInferenceClient` to perform inference either in a sync or async way.\n",
        "* Token streaming: Only load the tokens that are needed\n",
        "* Easily configure generation params, such as `temperature`, nucleus sampling (`top-p`), repetition penalty, stop sequences, and more.\n",
        "* Obtain details of the generation (such as the probability of each token or whether a token is the last token)."
      ],
      "metadata": {
        "id": "YYZRNyZeBHWK"
      }
    },
    {
      "cell_type": "code",
      "source": [
        "%%capture\n",
        "!pip install huggingface_hub gradio"
      ],
      "metadata": {
        "id": "oDaqVDz1Ahuz"
      },
      "execution_count": 2,
      "outputs": []
    },
    {
      "cell_type": "code",
      "source": [
        "from huggingface_hub import InferenceClient\n",
        "\n",
        "client = InferenceClient(\n",
        "    \"mistralai/Mistral-7B-Instruct-v0.1\"\n",
        ")\n",
        "\n",
        "prompt = \"\"\"<s>[INST] What is your favourite condiment?  [/INST]</s>\n",
        "\"\"\"\n",
        "\n",
        "res = client.text_generation(prompt, max_new_tokens=95)\n",
        "print(res)"
      ],
      "metadata": {
        "colab": {
          "base_uri": "https://localhost:8080/"
        },
        "id": "U49GmNsNBJjd",
        "outputId": "5d9bf5c5-1b50-4426-dd26-c4168ceaacee"
      },
      "execution_count": 3,
      "outputs": [
        {
          "output_type": "stream",
          "name": "stderr",
          "text": [
            "/usr/local/lib/python3.10/dist-packages/huggingface_hub/utils/_token.py:88: UserWarning: \n",
            "The secret `HF_TOKEN` does not exist in your Colab secrets.\n",
            "To authenticate with the Hugging Face Hub, create a token in your settings tab (https://huggingface.co/settings/tokens), set it as secret in your Google Colab and restart your session.\n",
            "You will be able to reuse this secret in all of your notebooks.\n",
            "Please note that authentication is recommended but still optional to access public models or datasets.\n",
            "  warnings.warn(\n"
          ]
        },
        {
          "output_type": "stream",
          "name": "stdout",
          "text": [
            "\n",
            "I don't have personal experiences or preferences. However, I can tell you that people's favorite condiments can vary widely based on personal taste and cultural background. Some popular condiments include ketchup, mustard, mayonnaise, hot sauce, soy sauce, and olive oil.\n"
          ]
        }
      ]
    },
    {
      "cell_type": "markdown",
      "source": [
        "We can also use [token streaming](https://huggingface.co/docs/text-generation-inference/conceptual/streaming). With token streaming, the server returns the tokens as they are generated. Just add `stream=True`."
      ],
      "metadata": {
        "id": "DryfEWsUH6Ij"
      }
    },
    {
      "cell_type": "code",
      "source": [
        "res = client.text_generation(prompt, max_new_tokens=35, stream=True, details=True, return_full_text=False)\n",
        "for r in res: # this is a generator\n",
        "  # print the token for example\n",
        "  print(r)\n",
        "  continue"
      ],
      "metadata": {
        "colab": {
          "base_uri": "https://localhost:8080/"
        },
        "id": "LF1tFo6DGg9N",
        "outputId": "075333cb-b5a0-417e-80f4-11d2becd47eb"
      },
      "execution_count": 4,
      "outputs": [
        {
          "output_type": "stream",
          "name": "stdout",
          "text": [
            "TextGenerationStreamResponse(token=Token(id=13, text='\\n', logprob=-0.44873047, special=False), generated_text=None, details=None)\n",
            "TextGenerationStreamResponse(token=Token(id=28737, text='I', logprob=-1.5058594, special=False), generated_text=None, details=None)\n",
            "TextGenerationStreamResponse(token=Token(id=949, text=' don', logprob=-1.3095703, special=False), generated_text=None, details=None)\n",
            "TextGenerationStreamResponse(token=Token(id=28742, text=\"'\", logprob=-0.01713562, special=False), generated_text=None, details=None)\n",
            "TextGenerationStreamResponse(token=Token(id=28707, text='t', logprob=-1.2755394e-05, special=False), generated_text=None, details=None)\n",
            "TextGenerationStreamResponse(token=Token(id=506, text=' have', logprob=-0.54345703, special=False), generated_text=None, details=None)\n",
            "TextGenerationStreamResponse(token=Token(id=3327, text=' personal', logprob=-0.33081055, special=False), generated_text=None, details=None)\n",
            "TextGenerationStreamResponse(token=Token(id=9021, text=' experiences', logprob=-0.89990234, special=False), generated_text=None, details=None)\n",
            "TextGenerationStreamResponse(token=Token(id=442, text=' or', logprob=-0.7285156, special=False), generated_text=None, details=None)\n",
            "TextGenerationStreamResponse(token=Token(id=22731, text=' preferences', logprob=-0.78271484, special=False), generated_text=None, details=None)\n",
            "TextGenerationStreamResponse(token=Token(id=28723, text='.', logprob=-0.55566406, special=False), generated_text=None, details=None)\n",
            "TextGenerationStreamResponse(token=Token(id=2993, text=' However', logprob=-0.5444336, special=False), generated_text=None, details=None)\n",
            "TextGenerationStreamResponse(token=Token(id=28725, text=',', logprob=-0.0014104843, special=False), generated_text=None, details=None)\n",
            "TextGenerationStreamResponse(token=Token(id=315, text=' I', logprob=-1.0273438, special=False), generated_text=None, details=None)\n",
            "TextGenerationStreamResponse(token=Token(id=541, text=' can', logprob=-0.12237549, special=False), generated_text=None, details=None)\n",
            "TextGenerationStreamResponse(token=Token(id=1912, text=' tell', logprob=-0.49780273, special=False), generated_text=None, details=None)\n",
            "TextGenerationStreamResponse(token=Token(id=368, text=' you', logprob=-0.008377075, special=False), generated_text=None, details=None)\n",
            "TextGenerationStreamResponse(token=Token(id=369, text=' that', logprob=-0.015548706, special=False), generated_text=None, details=None)\n",
            "TextGenerationStreamResponse(token=Token(id=905, text=' people', logprob=-1.4736328, special=False), generated_text=None, details=None)\n",
            "TextGenerationStreamResponse(token=Token(id=28742, text=\"'\", logprob=-0.9741211, special=False), generated_text=None, details=None)\n",
            "TextGenerationStreamResponse(token=Token(id=28713, text='s', logprob=-5.9604645e-07, special=False), generated_text=None, details=None)\n",
            "TextGenerationStreamResponse(token=Token(id=6656, text=' favorite', logprob=-0.47094727, special=False), generated_text=None, details=None)\n",
            "TextGenerationStreamResponse(token=Token(id=2076, text=' cond', logprob=-0.0008044243, special=False), generated_text=None, details=None)\n",
            "TextGenerationStreamResponse(token=Token(id=8447, text='iments', logprob=-3.8266182e-05, special=False), generated_text=None, details=None)\n",
            "TextGenerationStreamResponse(token=Token(id=541, text=' can', logprob=-0.48364258, special=False), generated_text=None, details=None)\n",
            "TextGenerationStreamResponse(token=Token(id=11204, text=' vary', logprob=-0.09631348, special=False), generated_text=None, details=None)\n",
            "TextGenerationStreamResponse(token=Token(id=12575, text=' widely', logprob=-0.59521484, special=False), generated_text=None, details=None)\n",
            "TextGenerationStreamResponse(token=Token(id=2818, text=' based', logprob=-1.2666016, special=False), generated_text=None, details=None)\n",
            "TextGenerationStreamResponse(token=Token(id=356, text=' on', logprob=-0.00074768066, special=False), generated_text=None, details=None)\n",
            "TextGenerationStreamResponse(token=Token(id=3327, text=' personal', logprob=-0.7832031, special=False), generated_text=None, details=None)\n",
            "TextGenerationStreamResponse(token=Token(id=9230, text=' taste', logprob=-0.058135986, special=False), generated_text=None, details=None)\n",
            "TextGenerationStreamResponse(token=Token(id=304, text=' and', logprob=-0.55810547, special=False), generated_text=None, details=None)\n",
            "TextGenerationStreamResponse(token=Token(id=8932, text=' cultural', logprob=-0.62597656, special=False), generated_text=None, details=None)\n",
            "TextGenerationStreamResponse(token=Token(id=5414, text=' background', logprob=-0.3088379, special=False), generated_text=None, details=None)\n",
            "TextGenerationStreamResponse(token=Token(id=28723, text='.', logprob=-0.026107788, special=False), generated_text=\"\\nI don't have personal experiences or preferences. However, I can tell you that people's favorite condiments can vary widely based on personal taste and cultural background.\", details=StreamDetails(finish_reason=<FinishReason.Length: 'length'>, generated_tokens=35, seed=None))\n"
          ]
        }
      ]
    },
    {
      "cell_type": "markdown",
      "source": [
        "Let's now try a multi-prompt structure"
      ],
      "metadata": {
        "id": "TfdpZL8cICOD"
      }
    },
    {
      "cell_type": "code",
      "source": [
        "def format_prompt(message, history):\n",
        "  prompt = \"<s>\"\n",
        "  for user_prompt, bot_response in history:\n",
        "    prompt += f\"[INST] {user_prompt} [/INST]\"\n",
        "    prompt += f\" {bot_response}</s> \"\n",
        "  prompt += f\"[INST] {message} [/INST]\"\n",
        "  return prompt"
      ],
      "metadata": {
        "id": "aEyozeReH8a6"
      },
      "execution_count": 5,
      "outputs": []
    },
    {
      "cell_type": "code",
      "source": [
        "message = \"And what do you think about it?\"\n",
        "history = [[\"What is your favourite condiment?\", \"My favorite condiment is ketchup. It's versatile, tasty, and goes well with a variety of foods.\"]]\n",
        "\n",
        "format_prompt(message, history)"
      ],
      "metadata": {
        "colab": {
          "base_uri": "https://localhost:8080/"
        },
        "id": "P1RFpiJ_JC0-",
        "outputId": "3ed67df6-18be-4036-e2b5-d8ec033a658b"
      },
      "execution_count": 6,
      "outputs": [
        {
          "output_type": "execute_result",
          "data": {
            "text/plain": [
              "\"<s>[INST] What is your favourite condiment? [/INST] My favorite condiment is ketchup. It's versatile, tasty, and goes well with a variety of foods.</s> [INST] And what do you think about it? [/INST]\""
            ],
            "application/vnd.google.colaboratory.intrinsic+json": {
              "type": "string"
            }
          },
          "metadata": {},
          "execution_count": 6
        }
      ]
    },
    {
      "cell_type": "markdown",
      "source": [
        "## End-to-end demo\n",
        "\n",
        "Let's now build a Gradio demo that takes care of:\n",
        "\n",
        "* Handling multiple turns of conversation\n",
        "* Format the prompt in correct structure\n",
        "* Allow user to specify/modify the parameters\n",
        "* Stop the generation\n",
        "\n",
        "Just run the following cell and have fun!"
      ],
      "metadata": {
        "id": "O7DjRdezJc-3"
      }
    },
    {
      "cell_type": "code",
      "source": [
        "!pip install gradio"
      ],
      "metadata": {
        "colab": {
          "base_uri": "https://localhost:8080/"
        },
        "id": "cpBoheOGJu7Y",
        "outputId": "84f024f7-4c6d-4878-844b-d9c3f1fa996c"
      },
      "execution_count": 7,
      "outputs": [
        {
          "output_type": "stream",
          "name": "stdout",
          "text": [
            "Requirement already satisfied: gradio in /usr/local/lib/python3.10/dist-packages (4.13.0)\n",
            "Requirement already satisfied: aiofiles<24.0,>=22.0 in /usr/local/lib/python3.10/dist-packages (from gradio) (23.2.1)\n",
            "Requirement already satisfied: altair<6.0,>=4.2.0 in /usr/local/lib/python3.10/dist-packages (from gradio) (4.2.2)\n",
            "Requirement already satisfied: fastapi in /usr/local/lib/python3.10/dist-packages (from gradio) (0.108.0)\n",
            "Requirement already satisfied: ffmpy in /usr/local/lib/python3.10/dist-packages (from gradio) (0.3.1)\n",
            "Requirement already satisfied: gradio-client==0.8.0 in /usr/local/lib/python3.10/dist-packages (from gradio) (0.8.0)\n",
            "Requirement already satisfied: httpx in /usr/local/lib/python3.10/dist-packages (from gradio) (0.26.0)\n",
            "Requirement already satisfied: huggingface-hub>=0.19.3 in /usr/local/lib/python3.10/dist-packages (from gradio) (0.20.2)\n",
            "Requirement already satisfied: importlib-resources<7.0,>=1.3 in /usr/local/lib/python3.10/dist-packages (from gradio) (6.1.1)\n",
            "Requirement already satisfied: jinja2<4.0 in /usr/local/lib/python3.10/dist-packages (from gradio) (3.1.2)\n",
            "Requirement already satisfied: markupsafe~=2.0 in /usr/local/lib/python3.10/dist-packages (from gradio) (2.1.3)\n",
            "Requirement already satisfied: matplotlib~=3.0 in /usr/local/lib/python3.10/dist-packages (from gradio) (3.7.1)\n",
            "Requirement already satisfied: numpy~=1.0 in /usr/local/lib/python3.10/dist-packages (from gradio) (1.23.5)\n",
            "Requirement already satisfied: orjson~=3.0 in /usr/local/lib/python3.10/dist-packages (from gradio) (3.9.10)\n",
            "Requirement already satisfied: packaging in /usr/local/lib/python3.10/dist-packages (from gradio) (23.2)\n",
            "Requirement already satisfied: pandas<3.0,>=1.0 in /usr/local/lib/python3.10/dist-packages (from gradio) (1.5.3)\n",
            "Requirement already satisfied: pillow<11.0,>=8.0 in /usr/local/lib/python3.10/dist-packages (from gradio) (9.4.0)\n",
            "Requirement already satisfied: pydantic>=2.0 in /usr/local/lib/python3.10/dist-packages (from gradio) (2.5.3)\n",
            "Requirement already satisfied: pydub in /usr/local/lib/python3.10/dist-packages (from gradio) (0.25.1)\n",
            "Requirement already satisfied: python-multipart in /usr/local/lib/python3.10/dist-packages (from gradio) (0.0.6)\n",
            "Requirement already satisfied: pyyaml<7.0,>=5.0 in /usr/local/lib/python3.10/dist-packages (from gradio) (6.0.1)\n",
            "Requirement already satisfied: semantic-version~=2.0 in /usr/local/lib/python3.10/dist-packages (from gradio) (2.10.0)\n",
            "Requirement already satisfied: tomlkit==0.12.0 in /usr/local/lib/python3.10/dist-packages (from gradio) (0.12.0)\n",
            "Requirement already satisfied: typer[all]<1.0,>=0.9 in /usr/local/lib/python3.10/dist-packages (from gradio) (0.9.0)\n",
            "Requirement already satisfied: typing-extensions~=4.0 in /usr/local/lib/python3.10/dist-packages (from gradio) (4.9.0)\n",
            "Requirement already satisfied: uvicorn>=0.14.0 in /usr/local/lib/python3.10/dist-packages (from gradio) (0.25.0)\n",
            "Requirement already satisfied: fsspec in /usr/local/lib/python3.10/dist-packages (from gradio-client==0.8.0->gradio) (2023.6.0)\n",
            "Requirement already satisfied: websockets<12.0,>=10.0 in /usr/local/lib/python3.10/dist-packages (from gradio-client==0.8.0->gradio) (11.0.3)\n",
            "Requirement already satisfied: entrypoints in /usr/local/lib/python3.10/dist-packages (from altair<6.0,>=4.2.0->gradio) (0.4)\n",
            "Requirement already satisfied: jsonschema>=3.0 in /usr/local/lib/python3.10/dist-packages (from altair<6.0,>=4.2.0->gradio) (4.19.2)\n",
            "Requirement already satisfied: toolz in /usr/local/lib/python3.10/dist-packages (from altair<6.0,>=4.2.0->gradio) (0.12.0)\n",
            "Requirement already satisfied: filelock in /usr/local/lib/python3.10/dist-packages (from huggingface-hub>=0.19.3->gradio) (3.13.1)\n",
            "Requirement already satisfied: requests in /usr/local/lib/python3.10/dist-packages (from huggingface-hub>=0.19.3->gradio) (2.31.0)\n",
            "Requirement already satisfied: tqdm>=4.42.1 in /usr/local/lib/python3.10/dist-packages (from huggingface-hub>=0.19.3->gradio) (4.66.1)\n",
            "Requirement already satisfied: contourpy>=1.0.1 in /usr/local/lib/python3.10/dist-packages (from matplotlib~=3.0->gradio) (1.2.0)\n",
            "Requirement already satisfied: cycler>=0.10 in /usr/local/lib/python3.10/dist-packages (from matplotlib~=3.0->gradio) (0.12.1)\n",
            "Requirement already satisfied: fonttools>=4.22.0 in /usr/local/lib/python3.10/dist-packages (from matplotlib~=3.0->gradio) (4.47.0)\n",
            "Requirement already satisfied: kiwisolver>=1.0.1 in /usr/local/lib/python3.10/dist-packages (from matplotlib~=3.0->gradio) (1.4.5)\n",
            "Requirement already satisfied: pyparsing>=2.3.1 in /usr/local/lib/python3.10/dist-packages (from matplotlib~=3.0->gradio) (3.1.1)\n",
            "Requirement already satisfied: python-dateutil>=2.7 in /usr/local/lib/python3.10/dist-packages (from matplotlib~=3.0->gradio) (2.8.2)\n",
            "Requirement already satisfied: pytz>=2020.1 in /usr/local/lib/python3.10/dist-packages (from pandas<3.0,>=1.0->gradio) (2023.3.post1)\n",
            "Requirement already satisfied: annotated-types>=0.4.0 in /usr/local/lib/python3.10/dist-packages (from pydantic>=2.0->gradio) (0.6.0)\n",
            "Requirement already satisfied: pydantic-core==2.14.6 in /usr/local/lib/python3.10/dist-packages (from pydantic>=2.0->gradio) (2.14.6)\n",
            "Requirement already satisfied: click<9.0.0,>=7.1.1 in /usr/local/lib/python3.10/dist-packages (from typer[all]<1.0,>=0.9->gradio) (8.1.7)\n",
            "Requirement already satisfied: colorama<0.5.0,>=0.4.3 in /usr/local/lib/python3.10/dist-packages (from typer[all]<1.0,>=0.9->gradio) (0.4.6)\n",
            "Requirement already satisfied: shellingham<2.0.0,>=1.3.0 in /usr/local/lib/python3.10/dist-packages (from typer[all]<1.0,>=0.9->gradio) (1.5.4)\n",
            "Requirement already satisfied: rich<14.0.0,>=10.11.0 in /usr/local/lib/python3.10/dist-packages (from typer[all]<1.0,>=0.9->gradio) (13.7.0)\n",
            "Requirement already satisfied: h11>=0.8 in /usr/local/lib/python3.10/dist-packages (from uvicorn>=0.14.0->gradio) (0.14.0)\n",
            "Requirement already satisfied: starlette<0.33.0,>=0.29.0 in /usr/local/lib/python3.10/dist-packages (from fastapi->gradio) (0.32.0.post1)\n",
            "Requirement already satisfied: anyio in /usr/local/lib/python3.10/dist-packages (from httpx->gradio) (3.7.1)\n",
            "Requirement already satisfied: certifi in /usr/local/lib/python3.10/dist-packages (from httpx->gradio) (2023.11.17)\n",
            "Requirement already satisfied: httpcore==1.* in /usr/local/lib/python3.10/dist-packages (from httpx->gradio) (1.0.2)\n",
            "Requirement already satisfied: idna in /usr/local/lib/python3.10/dist-packages (from httpx->gradio) (3.6)\n",
            "Requirement already satisfied: sniffio in /usr/local/lib/python3.10/dist-packages (from httpx->gradio) (1.3.0)\n",
            "Requirement already satisfied: attrs>=22.2.0 in /usr/local/lib/python3.10/dist-packages (from jsonschema>=3.0->altair<6.0,>=4.2.0->gradio) (23.2.0)\n",
            "Requirement already satisfied: jsonschema-specifications>=2023.03.6 in /usr/local/lib/python3.10/dist-packages (from jsonschema>=3.0->altair<6.0,>=4.2.0->gradio) (2023.12.1)\n",
            "Requirement already satisfied: referencing>=0.28.4 in /usr/local/lib/python3.10/dist-packages (from jsonschema>=3.0->altair<6.0,>=4.2.0->gradio) (0.32.0)\n",
            "Requirement already satisfied: rpds-py>=0.7.1 in /usr/local/lib/python3.10/dist-packages (from jsonschema>=3.0->altair<6.0,>=4.2.0->gradio) (0.16.2)\n",
            "Requirement already satisfied: six>=1.5 in /usr/local/lib/python3.10/dist-packages (from python-dateutil>=2.7->matplotlib~=3.0->gradio) (1.16.0)\n",
            "Requirement already satisfied: markdown-it-py>=2.2.0 in /usr/local/lib/python3.10/dist-packages (from rich<14.0.0,>=10.11.0->typer[all]<1.0,>=0.9->gradio) (3.0.0)\n",
            "Requirement already satisfied: pygments<3.0.0,>=2.13.0 in /usr/local/lib/python3.10/dist-packages (from rich<14.0.0,>=10.11.0->typer[all]<1.0,>=0.9->gradio) (2.16.1)\n",
            "Requirement already satisfied: exceptiongroup in /usr/local/lib/python3.10/dist-packages (from anyio->httpx->gradio) (1.2.0)\n",
            "Requirement already satisfied: charset-normalizer<4,>=2 in /usr/local/lib/python3.10/dist-packages (from requests->huggingface-hub>=0.19.3->gradio) (3.3.2)\n",
            "Requirement already satisfied: urllib3<3,>=1.21.1 in /usr/local/lib/python3.10/dist-packages (from requests->huggingface-hub>=0.19.3->gradio) (2.0.7)\n",
            "Requirement already satisfied: mdurl~=0.1 in /usr/local/lib/python3.10/dist-packages (from markdown-it-py>=2.2.0->rich<14.0.0,>=10.11.0->typer[all]<1.0,>=0.9->gradio) (0.1.2)\n"
          ]
        }
      ]
    },
    {
      "cell_type": "code",
      "source": [
        "import gradio as gr\n",
        "\n",
        "def generate(\n",
        "    prompt, history, temperature=0.9, max_new_tokens=256, top_p=0.95, repetition_penalty=1.0,\n",
        "):\n",
        "    temperature = float(temperature)\n",
        "    if temperature < 1e-2:\n",
        "        temperature = 1e-2\n",
        "    top_p = float(top_p)\n",
        "\n",
        "    generate_kwargs = dict(\n",
        "        temperature=temperature,\n",
        "        max_new_tokens=max_new_tokens,\n",
        "        top_p=top_p,\n",
        "        repetition_penalty=repetition_penalty,\n",
        "        do_sample=True,\n",
        "        seed=42,\n",
        "    )\n",
        "\n",
        "    formatted_prompt = format_prompt(prompt, history)\n",
        "\n",
        "    stream = client.text_generation(formatted_prompt, **generate_kwargs, stream=True, details=True, return_full_text=False)\n",
        "    output = \"\"\n",
        "\n",
        "    for response in stream:\n",
        "        output += response.token.text\n",
        "        yield output\n",
        "    return output\n",
        "\n",
        "\n",
        "additional_inputs=[\n",
        "    gr.Slider(\n",
        "        label=\"Temperature\",\n",
        "        value=0.9,\n",
        "        minimum=0.0,\n",
        "        maximum=1.0,\n",
        "        step=0.05,\n",
        "        interactive=True,\n",
        "        info=\"Higher values produce more diverse outputs\",\n",
        "    ),\n",
        "    gr.Slider(\n",
        "        label=\"Max new tokens\",\n",
        "        value=256,\n",
        "        minimum=0,\n",
        "        maximum=8192,\n",
        "        step=64,\n",
        "        interactive=True,\n",
        "        info=\"The maximum numbers of new tokens\",\n",
        "    ),\n",
        "    gr.Slider(\n",
        "        label=\"Top-p (nucleus sampling)\",\n",
        "        value=0.90,\n",
        "        minimum=0.0,\n",
        "        maximum=1,\n",
        "        step=0.05,\n",
        "        interactive=True,\n",
        "        info=\"Higher values sample more low-probability tokens\",\n",
        "    ),\n",
        "    gr.Slider(\n",
        "        label=\"Repetition penalty\",\n",
        "        value=1.2,\n",
        "        minimum=1.0,\n",
        "        maximum=2.0,\n",
        "        step=0.05,\n",
        "        interactive=True,\n",
        "        info=\"Penalize repeated tokens\",\n",
        "    )\n",
        "]\n",
        "\n",
        "with gr.Blocks() as demo:\n",
        "    gr.ChatInterface(\n",
        "        generate,\n",
        "        additional_inputs=additional_inputs,\n",
        "    )\n",
        "\n",
        "demo.queue().launch(debug=True)"
      ],
      "metadata": {
        "colab": {
          "base_uri": "https://localhost:8080/"
        },
        "id": "CaJzT6jUJc0_",
        "outputId": "99427d5b-a818-45ca-996b-f67768938e64"
      },
      "execution_count": 8,
      "outputs": [
        {
          "output_type": "stream",
          "name": "stdout",
          "text": [
            "Setting queue=True in a Colab notebook requires sharing enabled. Setting `share=True` (you can turn this off by setting `share=False` in `launch()` explicitly).\n",
            "\n",
            "Colab notebook detected. This cell will run indefinitely so that you can see errors and logs. To turn off, set debug=False in launch().\n",
            "Running on public URL: https://6babc0e4bd0841d57a.gradio.live\n",
            "\n",
            "This share link expires in 72 hours. For free permanent hosting and GPU upgrades, run `gradio deploy` from Terminal to deploy to Spaces (https://huggingface.co/spaces)\n"
          ]
        },
        {
          "output_type": "display_data",
          "data": {
            "text/plain": [
              "<IPython.core.display.HTML object>"
            ],
            "text/html": [
              "<div><iframe src=\"https://6babc0e4bd0841d57a.gradio.live\" width=\"100%\" height=\"500\" allow=\"autoplay; camera; microphone; clipboard-read; clipboard-write;\" frameborder=\"0\" allowfullscreen></iframe></div>"
            ]
          },
          "metadata": {}
        },
        {
          "output_type": "stream",
          "name": "stdout",
          "text": [
            "Keyboard interruption in main thread... closing server.\n",
            "Killing tunnel 127.0.0.1:7860 <> https://6babc0e4bd0841d57a.gradio.live\n"
          ]
        },
        {
          "output_type": "execute_result",
          "data": {
            "text/plain": []
          },
          "metadata": {},
          "execution_count": 8
        }
      ]
    },
    {
      "cell_type": "markdown",
      "source": [
        "## What's next?\n",
        "\n",
        "* Try out Mistral 7B in this [free online Space](https://huggingface.co/spaces/osanseviero/mistral-super-fast)\n",
        "* Deploy Mistral 7B Instruct with one click [here](https://ui.endpoints.huggingface.co/catalog)\n",
        "* Deploy in your own hardware using https://github.com/huggingface/text-generation-inference\n",
        "* Run the model locally using `transformers`"
      ],
      "metadata": {
        "id": "fbQ0Sp4OLclV"
      }
    },
    {
      "cell_type": "code",
      "source": [
        "! pip install python-docx"
      ],
      "metadata": {
        "id": "2dOn_gotKFhw",
        "outputId": "0cd58950-263d-492a-b513-c35fffd34088",
        "colab": {
          "base_uri": "https://localhost:8080/"
        }
      },
      "execution_count": 10,
      "outputs": [
        {
          "output_type": "stream",
          "name": "stdout",
          "text": [
            "Collecting python-docx\n",
            "  Downloading python_docx-1.1.0-py3-none-any.whl (239 kB)\n",
            "\u001b[?25l     \u001b[90m━━━━━━━━━━━━━━━━━━━━━━━━━━━━━━━━━━━━━━━━\u001b[0m \u001b[32m0.0/239.6 kB\u001b[0m \u001b[31m?\u001b[0m eta \u001b[36m-:--:--\u001b[0m\r\u001b[2K     \u001b[91m━━━━━━━━━━━\u001b[0m\u001b[91m╸\u001b[0m\u001b[90m━━━━━━━━━━━━━━━━━━━━━━━━━━━━\u001b[0m \u001b[32m71.7/239.6 kB\u001b[0m \u001b[31m1.9 MB/s\u001b[0m eta \u001b[36m0:00:01\u001b[0m\r\u001b[2K     \u001b[90m━━━━━━━━━━━━━━━━━━━━━━━━━━━━━━━━━━━━━━━━\u001b[0m \u001b[32m239.6/239.6 kB\u001b[0m \u001b[31m3.6 MB/s\u001b[0m eta \u001b[36m0:00:00\u001b[0m\n",
            "\u001b[?25hRequirement already satisfied: lxml>=3.1.0 in /usr/local/lib/python3.10/dist-packages (from python-docx) (4.9.4)\n",
            "Requirement already satisfied: typing-extensions in /usr/local/lib/python3.10/dist-packages (from python-docx) (4.9.0)\n",
            "Installing collected packages: python-docx\n",
            "Successfully installed python-docx-1.1.0\n"
          ]
        }
      ]
    },
    {
      "cell_type": "code",
      "source": [
        "from docx import Document\n",
        "from huggingface_hub import InferenceClient\n",
        "\n",
        "client = InferenceClient(\"mistralai/Mistral-7B-Instruct-v0.1\")\n",
        "\n",
        "# Sample prompt\n",
        "prompt = \"\"\"<s>[INST] What is your favourite condiment?  [/INST]</s>\n",
        "\"\"\"\n",
        "\n",
        "prompt = [\n",
        "    \"Crafting the Introduction:\\n- Develop a captivating opening statement that highlights the significance of addressing mental health in Iran.\\n- Mention the success of Safecast Japan and draw parallels to the potential positive impact on societal well-being in Iran.\",\n",
        "\n",
        "    \"Explain the Purpose:\\n- Clearly articulate the objective of the psychological phase, emphasizing the importance of understanding and addressing mental health challenges in the country.\",\n",
        "\n",
        "    \"Provide Context:\\n- Briefly explain the societal context in Iran, touching upon relevant challenges and the potential benefits of the project.\",\n",
        "\n",
        "    \"Utilize Visuals:\\n- Prepare compelling visuals, such as infographics or video clips, showcasing the successes of Safecast Japan and the potential positive outcomes for Iran.\",\n",
        "\n",
        "\n",
        "]\n",
        "# Generate response using Mistral\n",
        "res = client.text_generation(prompt, max_new_tokens=95)\n",
        "print(res)\n",
        "\n",
        "# Save response in DOCX file with a suggested related topic as the subtitle\n",
        "doc = Document()\n",
        "doc.add_heading('Document Title', 0)  # Title placeholder\n",
        "\n",
        "# Sample prompt and response\n",
        "prompt_response_pairs = [\n",
        "    (\"What is your favourite condiment?\", \"My favorite condiment is ketchup. It's versatile, tasty, and goes well with a variety of foods.\"),\n",
        "    # Add more prompt-response pairs as needed\n",
        "]\n",
        "\n",
        "for i, (user_prompt, bot_response) in enumerate(prompt_response_pairs):\n",
        "    # Generate formatted prompt for Mistral\n",
        "    formatted_prompt = format_prompt(bot_response, [(user_prompt, bot_response)])\n",
        "\n",
        "    # Generate Mistral response\n",
        "    response = client.text_generation(formatted_prompt, max_new_tokens=256, stream=True, details=True, return_full_text=False)\n",
        "\n",
        "    # Save response in DOCX file\n",
        "    doc.add_heading(f'Related Topic {i + 1}', level=1).bold = True\n",
        "    doc.add_heading(user_prompt, level=2).bold = True\n",
        "    doc.add_paragraph(bot_response)\n",
        "\n",
        "# Save the DOCX file\n",
        "doc.save(\"safecast_iran_project.docx\")\n",
        "\n",
        "# Prompt to suggest the title for the DOCX file\n",
        "title_prompt = \"Suggest a Title for the Document:\"\n",
        "title_response = client.text_generation(title_prompt, max_new_tokens=50)\n",
        "print(title_response)"
      ],
      "metadata": {
        "id": "wUy7N_8zJvyT"
      },
      "execution_count": null,
      "outputs": []
    },
    {
      "cell_type": "markdown",
      "source": [
        "#made by lmsys :"
      ],
      "metadata": {
        "id": "LVv_zKI6OOWu"
      }
    },
    {
      "cell_type": "code",
      "source": [
        "!pip install huggingface-hub python-docx gradio"
      ],
      "metadata": {
        "id": "4wovy9SoOMAb",
        "outputId": "01b3ba2d-d1ad-4cc7-c05b-4c59f6df4d8e",
        "colab": {
          "base_uri": "https://localhost:8080/"
        }
      },
      "execution_count": 12,
      "outputs": [
        {
          "output_type": "stream",
          "name": "stdout",
          "text": [
            "Requirement already satisfied: huggingface-hub in /usr/local/lib/python3.10/dist-packages (0.20.2)\n",
            "Requirement already satisfied: python-docx in /usr/local/lib/python3.10/dist-packages (1.1.0)\n",
            "Requirement already satisfied: gradio in /usr/local/lib/python3.10/dist-packages (4.13.0)\n",
            "Requirement already satisfied: filelock in /usr/local/lib/python3.10/dist-packages (from huggingface-hub) (3.13.1)\n",
            "Requirement already satisfied: fsspec>=2023.5.0 in /usr/local/lib/python3.10/dist-packages (from huggingface-hub) (2023.6.0)\n",
            "Requirement already satisfied: requests in /usr/local/lib/python3.10/dist-packages (from huggingface-hub) (2.31.0)\n",
            "Requirement already satisfied: tqdm>=4.42.1 in /usr/local/lib/python3.10/dist-packages (from huggingface-hub) (4.66.1)\n",
            "Requirement already satisfied: pyyaml>=5.1 in /usr/local/lib/python3.10/dist-packages (from huggingface-hub) (6.0.1)\n",
            "Requirement already satisfied: typing-extensions>=3.7.4.3 in /usr/local/lib/python3.10/dist-packages (from huggingface-hub) (4.9.0)\n",
            "Requirement already satisfied: packaging>=20.9 in /usr/local/lib/python3.10/dist-packages (from huggingface-hub) (23.2)\n",
            "Requirement already satisfied: lxml>=3.1.0 in /usr/local/lib/python3.10/dist-packages (from python-docx) (4.9.4)\n",
            "Requirement already satisfied: aiofiles<24.0,>=22.0 in /usr/local/lib/python3.10/dist-packages (from gradio) (23.2.1)\n",
            "Requirement already satisfied: altair<6.0,>=4.2.0 in /usr/local/lib/python3.10/dist-packages (from gradio) (4.2.2)\n",
            "Requirement already satisfied: fastapi in /usr/local/lib/python3.10/dist-packages (from gradio) (0.108.0)\n",
            "Requirement already satisfied: ffmpy in /usr/local/lib/python3.10/dist-packages (from gradio) (0.3.1)\n",
            "Requirement already satisfied: gradio-client==0.8.0 in /usr/local/lib/python3.10/dist-packages (from gradio) (0.8.0)\n",
            "Requirement already satisfied: httpx in /usr/local/lib/python3.10/dist-packages (from gradio) (0.26.0)\n",
            "Requirement already satisfied: importlib-resources<7.0,>=1.3 in /usr/local/lib/python3.10/dist-packages (from gradio) (6.1.1)\n",
            "Requirement already satisfied: jinja2<4.0 in /usr/local/lib/python3.10/dist-packages (from gradio) (3.1.2)\n",
            "Requirement already satisfied: markupsafe~=2.0 in /usr/local/lib/python3.10/dist-packages (from gradio) (2.1.3)\n",
            "Requirement already satisfied: matplotlib~=3.0 in /usr/local/lib/python3.10/dist-packages (from gradio) (3.7.1)\n",
            "Requirement already satisfied: numpy~=1.0 in /usr/local/lib/python3.10/dist-packages (from gradio) (1.23.5)\n",
            "Requirement already satisfied: orjson~=3.0 in /usr/local/lib/python3.10/dist-packages (from gradio) (3.9.10)\n",
            "Requirement already satisfied: pandas<3.0,>=1.0 in /usr/local/lib/python3.10/dist-packages (from gradio) (1.5.3)\n",
            "Requirement already satisfied: pillow<11.0,>=8.0 in /usr/local/lib/python3.10/dist-packages (from gradio) (9.4.0)\n",
            "Requirement already satisfied: pydantic>=2.0 in /usr/local/lib/python3.10/dist-packages (from gradio) (2.5.3)\n",
            "Requirement already satisfied: pydub in /usr/local/lib/python3.10/dist-packages (from gradio) (0.25.1)\n",
            "Requirement already satisfied: python-multipart in /usr/local/lib/python3.10/dist-packages (from gradio) (0.0.6)\n",
            "Requirement already satisfied: semantic-version~=2.0 in /usr/local/lib/python3.10/dist-packages (from gradio) (2.10.0)\n",
            "Requirement already satisfied: tomlkit==0.12.0 in /usr/local/lib/python3.10/dist-packages (from gradio) (0.12.0)\n",
            "Requirement already satisfied: typer[all]<1.0,>=0.9 in /usr/local/lib/python3.10/dist-packages (from gradio) (0.9.0)\n",
            "Requirement already satisfied: uvicorn>=0.14.0 in /usr/local/lib/python3.10/dist-packages (from gradio) (0.25.0)\n",
            "Requirement already satisfied: websockets<12.0,>=10.0 in /usr/local/lib/python3.10/dist-packages (from gradio-client==0.8.0->gradio) (11.0.3)\n",
            "Requirement already satisfied: entrypoints in /usr/local/lib/python3.10/dist-packages (from altair<6.0,>=4.2.0->gradio) (0.4)\n",
            "Requirement already satisfied: jsonschema>=3.0 in /usr/local/lib/python3.10/dist-packages (from altair<6.0,>=4.2.0->gradio) (4.19.2)\n",
            "Requirement already satisfied: toolz in /usr/local/lib/python3.10/dist-packages (from altair<6.0,>=4.2.0->gradio) (0.12.0)\n",
            "Requirement already satisfied: contourpy>=1.0.1 in /usr/local/lib/python3.10/dist-packages (from matplotlib~=3.0->gradio) (1.2.0)\n",
            "Requirement already satisfied: cycler>=0.10 in /usr/local/lib/python3.10/dist-packages (from matplotlib~=3.0->gradio) (0.12.1)\n",
            "Requirement already satisfied: fonttools>=4.22.0 in /usr/local/lib/python3.10/dist-packages (from matplotlib~=3.0->gradio) (4.47.0)\n",
            "Requirement already satisfied: kiwisolver>=1.0.1 in /usr/local/lib/python3.10/dist-packages (from matplotlib~=3.0->gradio) (1.4.5)\n",
            "Requirement already satisfied: pyparsing>=2.3.1 in /usr/local/lib/python3.10/dist-packages (from matplotlib~=3.0->gradio) (3.1.1)\n",
            "Requirement already satisfied: python-dateutil>=2.7 in /usr/local/lib/python3.10/dist-packages (from matplotlib~=3.0->gradio) (2.8.2)\n",
            "Requirement already satisfied: pytz>=2020.1 in /usr/local/lib/python3.10/dist-packages (from pandas<3.0,>=1.0->gradio) (2023.3.post1)\n",
            "Requirement already satisfied: annotated-types>=0.4.0 in /usr/local/lib/python3.10/dist-packages (from pydantic>=2.0->gradio) (0.6.0)\n",
            "Requirement already satisfied: pydantic-core==2.14.6 in /usr/local/lib/python3.10/dist-packages (from pydantic>=2.0->gradio) (2.14.6)\n",
            "Requirement already satisfied: click<9.0.0,>=7.1.1 in /usr/local/lib/python3.10/dist-packages (from typer[all]<1.0,>=0.9->gradio) (8.1.7)\n",
            "Requirement already satisfied: colorama<0.5.0,>=0.4.3 in /usr/local/lib/python3.10/dist-packages (from typer[all]<1.0,>=0.9->gradio) (0.4.6)\n",
            "Requirement already satisfied: shellingham<2.0.0,>=1.3.0 in /usr/local/lib/python3.10/dist-packages (from typer[all]<1.0,>=0.9->gradio) (1.5.4)\n",
            "Requirement already satisfied: rich<14.0.0,>=10.11.0 in /usr/local/lib/python3.10/dist-packages (from typer[all]<1.0,>=0.9->gradio) (13.7.0)\n",
            "Requirement already satisfied: h11>=0.8 in /usr/local/lib/python3.10/dist-packages (from uvicorn>=0.14.0->gradio) (0.14.0)\n",
            "Requirement already satisfied: starlette<0.33.0,>=0.29.0 in /usr/local/lib/python3.10/dist-packages (from fastapi->gradio) (0.32.0.post1)\n",
            "Requirement already satisfied: anyio in /usr/local/lib/python3.10/dist-packages (from httpx->gradio) (3.7.1)\n",
            "Requirement already satisfied: certifi in /usr/local/lib/python3.10/dist-packages (from httpx->gradio) (2023.11.17)\n",
            "Requirement already satisfied: httpcore==1.* in /usr/local/lib/python3.10/dist-packages (from httpx->gradio) (1.0.2)\n",
            "Requirement already satisfied: idna in /usr/local/lib/python3.10/dist-packages (from httpx->gradio) (3.6)\n",
            "Requirement already satisfied: sniffio in /usr/local/lib/python3.10/dist-packages (from httpx->gradio) (1.3.0)\n",
            "Requirement already satisfied: charset-normalizer<4,>=2 in /usr/local/lib/python3.10/dist-packages (from requests->huggingface-hub) (3.3.2)\n",
            "Requirement already satisfied: urllib3<3,>=1.21.1 in /usr/local/lib/python3.10/dist-packages (from requests->huggingface-hub) (2.0.7)\n",
            "Requirement already satisfied: attrs>=22.2.0 in /usr/local/lib/python3.10/dist-packages (from jsonschema>=3.0->altair<6.0,>=4.2.0->gradio) (23.2.0)\n",
            "Requirement already satisfied: jsonschema-specifications>=2023.03.6 in /usr/local/lib/python3.10/dist-packages (from jsonschema>=3.0->altair<6.0,>=4.2.0->gradio) (2023.12.1)\n",
            "Requirement already satisfied: referencing>=0.28.4 in /usr/local/lib/python3.10/dist-packages (from jsonschema>=3.0->altair<6.0,>=4.2.0->gradio) (0.32.0)\n",
            "Requirement already satisfied: rpds-py>=0.7.1 in /usr/local/lib/python3.10/dist-packages (from jsonschema>=3.0->altair<6.0,>=4.2.0->gradio) (0.16.2)\n",
            "Requirement already satisfied: six>=1.5 in /usr/local/lib/python3.10/dist-packages (from python-dateutil>=2.7->matplotlib~=3.0->gradio) (1.16.0)\n",
            "Requirement already satisfied: markdown-it-py>=2.2.0 in /usr/local/lib/python3.10/dist-packages (from rich<14.0.0,>=10.11.0->typer[all]<1.0,>=0.9->gradio) (3.0.0)\n",
            "Requirement already satisfied: pygments<3.0.0,>=2.13.0 in /usr/local/lib/python3.10/dist-packages (from rich<14.0.0,>=10.11.0->typer[all]<1.0,>=0.9->gradio) (2.16.1)\n",
            "Requirement already satisfied: exceptiongroup in /usr/local/lib/python3.10/dist-packages (from anyio->httpx->gradio) (1.2.0)\n",
            "Requirement already satisfied: mdurl~=0.1 in /usr/local/lib/python3.10/dist-packages (from markdown-it-py>=2.2.0->rich<14.0.0,>=10.11.0->typer[all]<1.0,>=0.9->gradio) (0.1.2)\n"
          ]
        }
      ]
    },
    {
      "cell_type": "code",
      "source": [
        "curriculum_prompts = [\n",
        "    f\"Curriculum Title: Civil Conflict Resolution and Transformative Scenario Planning for the Iranian Opposition\",\n",
        "    f\"Module 1: Understanding Conflict Dynamics (Weeks 1-2)\\n\"\n",
        "    f\"1.1 Introduction to Conflict Resolution\\n\"\n",
        "    f\"1.2 Understanding the Iranian Political Landscape\\n\"\n",
        "    f\"Conflict Resolution Approaches\",\n",
        "    f\"Module 2: Communication and Dialogue (Weeks 3-4)\\n\"\n",
        "    f\"2.1 Effective Communication Skills\\n\"\n",
        "    f\"2.2 Constructive Dialogue Techniques\\n\"\n",
        "    f\"2.3 Cultural Sensitivity in Communication\",\n",
        "    f\"Module 3: Mediation and Negotiation (Weeks 5-6)\\n\"\n",
        "    f\"3.1 Mediation Process\\n\"\n",
        "    f\"3.2 Negotiation Strategies\\n\"\n",
        "    f\"3.3 Case Studies in Mediation and Negotiation\",\n",
        "    f\"Module 4: Advocacy and Civil Engagement (Weeks 7-8)\\n\"\n",
        "    f\"4.1 Advocacy for Conflict Resolution\\n\"\n",
        "    f\"4.2 Leveraging International Support\\n\"\n",
        "    f\"4.3 Community Engagement\",\n",
        "    f\"Module 5: Ethical Considerations (Weeks 9-10)\\n\"\n",
        "    f\"5.1 Ethics in Conflict Resolution\\n\"\n",
        "    f\"5.2 Navigating Legal Frameworks\",\n",
        "    f\"Module 6: Building Resilience and Sustainable Peace (Weeks 11-12)\\n\"\n",
        "    f\"6.1 Psychosocial Support\\n\"\n",
        "    f\"6.2 Sustainable Peacebuilding\",\n",
        "    f\"Module 7: Transformative Scenario Planning (Weeks 13-14)\\n\"\n",
        "    f\"7.1 Introduction to Transformative Scenario Planning\\n\"\n",
        "    f\"7.2 Understanding the Iranian Political Landscape for Scenario Planning\\n\"\n",
        "    f\"7.3 Analysis of Current Conflict Dynamics for Scenario Planning\",\n",
        "    f\"Module 8: Tools and Techniques of Transformative Scenario Planning (Weeks 15-16)\\n\"\n",
        "    f\"8.1 Scenario Building Techniques\\n\"\n",
        "    f\"8.2 Systems Thinking and Complexity in Conflict\\n\"\n",
        "    f\"8.3 Data Collection and Analysis for Scenario Planning\",\n",
        "    f\"Module 9: Visioning and Goal Setting for Scenario Planning (Weeks 17-18)\\n\"\n",
        "    f\"9.1 Envisioning a Desired Future\\n\"\n",
        "    f\"9.2 Setting Transformative Goals for Scenario Planning\",\n",
        "    f\"Module 10: Stakeholder Engagement and Collaboration for Scenario Planning (Weeks 19-20)\\n\"\n",
        "    f\"10.1 Identifying and Mapping Stakeholders for Scenario Planning\\n\"\n",
        "    f\"10.2 Facilitating Collaborative Processes for Scenario Planning\",\n",
        "    f\"Module 11: Scenario Testing and Rehearsal (Weeks 21-22)\\n\"\n",
        "    f\"11.1 Testing Scenarios Through Simulation\\n\"\n",
        "    f\"11.2 Adaptive Strategy Development for Scenario Planning\",\n",
        "    f\"Module 12: Communication and Advocacy for Scenario Planning (Weeks 23-24)\\n\"\n",
        "    f\"12.1 Communicating Transformative Visions for Scenario Planning\\n\"\n",
        "    f\"12.2 Advocacy for Conflict Transformation in Scenario Planning\",\n",
        "    f\"Module 13: Implementation and Monitoring (Weeks 25-26)\\n\"\n",
        "    f\"13.1 Action Planning and Implementation for Scenario Planning\\n\"\n",
        "    f\"13.2 Monitoring and Adaptive Management for Scenario Planning\",\n",
        "    f\"Module 14: Reflection and Future Directions (Weeks 27-28)\\n\"\n",
        "    f\"14.1 Course Reflection and Evaluation\\n\"\n",
        "    f\"14.2 Developing a Sustainable Path Forward\",\n",
        "    f\"Assessment:\\n\"\n",
        "    f\"Active participation in discussions and activities\\n\"\n",
        "    f\"Case study analyses\\n\"\n",
        "    f\"Mediation and negotiation simulations\\n\"\n",
        "    f\"Advocacy and community engagement project\\n\"\n",
        "    f\"Scenario-building exercises\\n\"\n",
        "    f\"Stakeholder engagement and collaboration project\\n\"\n",
        "    f\"Action plan development and presentation\\n\"\n",
        "    f\"Final reflection and vision for the future\"\n",
        "]"
      ],
      "metadata": {
        "id": "zypXkq8EOSjU"
      },
      "execution_count": 14,
      "outputs": []
    },
    {
      "cell_type": "code",
      "source": [
        "\n",
        "from huggingface_hub import InferenceClient\n",
        "from docx import Document\n",
        "from docx.shared import Pt\n",
        "from docx.enum.text import WD_PARAGRAPH_ALIGNMENT\n",
        "\n",
        "# Initialize the InferenceClient with your chosen model\n",
        "client = InferenceClient(\"mistralai/Mistral-7B-Instruct-v0.1\")\n",
        "\n",
        "# Define a prompt for generating the document title\n",
        "title_prompt = \"<s>[INST] Suggest a title for a document covering a curriculum on Civil Conflict Resolution and Transformative Scenario Planning for the Iranian Opposition. [/INST]</s>\"\n",
        "\n",
        "# Generate the title\n",
        "try:\n",
        "    title_res = client.text_generation(title_prompt, max_new_tokens=35)\n",
        "    if title_res and 'generated_text' in title_res[0]:\n",
        "        doc_title = title_res[0]['generated_text'].strip()\n",
        "    else:\n",
        "        raise ValueError(\"No generated text found in the response.\")\n",
        "except Exception as e:\n",
        "    print(f\"An error occurred while generating the title: {e}\")\n",
        "    doc_title = \"Civil Conflict Resolution and Scenario Planning Curriculum\"\n",
        "\n",
        "# Create a new Word document\n",
        "doc = Document()\n",
        "\n",
        "def add_heading(doc, text, level=1):\n",
        "    heading = doc.add_heading(text, level=level)\n",
        "    heading.alignment = WD_PARAGRAPH_ALIGNMENT.CENTER\n",
        "    run = heading.runs[0]\n",
        "    run.font.size = Pt(14 if level == 1 else 12)\n",
        "\n",
        "def add_paragraph(doc, text):\n",
        "    paragraph = doc.add_paragraph(text)\n",
        "    run = paragraph.runs[0]\n",
        "    run.font.size = Pt(11)\n",
        "\n",
        "# Add the generated title to the document\n",
        "add_heading(doc, doc_title, level=1)\n",
        "\n",
        "# Example: Add content for a couple of modules\n",
        "curriculum_prompts_0 = [\n",
        "    \"Module 1: Understanding Conflict Dynamics (Weeks 1-2)\",\n",
        "    # ... Add other modules here\n",
        "]\n",
        "\n",
        "# Generate content for each prompt and add it to the document\n",
        "for index, module_prompt in enumerate(curriculum_prompts):\n",
        "    prompt = f\"<s>[INST] {module_prompt} [/INST]</s>\"\n",
        "    try:\n",
        "        res = client.text_generation(prompt, max_new_tokens=95)\n",
        "        if res and 'generated_text' in res[0]:\n",
        "            add_heading(doc, f\"Module {index+1}\", level=2)\n",
        "            add_paragraph(doc, res[0]['generated_text'])\n",
        "        else:\n",
        "            add_paragraph(doc, f\"Content for {module_prompt} could not be generated.\")\n",
        "    except Exception as e:\n",
        "        print(f\"An error occurred while generating content for {module_prompt}: {e}\")\n",
        "        add_paragraph(doc, f\"Content for {module_prompt} could not be generated.\")\n",
        "\n",
        "# Save the document with the generated title as the filename\n",
        "doc.save(f\"{doc_title}.docx\")"
      ],
      "metadata": {
        "id": "XUeYjl0oOVK8",
        "outputId": "927d36a0-7dbb-4a13-b64b-202e4d56b1c3",
        "colab": {
          "base_uri": "https://localhost:8080/"
        }
      },
      "execution_count": 16,
      "outputs": [
        {
          "output_type": "stream",
          "name": "stdout",
          "text": [
            "An error occurred while generating the title: No generated text found in the response.\n",
            "An error occurred while generating content for Module 10: Stakeholder Engagement and Collaboration for Scenario Planning (Weeks 19-20)\n",
            "10.1 Identifying and Mapping Stakeholders for Scenario Planning\n",
            "10.2 Facilitating Collaborative Processes for Scenario Planning: 429 Client Error: Too Many Requests for url: https://api-inference.huggingface.co/models/mistralai/Mistral-7B-Instruct-v0.1 (Request ID: 4Yjvo7tl_KxoGcejwcgeu)\n",
            "\n",
            "Rate limit reached. Please log in or use your apiToken\n",
            "An error occurred while generating content for Module 11: Scenario Testing and Rehearsal (Weeks 21-22)\n",
            "11.1 Testing Scenarios Through Simulation\n",
            "11.2 Adaptive Strategy Development for Scenario Planning: 429 Client Error: Too Many Requests for url: https://api-inference.huggingface.co/models/mistralai/Mistral-7B-Instruct-v0.1 (Request ID: 7R66E7LqJotnth14phocz)\n",
            "\n",
            "Rate limit reached. Please log in or use your apiToken\n",
            "An error occurred while generating content for Module 12: Communication and Advocacy for Scenario Planning (Weeks 23-24)\n",
            "12.1 Communicating Transformative Visions for Scenario Planning\n",
            "12.2 Advocacy for Conflict Transformation in Scenario Planning: 429 Client Error: Too Many Requests for url: https://api-inference.huggingface.co/models/mistralai/Mistral-7B-Instruct-v0.1 (Request ID: jh1llr9oAiSbXfXw_xVe_)\n",
            "\n",
            "Rate limit reached. Please log in or use your apiToken\n",
            "An error occurred while generating content for Module 13: Implementation and Monitoring (Weeks 25-26)\n",
            "13.1 Action Planning and Implementation for Scenario Planning\n",
            "13.2 Monitoring and Adaptive Management for Scenario Planning: 429 Client Error: Too Many Requests for url: https://api-inference.huggingface.co/models/mistralai/Mistral-7B-Instruct-v0.1 (Request ID: oxtVEwQQSCIpn-SknEyVx)\n",
            "\n",
            "Rate limit reached. Please log in or use your apiToken\n",
            "An error occurred while generating content for Module 14: Reflection and Future Directions (Weeks 27-28)\n",
            "14.1 Course Reflection and Evaluation\n",
            "14.2 Developing a Sustainable Path Forward: 429 Client Error: Too Many Requests for url: https://api-inference.huggingface.co/models/mistralai/Mistral-7B-Instruct-v0.1 (Request ID: dBFFeYJas4ypz8HDU852s)\n",
            "\n",
            "Rate limit reached. Please log in or use your apiToken\n",
            "An error occurred while generating content for Assessment:\n",
            "Active participation in discussions and activities\n",
            "Case study analyses\n",
            "Mediation and negotiation simulations\n",
            "Advocacy and community engagement project\n",
            "Scenario-building exercises\n",
            "Stakeholder engagement and collaboration project\n",
            "Action plan development and presentation\n",
            "Final reflection and vision for the future: 429 Client Error: Too Many Requests for url: https://api-inference.huggingface.co/models/mistralai/Mistral-7B-Instruct-v0.1 (Request ID: 3CFVs77qHTkc2J10xe7y9)\n",
            "\n",
            "Rate limit reached. Please log in or use your apiToken\n"
          ]
        }
      ]
    },
    {
      "cell_type": "code",
      "source": [],
      "metadata": {
        "id": "-8L_ZAzlS656"
      },
      "execution_count": null,
      "outputs": []
    },
    {
      "cell_type": "code",
      "source": [
        "from transformers import AutoTokenizer, AutoModelForCausalLM\n",
        "\n",
        "# Path to the local directory where the model is saved\n",
        "local_model_dir = \"./mistralai/Mistral-7B-Instruct-v0.1\"\n",
        "\n",
        "# Load tokenizer and model from local directory\n",
        "tokenizer = AutoTokenizer.from_pretrained(local_model_dir)\n",
        "model = AutoModelForCausalLM.from_pretrained(local_model_dir)\n",
        "\n",
        "# Function to generate text using the loaded model\n",
        "def generate_text(prompt, max_length=50):\n",
        "    # Tokenize the prompt\n",
        "    input_ids = tokenizer(prompt, return_tensors=\"pt\").input_ids\n",
        "\n",
        "    # Generate a sequence of text after the prompt\n",
        "    output_sequences = model.generate(\n",
        "        input_ids=input_ids,\n",
        "        max_length=max_length,\n",
        "        temperature=0.7,\n",
        "        top_k=50,\n",
        "        top_p=0.95,\n",
        "        repetition_penalty=1.2,\n",
        "        do_sample=True,\n",
        "        num_return_sequences=1\n",
        "    )\n",
        "\n",
        "    # Decode the output sequences to text\n",
        "    generated_text = tokenizer.decode(output_sequences[0], skip_special_tokens=True)\n",
        "\n",
        "    return generated_text\n",
        "\n",
        "# Example usage\n",
        "prompt = \"Hello, my name is\"\n",
        "generated_text = generate_text(prompt)\n",
        "print(generated_text)"
      ],
      "metadata": {
        "id": "NR6XlaD9S29H",
        "outputId": "783b8290-58ee-4f77-d72a-9a041372138a",
        "colab": {
          "base_uri": "https://localhost:8080/",
          "height": 775
        }
      },
      "execution_count": 17,
      "outputs": [
        {
          "output_type": "error",
          "ename": "HFValidationError",
          "evalue": "Repo id must be in the form 'repo_name' or 'namespace/repo_name': './mistralai/Mistral-7B-Instruct-v0.1'. Use `repo_type` argument if needed.",
          "traceback": [
            "\u001b[0;31m---------------------------------------------------------------------------\u001b[0m",
            "\u001b[0;31mHFValidationError\u001b[0m                         Traceback (most recent call last)",
            "\u001b[0;32m<ipython-input-17-bcc5d796cf98>\u001b[0m in \u001b[0;36m<cell line: 7>\u001b[0;34m()\u001b[0m\n\u001b[1;32m      5\u001b[0m \u001b[0;34m\u001b[0m\u001b[0m\n\u001b[1;32m      6\u001b[0m \u001b[0;31m# Load tokenizer and model from local directory\u001b[0m\u001b[0;34m\u001b[0m\u001b[0;34m\u001b[0m\u001b[0m\n\u001b[0;32m----> 7\u001b[0;31m \u001b[0mtokenizer\u001b[0m \u001b[0;34m=\u001b[0m \u001b[0mAutoTokenizer\u001b[0m\u001b[0;34m.\u001b[0m\u001b[0mfrom_pretrained\u001b[0m\u001b[0;34m(\u001b[0m\u001b[0mlocal_model_dir\u001b[0m\u001b[0;34m)\u001b[0m\u001b[0;34m\u001b[0m\u001b[0;34m\u001b[0m\u001b[0m\n\u001b[0m\u001b[1;32m      8\u001b[0m \u001b[0mmodel\u001b[0m \u001b[0;34m=\u001b[0m \u001b[0mAutoModelForCausalLM\u001b[0m\u001b[0;34m.\u001b[0m\u001b[0mfrom_pretrained\u001b[0m\u001b[0;34m(\u001b[0m\u001b[0mlocal_model_dir\u001b[0m\u001b[0;34m)\u001b[0m\u001b[0;34m\u001b[0m\u001b[0;34m\u001b[0m\u001b[0m\n\u001b[1;32m      9\u001b[0m \u001b[0;34m\u001b[0m\u001b[0m\n",
            "\u001b[0;32m/usr/local/lib/python3.10/dist-packages/transformers/models/auto/tokenization_auto.py\u001b[0m in \u001b[0;36mfrom_pretrained\u001b[0;34m(cls, pretrained_model_name_or_path, *inputs, **kwargs)\u001b[0m\n\u001b[1;32m    716\u001b[0m \u001b[0;34m\u001b[0m\u001b[0m\n\u001b[1;32m    717\u001b[0m         \u001b[0;31m# Next, let's try to use the tokenizer_config file to get the tokenizer class.\u001b[0m\u001b[0;34m\u001b[0m\u001b[0;34m\u001b[0m\u001b[0m\n\u001b[0;32m--> 718\u001b[0;31m         \u001b[0mtokenizer_config\u001b[0m \u001b[0;34m=\u001b[0m \u001b[0mget_tokenizer_config\u001b[0m\u001b[0;34m(\u001b[0m\u001b[0mpretrained_model_name_or_path\u001b[0m\u001b[0;34m,\u001b[0m \u001b[0;34m**\u001b[0m\u001b[0mkwargs\u001b[0m\u001b[0;34m)\u001b[0m\u001b[0;34m\u001b[0m\u001b[0;34m\u001b[0m\u001b[0m\n\u001b[0m\u001b[1;32m    719\u001b[0m         \u001b[0;32mif\u001b[0m \u001b[0;34m\"_commit_hash\"\u001b[0m \u001b[0;32min\u001b[0m \u001b[0mtokenizer_config\u001b[0m\u001b[0;34m:\u001b[0m\u001b[0;34m\u001b[0m\u001b[0;34m\u001b[0m\u001b[0m\n\u001b[1;32m    720\u001b[0m             \u001b[0mkwargs\u001b[0m\u001b[0;34m[\u001b[0m\u001b[0;34m\"_commit_hash\"\u001b[0m\u001b[0;34m]\u001b[0m \u001b[0;34m=\u001b[0m \u001b[0mtokenizer_config\u001b[0m\u001b[0;34m[\u001b[0m\u001b[0;34m\"_commit_hash\"\u001b[0m\u001b[0;34m]\u001b[0m\u001b[0;34m\u001b[0m\u001b[0;34m\u001b[0m\u001b[0m\n",
            "\u001b[0;32m/usr/local/lib/python3.10/dist-packages/transformers/models/auto/tokenization_auto.py\u001b[0m in \u001b[0;36mget_tokenizer_config\u001b[0;34m(pretrained_model_name_or_path, cache_dir, force_download, resume_download, proxies, token, revision, local_files_only, subfolder, **kwargs)\u001b[0m\n\u001b[1;32m    548\u001b[0m \u001b[0;34m\u001b[0m\u001b[0m\n\u001b[1;32m    549\u001b[0m     \u001b[0mcommit_hash\u001b[0m \u001b[0;34m=\u001b[0m \u001b[0mkwargs\u001b[0m\u001b[0;34m.\u001b[0m\u001b[0mget\u001b[0m\u001b[0;34m(\u001b[0m\u001b[0;34m\"_commit_hash\"\u001b[0m\u001b[0;34m,\u001b[0m \u001b[0;32mNone\u001b[0m\u001b[0;34m)\u001b[0m\u001b[0;34m\u001b[0m\u001b[0;34m\u001b[0m\u001b[0m\n\u001b[0;32m--> 550\u001b[0;31m     resolved_config_file = cached_file(\n\u001b[0m\u001b[1;32m    551\u001b[0m         \u001b[0mpretrained_model_name_or_path\u001b[0m\u001b[0;34m,\u001b[0m\u001b[0;34m\u001b[0m\u001b[0;34m\u001b[0m\u001b[0m\n\u001b[1;32m    552\u001b[0m         \u001b[0mTOKENIZER_CONFIG_FILE\u001b[0m\u001b[0;34m,\u001b[0m\u001b[0;34m\u001b[0m\u001b[0;34m\u001b[0m\u001b[0m\n",
            "\u001b[0;32m/usr/local/lib/python3.10/dist-packages/transformers/utils/hub.py\u001b[0m in \u001b[0;36mcached_file\u001b[0;34m(path_or_repo_id, filename, cache_dir, force_download, resume_download, proxies, token, revision, local_files_only, subfolder, repo_type, user_agent, _raise_exceptions_for_missing_entries, _raise_exceptions_for_connection_errors, _commit_hash, **deprecated_kwargs)\u001b[0m\n\u001b[1;32m    428\u001b[0m     \u001b[0;32mtry\u001b[0m\u001b[0;34m:\u001b[0m\u001b[0;34m\u001b[0m\u001b[0;34m\u001b[0m\u001b[0m\n\u001b[1;32m    429\u001b[0m         \u001b[0;31m# Load from URL or cache if already cached\u001b[0m\u001b[0;34m\u001b[0m\u001b[0;34m\u001b[0m\u001b[0m\n\u001b[0;32m--> 430\u001b[0;31m         resolved_file = hf_hub_download(\n\u001b[0m\u001b[1;32m    431\u001b[0m             \u001b[0mpath_or_repo_id\u001b[0m\u001b[0;34m,\u001b[0m\u001b[0;34m\u001b[0m\u001b[0;34m\u001b[0m\u001b[0m\n\u001b[1;32m    432\u001b[0m             \u001b[0mfilename\u001b[0m\u001b[0;34m,\u001b[0m\u001b[0;34m\u001b[0m\u001b[0;34m\u001b[0m\u001b[0m\n",
            "\u001b[0;32m/usr/local/lib/python3.10/dist-packages/huggingface_hub/utils/_validators.py\u001b[0m in \u001b[0;36m_inner_fn\u001b[0;34m(*args, **kwargs)\u001b[0m\n\u001b[1;32m    108\u001b[0m         ):\n\u001b[1;32m    109\u001b[0m             \u001b[0;32mif\u001b[0m \u001b[0marg_name\u001b[0m \u001b[0;32min\u001b[0m \u001b[0;34m[\u001b[0m\u001b[0;34m\"repo_id\"\u001b[0m\u001b[0;34m,\u001b[0m \u001b[0;34m\"from_id\"\u001b[0m\u001b[0;34m,\u001b[0m \u001b[0;34m\"to_id\"\u001b[0m\u001b[0;34m]\u001b[0m\u001b[0;34m:\u001b[0m\u001b[0;34m\u001b[0m\u001b[0;34m\u001b[0m\u001b[0m\n\u001b[0;32m--> 110\u001b[0;31m                 \u001b[0mvalidate_repo_id\u001b[0m\u001b[0;34m(\u001b[0m\u001b[0marg_value\u001b[0m\u001b[0;34m)\u001b[0m\u001b[0;34m\u001b[0m\u001b[0;34m\u001b[0m\u001b[0m\n\u001b[0m\u001b[1;32m    111\u001b[0m \u001b[0;34m\u001b[0m\u001b[0m\n\u001b[1;32m    112\u001b[0m             \u001b[0;32melif\u001b[0m \u001b[0marg_name\u001b[0m \u001b[0;34m==\u001b[0m \u001b[0;34m\"token\"\u001b[0m \u001b[0;32mand\u001b[0m \u001b[0marg_value\u001b[0m \u001b[0;32mis\u001b[0m \u001b[0;32mnot\u001b[0m \u001b[0;32mNone\u001b[0m\u001b[0;34m:\u001b[0m\u001b[0;34m\u001b[0m\u001b[0;34m\u001b[0m\u001b[0m\n",
            "\u001b[0;32m/usr/local/lib/python3.10/dist-packages/huggingface_hub/utils/_validators.py\u001b[0m in \u001b[0;36mvalidate_repo_id\u001b[0;34m(repo_id)\u001b[0m\n\u001b[1;32m    156\u001b[0m \u001b[0;34m\u001b[0m\u001b[0m\n\u001b[1;32m    157\u001b[0m     \u001b[0;32mif\u001b[0m \u001b[0mrepo_id\u001b[0m\u001b[0;34m.\u001b[0m\u001b[0mcount\u001b[0m\u001b[0;34m(\u001b[0m\u001b[0;34m\"/\"\u001b[0m\u001b[0;34m)\u001b[0m \u001b[0;34m>\u001b[0m \u001b[0;36m1\u001b[0m\u001b[0;34m:\u001b[0m\u001b[0;34m\u001b[0m\u001b[0;34m\u001b[0m\u001b[0m\n\u001b[0;32m--> 158\u001b[0;31m         raise HFValidationError(\n\u001b[0m\u001b[1;32m    159\u001b[0m             \u001b[0;34m\"Repo id must be in the form 'repo_name' or 'namespace/repo_name':\"\u001b[0m\u001b[0;34m\u001b[0m\u001b[0;34m\u001b[0m\u001b[0m\n\u001b[1;32m    160\u001b[0m             \u001b[0;34mf\" '{repo_id}'. Use `repo_type` argument if needed.\"\u001b[0m\u001b[0;34m\u001b[0m\u001b[0;34m\u001b[0m\u001b[0m\n",
            "\u001b[0;31mHFValidationError\u001b[0m: Repo id must be in the form 'repo_name' or 'namespace/repo_name': './mistralai/Mistral-7B-Instruct-v0.1'. Use `repo_type` argument if needed."
          ]
        }
      ]
    }
  ]
}