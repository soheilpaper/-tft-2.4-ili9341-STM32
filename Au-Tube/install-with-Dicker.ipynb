{
  "cells": [
    {
      "cell_type": "markdown",
      "metadata": {
        "id": "view-in-github",
        "colab_type": "text"
      },
      "source": [
        "<a href=\"https://colab.research.google.com/github/soheilpaper/-tft-2.4-ili9341-STM32/blob/master/Au-Tube/install-with-Dicker.ipynb\" target=\"_parent\"><img src=\"https://colab.research.google.com/assets/colab-badge.svg\" alt=\"Open In Colab\"/></a>"
      ]
    },
    {
      "cell_type": "markdown",
      "metadata": {
        "id": "iGVKFMwomkk0"
      },
      "source": [
        "# A Whirlwind tour of Docker"
      ]
    },
    {
      "cell_type": "code",
      "source": [
        "# First let's update all the packages to the latest ones with the following command\n",
        "!sudo apt update -qq\n",
        "\n",
        "# Now we want to install some prerequisite packages which will let us use HTTPS over apt\n",
        "!sudo apt install apt-transport-https ca-certificates curl software-properties-common -qq\n",
        "\n",
        "# After that we will add the GPG key for the official Docker repository to the system\n",
        "!curl -fsSL https://download.docker.com/linux/ubuntu/gpg | sudo apt-key add -\n",
        "\n",
        "# We will add the Docker repository to our APT sources\n",
        "!sudo add-apt-repository -y \"deb [arch=amd64] https://download.docker.com/linux/ubuntu bionic stable\"\n",
        "\n",
        "# Next let's update the package database with our newly added Docker package repo\n",
        "!sudo apt update -qq\n",
        "\n",
        "# Finally lets install docker with the below command\n",
        "!sudo apt install docker-ce\n",
        "\n",
        "# Lets check that docker is running\n",
        "!docker\n",
        "\n",
        "# Originally, we did the following: (but doesn't work in Colab...)\n",
        "# sudo systemctl status docker"
      ],
      "metadata": {
        "id": "VWr53HeYmvom",
        "outputId": "5645cec2-6312-4541-bae5-54d1af4d4b9c",
        "colab": {
          "base_uri": "https://localhost:8080/"
        }
      },
      "execution_count": null,
      "outputs": [
        {
          "output_type": "stream",
          "name": "stdout",
          "text": [
            "40 packages can be upgraded. Run 'apt list --upgradable' to see them.\n",
            "ca-certificates is already the newest version (20230311ubuntu0.22.04.1).\n",
            "curl is already the newest version (7.81.0-1ubuntu1.15).\n",
            "software-properties-common is already the newest version (0.99.22.8).\n",
            "The following NEW packages will be installed:\n",
            "  apt-transport-https\n",
            "0 upgraded, 1 newly installed, 0 to remove and 40 not upgraded.\n",
            "Need to get 1,510 B of archives.\n",
            "After this operation, 170 kB of additional disk space will be used.\n",
            "debconf: unable to initialize frontend: Dialog\n",
            "debconf: (No usable dialog-like program is installed, so the dialog based frontend cannot be used. at /usr/share/perl5/Debconf/FrontEnd/Dialog.pm line 78, <> line 1.)\n",
            "debconf: falling back to frontend: Readline\n",
            "debconf: unable to initialize frontend: Readline\n",
            "debconf: (This frontend requires a controlling tty.)\n",
            "debconf: falling back to frontend: Teletype\n",
            "dpkg-preconfigure: unable to re-open stdin: \n",
            "Selecting previously unselected package apt-transport-https.\n",
            "(Reading database ... 121658 files and directories currently installed.)\n",
            "Preparing to unpack .../apt-transport-https_2.4.11_all.deb ...\n",
            "Unpacking apt-transport-https (2.4.11) ...\n",
            "Setting up apt-transport-https (2.4.11) ...\n",
            "Warning: apt-key is deprecated. Manage keyring files in trusted.gpg.d instead (see apt-key(8)).\n",
            "OK\n",
            "Repository: 'deb [arch=amd64] https://download.docker.com/linux/ubuntu bionic stable'\n",
            "Description:\n",
            "Archive for codename: bionic components: stable\n",
            "More info: https://download.docker.com/linux/ubuntu\n",
            "Adding repository.\n",
            "Press [ENTER] to continue or Ctrl-c to cancel."
          ]
        }
      ]
    },
    {
      "cell_type": "code",
      "source": [
        "\n",
        "# Import the necessary module\n",
        "import subprocess\n",
        "\n",
        "# Define a function to execute Docker Compose commands\n",
        "def run_docker_compose(command):\n",
        " process = subprocess.Popen(command, stdout=subprocess.PIPE, stderr=subprocess.PIPE, shell=True)\n",
        " output, error = process.communicate()\n",
        " return output, error\n",
        "\n",
        "# Install Docker Compose\n",
        "!curl -L \"https://github.com/docker/compose/releases/download/1.29.2/docker-compose-$(uname -s)-$(uname -m)\" -o /usr/local/bin/docker-compose\n",
        "!chmod +x /usr/local/bin/docker-compose\n",
        "\n",
        "# Create a `docker-compose.yml` file in memory\n",
        "docker_compose_config = \"\"\"\n",
        "version: '3.8'\n",
        "\n",
        "services:\n",
        " ai-tube-robot:\n",
        "   image: ai-tube-robot\n",
        "   ports:\n",
        "     - \"7860:7860\"\n",
        "\"\"\"\n",
        "\n",
        "# Write the necessary configuration to the `docker-compose.yml` file\n",
        "with open('docker-compose.yml', 'w') as f:\n",
        " f.write(docker_compose_config)\n",
        "\n",
        "# Use the `run_docker_compose` function to build and run the Docker container\n",
        "_, error = run_docker_compose('docker-compose up -d')\n",
        "if error:\n",
        " print(f\"Error: {error}\")\n",
        "else:\n",
        " print(\"Docker container started successfully.\")"
      ],
      "metadata": {
        "id": "4oeAXLnE0Y5F",
        "outputId": "98f17cfc-062f-4696-b025-e74cae72f549",
        "colab": {
          "base_uri": "https://localhost:8080/"
        }
      },
      "execution_count": 33,
      "outputs": [
        {
          "output_type": "stream",
          "name": "stdout",
          "text": [
            "  % Total    % Received % Xferd  Average Speed   Time    Time     Time  Current\n",
            "                                 Dload  Upload   Total   Spent    Left  Speed\n",
            "  0     0    0     0    0     0      0      0 --:--:-- --:--:-- --:--:--     0\n",
            "100 12.1M  100 12.1M    0     0  15.3M      0 --:--:-- --:--:-- --:--:-- 15.3M\n",
            "Error: b'[24509] Failed to execute script docker-compose\\nTraceback (most recent call last):\\n  File \"urllib3/connectionpool.py\", line 677, in urlopen\\n  File \"urllib3/connectionpool.py\", line 392, in _make_request\\n  File \"http/client.py\", line 1277, in request\\n  File \"http/client.py\", line 1323, in _send_request\\n  File \"http/client.py\", line 1272, in endheaders\\n  File \"http/client.py\", line 1032, in _send_output\\n  File \"http/client.py\", line 972, in send\\n  File \"docker/transport/unixconn.py\", line 43, in connect\\nConnectionRefusedError: [Errno 111] Connection refused\\n\\nDuring handling of the above exception, another exception occurred:\\n\\nTraceback (most recent call last):\\n  File \"requests/adapters.py\", line 449, in send\\n  File \"urllib3/connectionpool.py\", line 727, in urlopen\\n  File \"urllib3/util/retry.py\", line 410, in increment\\n  File \"urllib3/packages/six.py\", line 734, in reraise\\n  File \"urllib3/connectionpool.py\", line 677, in urlopen\\n  File \"urllib3/connectionpool.py\", line 392, in _make_request\\n  File \"http/client.py\", line 1277, in request\\n  File \"http/client.py\", line 1323, in _send_request\\n  File \"http/client.py\", line 1272, in endheaders\\n  File \"http/client.py\", line 1032, in _send_output\\n  File \"http/client.py\", line 972, in send\\n  File \"docker/transport/unixconn.py\", line 43, in connect\\nurllib3.exceptions.ProtocolError: (\\'Connection aborted.\\', ConnectionRefusedError(111, \\'Connection refused\\'))\\n\\nDuring handling of the above exception, another exception occurred:\\n\\nTraceback (most recent call last):\\n  File \"docker/api/client.py\", line 214, in _retrieve_server_version\\n  File \"docker/api/daemon.py\", line 181, in version\\n  File \"docker/utils/decorators.py\", line 46, in inner\\n  File \"docker/api/client.py\", line 237, in _get\\n  File \"requests/sessions.py\", line 543, in get\\n  File \"requests/sessions.py\", line 530, in request\\n  File \"requests/sessions.py\", line 643, in send\\n  File \"requests/adapters.py\", line 498, in send\\nrequests.exceptions.ConnectionError: (\\'Connection aborted.\\', ConnectionRefusedError(111, \\'Connection refused\\'))\\n\\nDuring handling of the above exception, another exception occurred:\\n\\nTraceback (most recent call last):\\n  File \"docker-compose\", line 3, in <module>\\n  File \"compose/cli/main.py\", line 81, in main\\n  File \"compose/cli/main.py\", line 200, in perform_command\\n  File \"compose/cli/command.py\", line 70, in project_from_options\\n  File \"compose/cli/command.py\", line 153, in get_project\\n  File \"compose/cli/docker_client.py\", line 43, in get_client\\n  File \"compose/cli/docker_client.py\", line 170, in docker_client\\n  File \"docker/api/client.py\", line 197, in __init__\\n  File \"docker/api/client.py\", line 222, in _retrieve_server_version\\ndocker.errors.DockerException: Error while fetching server API version: (\\'Connection aborted.\\', ConnectionRefusedError(111, \\'Connection refused\\'))\\n'\n"
          ]
        }
      ]
    },
    {
      "cell_type": "code",
      "source": [
        "%%shell\n",
        "set -x\n",
        "dockerd -b none --iptables=0 -l warn &\n",
        "for i in $(seq 5); do [ ! -S \"/var/run/docker.sock\" ] && sleep 2 || break; done\n",
        "docker info\n",
        "docker network ls\n",
        "docker pull hello-world\n",
        "docker pull ubuntu\n",
        "# docker build -t myimage .\n",
        "docker images\n",
        "kill $(jobs -p)"
      ],
      "metadata": {
        "id": "BRTm2UJC15p2",
        "outputId": "8eee34aa-c20b-4382-8ec2-3a2111335491",
        "colab": {
          "base_uri": "https://localhost:8080/"
        }
      },
      "execution_count": 36,
      "outputs": [
        {
          "output_type": "stream",
          "name": "stdout",
          "text": [
            "++ seq 5\n",
            "+ dockerd -b none --iptables=0 -l warn\n",
            "+ for i in $(seq 5)\n",
            "+ '[' '!' -S /var/run/docker.sock ']'\n",
            "+ break\n",
            "+ docker info\n",
            "\u001b[33mWARN\u001b[0m[2023-12-30T13:09:03.816836193Z] failed to load plugin io.containerd.snapshotter.v1.devmapper  \u001b[33merror\u001b[0m=\"devmapper not configured\"\n",
            "\u001b[33mWARN\u001b[0m[2023-12-30T13:09:03.817192282Z] could not use snapshotter devmapper in metadata plugin  \u001b[33merror\u001b[0m=\"devmapper not configured\"\n",
            "\u001b[31mERRO\u001b[0m[2023-12-30T13:09:03.818247913Z] failed to initialize a tracing processor \"otlp\"  \u001b[31merror\u001b[0m=\"no OpenTelemetry endpoint: skip plugin\"\n",
            "\u001b[31mERRO\u001b[0m[2023-12-30T13:09:03.860631965Z] failed to mount overlay: invalid argument     \u001b[31mstorage-driver\u001b[0m=overlay2\n",
            "\u001b[31mERRO\u001b[0m[2023-12-30T13:09:03.860810703Z] exec: \"fuse-overlayfs\": executable file not found in $PATH  \u001b[31mstorage-driver\u001b[0m=fuse-overlayfs\n",
            "\u001b[33mWARN\u001b[0m[2023-12-30T13:09:04.001667679Z] WARNING: No swap limit support               \n",
            "Client: Docker Engine - Community\n",
            " Version:    24.0.2\n",
            " Context:    default\n",
            " Debug Mode: false\n",
            " Plugins:\n",
            "  buildx: Docker Buildx (Docker Inc.)\n",
            "    Version:  v0.10.5\n",
            "    Path:     /usr/libexec/docker/cli-plugins/docker-buildx\n",
            "  compose: Docker Compose (Docker Inc.)\n",
            "    Version:  v2.18.1\n",
            "    Path:     /usr/libexec/docker/cli-plugins/docker-compose\n",
            "\n",
            "Server:\n",
            " Containers: 0\n",
            "  Running: 0\n",
            "  Paused: 0\n",
            "  Stopped: 0\n",
            " Images: 0\n",
            " Server Version: 24.0.7\n",
            " Storage Driver: vfs\n",
            " Logging Driver: json-file\n",
            " Cgroup Driver: cgroupfs\n",
            " Cgroup Version: 2\n",
            " Plugins:\n",
            "  Volume: local\n",
            "  Network: bridge host ipvlan macvlan null overlay\n",
            "  Log: awslogs fluentd gcplogs gelf journald json-file local logentries splunk syslog\n",
            " Swarm: inactive\n",
            " Runtimes: io.containerd.runc.v2 runc\n",
            " Default Runtime: runc\n",
            " Init Binary: docker-init\n",
            " containerd version: 3dce8eb055cbb6872793272b4f20ed16117344f8\n",
            " runc version: v1.1.7-0-g860f061\n",
            " init version: de40ad0\n",
            " Security Options:\n",
            "  seccomp\n",
            "   Profile: builtin\n",
            "  cgroupns\n",
            " Kernel Version: 6.1.58+\n",
            " Operating System: Ubuntu 22.04.3 LTS\n",
            " OSType: linux\n",
            " Architecture: x86_64\n",
            " CPUs: 2\n",
            " Total Memory: 12.67GiB\n",
            " Name: b47222fbd4c0\n",
            " ID: 67a9788c-32ea-4d56-b17e-b8ae06b0f06a\n",
            " Docker Root Dir: /var/lib/docker\n",
            " Debug Mode: false\n",
            " Experimental: false\n",
            " Insecure Registries:\n",
            "  127.0.0.0/8\n",
            " Live Restore Enabled: false\n",
            "\n",
            "WARNING: No swap limit support\n",
            "+ docker network ls\n",
            "NETWORK ID     NAME      DRIVER    SCOPE\n",
            "ef4a68300f76   host      host      local\n",
            "e67dbe6accc1   none      null      local\n",
            "+ docker pull hello-world\n",
            "Using default tag: latest\n",
            "latest: Pulling from library/hello-world\n",
            "\n",
            "\u001b[1BDigest: sha256:ac69084025c660510933cca701f615283cdbb3aa0963188770b54c31c8962493\n",
            "Status: Downloaded newer image for hello-world:latest\n",
            "docker.io/library/hello-world:latest\n",
            "+ docker pull ubuntu\n",
            "Using default tag: latest\n",
            "latest: Pulling from library/ubuntu\n",
            "\n",
            "\u001b[1BDigest: sha256:6042500cf4b44023ea1894effe7890666b0c5c7871ed83a97c36c76ae560bb9b\n",
            "Status: Downloaded newer image for ubuntu:latest\n",
            "docker.io/library/ubuntu:latest\n",
            "+ docker images\n",
            "REPOSITORY    TAG       IMAGE ID       CREATED        SIZE\n",
            "ubuntu        latest    174c8c134b2a   2 weeks ago    77.8MB\n",
            "hello-world   latest    d2c94e258dcb   8 months ago   13.3kB\n",
            "++ jobs -p\n",
            "+ kill 25429\n"
          ]
        },
        {
          "output_type": "execute_result",
          "data": {
            "text/plain": []
          },
          "metadata": {},
          "execution_count": 36
        }
      ]
    },
    {
      "cell_type": "code",
      "source": [
        "\n",
        "!sudo  docker bash -x docker-run.sh hello-world"
      ],
      "metadata": {
        "id": "_AJgF6gA2Hpr",
        "outputId": "25fdbb02-144f-4b76-dcef-13ac8bf38a25",
        "colab": {
          "base_uri": "https://localhost:8080/"
        }
      },
      "execution_count": 41,
      "outputs": [
        {
          "output_type": "stream",
          "name": "stdout",
          "text": [
            "unknown shorthand flag: 'x' in -x\n",
            "See 'docker --help'.\n",
            "\n",
            "Usage:  docker [OPTIONS] COMMAND\n",
            "\n",
            "A self-sufficient runtime for containers\n",
            "\n",
            "Common Commands:\n",
            "  run         Create and run a new container from an image\n",
            "  exec        Execute a command in a running container\n",
            "  ps          List containers\n",
            "  build       Build an image from a Dockerfile\n",
            "  pull        Download an image from a registry\n",
            "  push        Upload an image to a registry\n",
            "  images      List images\n",
            "  login       Log in to a registry\n",
            "  logout      Log out from a registry\n",
            "  search      Search Docker Hub for images\n",
            "  version     Show the Docker version information\n",
            "  info        Display system-wide information\n",
            "\n",
            "Management Commands:\n",
            "  builder     Manage builds\n",
            "  buildx*     Docker Buildx (Docker Inc., v0.10.5)\n",
            "  checkpoint  Manage checkpoints\n",
            "  compose*    Docker Compose (Docker Inc., v2.18.1)\n",
            "  container   Manage containers\n",
            "  context     Manage contexts\n",
            "  image       Manage images\n",
            "  manifest    Manage Docker image manifests and manifest lists\n",
            "  network     Manage networks\n",
            "  plugin      Manage plugins\n",
            "  system      Manage Docker\n",
            "  trust       Manage trust on Docker images\n",
            "  volume      Manage volumes\n",
            "\n",
            "Swarm Commands:\n",
            "  config      Manage Swarm configs\n",
            "  node        Manage Swarm nodes\n",
            "  secret      Manage Swarm secrets\n",
            "  service     Manage Swarm services\n",
            "  stack       Manage Swarm stacks\n",
            "  swarm       Manage Swarm\n",
            "\n",
            "Commands:\n",
            "  attach      Attach local standard input, output, and error streams to a running container\n",
            "  commit      Create a new image from a container's changes\n",
            "  cp          Copy files/folders between a container and the local filesystem\n",
            "  create      Create a new container\n",
            "  diff        Inspect changes to files or directories on a container's filesystem\n",
            "  events      Get real time events from the server\n",
            "  export      Export a container's filesystem as a tar archive\n",
            "  history     Show the history of an image\n",
            "  import      Import the contents from a tarball to create a filesystem image\n",
            "  inspect     Return low-level information on Docker objects\n",
            "  kill        Kill one or more running containers\n",
            "  load        Load an image from a tar archive or STDIN\n",
            "  logs        Fetch the logs of a container\n",
            "  pause       Pause all processes within one or more containers\n",
            "  port        List port mappings or a specific mapping for the container\n",
            "  rename      Rename a container\n",
            "  restart     Restart one or more containers\n",
            "  rm          Remove one or more containers\n",
            "  rmi         Remove one or more images\n",
            "  save        Save one or more images to a tar archive (streamed to STDOUT by default)\n",
            "  start       Start one or more stopped containers\n",
            "  stats       Display a live stream of container(s) resource usage statistics\n",
            "  stop        Stop one or more running containers\n",
            "  tag         Create a tag TARGET_IMAGE that refers to SOURCE_IMAGE\n",
            "  top         Display the running processes of a container\n",
            "  unpause     Unpause all processes within one or more containers\n",
            "  update      Update configuration of one or more containers\n",
            "  wait        Block until one or more containers stop, then print their exit codes\n",
            "\n",
            "Global Options:\n",
            "      --config string      Location of client config files (default \"/root/.docker\")\n",
            "  -c, --context string     Name of the context to use to connect to the daemon (overrides DOCKER_HOST env var and default context set with \"docker context use\")\n",
            "  -D, --debug              Enable debug mode\n",
            "  -H, --host list          Daemon socket to connect to\n",
            "  -l, --log-level string   Set the logging level (\"debug\", \"info\", \"warn\", \"error\", \"fatal\") (default \"info\")\n",
            "      --tls                Use TLS; implied by --tlsverify\n",
            "      --tlscacert string   Trust certs signed only by this CA (default \"/root/.docker/ca.pem\")\n",
            "      --tlscert string     Path to TLS certificate file (default \"/root/.docker/cert.pem\")\n",
            "      --tlskey string      Path to TLS key file (default \"/root/.docker/key.pem\")\n",
            "      --tlsverify          Use TLS and verify the remote\n",
            "  -v, --version            Print version information and quit\n",
            "\n",
            "Run 'docker COMMAND --help' for more information on a command.\n",
            "\n",
            "For more help on how to use Docker, head to https://docs.docker.com/go/guides/\n",
            "\n"
          ]
        }
      ]
    },
    {
      "cell_type": "code",
      "source": [
        "!sudo systemctl start dockerd\n",
        "!sudo systemctl enable dockerd"
      ],
      "metadata": {
        "id": "vIWuS-M_qdyS",
        "outputId": "a720b165-dbb2-46e3-d9b0-5e139d71f6f6",
        "colab": {
          "base_uri": "https://localhost:8080/"
        }
      },
      "execution_count": 34,
      "outputs": [
        {
          "output_type": "stream",
          "name": "stdout",
          "text": [
            "System has not been booted with systemd as init system (PID 1). Can't operate.\n",
            "Failed to connect to bus: Host is down\n",
            "Failed to enable unit, unit dockerd.service does not exist.\n"
          ]
        }
      ]
    },
    {
      "cell_type": "code",
      "source": [
        "!dockerd build --platform linux/arm64 -t ai-tube-robot .\n",
        "!dockerd run -it -p 7860:7860 ai-tube-robot"
      ],
      "metadata": {
        "id": "sqQRW8oXm6yL",
        "outputId": "fdbe00d2-f125-4811-9ae4-fefc6a508edf",
        "colab": {
          "base_uri": "https://localhost:8080/"
        }
      },
      "execution_count": 35,
      "outputs": [
        {
          "output_type": "stream",
          "name": "stdout",
          "text": [
            "Status: unknown flag: --platform\n",
            "See 'dockerd --help'., Code: 125\n",
            "Status: unknown shorthand flag: 'i' in -it\n",
            "See 'dockerd --help'., Code: 125\n"
          ]
        }
      ]
    },
    {
      "cell_type": "markdown",
      "metadata": {
        "id": "pNYOgEm1mklO"
      },
      "source": [
        "### Introduction"
      ]
    },
    {
      "cell_type": "markdown",
      "metadata": {
        "id": "jJZvJAxbmklS"
      },
      "source": [
        "So that now that we have access to docker software,  let's give it a spin.  We can start by using Docker to install a pretty nice blog on our computer.  Let's get started."
      ]
    },
    {
      "cell_type": "markdown",
      "metadata": {
        "id": "KiRpbOenmkle"
      },
      "source": [
        "### Docker Command Line"
      ]
    },
    {
      "cell_type": "markdown",
      "metadata": {
        "id": "Ny1oTG5nmklj"
      },
      "source": [
        "We can make sure that docker is installed, by typing the following:"
      ]
    },
    {
      "cell_type": "markdown",
      "metadata": {
        "id": "waRtcu29mkln"
      },
      "source": [
        "```\n",
        "docker -v\n",
        "Docker version 19.03.12, build 48a66213fe\n",
        "```"
      ]
    },
    {
      "cell_type": "markdown",
      "metadata": {
        "id": "BP-tH3HGmkls"
      },
      "source": [
        "Next, let's let's see if we can install ghost -- a popular blogging platform.  After we get it setup, ghost will look something like the following:"
      ]
    },
    {
      "cell_type": "markdown",
      "metadata": {
        "id": "uCOYF_dImklz"
      },
      "source": [
        "<img src=\"https://github.com/jigsawlabs-student/docker-intro/blob/master/0-docker-intro/ghost-preview.jpg?raw=1\" width=\"40%\">"
      ]
    },
    {
      "cell_type": "markdown",
      "metadata": {
        "id": "aK84pQCgmkl7"
      },
      "source": [
        "The instructions for installing ghost are available on [Dockerhub](https://hub.docker.com/_/ghost).  There, it says to run the following:"
      ]
    },
    {
      "cell_type": "markdown",
      "metadata": {
        "id": "DN7hJUrPmkl_"
      },
      "source": [
        "```\n",
        "docker pull ghost:4.8.0\n",
        "```\n",
        "\n",
        "> The `4.8.0` is to specify the version of ghost we are installing."
      ]
    },
    {
      "cell_type": "markdown",
      "metadata": {
        "id": "8Wq1hi-smkmD"
      },
      "source": [
        "After doing so, you may see something like the following."
      ]
    },
    {
      "cell_type": "markdown",
      "metadata": {
        "id": "XySaU87qmkmF"
      },
      "source": [
        "<img src=\"https://github.com/jigsawlabs-student/docker-intro/blob/master/0-docker-intro/docker-ghost-4.png?raw=1\" width=\"60%\">"
      ]
    },
    {
      "cell_type": "markdown",
      "metadata": {
        "id": "T2v3EcUrmkmH"
      },
      "source": [
        "What you can see above is that docker is ensuring that it installs multiple images.  We'll talk about this in more detail in the next lesson, but for now we can think of each image just as another package of software that we need to run our service."
      ]
    },
    {
      "cell_type": "markdown",
      "metadata": {
        "id": "7w5PrRrymkmK"
      },
      "source": [
        "### Working with Containers"
      ]
    },
    {
      "cell_type": "markdown",
      "metadata": {
        "id": "ho7rNGrymkmM"
      },
      "source": [
        "Ok, so far, we've downloaded the ghost image, whatever that is.  Now let's boot up ghost into a container.  We can do so with the following command:"
      ]
    },
    {
      "cell_type": "markdown",
      "metadata": {
        "id": "Tq1wzs_TmkmN"
      },
      "source": [
        "`docker run ghost:4.8.0`"
      ]
    },
    {
      "cell_type": "markdown",
      "metadata": {
        "id": "t6IAcVyymkmQ"
      },
      "source": [
        "<img src=\"https://github.com/jigsawlabs-student/docker-intro/blob/master/0-docker-intro/booting-ghost.png?raw=1\" width=\"40%\">"
      ]
    },
    {
      "cell_type": "markdown",
      "metadata": {
        "id": "ArxnAbpqmkmT"
      },
      "source": [
        "So it looks like that's doing a lot.  It's creating the tables for our blog, among other things.  At the bottom, we can see the statement `Your site is now available on http://localhost:2368`."
      ]
    },
    {
      "cell_type": "markdown",
      "metadata": {
        "id": "yCujKk47mkmU"
      },
      "source": [
        "<img src=\"https://github.com/jigsawlabs-student/docker-intro/blob/master/0-docker-intro/ghost-terminal.png?raw=1\" width=\"60%\">"
      ]
    },
    {
      "cell_type": "markdown",
      "metadata": {
        "id": "6uZix5aQmkmW"
      },
      "source": [
        "Ok, so let's go to that web address in our browser and take a look."
      ]
    },
    {
      "cell_type": "markdown",
      "metadata": {
        "id": "hQKQGZJwmkmY"
      },
      "source": [
        "<img src=\"https://github.com/jigsawlabs-student/docker-intro/blob/master/0-docker-intro/docker-attempt.png?raw=1\" width=\"60%\">"
      ]
    },
    {
      "cell_type": "markdown",
      "metadata": {
        "id": "p5l0SLD7mkmb"
      },
      "source": [
        "That's a bummer, but it has an easy fix.  This time, let's shut down own container by pressing `ctl+c` in our terminal."
      ]
    },
    {
      "cell_type": "markdown",
      "metadata": {
        "id": "wEWxaPR7mkmc"
      },
      "source": [
        "<img src=\"https://github.com/jigsawlabs-student/docker-intro/blob/master/0-docker-intro/ending-ghost.png?raw=1\" width=\"60%\">"
      ]
    },
    {
      "cell_type": "markdown",
      "metadata": {
        "id": "lQxQjuHamkmd"
      },
      "source": [
        "And then re-running our container, this time updating our command to the following:\n",
        "\n",
        "`docker run -p 8080:2368 ghost:4.8.0`"
      ]
    },
    {
      "cell_type": "markdown",
      "metadata": {
        "id": "l62gjH4Vmkmf"
      },
      "source": [
        "<img src=\"https://github.com/jigsawlabs-student/docker-intro/blob/master/0-docker-intro/working-ghost.png?raw=1\" width=\"60%\">"
      ]
    },
    {
      "cell_type": "markdown",
      "metadata": {
        "id": "TIRS4hJFmkmi"
      },
      "source": [
        "Then go to `localhost:8080` and we'll see our fully functional blogging platform."
      ]
    },
    {
      "cell_type": "markdown",
      "metadata": {
        "id": "LGAlR0-Umkmk"
      },
      "source": [
        "## Time for the Questions"
      ]
    },
    {
      "cell_type": "markdown",
      "metadata": {
        "id": "n7sls45imkmm"
      },
      "source": [
        "At this point, we have just a bit of knowledge about Docker.  Perhaps enough knowledge to piece together some questions.  Let's try."
      ]
    },
    {
      "cell_type": "markdown",
      "metadata": {
        "id": "bIR1ApV1mkmo"
      },
      "source": [
        "1. Images\n",
        "\n",
        "It sounds like we used an image to download our software.  But we're still not quite sure what an image is.  Also, when we initially pulled our image, we saw the following:"
      ]
    },
    {
      "cell_type": "markdown",
      "metadata": {
        "id": "WEjnOckgmkmq"
      },
      "source": [
        "<img src=\"https://github.com/jigsawlabs-student/docker-intro/blob/master/0-docker-intro/docker-ghost-4.png?raw=1\" width=\"70%\">"
      ]
    },
    {
      "cell_type": "markdown",
      "metadata": {
        "id": "Lo43vAj6mkms"
      },
      "source": [
        "Each of these ids to the left is identifying another image used for ghost.  So we have images inside of our image?  Yes.  We'll learn why.\n",
        "\n",
        "2. Containers\n",
        "\n",
        "It sounds like we run an image by booting up a container.  But how does a container relate to an image?  \n",
        "\n",
        "3. Isolation\n",
        "\n",
        "When we ran our container the first time with `docker run ghost` at the bottom of the terminal, it said our website was available at `localhost:2368`.  But really, our website was inaccessible until we updated our command to the following:\n",
        "\n",
        "`docker run -p 8080:2368 ghost:4.8.0`\n",
        "\n",
        "Docker was initially isolating the container from the rest of our computer, and then we asked Docker to expose a part of this container (it's port) to `8080`.  Only then could we see our website.  We'll learn about how Docker isolates our environments and why it's important."
      ]
    },
    {
      "cell_type": "markdown",
      "metadata": {
        "id": "eMSAghQTmkmu"
      },
      "source": [
        "But we'll leave all of these questions for the next lesson."
      ]
    },
    {
      "cell_type": "markdown",
      "metadata": {
        "id": "3zYO0zF0mkmv"
      },
      "source": [
        "### Resources\n",
        "[Docker for Windows](https://towardsdatascience.com/make-your-data-science-life-easy-with-docker-c3e1fc0dee59)"
      ]
    },
    {
      "cell_type": "markdown",
      "metadata": {
        "id": "LrPKYrM1mkmy"
      },
      "source": [
        "[Docker Curriculum](https://docker-curriculum.com/)"
      ]
    }
  ],
  "metadata": {
    "kernelspec": {
      "display_name": "Python 3 (ipykernel)",
      "language": "python",
      "name": "python3"
    },
    "language_info": {
      "codemirror_mode": {
        "name": "ipython",
        "version": 3
      },
      "file_extension": ".py",
      "mimetype": "text/x-python",
      "name": "python",
      "nbconvert_exporter": "python",
      "pygments_lexer": "ipython3",
      "version": "3.10.6"
    },
    "colab": {
      "provenance": [],
      "include_colab_link": true
    }
  },
  "nbformat": 4,
  "nbformat_minor": 0
}