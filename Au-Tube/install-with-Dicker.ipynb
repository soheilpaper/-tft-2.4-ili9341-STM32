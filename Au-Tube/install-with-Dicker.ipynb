{
  "cells": [
    {
      "cell_type": "markdown",
      "metadata": {
        "id": "view-in-github",
        "colab_type": "text"
      },
      "source": [
        "<a href=\"https://colab.research.google.com/github/soheilpaper/-tft-2.4-ili9341-STM32/blob/master/Au-Tube/install-with-Dicker.ipynb\" target=\"_parent\"><img src=\"https://colab.research.google.com/assets/colab-badge.svg\" alt=\"Open In Colab\"/></a>"
      ]
    },
    {
      "cell_type": "markdown",
      "metadata": {
        "id": "iGVKFMwomkk0"
      },
      "source": [
        "# A Whirlwind tour of Docker"
      ]
    },
    {
      "cell_type": "code",
      "source": [
        "# First let's update all the packages to the latest ones with the following command\n",
        "!sudo apt update -qq\n",
        "\n",
        "# Now we want to install some prerequisite packages which will let us use HTTPS over apt\n",
        "!sudo apt install apt-transport-https ca-certificates curl software-properties-common -qq\n",
        "\n",
        "# After that we will add the GPG key for the official Docker repository to the system\n",
        "!curl -fsSL https://download.docker.com/linux/ubuntu/gpg | sudo apt-key add -\n",
        "\n",
        "# We will add the Docker repository to our APT sources\n",
        "!sudo add-apt-repository -y \"deb [arch=amd64] https://download.docker.com/linux/ubuntu bionic stable\"\n",
        "\n",
        "# Next let's update the package database with our newly added Docker package repo\n",
        "!sudo apt update -qq\n",
        "\n",
        "# Finally lets install docker with the below command\n",
        "!sudo apt install docker-ce\n",
        "\n",
        "# Lets check that docker is running\n",
        "!docker\n",
        "\n",
        "# Originally, we did the following: (but doesn't work in Colab...)\n",
        "# sudo systemctl status docker"
      ],
      "metadata": {
        "id": "VWr53HeYmvom",
        "outputId": "5645cec2-6312-4541-bae5-54d1af4d4b9c",
        "colab": {
          "base_uri": "https://localhost:8080/"
        }
      },
      "execution_count": null,
      "outputs": [
        {
          "output_type": "stream",
          "name": "stdout",
          "text": [
            "40 packages can be upgraded. Run 'apt list --upgradable' to see them.\n",
            "ca-certificates is already the newest version (20230311ubuntu0.22.04.1).\n",
            "curl is already the newest version (7.81.0-1ubuntu1.15).\n",
            "software-properties-common is already the newest version (0.99.22.8).\n",
            "The following NEW packages will be installed:\n",
            "  apt-transport-https\n",
            "0 upgraded, 1 newly installed, 0 to remove and 40 not upgraded.\n",
            "Need to get 1,510 B of archives.\n",
            "After this operation, 170 kB of additional disk space will be used.\n",
            "debconf: unable to initialize frontend: Dialog\n",
            "debconf: (No usable dialog-like program is installed, so the dialog based frontend cannot be used. at /usr/share/perl5/Debconf/FrontEnd/Dialog.pm line 78, <> line 1.)\n",
            "debconf: falling back to frontend: Readline\n",
            "debconf: unable to initialize frontend: Readline\n",
            "debconf: (This frontend requires a controlling tty.)\n",
            "debconf: falling back to frontend: Teletype\n",
            "dpkg-preconfigure: unable to re-open stdin: \n",
            "Selecting previously unselected package apt-transport-https.\n",
            "(Reading database ... 121658 files and directories currently installed.)\n",
            "Preparing to unpack .../apt-transport-https_2.4.11_all.deb ...\n",
            "Unpacking apt-transport-https (2.4.11) ...\n",
            "Setting up apt-transport-https (2.4.11) ...\n",
            "Warning: apt-key is deprecated. Manage keyring files in trusted.gpg.d instead (see apt-key(8)).\n",
            "OK\n",
            "Repository: 'deb [arch=amd64] https://download.docker.com/linux/ubuntu bionic stable'\n",
            "Description:\n",
            "Archive for codename: bionic components: stable\n",
            "More info: https://download.docker.com/linux/ubuntu\n",
            "Adding repository.\n",
            "Press [ENTER] to continue or Ctrl-c to cancel."
          ]
        }
      ]
    },
    {
      "cell_type": "code",
      "source": [
        "!pip install udocker\n",
        "!udocker --allow-root install\n",
        "!udocker --allow-root run scrapinghub/splash"
      ],
      "metadata": {
        "id": "Oq6HSccU4laH",
        "outputId": "10eda887-60da-45ab-d720-c147ca0e7402",
        "colab": {
          "base_uri": "https://localhost:8080/"
        }
      },
      "execution_count": null,
      "outputs": [
        {
          "output_type": "stream",
          "name": "stdout",
          "text": [
            "Collecting udocker\n",
            "  Downloading udocker-1.3.12-py2.py3-none-any.whl (118 kB)\n",
            "\u001b[2K     \u001b[90m━━━━━━━━━━━━━━━━━━━━━━━━━━━━━━━━━━━━━━━━\u001b[0m \u001b[32m118.0/118.0 kB\u001b[0m \u001b[31m2.5 MB/s\u001b[0m eta \u001b[36m0:00:00\u001b[0m\n",
            "\u001b[?25hInstalling collected packages: udocker\n",
            "Successfully installed udocker-1.3.12\n",
            "Info: creating repo: /root/.udocker\n",
            "Info: udocker command line interface 1.3.12\n",
            "Info: searching for udockertools >= 1.2.10\n",
            "Info: installing udockertools 1.2.10\n",
            "Info: installation of udockertools successful\n",
            "Info: downloading layer sha256:9364575df9859d924467e9bb3c641618a92d316bf31662225381a23990ec85bc\n",
            "Info: downloading layer sha256:8ef8d76a194281d75291498275db7e8bd59027881fdd077b2f1079cc470e94e7\n",
            "Info: downloading layer sha256:6ae21b55ecfd9e05be269e1cb5fa694255cf0838d6bde387846366a6ae904d41\n",
            "Info: downloading layer sha256:adaa646ebfe9fb8aa0be8fbfdf005a02d32d1a44fc93cc3fa3be37830834fa06\n",
            "Info: downloading layer sha256:a36db9d4a71b713210edc889070bd3dff963ff4f633e04a47828eec449477757\n",
            "Info: downloading layer sha256:38a6d08ed1856fb0560625dcd3805cdf6d938b62941220c8d0b5f83f564172bb\n",
            "Info: downloading layer sha256:a40af7862b2fa39b1d4f8e1d46150758443403d6756697adb68fd6b2afc746f7\n",
            "Info: downloading layer sha256:185117d6d955fe170df27f5dec48c0a4255a5b0441f663f9d0146d8ecbc38d7e\n",
            "Info: downloading layer sha256:bc2ee8c115542a2b3d94bf2cc5ff2d9d24ded866417e06c7e0f36ffd2e7c4c7a\n",
            "Info: downloading layer sha256:f20aa104f0eae1ff13c53092d5cc17551a9d97d4cd2025021f739d16488165e6\n",
            "Info: downloading layer sha256:765d9dad919de55e1cf00b615eeaf2f4e687f8a26aa91f8a54f51bf4c7cbbd9f\n",
            "Info: downloading layer sha256:3c667b2546ea549507812e6a3cfe39396ca064d8e1c4ef6701d9a833107c589e\n",
            "Info: downloading layer sha256:3c421ffe4e4ac20d7225eaabf49ffd54eb0f1871f039672c20568ea6427a1927\n",
            "Info: downloading layer sha256:86c96f1d4ecde5d4507f2b5257e8b4514d2ede33658f7cc8c75cd494b2b4137a\n",
            "Info: downloading layer sha256:bce087e2552ed5178e778c1296472378490e76f1c41361f3b805c6dade6c7962\n",
            "Info: downloading layer sha256:3d065f0b97ea7a6aff88a414e677901453393087790e199bd6ae0b822cf39d12\n",
            "Info: downloading layer sha256:eb38ff0231d85b0034f4848675283c785c01b8602942f42805c74561ec2da78c\n",
            "Info: downloading layer sha256:b0097a197686ab071b0b7f9ec32b0812870dce37c8e48dd212fd39b3a25bd28c\n",
            "Info: downloading layer sha256:3933ca5f476884d982cac5855cc3cff3096f40e4ab08c732b06d458ad8f267a9\n",
            "Info: downloading layer sha256:a1fce83530932d0df6f366a91f0709246aed6e7b527c2635c35d3c974240ff97\n",
            "Info: downloading layer sha256:6ece3b427ef56ed3b022528782fd11ccfb4e2b098df01f358a299392e4d3afc5\n",
            "Info: downloading layer sha256:630a0309596114f26afbc4729aed4a9b8f1bb1d19be8e5ac870b069a5180a27a\n",
            "Info: downloading layer sha256:74efcc44bb0a355bb076353fc73455be81c529a33a916ab36470720b8bc8d5ff\n",
            "Info: downloading layer sha256:60a588d4f36e96d3e5a6edc42ca9e7e08e1ed31ba175e3982ca326ef86eb3c1a\n",
            "Info: downloading layer sha256:b6c12202c5ef07dc9eb8f9d9e71407064684ed70f8c4040b62679b7d30200840\n",
            "Info: downloading layer sha256:70799171ddba93a611490ba3557d782714b3f4da8963d49ac8726786ba8274a5\n",
            "Info: downloading layer sha256:d13af8ca898f36af68711cb67c345f65046a78ccd802453f4b129adf9205b1f8\n",
            "Info: downloading layer sha256:7595c8c21622ea8a8b9778972e26dbbe063f7a1c4b0a28a80a34ebb3d343b586\n"
          ]
        }
      ]
    },
    {
      "cell_type": "code",
      "source": [
        "!udocker --allow-root run hello-world"
      ],
      "metadata": {
        "id": "aqLX8y1J43ev"
      },
      "execution_count": null,
      "outputs": []
    },
    {
      "cell_type": "code",
      "source": [
        "!udocker --allow-root search ai-tube"
      ],
      "metadata": {
        "id": "1lG1VWSg7jVU",
        "outputId": "6a3b7b9d-5661-4f70-ecbe-f5719e6fe1d2",
        "colab": {
          "base_uri": "https://localhost:8080/"
        }
      },
      "execution_count": null,
      "outputs": [
        {
          "output_type": "stream",
          "name": "stdout",
          "text": [
            "NAME                                                    OFFICIAL DESCRIPTION                                                            STARS\n"
          ]
        }
      ]
    },
    {
      "cell_type": "code",
      "source": [
        "%%writefile Dockerfile\n",
        "FROM node:20-alpine\n",
        "\n",
        "ARG DEBIAN_FRONTEND=noninteractive\n",
        "\n",
        "RUN apk update\n",
        "\n",
        "RUN apk add alpine-sdk pkgconfig\n",
        "\n",
        "# For FFMPEG and gl concat\n",
        "RUN apk add curl python3 python3-dev libx11-dev libsm-dev libxrender libxext-dev mesa-dev xvfb libxi-dev glew-dev\n",
        "\n",
        "# For Puppeteer\n",
        "RUN apk add build-base gcompat udev ttf-opensans chromium\n",
        "\n",
        "RUN apk add ffmpeg\n",
        "\n",
        "# Set up a new user named \"user\" with user ID 1000\n",
        "RUN adduser --disabled-password --uid 1001 user\n",
        "\n",
        "# Switch to the \"user\" user\n",
        "USER user\n",
        "\n",
        "# Set home to the user's home directory\n",
        "ENV HOME=/home/user \\\n",
        " PATH=/home/user/.local/bin:$PATH\n",
        "\n",
        "# Set the working directory to the user's home directory\n",
        "WORKDIR $HOME/app\n",
        "\n",
        "# Install app dependencies\n",
        "# A wildcard is used to ensure both package.json AND package-lock.json are copied\n",
        "# where available (npm@5+)\n",
        "COPY --chown=user package*.json $HOME/app\n",
        "\n",
        "# make sure the .env is copied as well\n",
        "COPY --chown=user .env $HOME/app\n",
        "\n",
        "RUN ffmpeg -version\n",
        "\n",
        "RUN npm install\n",
        "\n",
        "# Copy the current directory contents into the container at $HOME/app setting the owner to the user\n",
        "COPY --chown=user . $HOME/app\n",
        "\n",
        "EXPOSE 7860\n",
        "\n",
        "# we can't use this (it time out)\n",
        "# CMD [ \"xvfb-run\", \"-s\", \"-ac -screen 0 1920x1080x24\", \"npm\", \"run\", \"start\" ]\n",
        "CMD [ \"npm\", \"run\", \"start\" ]"
      ],
      "metadata": {
        "id": "eA0DA37E63lj",
        "outputId": "a0eb697a-73d5-4579-a0f8-8ff5c1909290",
        "colab": {
          "base_uri": "https://localhost:8080/"
        }
      },
      "execution_count": null,
      "outputs": [
        {
          "output_type": "stream",
          "name": "stdout",
          "text": [
            "Writing Dockerfile\n"
          ]
        }
      ]
    },
    {
      "cell_type": "code",
      "source": [
        "\n",
        "import os\n",
        "os.environ['UDOCKER_DIR'] = '/content/'\n",
        "\n",
        "!udocker --allow-root build --platform linux/arm64 -t ai-tube-robot ."
      ],
      "metadata": {
        "id": "akhFOre467No",
        "outputId": "b0a5434d-ee46-4d4e-d486-03db12d811c1",
        "colab": {
          "base_uri": "https://localhost:8080/"
        }
      },
      "execution_count": null,
      "outputs": [
        {
          "output_type": "stream",
          "name": "stdout",
          "text": [
            "Error: invalid command: build \n",
            "\n"
          ]
        }
      ]
    },
    {
      "cell_type": "code",
      "source": [
        "!udocker --allow-root pull node:20-alpine"
      ],
      "metadata": {
        "id": "CXI8vuVB9Tr5",
        "outputId": "2fa3e07c-2924-467a-b34a-dd35d199fa46",
        "colab": {
          "base_uri": "https://localhost:8080/"
        }
      },
      "execution_count": 76,
      "outputs": [
        {
          "output_type": "stream",
          "name": "stdout",
          "text": [
            "Info: downloading layer sha256:0dc964c4b6e5ccce8f301b0055b0b583508cfc5b5a72f7d9d642a442435f3d12\n",
            "Info: downloading layer sha256:ef0b6390b7f1188deb53ed9d02159c52676b5c019123fde638841a03a324e258\n",
            "Info: downloading layer sha256:9bb776f8ddb06a17c9831ed6f4a2d08ebd68c020f3f689107ea1cbd69f327d9d\n",
            "Info: downloading layer sha256:89059ca18a987694854cd03bb6655f445ec9536917d1f8ac6e65d42e0f17f0dd\n",
            "Info: downloading layer sha256:661ff4d9561e3fd050929ee5097067c34bafc523ee60f5294a37fd08056a73ca\n"
          ]
        }
      ]
    },
    {
      "cell_type": "code",
      "source": [
        "!udocker --allow-root create --name=ai-tube-robot node:20-alpine"
      ],
      "metadata": {
        "id": "u-4d2DFR9XvV",
        "outputId": "a9094eb9-cd35-4758-fecd-fc2a202a6dae",
        "colab": {
          "base_uri": "https://localhost:8080/"
        }
      },
      "execution_count": 77,
      "outputs": [
        {
          "output_type": "stream",
          "name": "stdout",
          "text": [
            "f3b566c7-1023-3b81-8269-d87d78a5a46d\n"
          ]
        }
      ]
    },
    {
      "cell_type": "code",
      "source": [
        "\n",
        "#!udocker --allow-root image\n",
        "!udocker --allow-root run --publish=7860:7860 ai-tube-robot"
      ],
      "metadata": {
        "id": "jySBFaF87Z5P",
        "outputId": "4e2bf9b6-73d8-4540-c526-2d2cb66a001f",
        "colab": {
          "base_uri": "https://localhost:8080/"
        }
      },
      "execution_count": 80,
      "outputs": [
        {
          "output_type": "stream",
          "name": "stdout",
          "text": [
            " \n",
            " ****************************************************************************** \n",
            " *                                                                            * \n",
            " *               STARTING f3b566c7-1023-3b81-8269-d87d78a5a46d                * \n",
            " *                                                                            * \n",
            " ****************************************************************************** \n",
            " executing: docker-entrypoint.sh\n",
            "Welcome to Node.js v20.10.0.\n",
            "Type \".help\" for more information.\n",
            "\u001b[1G\u001b[0J> \u001b[3GInfo: keyboard interrupt\n"
          ]
        }
      ]
    },
    {
      "cell_type": "markdown",
      "metadata": {
        "id": "pNYOgEm1mklO"
      },
      "source": [
        "### Introduction"
      ]
    },
    {
      "cell_type": "markdown",
      "metadata": {
        "id": "jJZvJAxbmklS"
      },
      "source": [
        "So that now that we have access to docker software,  let's give it a spin.  We can start by using Docker to install a pretty nice blog on our computer.  Let's get started."
      ]
    },
    {
      "cell_type": "markdown",
      "metadata": {
        "id": "KiRpbOenmkle"
      },
      "source": [
        "### Docker Command Line"
      ]
    },
    {
      "cell_type": "markdown",
      "metadata": {
        "id": "Ny1oTG5nmklj"
      },
      "source": [
        "We can make sure that docker is installed, by typing the following:"
      ]
    },
    {
      "cell_type": "markdown",
      "metadata": {
        "id": "waRtcu29mkln"
      },
      "source": [
        "```\n",
        "docker -v\n",
        "Docker version 19.03.12, build 48a66213fe\n",
        "```"
      ]
    },
    {
      "cell_type": "markdown",
      "metadata": {
        "id": "BP-tH3HGmkls"
      },
      "source": [
        "Next, let's let's see if we can install ghost -- a popular blogging platform.  After we get it setup, ghost will look something like the following:"
      ]
    },
    {
      "cell_type": "markdown",
      "metadata": {
        "id": "uCOYF_dImklz"
      },
      "source": [
        "<img src=\"https://github.com/jigsawlabs-student/docker-intro/blob/master/0-docker-intro/ghost-preview.jpg?raw=1\" width=\"40%\">"
      ]
    },
    {
      "cell_type": "markdown",
      "metadata": {
        "id": "aK84pQCgmkl7"
      },
      "source": [
        "The instructions for installing ghost are available on [Dockerhub](https://hub.docker.com/_/ghost).  There, it says to run the following:"
      ]
    },
    {
      "cell_type": "markdown",
      "metadata": {
        "id": "DN7hJUrPmkl_"
      },
      "source": [
        "```\n",
        "docker pull ghost:4.8.0\n",
        "```\n",
        "\n",
        "> The `4.8.0` is to specify the version of ghost we are installing."
      ]
    },
    {
      "cell_type": "markdown",
      "metadata": {
        "id": "8Wq1hi-smkmD"
      },
      "source": [
        "After doing so, you may see something like the following."
      ]
    },
    {
      "cell_type": "markdown",
      "metadata": {
        "id": "XySaU87qmkmF"
      },
      "source": [
        "<img src=\"https://github.com/jigsawlabs-student/docker-intro/blob/master/0-docker-intro/docker-ghost-4.png?raw=1\" width=\"60%\">"
      ]
    },
    {
      "cell_type": "markdown",
      "metadata": {
        "id": "T2v3EcUrmkmH"
      },
      "source": [
        "What you can see above is that docker is ensuring that it installs multiple images.  We'll talk about this in more detail in the next lesson, but for now we can think of each image just as another package of software that we need to run our service."
      ]
    },
    {
      "cell_type": "markdown",
      "metadata": {
        "id": "7w5PrRrymkmK"
      },
      "source": [
        "### Working with Containers"
      ]
    },
    {
      "cell_type": "markdown",
      "metadata": {
        "id": "ho7rNGrymkmM"
      },
      "source": [
        "Ok, so far, we've downloaded the ghost image, whatever that is.  Now let's boot up ghost into a container.  We can do so with the following command:"
      ]
    },
    {
      "cell_type": "markdown",
      "metadata": {
        "id": "Tq1wzs_TmkmN"
      },
      "source": [
        "`docker run ghost:4.8.0`"
      ]
    },
    {
      "cell_type": "markdown",
      "metadata": {
        "id": "t6IAcVyymkmQ"
      },
      "source": [
        "<img src=\"https://github.com/jigsawlabs-student/docker-intro/blob/master/0-docker-intro/booting-ghost.png?raw=1\" width=\"40%\">"
      ]
    },
    {
      "cell_type": "markdown",
      "metadata": {
        "id": "ArxnAbpqmkmT"
      },
      "source": [
        "So it looks like that's doing a lot.  It's creating the tables for our blog, among other things.  At the bottom, we can see the statement `Your site is now available on http://localhost:2368`."
      ]
    },
    {
      "cell_type": "markdown",
      "metadata": {
        "id": "yCujKk47mkmU"
      },
      "source": [
        "<img src=\"https://github.com/jigsawlabs-student/docker-intro/blob/master/0-docker-intro/ghost-terminal.png?raw=1\" width=\"60%\">"
      ]
    },
    {
      "cell_type": "markdown",
      "metadata": {
        "id": "6uZix5aQmkmW"
      },
      "source": [
        "Ok, so let's go to that web address in our browser and take a look."
      ]
    },
    {
      "cell_type": "markdown",
      "metadata": {
        "id": "hQKQGZJwmkmY"
      },
      "source": [
        "<img src=\"https://github.com/jigsawlabs-student/docker-intro/blob/master/0-docker-intro/docker-attempt.png?raw=1\" width=\"60%\">"
      ]
    },
    {
      "cell_type": "markdown",
      "metadata": {
        "id": "p5l0SLD7mkmb"
      },
      "source": [
        "That's a bummer, but it has an easy fix.  This time, let's shut down own container by pressing `ctl+c` in our terminal."
      ]
    },
    {
      "cell_type": "markdown",
      "metadata": {
        "id": "wEWxaPR7mkmc"
      },
      "source": [
        "<img src=\"https://github.com/jigsawlabs-student/docker-intro/blob/master/0-docker-intro/ending-ghost.png?raw=1\" width=\"60%\">"
      ]
    },
    {
      "cell_type": "markdown",
      "metadata": {
        "id": "lQxQjuHamkmd"
      },
      "source": [
        "And then re-running our container, this time updating our command to the following:\n",
        "\n",
        "`docker run -p 8080:2368 ghost:4.8.0`"
      ]
    },
    {
      "cell_type": "markdown",
      "metadata": {
        "id": "l62gjH4Vmkmf"
      },
      "source": [
        "<img src=\"https://github.com/jigsawlabs-student/docker-intro/blob/master/0-docker-intro/working-ghost.png?raw=1\" width=\"60%\">"
      ]
    },
    {
      "cell_type": "markdown",
      "metadata": {
        "id": "TIRS4hJFmkmi"
      },
      "source": [
        "Then go to `localhost:8080` and we'll see our fully functional blogging platform."
      ]
    },
    {
      "cell_type": "markdown",
      "metadata": {
        "id": "LGAlR0-Umkmk"
      },
      "source": [
        "## Time for the Questions"
      ]
    },
    {
      "cell_type": "markdown",
      "metadata": {
        "id": "n7sls45imkmm"
      },
      "source": [
        "At this point, we have just a bit of knowledge about Docker.  Perhaps enough knowledge to piece together some questions.  Let's try."
      ]
    },
    {
      "cell_type": "markdown",
      "metadata": {
        "id": "bIR1ApV1mkmo"
      },
      "source": [
        "1. Images\n",
        "\n",
        "It sounds like we used an image to download our software.  But we're still not quite sure what an image is.  Also, when we initially pulled our image, we saw the following:"
      ]
    },
    {
      "cell_type": "markdown",
      "metadata": {
        "id": "WEjnOckgmkmq"
      },
      "source": [
        "<img src=\"https://github.com/jigsawlabs-student/docker-intro/blob/master/0-docker-intro/docker-ghost-4.png?raw=1\" width=\"70%\">"
      ]
    },
    {
      "cell_type": "markdown",
      "metadata": {
        "id": "Lo43vAj6mkms"
      },
      "source": [
        "Each of these ids to the left is identifying another image used for ghost.  So we have images inside of our image?  Yes.  We'll learn why.\n",
        "\n",
        "2. Containers\n",
        "\n",
        "It sounds like we run an image by booting up a container.  But how does a container relate to an image?  \n",
        "\n",
        "3. Isolation\n",
        "\n",
        "When we ran our container the first time with `docker run ghost` at the bottom of the terminal, it said our website was available at `localhost:2368`.  But really, our website was inaccessible until we updated our command to the following:\n",
        "\n",
        "`docker run -p 8080:2368 ghost:4.8.0`\n",
        "\n",
        "Docker was initially isolating the container from the rest of our computer, and then we asked Docker to expose a part of this container (it's port) to `8080`.  Only then could we see our website.  We'll learn about how Docker isolates our environments and why it's important."
      ]
    },
    {
      "cell_type": "markdown",
      "metadata": {
        "id": "eMSAghQTmkmu"
      },
      "source": [
        "But we'll leave all of these questions for the next lesson."
      ]
    },
    {
      "cell_type": "markdown",
      "metadata": {
        "id": "3zYO0zF0mkmv"
      },
      "source": [
        "### Resources\n",
        "[Docker for Windows](https://towardsdatascience.com/make-your-data-science-life-easy-with-docker-c3e1fc0dee59)"
      ]
    },
    {
      "cell_type": "markdown",
      "metadata": {
        "id": "LrPKYrM1mkmy"
      },
      "source": [
        "[Docker Curriculum](https://docker-curriculum.com/)"
      ]
    }
  ],
  "metadata": {
    "kernelspec": {
      "display_name": "Python 3 (ipykernel)",
      "language": "python",
      "name": "python3"
    },
    "language_info": {
      "codemirror_mode": {
        "name": "ipython",
        "version": 3
      },
      "file_extension": ".py",
      "mimetype": "text/x-python",
      "name": "python",
      "nbconvert_exporter": "python",
      "pygments_lexer": "ipython3",
      "version": "3.10.6"
    },
    "colab": {
      "provenance": [],
      "include_colab_link": true
    }
  },
  "nbformat": 4,
  "nbformat_minor": 0
}