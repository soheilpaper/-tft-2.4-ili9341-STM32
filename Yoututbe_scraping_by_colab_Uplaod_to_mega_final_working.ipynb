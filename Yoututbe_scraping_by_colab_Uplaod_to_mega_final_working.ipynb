{
  "nbformat": 4,
  "nbformat_minor": 0,
  "metadata": {
    "colab": {
      "name": "Yoututbe scraping by colab",
      "provenance": [],
      "collapsed_sections": [],
      "authorship_tag": "ABX9TyOesL0buem6iKjAbYvb4kWR",
      "include_colab_link": true
    },
    "kernelspec": {
      "name": "python3",
      "display_name": "Python 3"
    }
  },
  "cells": [
    {
      "cell_type": "markdown",
      "metadata": {
        "id": "view-in-github",
        "colab_type": "text"
      },
      "source": [
        "<a href=\"https://colab.research.google.com/github/soheilpaper/-tft-2.4-ili9341-STM32/blob/master/Yoututbe_scraping_by_colab_Uplaod_to_mega_final_working.ipynb\" target=\"_parent\"><img src=\"https://colab.research.google.com/assets/colab-badge.svg\" alt=\"Open In Colab\"/></a>"
      ]
    },
    {
      "cell_type": "markdown",
      "metadata": {
        "id": "aZmvGLz222nf"
      },
      "source": [
        "# The main function for scrapin the car type video from the **car_type_label.txt** file and download data by youtube-dl comand for each line of that txt file"
      ]
    },
    {
      "cell_type": "markdown",
      "metadata": {
        "id": "gc-t6USJrVrM"
      },
      "source": [
        "# @title\n",
        "# conect to [Mega.z](https://mega.nz/) cloud for storage files based ot this page:\n",
        "\n",
        "https://colab.research.google.com/github/sudo-ken/Mega-to-Google-Drive/blob/master/Transfer_files_from_Mega_to_Google_Drive.ipynb#scrollTo=Vgh1xlQYGZCO\n"
      ]
    },
    {
      "cell_type": "code",
      "metadata": {
        "id": "h74AgWq7rFkJ",
        "colab": {
          "base_uri": "https://localhost:8080/"
        },
        "outputId": "2492955e-f25a-4569-c75e-b7e278e79eef"
      },
      "source": [
        "#@title\n",
        "# @markdown <center><h3>Input Your Mega ID</h3></center><br>\n",
        "from functools import wraps\n",
        "import errno\n",
        "import os\n",
        "import signal\n",
        "import subprocess\n",
        "import shlex\n",
        "\n",
        "\n",
        "class TimeoutError(Exception):\n",
        "    pass\n",
        "\n",
        "\n",
        "def timeout(seconds=10, error_message=os.strerror(errno.ETIME)):\n",
        "    def decorator(func):\n",
        "        def _handle_timeout(signum, frame):\n",
        "            raise TimeoutError(error_message)\n",
        "\n",
        "        def wrapper(*args, **kwargs):\n",
        "            signal.signal(signal.SIGALRM, _handle_timeout)\n",
        "            signal.alarm(seconds)\n",
        "            try:\n",
        "                result = func(*args, **kwargs)\n",
        "            finally:\n",
        "                signal.alarm(0)\n",
        "            return result\n",
        "\n",
        "        return wraps(func)(wrapper)\n",
        "\n",
        "    return decorator\n",
        "\n",
        "\n",
        "if not os.path.exists(\"/root/.ipython/ocr.py\"):\n",
        "    from subprocess import run\n",
        "    from shlex import split\n",
        "\n",
        "    shellCmd = \"wget -qq https://raw.githubusercontent.com/biplobsd/OneClickRun/master/res/ocr.py \\\n",
        "                    -O /root/.ipython/ocr.py\"\n",
        "    run(split(shellCmd))\n",
        "from ocr import runSh\n",
        "\n",
        "@timeout(10)\n",
        "def runShT(args):\n",
        "    return runSh(args, output=True)\n",
        "\n",
        "\n",
        "# MEGAcmd installing\n",
        "if not os.path.exists(\"/usr/bin/mega-cmd\"):\n",
        "    print(\"Installing MEGA ...\")\n",
        "    runSh('sudo apt-get -y update')\n",
        "    runSh('sudo apt-get -y install libmms0 libc-ares2 libc6 libcrypto++6 libgcc1 libmediainfo0v5 libpcre3 libpcrecpp0v5 libssl1.1 libstdc++6 libzen0v5 zlib1g apt-transport-https')\n",
        "    runSh('sudo curl -sL -o /var/cache/apt/archives/MEGAcmd.deb https://mega.nz/linux/MEGAsync/Debian_9.0/amd64/megacmd-Debian_9.0_amd64.deb', output=True)\n",
        "    runSh('sudo dpkg -i /var/cache/apt/archives/MEGAcmd.deb', output=True)\n",
        "    print(\"MEGA is installed.\")\n",
        "else:\n",
        "    !pkill mega-cmd\n",
        "\n",
        "# INPUT YOUR MEGA ID\n",
        "\n",
        "USERNAME = 'zigotijy@musiccode.me'  # @param {type:\"string\"}\n",
        "PASSWORD = \"https://mega.nz/register\"  # @param {type:\"string\"}\n",
        "if not (USERNAME == \"\" or PASSWORD == \"\"):\n",
        "    try:\n",
        "        runShT(f\"mega-login {USERNAME} {PASSWORD}\")\n",
        "    except TimeoutError:\n",
        "        runSh('mega-whoami', output=True)\n",
        "else:\n",
        "    print(\"Please Input your Mega IDs.\")\n",
        "# @markdown *After signing in, use the above cell(Main Cell) to transfer files from Mega to GDrive using the transfer quota of your Mega Pro Account*"
      ],
      "execution_count": 3,
      "outputs": [
        {
          "output_type": "stream",
          "name": "stdout",
          "text": [
            "Installing MEGA ...\n",
            "Selecting previously unselected package megacmd.\n",
            "(Reading database ... 155255 files and directories currently installed.)\n",
            "Preparing to unpack .../cache/apt/archives/MEGAcmd.deb ...\n",
            "Unpacking megacmd (1.4.0-3.1) ...\n",
            "Setting up megacmd (1.4.0-3.1) ...\n",
            "MEGA is installed.\n",
            "[Initiating server in background. Log: /root/.megaCmd/megacmdserver.log]\n",
            "Account e-mail: zigotijy@musiccode.me\n"
          ]
        }
      ]
    },
    {
      "cell_type": "code",
      "metadata": {
        "id": "e3P8X9J-NyY3",
        "colab": {
          "base_uri": "https://localhost:8080/"
        },
        "outputId": "2cc40130-39b6-43b9-c018-6e61eec961ba"
      },
      "source": [
        "!pip install youtube-dl \n",
        "!apt install python3-distutils   \n",
        "!pip install mega.py\n",
        "!apt install python3-distutils  -y\n",
        "\n",
        "# %cd '/content/'\n",
        "# !git clone https://github.com/jeroenmeulenaar/python3-mega.git\n",
        "# !(cd python3-mega; pip install urlobject pycrypto)\n",
        "\n",
        "# import os\n",
        "# os.chdir('python3-mega')\n",
        "# from mega import Mega\n",
        "# os.chdir('../')\n",
        "# m = Mega.from_ephemeral()\n",
        "\n",
        "# !git clone https://github.com/odwyersoftware/mega.py\n",
        "# %cd mega.py\n",
        "# !python setup.py install\n",
        "%cd '/content/'\n",
        "\n",
        "!rm -rf '/content/yoloOnGoogleColab'\n",
        "!git clone https://github.com/CAR-Driving/yoloOnGoogleColab\n",
        "\n"
      ],
      "execution_count": 4,
      "outputs": [
        {
          "output_type": "stream",
          "name": "stdout",
          "text": [
            "Collecting youtube-dl\n",
            "  Downloading youtube_dl-2021.6.6-py2.py3-none-any.whl (1.9 MB)\n",
            "\u001b[?25l\r\u001b[K     |▏                               | 10 kB 25.8 MB/s eta 0:00:01\r\u001b[K     |▍                               | 20 kB 36.0 MB/s eta 0:00:01\r\u001b[K     |▌                               | 30 kB 43.5 MB/s eta 0:00:01\r\u001b[K     |▊                               | 40 kB 34.1 MB/s eta 0:00:01\r\u001b[K     |▉                               | 51 kB 17.6 MB/s eta 0:00:01\r\u001b[K     |█                               | 61 kB 17.1 MB/s eta 0:00:01\r\u001b[K     |█▏                              | 71 kB 12.4 MB/s eta 0:00:01\r\u001b[K     |█▍                              | 81 kB 13.7 MB/s eta 0:00:01\r\u001b[K     |█▌                              | 92 kB 13.1 MB/s eta 0:00:01\r\u001b[K     |█▊                              | 102 kB 14.3 MB/s eta 0:00:01\r\u001b[K     |██                              | 112 kB 14.3 MB/s eta 0:00:01\r\u001b[K     |██                              | 122 kB 14.3 MB/s eta 0:00:01\r\u001b[K     |██▎                             | 133 kB 14.3 MB/s eta 0:00:01\r\u001b[K     |██▍                             | 143 kB 14.3 MB/s eta 0:00:01\r\u001b[K     |██▋                             | 153 kB 14.3 MB/s eta 0:00:01\r\u001b[K     |██▊                             | 163 kB 14.3 MB/s eta 0:00:01\r\u001b[K     |███                             | 174 kB 14.3 MB/s eta 0:00:01\r\u001b[K     |███                             | 184 kB 14.3 MB/s eta 0:00:01\r\u001b[K     |███▎                            | 194 kB 14.3 MB/s eta 0:00:01\r\u001b[K     |███▍                            | 204 kB 14.3 MB/s eta 0:00:01\r\u001b[K     |███▋                            | 215 kB 14.3 MB/s eta 0:00:01\r\u001b[K     |███▉                            | 225 kB 14.3 MB/s eta 0:00:01\r\u001b[K     |████                            | 235 kB 14.3 MB/s eta 0:00:01\r\u001b[K     |████▏                           | 245 kB 14.3 MB/s eta 0:00:01\r\u001b[K     |████▎                           | 256 kB 14.3 MB/s eta 0:00:01\r\u001b[K     |████▌                           | 266 kB 14.3 MB/s eta 0:00:01\r\u001b[K     |████▋                           | 276 kB 14.3 MB/s eta 0:00:01\r\u001b[K     |████▉                           | 286 kB 14.3 MB/s eta 0:00:01\r\u001b[K     |█████                           | 296 kB 14.3 MB/s eta 0:00:01\r\u001b[K     |█████▏                          | 307 kB 14.3 MB/s eta 0:00:01\r\u001b[K     |█████▎                          | 317 kB 14.3 MB/s eta 0:00:01\r\u001b[K     |█████▌                          | 327 kB 14.3 MB/s eta 0:00:01\r\u001b[K     |█████▊                          | 337 kB 14.3 MB/s eta 0:00:01\r\u001b[K     |█████▉                          | 348 kB 14.3 MB/s eta 0:00:01\r\u001b[K     |██████                          | 358 kB 14.3 MB/s eta 0:00:01\r\u001b[K     |██████▏                         | 368 kB 14.3 MB/s eta 0:00:01\r\u001b[K     |██████▍                         | 378 kB 14.3 MB/s eta 0:00:01\r\u001b[K     |██████▌                         | 389 kB 14.3 MB/s eta 0:00:01\r\u001b[K     |██████▊                         | 399 kB 14.3 MB/s eta 0:00:01\r\u001b[K     |██████▉                         | 409 kB 14.3 MB/s eta 0:00:01\r\u001b[K     |███████                         | 419 kB 14.3 MB/s eta 0:00:01\r\u001b[K     |███████▎                        | 430 kB 14.3 MB/s eta 0:00:01\r\u001b[K     |███████▍                        | 440 kB 14.3 MB/s eta 0:00:01\r\u001b[K     |███████▋                        | 450 kB 14.3 MB/s eta 0:00:01\r\u001b[K     |███████▊                        | 460 kB 14.3 MB/s eta 0:00:01\r\u001b[K     |████████                        | 471 kB 14.3 MB/s eta 0:00:01\r\u001b[K     |████████                        | 481 kB 14.3 MB/s eta 0:00:01\r\u001b[K     |████████▎                       | 491 kB 14.3 MB/s eta 0:00:01\r\u001b[K     |████████▍                       | 501 kB 14.3 MB/s eta 0:00:01\r\u001b[K     |████████▋                       | 512 kB 14.3 MB/s eta 0:00:01\r\u001b[K     |████████▊                       | 522 kB 14.3 MB/s eta 0:00:01\r\u001b[K     |█████████                       | 532 kB 14.3 MB/s eta 0:00:01\r\u001b[K     |█████████▏                      | 542 kB 14.3 MB/s eta 0:00:01\r\u001b[K     |█████████▎                      | 552 kB 14.3 MB/s eta 0:00:01\r\u001b[K     |█████████▌                      | 563 kB 14.3 MB/s eta 0:00:01\r\u001b[K     |█████████▋                      | 573 kB 14.3 MB/s eta 0:00:01\r\u001b[K     |█████████▉                      | 583 kB 14.3 MB/s eta 0:00:01\r\u001b[K     |██████████                      | 593 kB 14.3 MB/s eta 0:00:01\r\u001b[K     |██████████▏                     | 604 kB 14.3 MB/s eta 0:00:01\r\u001b[K     |██████████▎                     | 614 kB 14.3 MB/s eta 0:00:01\r\u001b[K     |██████████▌                     | 624 kB 14.3 MB/s eta 0:00:01\r\u001b[K     |██████████▋                     | 634 kB 14.3 MB/s eta 0:00:01\r\u001b[K     |██████████▉                     | 645 kB 14.3 MB/s eta 0:00:01\r\u001b[K     |███████████                     | 655 kB 14.3 MB/s eta 0:00:01\r\u001b[K     |███████████▏                    | 665 kB 14.3 MB/s eta 0:00:01\r\u001b[K     |███████████▍                    | 675 kB 14.3 MB/s eta 0:00:01\r\u001b[K     |███████████▌                    | 686 kB 14.3 MB/s eta 0:00:01\r\u001b[K     |███████████▊                    | 696 kB 14.3 MB/s eta 0:00:01\r\u001b[K     |███████████▉                    | 706 kB 14.3 MB/s eta 0:00:01\r\u001b[K     |████████████                    | 716 kB 14.3 MB/s eta 0:00:01\r\u001b[K     |████████████▏                   | 727 kB 14.3 MB/s eta 0:00:01\r\u001b[K     |████████████▍                   | 737 kB 14.3 MB/s eta 0:00:01\r\u001b[K     |████████████▋                   | 747 kB 14.3 MB/s eta 0:00:01\r\u001b[K     |████████████▊                   | 757 kB 14.3 MB/s eta 0:00:01\r\u001b[K     |█████████████                   | 768 kB 14.3 MB/s eta 0:00:01\r\u001b[K     |█████████████                   | 778 kB 14.3 MB/s eta 0:00:01\r\u001b[K     |█████████████▎                  | 788 kB 14.3 MB/s eta 0:00:01\r\u001b[K     |█████████████▍                  | 798 kB 14.3 MB/s eta 0:00:01\r\u001b[K     |█████████████▋                  | 808 kB 14.3 MB/s eta 0:00:01\r\u001b[K     |█████████████▊                  | 819 kB 14.3 MB/s eta 0:00:01\r\u001b[K     |██████████████                  | 829 kB 14.3 MB/s eta 0:00:01\r\u001b[K     |██████████████                  | 839 kB 14.3 MB/s eta 0:00:01\r\u001b[K     |██████████████▎                 | 849 kB 14.3 MB/s eta 0:00:01\r\u001b[K     |██████████████▌                 | 860 kB 14.3 MB/s eta 0:00:01\r\u001b[K     |██████████████▋                 | 870 kB 14.3 MB/s eta 0:00:01\r\u001b[K     |██████████████▉                 | 880 kB 14.3 MB/s eta 0:00:01\r\u001b[K     |███████████████                 | 890 kB 14.3 MB/s eta 0:00:01\r\u001b[K     |███████████████▏                | 901 kB 14.3 MB/s eta 0:00:01\r\u001b[K     |███████████████▎                | 911 kB 14.3 MB/s eta 0:00:01\r\u001b[K     |███████████████▌                | 921 kB 14.3 MB/s eta 0:00:01\r\u001b[K     |███████████████▋                | 931 kB 14.3 MB/s eta 0:00:01\r\u001b[K     |███████████████▉                | 942 kB 14.3 MB/s eta 0:00:01\r\u001b[K     |████████████████                | 952 kB 14.3 MB/s eta 0:00:01\r\u001b[K     |████████████████▏               | 962 kB 14.3 MB/s eta 0:00:01\r\u001b[K     |████████████████▍               | 972 kB 14.3 MB/s eta 0:00:01\r\u001b[K     |████████████████▌               | 983 kB 14.3 MB/s eta 0:00:01\r\u001b[K     |████████████████▊               | 993 kB 14.3 MB/s eta 0:00:01\r\u001b[K     |████████████████▉               | 1.0 MB 14.3 MB/s eta 0:00:01\r\u001b[K     |█████████████████               | 1.0 MB 14.3 MB/s eta 0:00:01\r\u001b[K     |█████████████████▏              | 1.0 MB 14.3 MB/s eta 0:00:01\r\u001b[K     |█████████████████▍              | 1.0 MB 14.3 MB/s eta 0:00:01\r\u001b[K     |█████████████████▌              | 1.0 MB 14.3 MB/s eta 0:00:01\r\u001b[K     |█████████████████▊              | 1.1 MB 14.3 MB/s eta 0:00:01\r\u001b[K     |██████████████████              | 1.1 MB 14.3 MB/s eta 0:00:01\r\u001b[K     |██████████████████              | 1.1 MB 14.3 MB/s eta 0:00:01\r\u001b[K     |██████████████████▎             | 1.1 MB 14.3 MB/s eta 0:00:01\r\u001b[K     |██████████████████▍             | 1.1 MB 14.3 MB/s eta 0:00:01\r\u001b[K     |██████████████████▋             | 1.1 MB 14.3 MB/s eta 0:00:01\r\u001b[K     |██████████████████▊             | 1.1 MB 14.3 MB/s eta 0:00:01\r\u001b[K     |███████████████████             | 1.1 MB 14.3 MB/s eta 0:00:01\r\u001b[K     |███████████████████             | 1.1 MB 14.3 MB/s eta 0:00:01\r\u001b[K     |███████████████████▎            | 1.1 MB 14.3 MB/s eta 0:00:01\r\u001b[K     |███████████████████▍            | 1.2 MB 14.3 MB/s eta 0:00:01\r\u001b[K     |███████████████████▋            | 1.2 MB 14.3 MB/s eta 0:00:01\r\u001b[K     |███████████████████▉            | 1.2 MB 14.3 MB/s eta 0:00:01\r\u001b[K     |████████████████████            | 1.2 MB 14.3 MB/s eta 0:00:01\r\u001b[K     |████████████████████▏           | 1.2 MB 14.3 MB/s eta 0:00:01\r\u001b[K     |████████████████████▎           | 1.2 MB 14.3 MB/s eta 0:00:01\r\u001b[K     |████████████████████▌           | 1.2 MB 14.3 MB/s eta 0:00:01\r\u001b[K     |████████████████████▋           | 1.2 MB 14.3 MB/s eta 0:00:01\r\u001b[K     |████████████████████▉           | 1.2 MB 14.3 MB/s eta 0:00:01\r\u001b[K     |█████████████████████           | 1.2 MB 14.3 MB/s eta 0:00:01\r\u001b[K     |█████████████████████▏          | 1.3 MB 14.3 MB/s eta 0:00:01\r\u001b[K     |█████████████████████▎          | 1.3 MB 14.3 MB/s eta 0:00:01\r\u001b[K     |█████████████████████▌          | 1.3 MB 14.3 MB/s eta 0:00:01\r\u001b[K     |█████████████████████▊          | 1.3 MB 14.3 MB/s eta 0:00:01\r\u001b[K     |█████████████████████▉          | 1.3 MB 14.3 MB/s eta 0:00:01\r\u001b[K     |██████████████████████          | 1.3 MB 14.3 MB/s eta 0:00:01\r\u001b[K     |██████████████████████▏         | 1.3 MB 14.3 MB/s eta 0:00:01\r\u001b[K     |██████████████████████▍         | 1.3 MB 14.3 MB/s eta 0:00:01\r\u001b[K     |██████████████████████▌         | 1.3 MB 14.3 MB/s eta 0:00:01\r\u001b[K     |██████████████████████▊         | 1.4 MB 14.3 MB/s eta 0:00:01\r\u001b[K     |██████████████████████▉         | 1.4 MB 14.3 MB/s eta 0:00:01\r\u001b[K     |███████████████████████         | 1.4 MB 14.3 MB/s eta 0:00:01\r\u001b[K     |███████████████████████▎        | 1.4 MB 14.3 MB/s eta 0:00:01\r\u001b[K     |███████████████████████▍        | 1.4 MB 14.3 MB/s eta 0:00:01\r\u001b[K     |███████████████████████▋        | 1.4 MB 14.3 MB/s eta 0:00:01\r\u001b[K     |███████████████████████▊        | 1.4 MB 14.3 MB/s eta 0:00:01\r\u001b[K     |████████████████████████        | 1.4 MB 14.3 MB/s eta 0:00:01\r\u001b[K     |████████████████████████        | 1.4 MB 14.3 MB/s eta 0:00:01\r\u001b[K     |████████████████████████▎       | 1.4 MB 14.3 MB/s eta 0:00:01\r\u001b[K     |████████████████████████▍       | 1.5 MB 14.3 MB/s eta 0:00:01\r\u001b[K     |████████████████████████▋       | 1.5 MB 14.3 MB/s eta 0:00:01\r\u001b[K     |████████████████████████▊       | 1.5 MB 14.3 MB/s eta 0:00:01\r\u001b[K     |█████████████████████████       | 1.5 MB 14.3 MB/s eta 0:00:01\r\u001b[K     |█████████████████████████▏      | 1.5 MB 14.3 MB/s eta 0:00:01\r\u001b[K     |█████████████████████████▎      | 1.5 MB 14.3 MB/s eta 0:00:01\r\u001b[K     |█████████████████████████▌      | 1.5 MB 14.3 MB/s eta 0:00:01\r\u001b[K     |█████████████████████████▋      | 1.5 MB 14.3 MB/s eta 0:00:01\r\u001b[K     |█████████████████████████▉      | 1.5 MB 14.3 MB/s eta 0:00:01\r\u001b[K     |██████████████████████████      | 1.5 MB 14.3 MB/s eta 0:00:01\r\u001b[K     |██████████████████████████▏     | 1.6 MB 14.3 MB/s eta 0:00:01\r\u001b[K     |██████████████████████████▎     | 1.6 MB 14.3 MB/s eta 0:00:01\r\u001b[K     |██████████████████████████▌     | 1.6 MB 14.3 MB/s eta 0:00:01\r\u001b[K     |██████████████████████████▋     | 1.6 MB 14.3 MB/s eta 0:00:01\r\u001b[K     |██████████████████████████▉     | 1.6 MB 14.3 MB/s eta 0:00:01\r\u001b[K     |███████████████████████████     | 1.6 MB 14.3 MB/s eta 0:00:01\r\u001b[K     |███████████████████████████▏    | 1.6 MB 14.3 MB/s eta 0:00:01\r\u001b[K     |███████████████████████████▍    | 1.6 MB 14.3 MB/s eta 0:00:01\r\u001b[K     |███████████████████████████▌    | 1.6 MB 14.3 MB/s eta 0:00:01\r\u001b[K     |███████████████████████████▊    | 1.6 MB 14.3 MB/s eta 0:00:01\r\u001b[K     |███████████████████████████▉    | 1.7 MB 14.3 MB/s eta 0:00:01\r\u001b[K     |████████████████████████████    | 1.7 MB 14.3 MB/s eta 0:00:01\r\u001b[K     |████████████████████████████▏   | 1.7 MB 14.3 MB/s eta 0:00:01\r\u001b[K     |████████████████████████████▍   | 1.7 MB 14.3 MB/s eta 0:00:01\r\u001b[K     |████████████████████████████▋   | 1.7 MB 14.3 MB/s eta 0:00:01\r\u001b[K     |████████████████████████████▊   | 1.7 MB 14.3 MB/s eta 0:00:01\r\u001b[K     |█████████████████████████████   | 1.7 MB 14.3 MB/s eta 0:00:01\r\u001b[K     |█████████████████████████████   | 1.7 MB 14.3 MB/s eta 0:00:01\r\u001b[K     |█████████████████████████████▎  | 1.7 MB 14.3 MB/s eta 0:00:01\r\u001b[K     |█████████████████████████████▍  | 1.8 MB 14.3 MB/s eta 0:00:01\r\u001b[K     |█████████████████████████████▋  | 1.8 MB 14.3 MB/s eta 0:00:01\r\u001b[K     |█████████████████████████████▊  | 1.8 MB 14.3 MB/s eta 0:00:01\r\u001b[K     |██████████████████████████████  | 1.8 MB 14.3 MB/s eta 0:00:01\r\u001b[K     |██████████████████████████████  | 1.8 MB 14.3 MB/s eta 0:00:01\r\u001b[K     |██████████████████████████████▎ | 1.8 MB 14.3 MB/s eta 0:00:01\r\u001b[K     |██████████████████████████████▌ | 1.8 MB 14.3 MB/s eta 0:00:01\r\u001b[K     |██████████████████████████████▋ | 1.8 MB 14.3 MB/s eta 0:00:01\r\u001b[K     |██████████████████████████████▉ | 1.8 MB 14.3 MB/s eta 0:00:01\r\u001b[K     |███████████████████████████████ | 1.8 MB 14.3 MB/s eta 0:00:01\r\u001b[K     |███████████████████████████████▏| 1.9 MB 14.3 MB/s eta 0:00:01\r\u001b[K     |███████████████████████████████▎| 1.9 MB 14.3 MB/s eta 0:00:01\r\u001b[K     |███████████████████████████████▌| 1.9 MB 14.3 MB/s eta 0:00:01\r\u001b[K     |███████████████████████████████▋| 1.9 MB 14.3 MB/s eta 0:00:01\r\u001b[K     |███████████████████████████████▉| 1.9 MB 14.3 MB/s eta 0:00:01\r\u001b[K     |████████████████████████████████| 1.9 MB 14.3 MB/s eta 0:00:01\r\u001b[K     |████████████████████████████████| 1.9 MB 14.3 MB/s \n",
            "\u001b[?25hInstalling collected packages: youtube-dl\n",
            "Successfully installed youtube-dl-2021.6.6\n",
            "Reading package lists... Done\n",
            "Building dependency tree       \n",
            "Reading state information... Done\n",
            "python3-distutils is already the newest version (3.6.9-1~18.04).\n",
            "python3-distutils set to manually installed.\n",
            "0 upgraded, 0 newly installed, 0 to remove and 47 not upgraded.\n",
            "Collecting mega.py\n",
            "  Downloading mega.py-1.0.8-py2.py3-none-any.whl (19 kB)\n",
            "Requirement already satisfied: pathlib==1.0.1 in /usr/local/lib/python3.7/dist-packages (from mega.py) (1.0.1)\n",
            "Collecting tenacity<6.0.0,>=5.1.5\n",
            "  Downloading tenacity-5.1.5-py2.py3-none-any.whl (34 kB)\n",
            "Requirement already satisfied: requests>=0.10 in /usr/local/lib/python3.7/dist-packages (from mega.py) (2.23.0)\n",
            "Collecting pycryptodome<4.0.0,>=3.9.6\n",
            "  Downloading pycryptodome-3.11.0-cp35-abi3-manylinux2010_x86_64.whl (1.9 MB)\n",
            "\u001b[K     |████████████████████████████████| 1.9 MB 17.9 MB/s \n",
            "\u001b[?25hRequirement already satisfied: certifi>=2017.4.17 in /usr/local/lib/python3.7/dist-packages (from requests>=0.10->mega.py) (2021.5.30)\n",
            "Requirement already satisfied: chardet<4,>=3.0.2 in /usr/local/lib/python3.7/dist-packages (from requests>=0.10->mega.py) (3.0.4)\n",
            "Requirement already satisfied: idna<3,>=2.5 in /usr/local/lib/python3.7/dist-packages (from requests>=0.10->mega.py) (2.10)\n",
            "Requirement already satisfied: urllib3!=1.25.0,!=1.25.1,<1.26,>=1.21.1 in /usr/local/lib/python3.7/dist-packages (from requests>=0.10->mega.py) (1.24.3)\n",
            "Requirement already satisfied: six>=1.9.0 in /usr/local/lib/python3.7/dist-packages (from tenacity<6.0.0,>=5.1.5->mega.py) (1.15.0)\n",
            "Installing collected packages: tenacity, pycryptodome, mega.py\n",
            "Successfully installed mega.py-1.0.8 pycryptodome-3.11.0 tenacity-5.1.5\n",
            "Reading package lists... Done\n",
            "Building dependency tree       \n",
            "Reading state information... Done\n",
            "python3-distutils is already the newest version (3.6.9-1~18.04).\n",
            "0 upgraded, 0 newly installed, 0 to remove and 47 not upgraded.\n",
            "/content\n",
            "Cloning into 'yoloOnGoogleColab'...\n",
            "remote: Enumerating objects: 304, done.\u001b[K\n",
            "remote: Counting objects: 100% (44/44), done.\u001b[K\n",
            "remote: Compressing objects: 100% (44/44), done.\u001b[K\n",
            "remote: Total 304 (delta 28), reused 0 (delta 0), pack-reused 260\u001b[K\n",
            "Receiving objects: 100% (304/304), 43.44 MiB | 12.63 MiB/s, done.\n",
            "Resolving deltas: 100% (176/176), done.\n"
          ]
        }
      ]
    },
    {
      "cell_type": "code",
      "metadata": {
        "colab": {
          "base_uri": "https://localhost:8080/"
        },
        "id": "EqtWDs9J9sUF",
        "outputId": "cdb07d3a-8f1e-4ee9-e390-0bee75520f20"
      },
      "source": [
        "import requests\n",
        "\n",
        "example_txt = 'https://gist.github.com/soheilpaper/d1f7bcb20ad056b3173336a20e3a6263/archive/b291d58154c85dad840859fef4e63efb163005b0.zip'\n",
        "\n",
        "r = requests.get(example_txt)\n",
        "with open('/content/yoloOnGoogleColab/contries_label.zip', 'wb') as f:\n",
        "    f.write(r.content)\n",
        "!unzip /content/yoloOnGoogleColab/contries_label.zip\n",
        "!cp '/content/d1f7bcb20ad056b3173336a20e3a6263-b291d58154c85dad840859fef4e63efb163005b0/list-of-countries.txt' '/content/yoloOnGoogleColab/contries_label.txt'"
      ],
      "execution_count": 6,
      "outputs": [
        {
          "output_type": "stream",
          "name": "stdout",
          "text": [
            "Archive:  /content/yoloOnGoogleColab/contries_label.zip\n",
            "b291d58154c85dad840859fef4e63efb163005b0\n",
            "replace d1f7bcb20ad056b3173336a20e3a6263-b291d58154c85dad840859fef4e63efb163005b0/list-of-countries.txt? [y]es, [n]o, [A]ll, [N]one, [r]ename: y\n",
            "  inflating: d1f7bcb20ad056b3173336a20e3a6263-b291d58154c85dad840859fef4e63efb163005b0/list-of-countries.txt  \n"
          ]
        }
      ]
    },
    {
      "cell_type": "code",
      "metadata": {
        "id": "Gu60EjWBB6s_"
      },
      "source": [
        "!youtube-dl ytsearch20:recipe --match-title 'enviromental|cop26|save the earth)'"
      ],
      "execution_count": null,
      "outputs": []
    },
    {
      "cell_type": "code",
      "metadata": {
        "id": "D_cTa8uxZWbP",
        "colab": {
          "base_uri": "https://localhost:8080/",
          "height": 1000
        },
        "outputId": "26d5d2f4-b24e-4505-807b-7266dd7c2be5"
      },
      "source": [
        "!rm -rf '/content/yolo_car_database'\n",
        "!mkdir '/content/yolo_car_database'\n",
        "%cd '/content/yolo_car_database'\n",
        "!echo 't' >> t.txt\n",
        "\n",
        "from subprocess import Popen, PIPE\n",
        "import shlex\n",
        "import errno, os\n",
        "\n",
        "from subprocess import Popen, PIPE\n",
        "import shlex\n",
        "from ocr import runSh\n",
        "import re\n",
        "from distutils.dir_util import copy_tree\n",
        "\n",
        "# copy subdirectory example\n",
        "fromDirectory = '/content/yolo_car_database/'\n",
        "toDirectory = '/content/gdrive/My Drive/yolo_car_database/'\n",
        "\n",
        "runSh('mega-cd /' )\n",
        "runSh(' mega-mkdir Yolo_car_database ')\n",
        "runSh(' mega-ls ')\n",
        "runSh('mega-cd Yolo_car_database ')\n",
        "\n",
        "# copy_tree(fromDirectory, toDirectory)\n",
        "def uplaod_mega_nz(root,cloude='google_drive',title1=''):\n",
        " if (cloude=='mega'):\n",
        "  #  from mega import Mega\n",
        "  #  mega = Mega()\n",
        "  #  email = 'woraqofa@ivyandmarj.com'\n",
        "  #  password = 'feripas800@wgraj.com'\n",
        "  #  m = mega.login(email, password)\n",
        "  #  # login using a temporary anonymous account\n",
        "  #  m = mega.login()\n",
        "  #  quota = m.get_quota()\n",
        "  #  # specify unit output kilo, mega, gig, else bytes will output\n",
        "  #  space = m.get_storage_space(kilo=True)\n",
        "  #  m.create_folder('yolo_car_database/'+title1+'/')\n",
        "  #  folder = m.find('yolo_car_database/'+title1+'/')\n",
        "   # m.upload('myfile.doc', folder[0])\n",
        "  #  run_command('mega-cd ~ && mega-mkdir Yolo_car_database && mega-cd Yolo_car_database && mega-put '+ root+'/* . ')\n",
        "  \n",
        "   runSh('mega-cd Yolo_car_database' + title1 + '/')\n",
        "   runSh('mega-put '+ root+' . ')\n",
        "   runSh(' mega-ls')\n",
        "\n",
        "   for path, subdirs, files in os.walk( root):\n",
        "      for name in files:\n",
        "        print (files)\n",
        "          # m.upload(os.path.join(path, name), folder[0])\n",
        "   # public_exported_web_link = m.export('myfile.doc')\n",
        "   # public_exported_web_link = m.export('my_mega_folder/my_sub_folder_to_share')\n",
        " if (cloude=='google_drive'):\n",
        "     run_command('mkdir '+root+'/')\n",
        "     for path, subdirs, files in os.walk( root):\n",
        "      for name in files:\n",
        "        # print ('cp -r \"'+os.path.join(path, name)+'\" '+'\"/content/gdrive/My Drive/yolo_car_database/' + title1 + '/\"')\n",
        "        # print (os.path.join(path, change_name(name)))       \n",
        "        # os.rename(os.path.join(path, name), os.path.join(path, change_name(name)))\n",
        "        run_command('cp -r  \"'+os.path.join(path, name)+'\" '+'\"/content/gdrive/My Drive/yolo_car_database/' + title1 + '/\"')\n",
        "     try:\n",
        "        copy_tree(root,'/content/gdrive/My Drive/yolo_car_database/' + title1 + '/')\n",
        "     except OSError as e: # this would be \"except OSError, e:\" before Python 2.6\n",
        "        if e.errno != errno.ENOENT: # errno.ENOENT = no such file or directory\n",
        "            # raise #\n",
        "            i=0   \n",
        "def change_file_name(root):\n",
        "  for path, subdirs, files in os.walk( root):\n",
        "      for name in files:\n",
        "        print ('filename is: \"'+os.path.join(path, name))\n",
        "        print (os.path.join(path, change_name(name)))       \n",
        "        os.rename(os.path.join(path, name), os.path.join(path, change_name(name)))\n",
        "\n",
        "def run_command(cmd):\n",
        "    with Popen(shlex.split(cmd), stdout=PIPE, bufsize=1, universal_newlines=False) as p:\n",
        "        while True:\n",
        "            line = p.stdout.readline()\n",
        "            if not line:\n",
        "                break\n",
        "            print(line)    \n",
        "        exit_code = p.poll()\n",
        "    return exit_code\n",
        "def change_name(name):\n",
        "    name_file = ''.join(name)\n",
        "    name_file = name_file.replace(\" \", \"_\")\n",
        "    name_file = name_file.replace(\"'\", \"_\")\n",
        "    name_file = name_file.replace(\"\\n\", \"\")\n",
        "    name_file = name_file.replace(\"\\t\", \"\")\n",
        "    name_file = name_file.replace(\"!\", \"\")\n",
        "    name_file = name_file.replace(\"-\", \"\")\n",
        "    name_file = name_file.replace(\"$\", \"\")\n",
        "    name_file = re.sub(r'[\\\\/*?:\"<>|]',\"\",name_file)\n",
        "    return name_file\n",
        "def Youtube_download_video(command):\n",
        "    # command_title=re.split('([^a-zA-Z0-9])',command)\n",
        "    command_title_1 = re.split('([^a-zA-Z0-9])', command)\n",
        "    command_title = ''.join(command_title_1)\n",
        "    command_title=change_name(command_title)\n",
        "\n",
        "\n",
        "    # call_args = ' youtube-dl --match-title ' + ' \"'+command_title_1[0]+ '\" ' + '\"ytsearch10\":'+'\"'+command+ '\" '+\"--external-downloader-args   '-ss 00:00:03 -t 00:03:08' --write-info-json --write-annotation --write-thumbnail --write-sub -f 'bestvideo[ext=mp4]+bestaudio[ext=m4a]/mp4'\"\n",
        "    call_args = ' youtube-dl --match-title ' + ' \"'+command_title_1[0]+ '\" ' + '\"ytsearch100\":'+'\"'+command+ '\" '+\"--playlist-end 3  --external-downloader-args   '-ss 00:00:03 -t 00:03:08' --write-info-json --write-annotation --write-thumbnail --write-sub -f 'best[ext=mp4,height<=1080]+best[filesize<100M]' \"\n",
        "    call_args =  'youtube-dl ytsearch20:recipe --match-title' +'(enviromental|cop26|save the earth)'\n",
        "\n",
        "\n",
        "    # call_args = call_args.split() # because call takes a list of strings\n",
        "    # print (call_args)\n",
        "    # call(call_args)\n",
        "    # os.chdir(\"/content/yolo_car_database\")\n",
        "    # run_command('cd \"/content/yolo_car_database\"') \n",
        "    # run_command(call_args)\n",
        "    # os.system(\"cp --recursive '/content/yolo_car_database' '/content/gdrive/My Drive/yolo_car_databe\")\n",
        "    # os.system('pwd && ls ')\n",
        "    # copy_tree(fromDirectory, toDirectory)\n",
        "    # p = Popen(shlex.split(call_args), bufsize=1, universal_newlines=True)\n",
        "    run_command('mkdir /content/yolo_car_database/'+command_title)\n",
        "    \n",
        "    os.chdir( '/content/yolo_car_database/'+command_title+'/')\n",
        "    run_command(call_args) \n",
        "    # copy_tree('/content/yolo_car_database/'+command_title+'/', '/content/gdrive/My Drive/yolo_car_database/'+command_title+'/')\n",
        "    change_file_name('/content/yolo_car_database/'+command_title+'/')\n",
        "    uplaod_mega_nz('/content/yolo_car_database/'+command_title+'/','mega',command_title)\n",
        "    try:\n",
        "        # call(call_args)\n",
        "        # run_command('mkdir /content/yolo_car_database/'+command_title)\n",
        "        # os.chdir( '/content/yolo_car_database/'+command_title+'/')\n",
        "        # run_command(call_args) \n",
        "        # copy_tree('/content/yolo_car_database/'+command_title+'/', toDirectory)\n",
        "\n",
        "        # print (call_args)\n",
        "        pp=0\n",
        "        \n",
        "    except OSError as e: # this would be \"except OSError, e:\" before Python 2.6\n",
        "        if e.errno != errno.ENOENT: # errno.ENOENT = no such file or directory\n",
        "            raise # re-raise exception if a different error occurred\n",
        " \n",
        "    # return p.poll()\n",
        "\n",
        "# !wget https://github.com/spectrico/car-make-model-classifier-yolo3-python/blob/master/labels.txt\n",
        "\n",
        "i=0\n",
        "\n",
        "\n",
        "for line in open('/content/yoloOnGoogleColab/contries_label.txt','r').readlines():\n",
        "    print (line)\n",
        "    try:\n",
        "      Youtube_download_video(line)\n",
        "\n",
        "    except OSError as e: # this would be \"except OSError, e:\" before Python 2.6\n",
        "        if e.errno != errno.ENOENT: # errno.ENOENT = no such file or directory\n",
        "            i=1 # re-raise exception if a different error occurred\n",
        "    i=i+1\n",
        "# !cp '/content/yolo_car_database' \"gdrive/My Drive/yolo_car_databe\"\n",
        "\n",
        "\n",
        "\n"
      ],
      "execution_count": 7,
      "outputs": [
        {
          "output_type": "stream",
          "name": "stdout",
          "text": [
            "/content/yolo_car_database\n",
            "Abkhazia\n",
            "\n",
            "Afghanistan\n",
            "\n",
            "Åland Islands\n",
            "\n",
            "Albania\n",
            "\n",
            "Algeria\n",
            "\n",
            "American Samoa\n",
            "\n",
            "Andorra\n",
            "\n",
            "Angola\n",
            "\n",
            "Anguilla\n",
            "\n",
            "Antarctica\n",
            "\n",
            "Antigua & Barbuda\n",
            "\n",
            "Argentina\n",
            "\n",
            "Armenia\n",
            "\n",
            "Artsakh\n",
            "\n",
            "Aruba\n",
            "\n",
            "Australia\n",
            "\n",
            "Austria\n",
            "\n",
            "Azerbaijan\n",
            "\n",
            "Bahamas\n",
            "\n",
            "Bahrain\n",
            "\n",
            "Bangladesh\n",
            "\n",
            "Barbados\n",
            "\n",
            "Belarus\n",
            "\n",
            "Belgium\n",
            "\n",
            "Belize\n",
            "\n",
            "Benin\n",
            "\n",
            "Bermuda\n",
            "\n",
            "Bhutan\n",
            "\n",
            "Bolivia\n",
            "\n",
            "Bosnia & Herzegovina\n",
            "\n",
            "Botswana\n",
            "\n",
            "Bouvet Island\n",
            "\n",
            "Brazil\n",
            "\n",
            "British Indian Ocean Territory\n",
            "\n",
            "British Virgin Islands\n",
            "\n",
            "Brunei\n",
            "\n",
            "Bulgaria\n",
            "\n"
          ]
        },
        {
          "output_type": "error",
          "ename": "KeyboardInterrupt",
          "evalue": "ignored",
          "traceback": [
            "\u001b[0;31m---------------------------------------------------------------------------\u001b[0m",
            "\u001b[0;31mKeyboardInterrupt\u001b[0m                         Traceback (most recent call last)",
            "\u001b[0;32m<ipython-input-7-a939cae6cf7b>\u001b[0m in \u001b[0;36m<module>\u001b[0;34m()\u001b[0m\n\u001b[1;32m    145\u001b[0m     \u001b[0mprint\u001b[0m \u001b[0;34m(\u001b[0m\u001b[0mline\u001b[0m\u001b[0;34m)\u001b[0m\u001b[0;34m\u001b[0m\u001b[0;34m\u001b[0m\u001b[0m\n\u001b[1;32m    146\u001b[0m     \u001b[0;32mtry\u001b[0m\u001b[0;34m:\u001b[0m\u001b[0;34m\u001b[0m\u001b[0;34m\u001b[0m\u001b[0m\n\u001b[0;32m--> 147\u001b[0;31m       \u001b[0mYoutube_download_video\u001b[0m\u001b[0;34m(\u001b[0m\u001b[0mline\u001b[0m\u001b[0;34m)\u001b[0m\u001b[0;34m\u001b[0m\u001b[0;34m\u001b[0m\u001b[0m\n\u001b[0m\u001b[1;32m    148\u001b[0m \u001b[0;34m\u001b[0m\u001b[0m\n\u001b[1;32m    149\u001b[0m     \u001b[0;32mexcept\u001b[0m \u001b[0mOSError\u001b[0m \u001b[0;32mas\u001b[0m \u001b[0me\u001b[0m\u001b[0;34m:\u001b[0m \u001b[0;31m# this would be \"except OSError, e:\" before Python 2.6\u001b[0m\u001b[0;34m\u001b[0m\u001b[0;34m\u001b[0m\u001b[0m\n",
            "\u001b[0;32m<ipython-input-7-a939cae6cf7b>\u001b[0m in \u001b[0;36mYoutube_download_video\u001b[0;34m(command)\u001b[0m\n\u001b[1;32m    120\u001b[0m     \u001b[0;31m# copy_tree('/content/yolo_car_database/'+command_title+'/', '/content/gdrive/My Drive/yolo_car_database/'+command_title+'/')\u001b[0m\u001b[0;34m\u001b[0m\u001b[0;34m\u001b[0m\u001b[0;34m\u001b[0m\u001b[0m\n\u001b[1;32m    121\u001b[0m     \u001b[0mchange_file_name\u001b[0m\u001b[0;34m(\u001b[0m\u001b[0;34m'/content/yolo_car_database/'\u001b[0m\u001b[0;34m+\u001b[0m\u001b[0mcommand_title\u001b[0m\u001b[0;34m+\u001b[0m\u001b[0;34m'/'\u001b[0m\u001b[0;34m)\u001b[0m\u001b[0;34m\u001b[0m\u001b[0;34m\u001b[0m\u001b[0m\n\u001b[0;32m--> 122\u001b[0;31m     \u001b[0muplaod_mega_nz\u001b[0m\u001b[0;34m(\u001b[0m\u001b[0;34m'/content/yolo_car_database/'\u001b[0m\u001b[0;34m+\u001b[0m\u001b[0mcommand_title\u001b[0m\u001b[0;34m+\u001b[0m\u001b[0;34m'/'\u001b[0m\u001b[0;34m,\u001b[0m\u001b[0;34m'mega'\u001b[0m\u001b[0;34m,\u001b[0m\u001b[0mcommand_title\u001b[0m\u001b[0;34m)\u001b[0m\u001b[0;34m\u001b[0m\u001b[0;34m\u001b[0m\u001b[0m\n\u001b[0m\u001b[1;32m    123\u001b[0m     \u001b[0;32mtry\u001b[0m\u001b[0;34m:\u001b[0m\u001b[0;34m\u001b[0m\u001b[0;34m\u001b[0m\u001b[0m\n\u001b[1;32m    124\u001b[0m         \u001b[0;31m# call(call_args)\u001b[0m\u001b[0;34m\u001b[0m\u001b[0;34m\u001b[0m\u001b[0;34m\u001b[0m\u001b[0m\n",
            "\u001b[0;32m<ipython-input-7-a939cae6cf7b>\u001b[0m in \u001b[0;36muplaod_mega_nz\u001b[0;34m(root, cloude, title1)\u001b[0m\n\u001b[1;32m     42\u001b[0m \u001b[0;34m\u001b[0m\u001b[0m\n\u001b[1;32m     43\u001b[0m    \u001b[0mrunSh\u001b[0m\u001b[0;34m(\u001b[0m\u001b[0;34m'mega-cd Yolo_car_database'\u001b[0m \u001b[0;34m+\u001b[0m \u001b[0mtitle1\u001b[0m \u001b[0;34m+\u001b[0m \u001b[0;34m'/'\u001b[0m\u001b[0;34m)\u001b[0m\u001b[0;34m\u001b[0m\u001b[0;34m\u001b[0m\u001b[0m\n\u001b[0;32m---> 44\u001b[0;31m    \u001b[0mrunSh\u001b[0m\u001b[0;34m(\u001b[0m\u001b[0;34m'mega-put '\u001b[0m\u001b[0;34m+\u001b[0m \u001b[0mroot\u001b[0m\u001b[0;34m+\u001b[0m\u001b[0;34m' . '\u001b[0m\u001b[0;34m)\u001b[0m\u001b[0;34m\u001b[0m\u001b[0;34m\u001b[0m\u001b[0m\n\u001b[0m\u001b[1;32m     45\u001b[0m    \u001b[0mrunSh\u001b[0m\u001b[0;34m(\u001b[0m\u001b[0;34m' mega-ls'\u001b[0m\u001b[0;34m)\u001b[0m\u001b[0;34m\u001b[0m\u001b[0;34m\u001b[0m\u001b[0m\n\u001b[1;32m     46\u001b[0m \u001b[0;34m\u001b[0m\u001b[0m\n",
            "\u001b[0;32m/root/.ipython/ocr.py\u001b[0m in \u001b[0;36mrunSh\u001b[0;34m(args, output, shell, cd)\u001b[0m\n\u001b[1;32m    315\u001b[0m                 \u001b[0;32mif\u001b[0m \u001b[0moutput\u001b[0m\u001b[0;34m:\u001b[0m\u001b[0;34m\u001b[0m\u001b[0;34m\u001b[0m\u001b[0m\n\u001b[1;32m    316\u001b[0m                     \u001b[0mprint\u001b[0m\u001b[0;34m(\u001b[0m\u001b[0moutput\u001b[0m\u001b[0;34m.\u001b[0m\u001b[0mdecode\u001b[0m\u001b[0;34m(\u001b[0m\u001b[0;34m\"utf-8\"\u001b[0m\u001b[0;34m)\u001b[0m\u001b[0;34m.\u001b[0m\u001b[0mstrip\u001b[0m\u001b[0;34m(\u001b[0m\u001b[0;34m)\u001b[0m\u001b[0;34m)\u001b[0m\u001b[0;34m\u001b[0m\u001b[0;34m\u001b[0m\u001b[0m\n\u001b[0;32m--> 317\u001b[0;31m         \u001b[0;32mreturn\u001b[0m \u001b[0msubprocess\u001b[0m\u001b[0;34m.\u001b[0m\u001b[0mrun\u001b[0m\u001b[0;34m(\u001b[0m\u001b[0mshlex\u001b[0m\u001b[0;34m.\u001b[0m\u001b[0msplit\u001b[0m\u001b[0;34m(\u001b[0m\u001b[0margs\u001b[0m\u001b[0;34m)\u001b[0m\u001b[0;34m,\u001b[0m \u001b[0mcwd\u001b[0m\u001b[0;34m=\u001b[0m\u001b[0mcd\u001b[0m\u001b[0;34m)\u001b[0m\u001b[0;34m.\u001b[0m\u001b[0mreturncode\u001b[0m\u001b[0;34m\u001b[0m\u001b[0;34m\u001b[0m\u001b[0m\n\u001b[0m\u001b[1;32m    318\u001b[0m     \u001b[0;32melse\u001b[0m\u001b[0;34m:\u001b[0m\u001b[0;34m\u001b[0m\u001b[0;34m\u001b[0m\u001b[0m\n\u001b[1;32m    319\u001b[0m         \u001b[0;32mif\u001b[0m \u001b[0moutput\u001b[0m\u001b[0;34m:\u001b[0m\u001b[0;34m\u001b[0m\u001b[0;34m\u001b[0m\u001b[0m\n",
            "\u001b[0;32m/usr/lib/python3.7/subprocess.py\u001b[0m in \u001b[0;36mrun\u001b[0;34m(input, capture_output, timeout, check, *popenargs, **kwargs)\u001b[0m\n\u001b[1;32m    488\u001b[0m     \u001b[0;32mwith\u001b[0m \u001b[0mPopen\u001b[0m\u001b[0;34m(\u001b[0m\u001b[0;34m*\u001b[0m\u001b[0mpopenargs\u001b[0m\u001b[0;34m,\u001b[0m \u001b[0;34m**\u001b[0m\u001b[0mkwargs\u001b[0m\u001b[0;34m)\u001b[0m \u001b[0;32mas\u001b[0m \u001b[0mprocess\u001b[0m\u001b[0;34m:\u001b[0m\u001b[0;34m\u001b[0m\u001b[0;34m\u001b[0m\u001b[0m\n\u001b[1;32m    489\u001b[0m         \u001b[0;32mtry\u001b[0m\u001b[0;34m:\u001b[0m\u001b[0;34m\u001b[0m\u001b[0;34m\u001b[0m\u001b[0m\n\u001b[0;32m--> 490\u001b[0;31m             \u001b[0mstdout\u001b[0m\u001b[0;34m,\u001b[0m \u001b[0mstderr\u001b[0m \u001b[0;34m=\u001b[0m \u001b[0mprocess\u001b[0m\u001b[0;34m.\u001b[0m\u001b[0mcommunicate\u001b[0m\u001b[0;34m(\u001b[0m\u001b[0minput\u001b[0m\u001b[0;34m,\u001b[0m \u001b[0mtimeout\u001b[0m\u001b[0;34m=\u001b[0m\u001b[0mtimeout\u001b[0m\u001b[0;34m)\u001b[0m\u001b[0;34m\u001b[0m\u001b[0;34m\u001b[0m\u001b[0m\n\u001b[0m\u001b[1;32m    491\u001b[0m         \u001b[0;32mexcept\u001b[0m \u001b[0mTimeoutExpired\u001b[0m \u001b[0;32mas\u001b[0m \u001b[0mexc\u001b[0m\u001b[0;34m:\u001b[0m\u001b[0;34m\u001b[0m\u001b[0;34m\u001b[0m\u001b[0m\n\u001b[1;32m    492\u001b[0m             \u001b[0mprocess\u001b[0m\u001b[0;34m.\u001b[0m\u001b[0mkill\u001b[0m\u001b[0;34m(\u001b[0m\u001b[0;34m)\u001b[0m\u001b[0;34m\u001b[0m\u001b[0;34m\u001b[0m\u001b[0m\n",
            "\u001b[0;32m/usr/lib/python3.7/subprocess.py\u001b[0m in \u001b[0;36mcommunicate\u001b[0;34m(self, input, timeout)\u001b[0m\n\u001b[1;32m    954\u001b[0m                 \u001b[0mstderr\u001b[0m \u001b[0;34m=\u001b[0m \u001b[0mself\u001b[0m\u001b[0;34m.\u001b[0m\u001b[0mstderr\u001b[0m\u001b[0;34m.\u001b[0m\u001b[0mread\u001b[0m\u001b[0;34m(\u001b[0m\u001b[0;34m)\u001b[0m\u001b[0;34m\u001b[0m\u001b[0;34m\u001b[0m\u001b[0m\n\u001b[1;32m    955\u001b[0m                 \u001b[0mself\u001b[0m\u001b[0;34m.\u001b[0m\u001b[0mstderr\u001b[0m\u001b[0;34m.\u001b[0m\u001b[0mclose\u001b[0m\u001b[0;34m(\u001b[0m\u001b[0;34m)\u001b[0m\u001b[0;34m\u001b[0m\u001b[0;34m\u001b[0m\u001b[0m\n\u001b[0;32m--> 956\u001b[0;31m             \u001b[0mself\u001b[0m\u001b[0;34m.\u001b[0m\u001b[0mwait\u001b[0m\u001b[0;34m(\u001b[0m\u001b[0;34m)\u001b[0m\u001b[0;34m\u001b[0m\u001b[0;34m\u001b[0m\u001b[0m\n\u001b[0m\u001b[1;32m    957\u001b[0m         \u001b[0;32melse\u001b[0m\u001b[0;34m:\u001b[0m\u001b[0;34m\u001b[0m\u001b[0;34m\u001b[0m\u001b[0m\n\u001b[1;32m    958\u001b[0m             \u001b[0;32mif\u001b[0m \u001b[0mtimeout\u001b[0m \u001b[0;32mis\u001b[0m \u001b[0;32mnot\u001b[0m \u001b[0;32mNone\u001b[0m\u001b[0;34m:\u001b[0m\u001b[0;34m\u001b[0m\u001b[0;34m\u001b[0m\u001b[0m\n",
            "\u001b[0;32m/usr/lib/python3.7/subprocess.py\u001b[0m in \u001b[0;36mwait\u001b[0;34m(self, timeout)\u001b[0m\n\u001b[1;32m   1017\u001b[0m             \u001b[0mendtime\u001b[0m \u001b[0;34m=\u001b[0m \u001b[0m_time\u001b[0m\u001b[0;34m(\u001b[0m\u001b[0;34m)\u001b[0m \u001b[0;34m+\u001b[0m \u001b[0mtimeout\u001b[0m\u001b[0;34m\u001b[0m\u001b[0;34m\u001b[0m\u001b[0m\n\u001b[1;32m   1018\u001b[0m         \u001b[0;32mtry\u001b[0m\u001b[0;34m:\u001b[0m\u001b[0;34m\u001b[0m\u001b[0;34m\u001b[0m\u001b[0m\n\u001b[0;32m-> 1019\u001b[0;31m             \u001b[0;32mreturn\u001b[0m \u001b[0mself\u001b[0m\u001b[0;34m.\u001b[0m\u001b[0m_wait\u001b[0m\u001b[0;34m(\u001b[0m\u001b[0mtimeout\u001b[0m\u001b[0;34m=\u001b[0m\u001b[0mtimeout\u001b[0m\u001b[0;34m)\u001b[0m\u001b[0;34m\u001b[0m\u001b[0;34m\u001b[0m\u001b[0m\n\u001b[0m\u001b[1;32m   1020\u001b[0m         \u001b[0;32mexcept\u001b[0m \u001b[0mKeyboardInterrupt\u001b[0m\u001b[0;34m:\u001b[0m\u001b[0;34m\u001b[0m\u001b[0;34m\u001b[0m\u001b[0m\n\u001b[1;32m   1021\u001b[0m             \u001b[0;31m# https://bugs.python.org/issue25942\u001b[0m\u001b[0;34m\u001b[0m\u001b[0;34m\u001b[0m\u001b[0;34m\u001b[0m\u001b[0m\n",
            "\u001b[0;32m/usr/lib/python3.7/subprocess.py\u001b[0m in \u001b[0;36m_wait\u001b[0;34m(self, timeout)\u001b[0m\n\u001b[1;32m   1651\u001b[0m                         \u001b[0;32mif\u001b[0m \u001b[0mself\u001b[0m\u001b[0;34m.\u001b[0m\u001b[0mreturncode\u001b[0m \u001b[0;32mis\u001b[0m \u001b[0;32mnot\u001b[0m \u001b[0;32mNone\u001b[0m\u001b[0;34m:\u001b[0m\u001b[0;34m\u001b[0m\u001b[0;34m\u001b[0m\u001b[0m\n\u001b[1;32m   1652\u001b[0m                             \u001b[0;32mbreak\u001b[0m  \u001b[0;31m# Another thread waited.\u001b[0m\u001b[0;34m\u001b[0m\u001b[0;34m\u001b[0m\u001b[0m\n\u001b[0;32m-> 1653\u001b[0;31m                         \u001b[0;34m(\u001b[0m\u001b[0mpid\u001b[0m\u001b[0;34m,\u001b[0m \u001b[0msts\u001b[0m\u001b[0;34m)\u001b[0m \u001b[0;34m=\u001b[0m \u001b[0mself\u001b[0m\u001b[0;34m.\u001b[0m\u001b[0m_try_wait\u001b[0m\u001b[0;34m(\u001b[0m\u001b[0;36m0\u001b[0m\u001b[0;34m)\u001b[0m\u001b[0;34m\u001b[0m\u001b[0;34m\u001b[0m\u001b[0m\n\u001b[0m\u001b[1;32m   1654\u001b[0m                         \u001b[0;31m# Check the pid and loop as waitpid has been known to\u001b[0m\u001b[0;34m\u001b[0m\u001b[0;34m\u001b[0m\u001b[0;34m\u001b[0m\u001b[0m\n\u001b[1;32m   1655\u001b[0m                         \u001b[0;31m# return 0 even without WNOHANG in odd situations.\u001b[0m\u001b[0;34m\u001b[0m\u001b[0;34m\u001b[0m\u001b[0;34m\u001b[0m\u001b[0m\n",
            "\u001b[0;32m/usr/lib/python3.7/subprocess.py\u001b[0m in \u001b[0;36m_try_wait\u001b[0;34m(self, wait_flags)\u001b[0m\n\u001b[1;32m   1609\u001b[0m             \u001b[0;34m\"\"\"All callers to this function MUST hold self._waitpid_lock.\"\"\"\u001b[0m\u001b[0;34m\u001b[0m\u001b[0;34m\u001b[0m\u001b[0m\n\u001b[1;32m   1610\u001b[0m             \u001b[0;32mtry\u001b[0m\u001b[0;34m:\u001b[0m\u001b[0;34m\u001b[0m\u001b[0;34m\u001b[0m\u001b[0m\n\u001b[0;32m-> 1611\u001b[0;31m                 \u001b[0;34m(\u001b[0m\u001b[0mpid\u001b[0m\u001b[0;34m,\u001b[0m \u001b[0msts\u001b[0m\u001b[0;34m)\u001b[0m \u001b[0;34m=\u001b[0m \u001b[0mos\u001b[0m\u001b[0;34m.\u001b[0m\u001b[0mwaitpid\u001b[0m\u001b[0;34m(\u001b[0m\u001b[0mself\u001b[0m\u001b[0;34m.\u001b[0m\u001b[0mpid\u001b[0m\u001b[0;34m,\u001b[0m \u001b[0mwait_flags\u001b[0m\u001b[0;34m)\u001b[0m\u001b[0;34m\u001b[0m\u001b[0;34m\u001b[0m\u001b[0m\n\u001b[0m\u001b[1;32m   1612\u001b[0m             \u001b[0;32mexcept\u001b[0m \u001b[0mChildProcessError\u001b[0m\u001b[0;34m:\u001b[0m\u001b[0;34m\u001b[0m\u001b[0;34m\u001b[0m\u001b[0m\n\u001b[1;32m   1613\u001b[0m                 \u001b[0;31m# This happens if SIGCLD is set to be ignored or waiting\u001b[0m\u001b[0;34m\u001b[0m\u001b[0;34m\u001b[0m\u001b[0;34m\u001b[0m\u001b[0m\n",
            "\u001b[0;31mKeyboardInterrupt\u001b[0m: "
          ]
        }
      ]
    },
    {
      "cell_type": "markdown",
      "metadata": {
        "id": "yf1BlEEItSVK"
      },
      "source": [
        "# End of Scraping Almost 200 car type video to Mega.nz Drive page"
      ]
    },
    {
      "cell_type": "markdown",
      "metadata": {
        "id": "zotkLpTXIqVi"
      },
      "source": [
        "\n",
        "# The Below parts are for backup and don't need to be use, also maybe  some of the blow codes don not working!"
      ]
    },
    {
      "cell_type": "code",
      "metadata": {
        "id": "5EUxgSD3IWTU"
      },
      "source": [
        "!ls /content/gdrive/My Drive/yolo_car_database"
      ],
      "execution_count": null,
      "outputs": []
    },
    {
      "cell_type": "code",
      "metadata": {
        "id": "zH1ijJbnUdmm"
      },
      "source": [
        "import urllib.request\n",
        "from bs4 import BeautifulSoup\n",
        " \n",
        "textToSearch = 'python tutorials'\n",
        "query = urllib.parse.quote(textToSearch)\n",
        "url = \"https://www.youtube.com/results?search_query=\" + query\n",
        "response = urllib.request.urlopen(url)\n",
        "html = response.read()\n",
        "soup = BeautifulSoup(html, 'html.parser')\n",
        "for vid in soup.findAll(attrs={'class':'yt-uix-tile-link'}):\n",
        "    if not vid['href'].startswith(\"https://googleads.g.doubleclick.net/\"):\n",
        "        print('https://www.youtube.com' + vid['href'])"
      ],
      "execution_count": null,
      "outputs": []
    },
    {
      "cell_type": "code",
      "metadata": {
        "id": "YGMop8AvU2zF"
      },
      "source": [
        "!pip install youtube-dl\n",
        "!echo '' > ford_video_list.txt\n",
        "!chmod 755 ford_video_list.txt\n",
        " \n",
        "!youtube-dl --match-title 'ford' --add-metadata --write-thumbnail --list-thumbnails    --mark-watched --write-info-json 'ford_video_description_json.txt' --write-description 'ford_video_description.txt'  --cookies='Search-youtube-url-file.txt' --ignore-errors  --skip-download --get-url -f bestvideo+bestaudio/best --default-search \"ytsearch2000:\" \"Ford Festiva\" >> ford_video_list.txt \n",
        " \n",
        "!echo '*****End of test 1 ******'"
      ],
      "execution_count": null,
      "outputs": []
    },
    {
      "cell_type": "markdown",
      "metadata": {
        "id": "aEZ5FAZa-tFU"
      },
      "source": [
        "# I understand **HTTP Error 429 error** made because:\n",
        "\n",
        " **The google don't like  too many request form one IP Address.**\n",
        "\n",
        "So tried to add these tags(` --rm-cache-dir --force-ipv4 --verbose `) to `youtube-dl` command as you can see below ( based of these reffrences [1][2] [2][3] [3][4]):\n",
        "\n",
        " [1]: https://github.com/spectrico/vehicle-recognition-api-yolov4-python/blob/master/labels-makes.txt\n",
        "  [2]: https://askubuntu.com/questions/1220266/youtube-dl-do-not-working-http-error-429-too-many-requests-how-can-i-solve-this\n",
        "  [3]: https://forum.manjaro.org/t/youtube-dl-error-429-too-many-request/27150\n",
        "  [4]: https://stackoverflow.com/questions/59625386/how-could-we-solve-the-http-request-error-error-429-too-many-requests\n",
        "\n",
        "> Indented block\n",
        "\n"
      ]
    },
    {
      "cell_type": "code",
      "metadata": {
        "id": "woKL5Q5m9fv1"
      },
      "source": [
        "!pip install youtube-dl\n",
        "!echo '' > ford_video_list.txt\n",
        "!chmod 755 ford_video_list.txt\n",
        " \n",
        "!youtube-dl --match-title 'ford' --add-metadata --write-thumbnail --list-thumbnails    --mark-watched --write-info-json 'ford_video_description_json.txt' --write-description 'ford_video_description.txt' --rm-cache-dir --force-ipv4 --verbose  --cookies='Search-youtube-url-file.txt' --ignore-errors  --skip-download --get-url -f bestvideo+bestaudio/best --default-search \"ytsearch10:Ford Festiva\"# >> ford_video_list.txt \n",
        " \n",
        "!echo '*****End of test 1 ******'"
      ],
      "execution_count": null,
      "outputs": []
    },
    {
      "cell_type": "code",
      "metadata": {
        "id": "DkfA-21JU4fl"
      },
      "source": [
        " \n",
        "!pip install youtube-search-python\n",
        "from youtubesearchpython import SearchVideos\n",
        " \n",
        "search = SearchVideos(\"NoCopyrightSounds\", offset = 1, mode = \"json\", max_results = 20)\n",
        " \n",
        "print(search.result())"
      ],
      "execution_count": null,
      "outputs": []
    },
    {
      "cell_type": "code",
      "metadata": {
        "id": "tlRCwtJAZueW"
      },
      "source": [
        "!youtube-dl \"ytsearch1:how to create android app in app studio\"\n"
      ],
      "execution_count": null,
      "outputs": []
    },
    {
      "cell_type": "code",
      "metadata": {
        "id": "YC5w6ZXLYfH_"
      },
      "source": [
        "!pip install youtube-dl \n",
        "# !youtube-dl --default-search gvsearch5:how to develop for android --no-playlist --write-info-json --write-annotation --write-thumbnail --write-sub --skip-download \n",
        "!youtube-dl --match-title 'ford' \"ytsearch50\":\"Ford Festiva\"+\"peugeot 405\"  --write-info-json --write-annotation --write-thumbnail --write-sub -f 'bestvideo[ext=mp4]+bestaudio[ext=m4a]/mp4'"
      ],
      "execution_count": null,
      "outputs": []
    },
    {
      "cell_type": "code",
      "metadata": {
        "id": "lXGyHj44YFjk"
      },
      "source": [
        "!pip install youtube-dl \n",
        "%cd '/content/'\n",
        "\n",
        "import os\n",
        "try:\n",
        "    os.remove('/content/yolo_car_database')\n",
        "except OSError:\n",
        "    pass\n",
        "\n",
        "# !rm -rf '/content/yolo_car_database'\n",
        "!mkdir '/content/yolo_car_database'\n",
        "%cd '/content/yolo_car_database'\n",
        "!echo 't' >> t.txt\n",
        "!pwd \n",
        "!ls\n",
        "# !youtube-dl --default-search gvsearch5:how to develop for android --no-playlist --write-info-json --write-annotation --write-thumbnail --write-sub --skip-download \n",
        "!youtube-dl --match-title 'ford ' \"ytsearch50\":\"Ford Festiva\"+\"peugeot 405\"  --write-info-json --write-annotation --write-thumbnail --write-sub -f 'bestvideo[ext=mp4]+bestaudio[ext=m4a]/mp4'\n",
        "\n",
        "# !rm -rf \"/content/gdrive/My Drive/yolo_car_databe\" && mkdir \"/content/gdrive/My Drive/yolo_car_databe\"\n",
        "\n",
        "!cp -r '/content/yolo_car_database' \"/content/gdrive/My Drive/\""
      ],
      "execution_count": null,
      "outputs": []
    },
    {
      "cell_type": "code",
      "metadata": {
        "id": "1NZ2E1nmxu6h"
      },
      "source": [
        "!ls '/content/yolo_car_database2'"
      ],
      "execution_count": null,
      "outputs": []
    },
    {
      "cell_type": "code",
      "metadata": {
        "id": "Bj1psrErHor8"
      },
      "source": [
        "!youtube-dl --match-title 'ford' --add-metadata --write-thumbnail --list-thumbnails  --rm-cache-dir --ignore-errors  --skip-download --get-url -f bestvideo+bestaudio/best  --default-search \"ytsearch10:Ford Festiva\"# >> ford_video_list.txt \n"
      ],
      "execution_count": null,
      "outputs": []
    },
    {
      "cell_type": "code",
      "metadata": {
        "id": "Uc6B0RMJJDJF"
      },
      "source": [
        "\n",
        "!pip install youtube-dl\n",
        "!echo '' > ford_video_list.txt\n",
        "!chmod 755 ford_video_list.txt\n",
        "\n",
        "!youtube-dl --match-title 'ford' --add-metadata --write-thumbnail --list-thumbnails    --mark-watched --write-info-json 'ford_video_description_json.txt' --write-description 'ford_video_description.txt'  --cookies='Search-youtube-url-file.txt' --ignore-errors  --skip-download --get-url -f bestvideo+bestaudio/best --default-search \"ytsearch50:\" \"Ford Festiva\" >> ford_video_list.txt \n",
        "\n",
        "!echo '*****End of test 1 ******'"
      ],
      "execution_count": null,
      "outputs": []
    }
  ]
}