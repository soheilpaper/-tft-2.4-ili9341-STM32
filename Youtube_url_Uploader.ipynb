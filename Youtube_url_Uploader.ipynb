{
  "nbformat": 4,
  "nbformat_minor": 0,
  "metadata": {
    "accelerator": "GPU",
    "colab": {
      "name": "timbre_transfer.ipynb",
      "provenance": [],
      "collapsed_sections": [
        "3YLyiTwPfVCT"
      ],
      "include_colab_link": true
    },
    "kernelspec": {
      "display_name": "Python 3",
      "name": "python3"
    }
  },
  "cells": [
    {
      "cell_type": "markdown",
      "metadata": {
        "id": "view-in-github",
        "colab_type": "text"
      },
      "source": [
        "<a href=\"https://colab.research.google.com/github/soheilpaper/-tft-2.4-ili9341-STM32/blob/master/Youtube_url_Uploader.ipynb\" target=\"_parent\"><img src=\"https://colab.research.google.com/assets/colab-badge.svg\" alt=\"Open In Colab\"/></a>"
      ]
    },
    {
      "cell_type": "markdown",
      "metadata": {
        "id": "ZC2v7yDtcuOv"
      },
      "source": [
        "\n",
        "# Trying to use Google colab pages for uploading video from URL to YouTube:\n",
        "\n",
        "This is trying to run this project ([link](https://github.com/tokland/youtube-upload)):\n",
        "\n",
        "[![enter image description here][1]][1]\n",
        "\n",
        "[![enter image description here][2]][2]\n",
        "\n",
        "\n",
        "  [1]: https://i.stack.imgur.com/aDSE7.png\n",
        "  [2]: https://i.stack.imgur.com/L4CgM.png"
      ]
    },
    {
      "cell_type": "code",
      "metadata": {
        "id": "IoitpNQ_cuWf",
        "colab": {
          "base_uri": "https://localhost:8080/"
        },
        "outputId": "64524d97-c9b3-4b5e-d449-71d25e962d8d"
      },
      "source": [
        "!sudo pip install --upgrade google-api-python-client oauth2client progressbar2\n"
      ],
      "execution_count": 1,
      "outputs": [
        {
          "output_type": "stream",
          "name": "stdout",
          "text": [
            "Requirement already satisfied: google-api-python-client in /usr/local/lib/python3.7/dist-packages (1.12.8)\n",
            "Collecting google-api-python-client\n",
            "  Downloading google_api_python_client-2.24.0-py2.py3-none-any.whl (7.5 MB)\n",
            "\u001b[K     |████████████████████████████████| 7.5 MB 4.2 MB/s \n",
            "\u001b[?25hRequirement already satisfied: oauth2client in /usr/local/lib/python3.7/dist-packages (4.1.3)\n",
            "Requirement already satisfied: progressbar2 in /usr/local/lib/python3.7/dist-packages (3.38.0)\n",
            "Collecting progressbar2\n",
            "  Downloading progressbar2-3.53.3-py2.py3-none-any.whl (25 kB)\n",
            "Requirement already satisfied: google-auth<3.0.0dev,>=1.16.0 in /usr/local/lib/python3.7/dist-packages (from google-api-python-client) (1.35.0)\n",
            "Requirement already satisfied: google-api-core<3.0.0dev,>=1.21.0 in /usr/local/lib/python3.7/dist-packages (from google-api-python-client) (1.26.3)\n",
            "Requirement already satisfied: httplib2<1dev,>=0.15.0 in /usr/local/lib/python3.7/dist-packages (from google-api-python-client) (0.17.4)\n",
            "Collecting google-auth-httplib2>=0.1.0\n",
            "  Downloading google_auth_httplib2-0.1.0-py2.py3-none-any.whl (9.3 kB)\n",
            "Requirement already satisfied: uritemplate<4dev,>=3.0.0 in /usr/local/lib/python3.7/dist-packages (from google-api-python-client) (3.0.1)\n",
            "Requirement already satisfied: packaging>=14.3 in /usr/local/lib/python3.7/dist-packages (from google-api-core<3.0.0dev,>=1.21.0->google-api-python-client) (21.0)\n",
            "Requirement already satisfied: googleapis-common-protos<2.0dev,>=1.6.0 in /usr/local/lib/python3.7/dist-packages (from google-api-core<3.0.0dev,>=1.21.0->google-api-python-client) (1.53.0)\n",
            "Requirement already satisfied: requests<3.0.0dev,>=2.18.0 in /usr/local/lib/python3.7/dist-packages (from google-api-core<3.0.0dev,>=1.21.0->google-api-python-client) (2.23.0)\n",
            "Requirement already satisfied: protobuf>=3.12.0 in /usr/local/lib/python3.7/dist-packages (from google-api-core<3.0.0dev,>=1.21.0->google-api-python-client) (3.17.3)\n",
            "Requirement already satisfied: setuptools>=40.3.0 in /usr/local/lib/python3.7/dist-packages (from google-api-core<3.0.0dev,>=1.21.0->google-api-python-client) (57.4.0)\n",
            "Requirement already satisfied: six>=1.13.0 in /usr/local/lib/python3.7/dist-packages (from google-api-core<3.0.0dev,>=1.21.0->google-api-python-client) (1.15.0)\n",
            "Requirement already satisfied: pytz in /usr/local/lib/python3.7/dist-packages (from google-api-core<3.0.0dev,>=1.21.0->google-api-python-client) (2018.9)\n",
            "Requirement already satisfied: cachetools<5.0,>=2.0.0 in /usr/local/lib/python3.7/dist-packages (from google-auth<3.0.0dev,>=1.16.0->google-api-python-client) (4.2.4)\n",
            "Requirement already satisfied: pyasn1-modules>=0.2.1 in /usr/local/lib/python3.7/dist-packages (from google-auth<3.0.0dev,>=1.16.0->google-api-python-client) (0.2.8)\n",
            "Requirement already satisfied: rsa<5,>=3.1.4 in /usr/local/lib/python3.7/dist-packages (from google-auth<3.0.0dev,>=1.16.0->google-api-python-client) (4.7.2)\n",
            "Requirement already satisfied: pyparsing>=2.0.2 in /usr/local/lib/python3.7/dist-packages (from packaging>=14.3->google-api-core<3.0.0dev,>=1.21.0->google-api-python-client) (2.4.7)\n",
            "Requirement already satisfied: pyasn1<0.5.0,>=0.4.6 in /usr/local/lib/python3.7/dist-packages (from pyasn1-modules>=0.2.1->google-auth<3.0.0dev,>=1.16.0->google-api-python-client) (0.4.8)\n",
            "Requirement already satisfied: certifi>=2017.4.17 in /usr/local/lib/python3.7/dist-packages (from requests<3.0.0dev,>=2.18.0->google-api-core<3.0.0dev,>=1.21.0->google-api-python-client) (2021.5.30)\n",
            "Requirement already satisfied: chardet<4,>=3.0.2 in /usr/local/lib/python3.7/dist-packages (from requests<3.0.0dev,>=2.18.0->google-api-core<3.0.0dev,>=1.21.0->google-api-python-client) (3.0.4)\n",
            "Requirement already satisfied: idna<3,>=2.5 in /usr/local/lib/python3.7/dist-packages (from requests<3.0.0dev,>=2.18.0->google-api-core<3.0.0dev,>=1.21.0->google-api-python-client) (2.10)\n",
            "Requirement already satisfied: urllib3!=1.25.0,!=1.25.1,<1.26,>=1.21.1 in /usr/local/lib/python3.7/dist-packages (from requests<3.0.0dev,>=2.18.0->google-api-core<3.0.0dev,>=1.21.0->google-api-python-client) (1.24.3)\n",
            "Requirement already satisfied: python-utils>=2.3.0 in /usr/local/lib/python3.7/dist-packages (from progressbar2) (2.5.6)\n",
            "Installing collected packages: google-auth-httplib2, progressbar2, google-api-python-client\n",
            "  Attempting uninstall: google-auth-httplib2\n",
            "    Found existing installation: google-auth-httplib2 0.0.4\n",
            "    Uninstalling google-auth-httplib2-0.0.4:\n",
            "      Successfully uninstalled google-auth-httplib2-0.0.4\n",
            "  Attempting uninstall: progressbar2\n",
            "    Found existing installation: progressbar2 3.38.0\n",
            "    Uninstalling progressbar2-3.38.0:\n",
            "      Successfully uninstalled progressbar2-3.38.0\n",
            "  Attempting uninstall: google-api-python-client\n",
            "    Found existing installation: google-api-python-client 1.12.8\n",
            "    Uninstalling google-api-python-client-1.12.8:\n",
            "      Successfully uninstalled google-api-python-client-1.12.8\n",
            "\u001b[31mERROR: pip's dependency resolver does not currently take into account all the packages that are installed. This behaviour is the source of the following dependency conflicts.\n",
            "earthengine-api 0.1.284 requires google-api-python-client<2,>=1.12.1, but you have google-api-python-client 2.24.0 which is incompatible.\u001b[0m\n",
            "Successfully installed google-api-python-client-2.24.0 google-auth-httplib2-0.1.0 progressbar2-3.53.3\n"
          ]
        }
      ]
    },
    {
      "cell_type": "code",
      "metadata": {
        "id": "v4s_12xMc26n",
        "colab": {
          "base_uri": "https://localhost:8080/"
        },
        "outputId": "2e4b5f2c-1b79-4141-b8f2-29fe109a9656"
      },
      "source": [
        "%cd /content\n",
        "! wget https://github.com/tokland/youtube-upload/archive/master.zip\n",
        "! unzip master.zip\n",
        "% cd youtube-upload-master\n",
        "! sudo python setup.py install"
      ],
      "execution_count": 2,
      "outputs": [
        {
          "output_type": "stream",
          "name": "stdout",
          "text": [
            "/content\n",
            "--2021-10-10 19:26:14--  https://github.com/tokland/youtube-upload/archive/master.zip\n",
            "Resolving github.com (github.com)... 13.114.40.48\n",
            "Connecting to github.com (github.com)|13.114.40.48|:443... connected.\n",
            "HTTP request sent, awaiting response... 302 Found\n",
            "Location: https://codeload.github.com/tokland/youtube-upload/zip/master [following]\n",
            "--2021-10-10 19:26:14--  https://codeload.github.com/tokland/youtube-upload/zip/master\n",
            "Resolving codeload.github.com (codeload.github.com)... 52.193.111.178\n",
            "Connecting to codeload.github.com (codeload.github.com)|52.193.111.178|:443... connected.\n",
            "HTTP request sent, awaiting response... 200 OK\n",
            "Length: unspecified [application/zip]\n",
            "Saving to: ‘master.zip’\n",
            "\n",
            "master.zip              [ <=>                ]  19.71K  --.-KB/s    in 0.04s   \n",
            "\n",
            "2021-10-10 19:26:14 (545 KB/s) - ‘master.zip’ saved [20181]\n",
            "\n",
            "Archive:  master.zip\n",
            "6a30b55d0fd4976571a5b9b34c01fd41cec49c7a\n",
            "   creating: youtube-upload-master/\n",
            "   creating: youtube-upload-master/.github/\n",
            "   creating: youtube-upload-master/.github/ISSUE_TEMPLATE/\n",
            "  inflating: youtube-upload-master/.github/ISSUE_TEMPLATE/bug_report.md  \n",
            "  inflating: youtube-upload-master/.gitignore  \n",
            "  inflating: youtube-upload-master/Dockerfile  \n",
            "  inflating: youtube-upload-master/README.md  \n",
            "   creating: youtube-upload-master/bin/\n",
            "  inflating: youtube-upload-master/bin/youtube-upload  \n",
            " extracting: youtube-upload-master/bin/youtube-upload.bat  \n",
            "   creating: youtube-upload-master/examples/\n",
            "  inflating: youtube-upload-master/examples/split_video_for_youtube.sh  \n",
            "  inflating: youtube-upload-master/setup.py  \n",
            "   creating: youtube-upload-master/youtube_upload/\n",
            " extracting: youtube-upload-master/youtube_upload/__init__.py  \n",
            "  inflating: youtube-upload-master/youtube_upload/__main__.py  \n",
            "   creating: youtube-upload-master/youtube_upload/auth/\n",
            "  inflating: youtube-upload-master/youtube_upload/auth/__init__.py  \n",
            "  inflating: youtube-upload-master/youtube_upload/auth/browser.py  \n",
            "  inflating: youtube-upload-master/youtube_upload/auth/console.py  \n",
            "  inflating: youtube-upload-master/youtube_upload/auth/webkit_gtk.py  \n",
            "  inflating: youtube-upload-master/youtube_upload/auth/webkit_qt.py  \n",
            "  inflating: youtube-upload-master/youtube_upload/categories.py  \n",
            "  inflating: youtube-upload-master/youtube_upload/lib.py  \n",
            "  inflating: youtube-upload-master/youtube_upload/main.py  \n",
            "  inflating: youtube-upload-master/youtube_upload/playlists.py  \n",
            "  inflating: youtube-upload-master/youtube_upload/upload_video.py  \n",
            "/content/youtube-upload-master\n",
            "/usr/lib/python3.7/distutils/dist.py:274: UserWarning: Unknown distribution option: 'entry_points'\n",
            "  warnings.warn(msg)\n",
            "/usr/lib/python3.7/distutils/dist.py:274: UserWarning: Unknown distribution option: 'install_requires'\n",
            "  warnings.warn(msg)\n",
            "running install\n",
            "running build\n",
            "running build_py\n",
            "creating build\n",
            "creating build/lib\n",
            "creating build/lib/youtube_upload\n",
            "copying youtube_upload/__main__.py -> build/lib/youtube_upload\n",
            "copying youtube_upload/playlists.py -> build/lib/youtube_upload\n",
            "copying youtube_upload/upload_video.py -> build/lib/youtube_upload\n",
            "copying youtube_upload/__init__.py -> build/lib/youtube_upload\n",
            "copying youtube_upload/main.py -> build/lib/youtube_upload\n",
            "copying youtube_upload/lib.py -> build/lib/youtube_upload\n",
            "copying youtube_upload/categories.py -> build/lib/youtube_upload\n",
            "creating build/lib/youtube_upload/auth\n",
            "copying youtube_upload/auth/console.py -> build/lib/youtube_upload/auth\n",
            "copying youtube_upload/auth/webkit_gtk.py -> build/lib/youtube_upload/auth\n",
            "copying youtube_upload/auth/webkit_qt.py -> build/lib/youtube_upload/auth\n",
            "copying youtube_upload/auth/__init__.py -> build/lib/youtube_upload/auth\n",
            "copying youtube_upload/auth/browser.py -> build/lib/youtube_upload/auth\n",
            "running build_scripts\n",
            "creating build/scripts-3.7\n",
            "copying and adjusting bin/youtube-upload -> build/scripts-3.7\n",
            "changing mode of build/scripts-3.7/youtube-upload from 644 to 755\n",
            "running install_lib\n",
            "creating /usr/local/lib/python3.7/dist-packages/youtube_upload\n",
            "copying build/lib/youtube_upload/__main__.py -> /usr/local/lib/python3.7/dist-packages/youtube_upload\n",
            "copying build/lib/youtube_upload/playlists.py -> /usr/local/lib/python3.7/dist-packages/youtube_upload\n",
            "copying build/lib/youtube_upload/upload_video.py -> /usr/local/lib/python3.7/dist-packages/youtube_upload\n",
            "creating /usr/local/lib/python3.7/dist-packages/youtube_upload/auth\n",
            "copying build/lib/youtube_upload/auth/console.py -> /usr/local/lib/python3.7/dist-packages/youtube_upload/auth\n",
            "copying build/lib/youtube_upload/auth/webkit_gtk.py -> /usr/local/lib/python3.7/dist-packages/youtube_upload/auth\n",
            "copying build/lib/youtube_upload/auth/webkit_qt.py -> /usr/local/lib/python3.7/dist-packages/youtube_upload/auth\n",
            "copying build/lib/youtube_upload/auth/__init__.py -> /usr/local/lib/python3.7/dist-packages/youtube_upload/auth\n",
            "copying build/lib/youtube_upload/auth/browser.py -> /usr/local/lib/python3.7/dist-packages/youtube_upload/auth\n",
            "copying build/lib/youtube_upload/__init__.py -> /usr/local/lib/python3.7/dist-packages/youtube_upload\n",
            "copying build/lib/youtube_upload/main.py -> /usr/local/lib/python3.7/dist-packages/youtube_upload\n",
            "copying build/lib/youtube_upload/lib.py -> /usr/local/lib/python3.7/dist-packages/youtube_upload\n",
            "copying build/lib/youtube_upload/categories.py -> /usr/local/lib/python3.7/dist-packages/youtube_upload\n",
            "byte-compiling /usr/local/lib/python3.7/dist-packages/youtube_upload/__main__.py to __main__.cpython-37.pyc\n",
            "byte-compiling /usr/local/lib/python3.7/dist-packages/youtube_upload/playlists.py to playlists.cpython-37.pyc\n",
            "byte-compiling /usr/local/lib/python3.7/dist-packages/youtube_upload/upload_video.py to upload_video.cpython-37.pyc\n",
            "byte-compiling /usr/local/lib/python3.7/dist-packages/youtube_upload/auth/console.py to console.cpython-37.pyc\n",
            "byte-compiling /usr/local/lib/python3.7/dist-packages/youtube_upload/auth/webkit_gtk.py to webkit_gtk.cpython-37.pyc\n",
            "byte-compiling /usr/local/lib/python3.7/dist-packages/youtube_upload/auth/webkit_qt.py to webkit_qt.cpython-37.pyc\n",
            "byte-compiling /usr/local/lib/python3.7/dist-packages/youtube_upload/auth/__init__.py to __init__.cpython-37.pyc\n",
            "byte-compiling /usr/local/lib/python3.7/dist-packages/youtube_upload/auth/browser.py to browser.cpython-37.pyc\n",
            "byte-compiling /usr/local/lib/python3.7/dist-packages/youtube_upload/__init__.py to __init__.cpython-37.pyc\n",
            "byte-compiling /usr/local/lib/python3.7/dist-packages/youtube_upload/main.py to main.cpython-37.pyc\n",
            "byte-compiling /usr/local/lib/python3.7/dist-packages/youtube_upload/lib.py to lib.cpython-37.pyc\n",
            "byte-compiling /usr/local/lib/python3.7/dist-packages/youtube_upload/categories.py to categories.cpython-37.pyc\n",
            "running install_scripts\n",
            "copying build/scripts-3.7/youtube-upload -> /usr/local/bin\n",
            "changing mode of /usr/local/bin/youtube-upload to 755\n",
            "running install_egg_info\n",
            "Writing /usr/local/lib/python3.7/dist-packages/youtube_upload-0.8.0.egg-info\n"
          ]
        }
      ]
    },
    {
      "cell_type": "code",
      "metadata": {
        "id": "R7dsGUc1p0aN",
        "colab": {
          "base_uri": "https://localhost:8080/"
        },
        "outputId": "07af24d4-bd20-4f6e-e52c-72e6a0a69f38"
      },
      "source": [
        "!pip install youtube-dl\n",
        "!youtube-dl -f worst 'https://www.youtube.com/watch?v=p-b4R6dOuJQ'"
      ],
      "execution_count": 10,
      "outputs": [
        {
          "output_type": "stream",
          "name": "stdout",
          "text": [
            "Requirement already satisfied: youtube-dl in /usr/local/lib/python3.7/dist-packages (2021.6.6)\n",
            "[youtube] p-b4R6dOuJQ: Downloading webpage\n",
            "[download] Destination: SQUID GAME Split My Family on Different TEAMS! (FGTeeV ROBLOX Red Light Green Light pt 2 Chapter 4)-p-b4R6dOuJQ.mp4\n",
            "\u001b[K[download] 100% of 40.22MiB in 12:51\n"
          ]
        }
      ]
    },
    {
      "cell_type": "code",
      "metadata": {
        "id": "0gjmoto3c9z2",
        "colab": {
          "base_uri": "https://localhost:8080/"
        },
        "outputId": "b7fb17de-c37e-409a-ec9c-aac9b39ccb34"
      },
      "source": [
        "% cd '/content/youtube-upload-master'\n",
        "! PYTHONPATH=. python bin/youtube-upload --title=\"A.S. Mutter\"'/content/youtube-upload-master/SQUID GAME Split My Family on Different TEAMS! (FGTeeV ROBLOX Red Light Green Light pt 2 Chapter 4)-p-b4R6dOuJQ.mp4.part'\n",
        "\n"
      ],
      "execution_count": 13,
      "outputs": [
        {
          "output_type": "stream",
          "name": "stdout",
          "text": [
            "/content/youtube-upload-master\n",
            "Using client secrets: /root/.client_secrets.json\n",
            "Using credentials file: /root/.youtube-upload-credentials.json\n",
            "Traceback (most recent call last):\n",
            "  File \"/usr/local/lib/python3.7/dist-packages/oauth2client/clientsecrets.py\", line 121, in _loadfile\n",
            "    with open(filename, 'r') as fp:\n",
            "FileNotFoundError: [Errno 2] No such file or directory: '/root/.client_secrets.json'\n",
            "\n",
            "During handling of the above exception, another exception occurred:\n",
            "\n",
            "Traceback (most recent call last):\n",
            "  File \"bin/youtube-upload\", line 10, in <module>\n",
            "    main.run()\n",
            "  File \"/content/youtube-upload-master/bin/../youtube_upload/main.py\", line 290, in run\n",
            "    sys.exit(lib.catch_exceptions(EXIT_CODES, main, sys.argv[1:]))\n",
            "  File \"/content/youtube-upload-master/bin/../youtube_upload/lib.py\", line 44, in catch_exceptions\n",
            "    fun(*args, **kwargs)\n",
            "  File \"/content/youtube-upload-master/bin/../youtube_upload/main.py\", line 283, in main\n",
            "    run_main(parser, options, args)\n",
            "  File \"/content/youtube-upload-master/bin/../youtube_upload/main.py\", line 196, in run_main\n",
            "    youtube = get_youtube_handler(options)\n",
            "  File \"/content/youtube-upload-master/bin/../youtube_upload/main.py\", line 180, in get_youtube_handler\n",
            "    get_code_callback=get_code_callback)\n",
            "  File \"/content/youtube-upload-master/bin/../youtube_upload/auth/__init__.py\", line 39, in get_resource\n",
            "    flow = get_flow(client_secrets_file, scope=YOUTUBE_UPLOAD_SCOPE)\n",
            "  File \"/usr/local/lib/python3.7/dist-packages/oauth2client/_helpers.py\", line 133, in positional_wrapper\n",
            "    return wrapped(*args, **kwargs)\n",
            "  File \"/usr/local/lib/python3.7/dist-packages/oauth2client/client.py\", line 2135, in flow_from_clientsecrets\n",
            "    cache=cache)\n",
            "  File \"/usr/local/lib/python3.7/dist-packages/oauth2client/clientsecrets.py\", line 165, in loadfile\n",
            "    return _loadfile(filename)\n",
            "  File \"/usr/local/lib/python3.7/dist-packages/oauth2client/clientsecrets.py\", line 125, in _loadfile\n",
            "    exc.strerror, exc.errno)\n",
            "oauth2client.clientsecrets.InvalidClientSecretsError: ('Error opening file', '/root/.client_secrets.json', 'No such file or directory', 2)\n"
          ]
        }
      ]
    }
  ]
}