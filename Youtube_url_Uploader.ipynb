{
  "nbformat": 4,
  "nbformat_minor": 0,
  "metadata": {
    "accelerator": "GPU",
    "colab": {
      "name": "timbre_transfer.ipynb",
      "provenance": [],
      "collapsed_sections": [
        "3YLyiTwPfVCT"
      ],
      "include_colab_link": true
    },
    "kernelspec": {
      "display_name": "Python 3",
      "name": "python3"
    }
  },
  "cells": [
    {
      "cell_type": "markdown",
      "metadata": {
        "id": "view-in-github",
        "colab_type": "text"
      },
      "source": [
        "<a href=\"https://colab.research.google.com/github/soheilpaper/-tft-2.4-ili9341-STM32/blob/master/Youtube_url_Uploader.ipynb\" target=\"_parent\"><img src=\"https://colab.research.google.com/assets/colab-badge.svg\" alt=\"Open In Colab\"/></a>"
      ]
    },
    {
      "cell_type": "markdown",
      "metadata": {
        "id": "ZC2v7yDtcuOv"
      },
      "source": [
        ""
      ]
    },
    {
      "cell_type": "code",
      "metadata": {
        "id": "IoitpNQ_cuWf",
        "colab": {
          "base_uri": "https://localhost:8080/"
        },
        "outputId": "64524d97-c9b3-4b5e-d449-71d25e962d8d"
      },
      "source": [
        "!sudo pip install --upgrade google-api-python-client oauth2client progressbar2\n"
      ],
      "execution_count": 1,
      "outputs": [
        {
          "output_type": "stream",
          "name": "stdout",
          "text": [
            "Requirement already satisfied: google-api-python-client in /usr/local/lib/python3.7/dist-packages (1.12.8)\n",
            "Collecting google-api-python-client\n",
            "  Downloading google_api_python_client-2.24.0-py2.py3-none-any.whl (7.5 MB)\n",
            "\u001b[K     |████████████████████████████████| 7.5 MB 4.2 MB/s \n",
            "\u001b[?25hRequirement already satisfied: oauth2client in /usr/local/lib/python3.7/dist-packages (4.1.3)\n",
            "Requirement already satisfied: progressbar2 in /usr/local/lib/python3.7/dist-packages (3.38.0)\n",
            "Collecting progressbar2\n",
            "  Downloading progressbar2-3.53.3-py2.py3-none-any.whl (25 kB)\n",
            "Requirement already satisfied: google-auth<3.0.0dev,>=1.16.0 in /usr/local/lib/python3.7/dist-packages (from google-api-python-client) (1.35.0)\n",
            "Requirement already satisfied: google-api-core<3.0.0dev,>=1.21.0 in /usr/local/lib/python3.7/dist-packages (from google-api-python-client) (1.26.3)\n",
            "Requirement already satisfied: httplib2<1dev,>=0.15.0 in /usr/local/lib/python3.7/dist-packages (from google-api-python-client) (0.17.4)\n",
            "Collecting google-auth-httplib2>=0.1.0\n",
            "  Downloading google_auth_httplib2-0.1.0-py2.py3-none-any.whl (9.3 kB)\n",
            "Requirement already satisfied: uritemplate<4dev,>=3.0.0 in /usr/local/lib/python3.7/dist-packages (from google-api-python-client) (3.0.1)\n",
            "Requirement already satisfied: packaging>=14.3 in /usr/local/lib/python3.7/dist-packages (from google-api-core<3.0.0dev,>=1.21.0->google-api-python-client) (21.0)\n",
            "Requirement already satisfied: googleapis-common-protos<2.0dev,>=1.6.0 in /usr/local/lib/python3.7/dist-packages (from google-api-core<3.0.0dev,>=1.21.0->google-api-python-client) (1.53.0)\n",
            "Requirement already satisfied: requests<3.0.0dev,>=2.18.0 in /usr/local/lib/python3.7/dist-packages (from google-api-core<3.0.0dev,>=1.21.0->google-api-python-client) (2.23.0)\n",
            "Requirement already satisfied: protobuf>=3.12.0 in /usr/local/lib/python3.7/dist-packages (from google-api-core<3.0.0dev,>=1.21.0->google-api-python-client) (3.17.3)\n",
            "Requirement already satisfied: setuptools>=40.3.0 in /usr/local/lib/python3.7/dist-packages (from google-api-core<3.0.0dev,>=1.21.0->google-api-python-client) (57.4.0)\n",
            "Requirement already satisfied: six>=1.13.0 in /usr/local/lib/python3.7/dist-packages (from google-api-core<3.0.0dev,>=1.21.0->google-api-python-client) (1.15.0)\n",
            "Requirement already satisfied: pytz in /usr/local/lib/python3.7/dist-packages (from google-api-core<3.0.0dev,>=1.21.0->google-api-python-client) (2018.9)\n",
            "Requirement already satisfied: cachetools<5.0,>=2.0.0 in /usr/local/lib/python3.7/dist-packages (from google-auth<3.0.0dev,>=1.16.0->google-api-python-client) (4.2.4)\n",
            "Requirement already satisfied: pyasn1-modules>=0.2.1 in /usr/local/lib/python3.7/dist-packages (from google-auth<3.0.0dev,>=1.16.0->google-api-python-client) (0.2.8)\n",
            "Requirement already satisfied: rsa<5,>=3.1.4 in /usr/local/lib/python3.7/dist-packages (from google-auth<3.0.0dev,>=1.16.0->google-api-python-client) (4.7.2)\n",
            "Requirement already satisfied: pyparsing>=2.0.2 in /usr/local/lib/python3.7/dist-packages (from packaging>=14.3->google-api-core<3.0.0dev,>=1.21.0->google-api-python-client) (2.4.7)\n",
            "Requirement already satisfied: pyasn1<0.5.0,>=0.4.6 in /usr/local/lib/python3.7/dist-packages (from pyasn1-modules>=0.2.1->google-auth<3.0.0dev,>=1.16.0->google-api-python-client) (0.4.8)\n",
            "Requirement already satisfied: certifi>=2017.4.17 in /usr/local/lib/python3.7/dist-packages (from requests<3.0.0dev,>=2.18.0->google-api-core<3.0.0dev,>=1.21.0->google-api-python-client) (2021.5.30)\n",
            "Requirement already satisfied: chardet<4,>=3.0.2 in /usr/local/lib/python3.7/dist-packages (from requests<3.0.0dev,>=2.18.0->google-api-core<3.0.0dev,>=1.21.0->google-api-python-client) (3.0.4)\n",
            "Requirement already satisfied: idna<3,>=2.5 in /usr/local/lib/python3.7/dist-packages (from requests<3.0.0dev,>=2.18.0->google-api-core<3.0.0dev,>=1.21.0->google-api-python-client) (2.10)\n",
            "Requirement already satisfied: urllib3!=1.25.0,!=1.25.1,<1.26,>=1.21.1 in /usr/local/lib/python3.7/dist-packages (from requests<3.0.0dev,>=2.18.0->google-api-core<3.0.0dev,>=1.21.0->google-api-python-client) (1.24.3)\n",
            "Requirement already satisfied: python-utils>=2.3.0 in /usr/local/lib/python3.7/dist-packages (from progressbar2) (2.5.6)\n",
            "Installing collected packages: google-auth-httplib2, progressbar2, google-api-python-client\n",
            "  Attempting uninstall: google-auth-httplib2\n",
            "    Found existing installation: google-auth-httplib2 0.0.4\n",
            "    Uninstalling google-auth-httplib2-0.0.4:\n",
            "      Successfully uninstalled google-auth-httplib2-0.0.4\n",
            "  Attempting uninstall: progressbar2\n",
            "    Found existing installation: progressbar2 3.38.0\n",
            "    Uninstalling progressbar2-3.38.0:\n",
            "      Successfully uninstalled progressbar2-3.38.0\n",
            "  Attempting uninstall: google-api-python-client\n",
            "    Found existing installation: google-api-python-client 1.12.8\n",
            "    Uninstalling google-api-python-client-1.12.8:\n",
            "      Successfully uninstalled google-api-python-client-1.12.8\n",
            "\u001b[31mERROR: pip's dependency resolver does not currently take into account all the packages that are installed. This behaviour is the source of the following dependency conflicts.\n",
            "earthengine-api 0.1.284 requires google-api-python-client<2,>=1.12.1, but you have google-api-python-client 2.24.0 which is incompatible.\u001b[0m\n",
            "Successfully installed google-api-python-client-2.24.0 google-auth-httplib2-0.1.0 progressbar2-3.53.3\n"
          ]
        }
      ]
    },
    {
      "cell_type": "code",
      "metadata": {
        "id": "v4s_12xMc26n",
        "colab": {
          "base_uri": "https://localhost:8080/"
        },
        "outputId": "2e4b5f2c-1b79-4141-b8f2-29fe109a9656"
      },
      "source": [
        "%cd /content\n",
        "! wget https://github.com/tokland/youtube-upload/archive/master.zip\n",
        "! unzip master.zip\n",
        "% cd youtube-upload-master\n",
        "! sudo python setup.py install"
      ],
      "execution_count": 2,
      "outputs": [
        {
          "output_type": "stream",
          "name": "stdout",
          "text": [
            "/content\n",
            "--2021-10-10 19:26:14--  https://github.com/tokland/youtube-upload/archive/master.zip\n",
            "Resolving github.com (github.com)... 13.114.40.48\n",
            "Connecting to github.com (github.com)|13.114.40.48|:443... connected.\n",
            "HTTP request sent, awaiting response... 302 Found\n",
            "Location: https://codeload.github.com/tokland/youtube-upload/zip/master [following]\n",
            "--2021-10-10 19:26:14--  https://codeload.github.com/tokland/youtube-upload/zip/master\n",
            "Resolving codeload.github.com (codeload.github.com)... 52.193.111.178\n",
            "Connecting to codeload.github.com (codeload.github.com)|52.193.111.178|:443... connected.\n",
            "HTTP request sent, awaiting response... 200 OK\n",
            "Length: unspecified [application/zip]\n",
            "Saving to: ‘master.zip’\n",
            "\n",
            "master.zip              [ <=>                ]  19.71K  --.-KB/s    in 0.04s   \n",
            "\n",
            "2021-10-10 19:26:14 (545 KB/s) - ‘master.zip’ saved [20181]\n",
            "\n",
            "Archive:  master.zip\n",
            "6a30b55d0fd4976571a5b9b34c01fd41cec49c7a\n",
            "   creating: youtube-upload-master/\n",
            "   creating: youtube-upload-master/.github/\n",
            "   creating: youtube-upload-master/.github/ISSUE_TEMPLATE/\n",
            "  inflating: youtube-upload-master/.github/ISSUE_TEMPLATE/bug_report.md  \n",
            "  inflating: youtube-upload-master/.gitignore  \n",
            "  inflating: youtube-upload-master/Dockerfile  \n",
            "  inflating: youtube-upload-master/README.md  \n",
            "   creating: youtube-upload-master/bin/\n",
            "  inflating: youtube-upload-master/bin/youtube-upload  \n",
            " extracting: youtube-upload-master/bin/youtube-upload.bat  \n",
            "   creating: youtube-upload-master/examples/\n",
            "  inflating: youtube-upload-master/examples/split_video_for_youtube.sh  \n",
            "  inflating: youtube-upload-master/setup.py  \n",
            "   creating: youtube-upload-master/youtube_upload/\n",
            " extracting: youtube-upload-master/youtube_upload/__init__.py  \n",
            "  inflating: youtube-upload-master/youtube_upload/__main__.py  \n",
            "   creating: youtube-upload-master/youtube_upload/auth/\n",
            "  inflating: youtube-upload-master/youtube_upload/auth/__init__.py  \n",
            "  inflating: youtube-upload-master/youtube_upload/auth/browser.py  \n",
            "  inflating: youtube-upload-master/youtube_upload/auth/console.py  \n",
            "  inflating: youtube-upload-master/youtube_upload/auth/webkit_gtk.py  \n",
            "  inflating: youtube-upload-master/youtube_upload/auth/webkit_qt.py  \n",
            "  inflating: youtube-upload-master/youtube_upload/categories.py  \n",
            "  inflating: youtube-upload-master/youtube_upload/lib.py  \n",
            "  inflating: youtube-upload-master/youtube_upload/main.py  \n",
            "  inflating: youtube-upload-master/youtube_upload/playlists.py  \n",
            "  inflating: youtube-upload-master/youtube_upload/upload_video.py  \n",
            "/content/youtube-upload-master\n",
            "/usr/lib/python3.7/distutils/dist.py:274: UserWarning: Unknown distribution option: 'entry_points'\n",
            "  warnings.warn(msg)\n",
            "/usr/lib/python3.7/distutils/dist.py:274: UserWarning: Unknown distribution option: 'install_requires'\n",
            "  warnings.warn(msg)\n",
            "running install\n",
            "running build\n",
            "running build_py\n",
            "creating build\n",
            "creating build/lib\n",
            "creating build/lib/youtube_upload\n",
            "copying youtube_upload/__main__.py -> build/lib/youtube_upload\n",
            "copying youtube_upload/playlists.py -> build/lib/youtube_upload\n",
            "copying youtube_upload/upload_video.py -> build/lib/youtube_upload\n",
            "copying youtube_upload/__init__.py -> build/lib/youtube_upload\n",
            "copying youtube_upload/main.py -> build/lib/youtube_upload\n",
            "copying youtube_upload/lib.py -> build/lib/youtube_upload\n",
            "copying youtube_upload/categories.py -> build/lib/youtube_upload\n",
            "creating build/lib/youtube_upload/auth\n",
            "copying youtube_upload/auth/console.py -> build/lib/youtube_upload/auth\n",
            "copying youtube_upload/auth/webkit_gtk.py -> build/lib/youtube_upload/auth\n",
            "copying youtube_upload/auth/webkit_qt.py -> build/lib/youtube_upload/auth\n",
            "copying youtube_upload/auth/__init__.py -> build/lib/youtube_upload/auth\n",
            "copying youtube_upload/auth/browser.py -> build/lib/youtube_upload/auth\n",
            "running build_scripts\n",
            "creating build/scripts-3.7\n",
            "copying and adjusting bin/youtube-upload -> build/scripts-3.7\n",
            "changing mode of build/scripts-3.7/youtube-upload from 644 to 755\n",
            "running install_lib\n",
            "creating /usr/local/lib/python3.7/dist-packages/youtube_upload\n",
            "copying build/lib/youtube_upload/__main__.py -> /usr/local/lib/python3.7/dist-packages/youtube_upload\n",
            "copying build/lib/youtube_upload/playlists.py -> /usr/local/lib/python3.7/dist-packages/youtube_upload\n",
            "copying build/lib/youtube_upload/upload_video.py -> /usr/local/lib/python3.7/dist-packages/youtube_upload\n",
            "creating /usr/local/lib/python3.7/dist-packages/youtube_upload/auth\n",
            "copying build/lib/youtube_upload/auth/console.py -> /usr/local/lib/python3.7/dist-packages/youtube_upload/auth\n",
            "copying build/lib/youtube_upload/auth/webkit_gtk.py -> /usr/local/lib/python3.7/dist-packages/youtube_upload/auth\n",
            "copying build/lib/youtube_upload/auth/webkit_qt.py -> /usr/local/lib/python3.7/dist-packages/youtube_upload/auth\n",
            "copying build/lib/youtube_upload/auth/__init__.py -> /usr/local/lib/python3.7/dist-packages/youtube_upload/auth\n",
            "copying build/lib/youtube_upload/auth/browser.py -> /usr/local/lib/python3.7/dist-packages/youtube_upload/auth\n",
            "copying build/lib/youtube_upload/__init__.py -> /usr/local/lib/python3.7/dist-packages/youtube_upload\n",
            "copying build/lib/youtube_upload/main.py -> /usr/local/lib/python3.7/dist-packages/youtube_upload\n",
            "copying build/lib/youtube_upload/lib.py -> /usr/local/lib/python3.7/dist-packages/youtube_upload\n",
            "copying build/lib/youtube_upload/categories.py -> /usr/local/lib/python3.7/dist-packages/youtube_upload\n",
            "byte-compiling /usr/local/lib/python3.7/dist-packages/youtube_upload/__main__.py to __main__.cpython-37.pyc\n",
            "byte-compiling /usr/local/lib/python3.7/dist-packages/youtube_upload/playlists.py to playlists.cpython-37.pyc\n",
            "byte-compiling /usr/local/lib/python3.7/dist-packages/youtube_upload/upload_video.py to upload_video.cpython-37.pyc\n",
            "byte-compiling /usr/local/lib/python3.7/dist-packages/youtube_upload/auth/console.py to console.cpython-37.pyc\n",
            "byte-compiling /usr/local/lib/python3.7/dist-packages/youtube_upload/auth/webkit_gtk.py to webkit_gtk.cpython-37.pyc\n",
            "byte-compiling /usr/local/lib/python3.7/dist-packages/youtube_upload/auth/webkit_qt.py to webkit_qt.cpython-37.pyc\n",
            "byte-compiling /usr/local/lib/python3.7/dist-packages/youtube_upload/auth/__init__.py to __init__.cpython-37.pyc\n",
            "byte-compiling /usr/local/lib/python3.7/dist-packages/youtube_upload/auth/browser.py to browser.cpython-37.pyc\n",
            "byte-compiling /usr/local/lib/python3.7/dist-packages/youtube_upload/__init__.py to __init__.cpython-37.pyc\n",
            "byte-compiling /usr/local/lib/python3.7/dist-packages/youtube_upload/main.py to main.cpython-37.pyc\n",
            "byte-compiling /usr/local/lib/python3.7/dist-packages/youtube_upload/lib.py to lib.cpython-37.pyc\n",
            "byte-compiling /usr/local/lib/python3.7/dist-packages/youtube_upload/categories.py to categories.cpython-37.pyc\n",
            "running install_scripts\n",
            "copying build/scripts-3.7/youtube-upload -> /usr/local/bin\n",
            "changing mode of /usr/local/bin/youtube-upload to 755\n",
            "running install_egg_info\n",
            "Writing /usr/local/lib/python3.7/dist-packages/youtube_upload-0.8.0.egg-info\n"
          ]
        }
      ]
    },
    {
      "cell_type": "code",
      "metadata": {
        "id": "R7dsGUc1p0aN",
        "colab": {
          "base_uri": "https://localhost:8080/"
        },
        "outputId": "b4d76602-3748-4bd3-9c6f-461d0d8d2b27"
      },
      "source": [
        "!pip install youtube-dl\n",
        "!youtube-dl -f worst 'https://www.youtube.com/watch?v=A8rrr_w8rfk'"
      ],
      "execution_count": 9,
      "outputs": [
        {
          "output_type": "stream",
          "name": "stdout",
          "text": [
            "Requirement already satisfied: youtube-dl in /usr/local/lib/python3.7/dist-packages (2021.6.6)\n",
            "[youtube] A8rrr_w8rfk: Downloading webpage\n",
            "\u001b[0;31mERROR:\u001b[0m The uploader has not made this video available in your country.\n",
            "You might want to use a VPN or a proxy server (with --proxy) to workaround.\n"
          ]
        }
      ]
    },
    {
      "cell_type": "code",
      "metadata": {
        "colab": {
          "base_uri": "https://localhost:8080/"
        },
        "id": "AWmzHa2keaU2",
        "outputId": "5c6d6f19-b1fe-4197-e6ab-ddd613513e64"
      },
      "source": [
        "URL =\"https://r4---sn-vgqsrnlz.googlevideo.com/videoplayback?expire=1633914788&ei=RDtjYd6iLPXggwOM14nAAg&ip=18.208.175.52&id=o-AGd62g_bZWTI4P28Ypa8AL3I8LBnbOHT3Ty4fW2vJONV&itag=22&source=youtube&requiressl=yes&vprv=1&mime=video%2Fmp4&ns=0btlwdsIphASf9nygL2XAIoG&cnr=14&ratebypass=yes&dur=513.462&lmt=1573704921659634&fexp=24001373,24007246&c=WEB&txp=1306222&n=8lluNHL-BRfhEcy4AQz&sparams=expire%2Cei%2Cip%2Cid%2Citag%2Csource%2Crequiressl%2Cvprv%2Cmime%2Cns%2Ccnr%2Cratebypass%2Cdur%2Clmt&sig=AOq0QJ8wRQIhANmE7Khf3f0Iu48mhoXjYU8C-T918nBWSfZNl5L7R7E1AiBRCuRDiIHF748HD9XNQUlDRbmBrZCMKlMt8dOMtNVkQA%3D%3D&title=How+to+make+a+wool+sleeping+bag&redirect_counter=1&cm2rm=sn-ab5yd7z&req_id=6c3cb4ad9d9a3ee&cms_redirect=yes&mh=5y&mip=156.146.59.9&mm=34&mn=sn-vgqsrnlz&ms=ltu&mt=1633893151&mv=m&mvi=4&pl=23&lsparams=mh,mip,mm,mn,ms,mv,mvi,pl&lsig=AG3C_xAwRgIhAI5iV0FuHe6RNmm431SvHQlad1ZVs1wsXFSrGTzH0XncAiEAkGb8rVZXbe8V1St9kyTeenuUz1tjxTBXH_8XaUsBYdE%3D\"\n",
        "# URL=\"https://www.namasha.com/videos/dl/7327636876/%D8%AF%D8%B1-%D8%B1%D8%A7%D8%A8%D8%B7%D9%87-%D8%A8%D8%A7-%D9%85%D8%B9%D8%B1%D9%81%DB%8C-%D8%A8%D8%B1%D8%AE%DB%8C-%D8%A7%D8%B2-%D8%AA%DA%A9%D9%86%D9%88%D9%84%D9%88%DA%98%DB%8C-%D9%87%D8%A7%DB%8C-%D9%85%D9%88%D8%AC%D9%88%D8%AF-%D9%88-%DB%8C%D8%A7-%D8%AC%D8%AF%DB%8C%D8%AF-%DA%A9%D8%A7%D8%B1%D8%A8%D8%B1%D8%AF%DB%8C-%D8%AF%D8%B1-%D8%B2%D9%85%DB%8C%D9%86%D9%87-%D8%A7%D9%88%D8%AA%DB%8C%D8%B3%D9%85-360p.mp4\"\n",
        "FILENAME=\"video1.mp4\"\n",
        "# ! curl -so {FILENAME} --url {URL}\n",
        "! curl -o video1.mp4 --url {URL}\n",
        "\n",
        "# !curl --upload-file '%{FILENAME}'  --url '%{URL}'\n",
        "# ! curl -o ${FILENAME} ${URL}\n"
      ],
      "execution_count": 3,
      "outputs": [
        {
          "output_type": "stream",
          "name": "stdout",
          "text": [
            "  % Total    % Received % Xferd  Average Speed   Time    Time     Time  Current\n",
            "                                 Dload  Upload   Total   Spent    Left  Speed\n",
            "  0     0    0     0    0     0      0      0 --:--:-- --:--:-- --:--:--     0\n"
          ]
        }
      ]
    },
    {
      "cell_type": "code",
      "metadata": {
        "id": "Cn_f7MepmDD-",
        "colab": {
          "base_uri": "https://localhost:8080/"
        },
        "outputId": "1a0e2af8-f3f8-490f-b7bb-438d63670a48"
      },
      "source": [
        "URL =\"https://video-19.dalfak.com/66/66864-114893771120_720.mp4\"\n",
        "# # URL = 'http:://www.myurl.com'\n",
        "!wget {URL}\n",
        "# # !echo $(date) 'Running wget...'\n",
        "# !wget \"${URL}\""
      ],
      "execution_count": 4,
      "outputs": [
        {
          "output_type": "stream",
          "name": "stdout",
          "text": [
            "--2021-10-10 19:26:16--  https://video-19.dalfak.com/66/66864-114893771120_720.mp4\n",
            "Resolving video-19.dalfak.com (video-19.dalfak.com)... 188.0.241.178\n",
            "Connecting to video-19.dalfak.com (video-19.dalfak.com)|188.0.241.178|:443... ^C\n"
          ]
        }
      ]
    },
    {
      "cell_type": "code",
      "metadata": {
        "id": "jHAgxX3bpa6-"
      },
      "source": [
        "# !wget -r -l2 -A.mp4 http://windowsclient.net/learn/videos_wpf.aspx\n",
        "\n"
      ],
      "execution_count": 6,
      "outputs": []
    },
    {
      "cell_type": "code",
      "metadata": {
        "id": "0gjmoto3c9z2",
        "colab": {
          "base_uri": "https://localhost:8080/"
        },
        "outputId": "aeb22fd0-b6eb-4767-c735-f9580d5a1b33"
      },
      "source": [
        "# % cd youtube-upload-master\n",
        "! PYTHONPATH=. python bin/youtube-upload "
      ],
      "execution_count": 7,
      "outputs": [
        {
          "output_type": "stream",
          "name": "stdout",
          "text": [
            "Usage: youtube-upload [OPTIONS] VIDEO [VIDEO2 ...]\n",
            "\n",
            "    Upload videos to Youtube.\n",
            "\n",
            "[OptionsError] Some required option are missing: title\n"
          ]
        }
      ]
    }
  ]
}